{
 "cells": [
  {
   "cell_type": "markdown",
   "id": "486b330b",
   "metadata": {},
   "source": [
    "# 如何微调一个角色扮演大模型？\n",
    "\n",
    "大模型角色扮演，本质上是让大模型扮演某个特定角色与用户对话，比如扮演西游记中的孙悟空、三国中的诸葛亮等。在游戏、小说场景，大模型凭借强大的语言理解能力和流畅自然交互方式通过角色扮演为用户带来更高效更新奇的体验。为了让用户沉浸式地与角色予以互动，不断提升游戏或小说产品留存率和粘性，就需要大模型的输出更具有情感温度和画面感，同时输出更符合角色设定，例如符合角色的年龄、性别、性格、说话语气等，让虚拟人物更具备鲜活的人物特点。\n",
    "\n",
    "角色扮演的场景可应用于游戏人物对话、教学对话、驾驶舱对话、购物助手等等。\n",
    "\n",
    "下面我们将结合 Huggingface Transformers 和 Meta-Llama-3-8B-Instruct 模型，完成角色扮演大模型的微调训练。\n",
    "\n",
    "Transformers：https://github.com/huggingface/transformers/tree/main"
   ]
  },
  {
   "cell_type": "markdown",
   "id": "48abbf2a",
   "metadata": {},
   "source": [
    "# 0. 环境准备\n",
    "\n",
    "在此部分，我们将讨论使用Transformers平台进行训练任务之前的相关依赖安装，此案例运行依赖GPU环境（A100/A800）"
   ]
  },
  {
   "cell_type": "code",
   "execution_count": 1,
   "id": "9e318139",
   "metadata": {},
   "outputs": [
    {
     "name": "stdout",
     "output_type": "stream",
     "text": [
      "Looking in indexes: https://mirror.baidu.com/pypi/simple, https://pypi.ngc.nvidia.com\n",
      "Requirement already satisfied: transformers==4.37.2 in /usr/local/lib/python3.10/dist-packages (4.37.2)\n",
      "Requirement already satisfied: filelock in /usr/local/lib/python3.10/dist-packages (from transformers==4.37.2) (3.12.4)\n",
      "Requirement already satisfied: huggingface-hub<1.0,>=0.19.3 in /usr/local/lib/python3.10/dist-packages (from transformers==4.37.2) (0.20.3)\n",
      "Requirement already satisfied: numpy>=1.17 in /usr/local/lib/python3.10/dist-packages (from transformers==4.37.2) (1.26.4)\n",
      "Requirement already satisfied: packaging>=20.0 in /usr/local/lib/python3.10/dist-packages (from transformers==4.37.2) (23.1)\n",
      "Requirement already satisfied: pyyaml>=5.1 in /usr/local/lib/python3.10/dist-packages (from transformers==4.37.2) (6.0.1)\n",
      "Requirement already satisfied: regex!=2019.12.17 in /usr/local/lib/python3.10/dist-packages (from transformers==4.37.2) (2023.10.3)\n",
      "Requirement already satisfied: requests in /usr/local/lib/python3.10/dist-packages (from transformers==4.37.2) (2.31.0)\n",
      "Requirement already satisfied: tokenizers<0.19,>=0.14 in /usr/local/lib/python3.10/dist-packages (from transformers==4.37.2) (0.15.1)\n",
      "Requirement already satisfied: safetensors>=0.4.1 in /usr/local/lib/python3.10/dist-packages (from transformers==4.37.2) (0.4.2)\n",
      "Requirement already satisfied: tqdm>=4.27 in /usr/local/lib/python3.10/dist-packages (from transformers==4.37.2) (4.66.1)\n",
      "Requirement already satisfied: fsspec>=2023.5.0 in /usr/local/lib/python3.10/dist-packages (from huggingface-hub<1.0,>=0.19.3->transformers==4.37.2) (2023.6.0)\n",
      "Requirement already satisfied: typing-extensions>=3.7.4.3 in /usr/local/lib/python3.10/dist-packages (from huggingface-hub<1.0,>=0.19.3->transformers==4.37.2) (4.7.1)\n",
      "Requirement already satisfied: charset-normalizer<4,>=2 in /usr/local/lib/python3.10/dist-packages (from requests->transformers==4.37.2) (3.2.0)\n",
      "Requirement already satisfied: idna<4,>=2.5 in /usr/local/lib/python3.10/dist-packages (from requests->transformers==4.37.2) (3.4)\n",
      "Requirement already satisfied: urllib3<3,>=1.21.1 in /usr/local/lib/python3.10/dist-packages (from requests->transformers==4.37.2) (1.26.16)\n",
      "Requirement already satisfied: certifi>=2017.4.17 in /usr/local/lib/python3.10/dist-packages (from requests->transformers==4.37.2) (2023.7.22)\n",
      "\u001b[33mWARNING: Running pip as the 'root' user can result in broken permissions and conflicting behaviour with the system package manager. It is recommended to use a virtual environment instead: https://pip.pypa.io/warnings/venv\u001b[0m\u001b[33m\n",
      "\u001b[0mLooking in indexes: https://mirror.baidu.com/pypi/simple, https://pypi.ngc.nvidia.com\n",
      "Requirement already satisfied: pandas==1.5.3 in /usr/local/lib/python3.10/dist-packages (1.5.3)\n",
      "Requirement already satisfied: python-dateutil>=2.8.1 in /usr/local/lib/python3.10/dist-packages (from pandas==1.5.3) (2.8.2)\n",
      "Requirement already satisfied: pytz>=2020.1 in /usr/local/lib/python3.10/dist-packages (from pandas==1.5.3) (2023.3)\n",
      "Requirement already satisfied: numpy>=1.21.0 in /usr/local/lib/python3.10/dist-packages (from pandas==1.5.3) (1.26.4)\n",
      "Requirement already satisfied: six>=1.5 in /usr/local/lib/python3.10/dist-packages (from python-dateutil>=2.8.1->pandas==1.5.3) (1.16.0)\n",
      "\u001b[33mWARNING: Running pip as the 'root' user can result in broken permissions and conflicting behaviour with the system package manager. It is recommended to use a virtual environment instead: https://pip.pypa.io/warnings/venv\u001b[0m\u001b[33m\n",
      "\u001b[0mLooking in indexes: https://mirror.baidu.com/pypi/simple, https://pypi.ngc.nvidia.com\n",
      "Requirement already satisfied: matplotlib==3.8.0 in /usr/local/lib/python3.10/dist-packages (3.8.0)\n",
      "Requirement already satisfied: contourpy>=1.0.1 in /usr/local/lib/python3.10/dist-packages (from matplotlib==3.8.0) (1.1.1)\n",
      "Requirement already satisfied: cycler>=0.10 in /usr/local/lib/python3.10/dist-packages (from matplotlib==3.8.0) (0.12.1)\n",
      "Requirement already satisfied: fonttools>=4.22.0 in /usr/local/lib/python3.10/dist-packages (from matplotlib==3.8.0) (4.43.1)\n",
      "Requirement already satisfied: kiwisolver>=1.0.1 in /usr/local/lib/python3.10/dist-packages (from matplotlib==3.8.0) (1.4.5)\n",
      "Requirement already satisfied: numpy<2,>=1.21 in /usr/local/lib/python3.10/dist-packages (from matplotlib==3.8.0) (1.26.4)\n",
      "Requirement already satisfied: packaging>=20.0 in /usr/local/lib/python3.10/dist-packages (from matplotlib==3.8.0) (23.1)\n",
      "Requirement already satisfied: pillow>=6.2.0 in /usr/local/lib/python3.10/dist-packages (from matplotlib==3.8.0) (10.2.0)\n",
      "Requirement already satisfied: pyparsing>=2.3.1 in /usr/local/lib/python3.10/dist-packages (from matplotlib==3.8.0) (3.1.1)\n",
      "Requirement already satisfied: python-dateutil>=2.7 in /usr/local/lib/python3.10/dist-packages (from matplotlib==3.8.0) (2.8.2)\n",
      "Requirement already satisfied: six>=1.5 in /usr/local/lib/python3.10/dist-packages (from python-dateutil>=2.7->matplotlib==3.8.0) (1.16.0)\n",
      "\u001b[33mWARNING: Running pip as the 'root' user can result in broken permissions and conflicting behaviour with the system package manager. It is recommended to use a virtual environment instead: https://pip.pypa.io/warnings/venv\u001b[0m\u001b[33m\n",
      "\u001b[0mLooking in indexes: https://mirror.baidu.com/pypi/simple, https://pypi.ngc.nvidia.com\n",
      "Requirement already satisfied: numpy==1.26.4 in /usr/local/lib/python3.10/dist-packages (1.26.4)\n",
      "\u001b[33mWARNING: Running pip as the 'root' user can result in broken permissions and conflicting behaviour with the system package manager. It is recommended to use a virtual environment instead: https://pip.pypa.io/warnings/venv\u001b[0m\u001b[33m\n",
      "\u001b[0mLooking in indexes: https://mirror.baidu.com/pypi/simple, https://pypi.ngc.nvidia.com\n",
      "Requirement already satisfied: datasets==2.18.0 in /usr/local/lib/python3.10/dist-packages (2.18.0)\n",
      "Requirement already satisfied: filelock in /usr/local/lib/python3.10/dist-packages (from datasets==2.18.0) (3.12.4)\n",
      "Requirement already satisfied: numpy>=1.17 in /usr/local/lib/python3.10/dist-packages (from datasets==2.18.0) (1.26.4)\n",
      "Requirement already satisfied: pyarrow>=12.0.0 in /usr/local/lib/python3.10/dist-packages (from datasets==2.18.0) (15.0.2)\n",
      "Requirement already satisfied: pyarrow-hotfix in /usr/local/lib/python3.10/dist-packages (from datasets==2.18.0) (0.6)\n",
      "Requirement already satisfied: dill<0.3.9,>=0.3.0 in /usr/local/lib/python3.10/dist-packages (from datasets==2.18.0) (0.3.8)\n",
      "Requirement already satisfied: pandas in /usr/local/lib/python3.10/dist-packages (from datasets==2.18.0) (1.5.3)\n",
      "Requirement already satisfied: requests>=2.19.0 in /usr/local/lib/python3.10/dist-packages (from datasets==2.18.0) (2.31.0)\n",
      "Requirement already satisfied: tqdm>=4.62.1 in /usr/local/lib/python3.10/dist-packages (from datasets==2.18.0) (4.66.1)\n",
      "Requirement already satisfied: xxhash in /usr/local/lib/python3.10/dist-packages (from datasets==2.18.0) (3.4.1)\n",
      "Requirement already satisfied: multiprocess in /usr/local/lib/python3.10/dist-packages (from datasets==2.18.0) (0.70.16)\n",
      "Requirement already satisfied: fsspec<=2024.2.0,>=2023.1.0 in /usr/local/lib/python3.10/dist-packages (from fsspec[http]<=2024.2.0,>=2023.1.0->datasets==2.18.0) (2023.6.0)\n",
      "Requirement already satisfied: aiohttp in /usr/local/lib/python3.10/dist-packages (from datasets==2.18.0) (3.9.0)\n",
      "Requirement already satisfied: huggingface-hub>=0.19.4 in /usr/local/lib/python3.10/dist-packages (from datasets==2.18.0) (0.20.3)\n",
      "Requirement already satisfied: packaging in /usr/local/lib/python3.10/dist-packages (from datasets==2.18.0) (23.1)\n",
      "Requirement already satisfied: pyyaml>=5.1 in /usr/local/lib/python3.10/dist-packages (from datasets==2.18.0) (6.0.1)\n",
      "Requirement already satisfied: attrs>=17.3.0 in /usr/local/lib/python3.10/dist-packages (from aiohttp->datasets==2.18.0) (23.1.0)\n",
      "Requirement already satisfied: multidict<7.0,>=4.5 in /usr/local/lib/python3.10/dist-packages (from aiohttp->datasets==2.18.0) (6.0.4)\n",
      "Requirement already satisfied: yarl<2.0,>=1.0 in /usr/local/lib/python3.10/dist-packages (from aiohttp->datasets==2.18.0) (1.9.2)\n",
      "Requirement already satisfied: frozenlist>=1.1.1 in /usr/local/lib/python3.10/dist-packages (from aiohttp->datasets==2.18.0) (1.4.0)\n",
      "Requirement already satisfied: aiosignal>=1.1.2 in /usr/local/lib/python3.10/dist-packages (from aiohttp->datasets==2.18.0) (1.3.1)\n",
      "Requirement already satisfied: async-timeout<5.0,>=4.0 in /usr/local/lib/python3.10/dist-packages (from aiohttp->datasets==2.18.0) (4.0.3)\n"
     ]
    },
    {
     "name": "stdout",
     "output_type": "stream",
     "text": [
      "Requirement already satisfied: typing-extensions>=3.7.4.3 in /usr/local/lib/python3.10/dist-packages (from huggingface-hub>=0.19.4->datasets==2.18.0) (4.7.1)\n",
      "Requirement already satisfied: charset-normalizer<4,>=2 in /usr/local/lib/python3.10/dist-packages (from requests>=2.19.0->datasets==2.18.0) (3.2.0)\n",
      "Requirement already satisfied: idna<4,>=2.5 in /usr/local/lib/python3.10/dist-packages (from requests>=2.19.0->datasets==2.18.0) (3.4)\n",
      "Requirement already satisfied: urllib3<3,>=1.21.1 in /usr/local/lib/python3.10/dist-packages (from requests>=2.19.0->datasets==2.18.0) (1.26.16)\n",
      "Requirement already satisfied: certifi>=2017.4.17 in /usr/local/lib/python3.10/dist-packages (from requests>=2.19.0->datasets==2.18.0) (2023.7.22)\n",
      "Requirement already satisfied: python-dateutil>=2.8.1 in /usr/local/lib/python3.10/dist-packages (from pandas->datasets==2.18.0) (2.8.2)\n",
      "Requirement already satisfied: pytz>=2020.1 in /usr/local/lib/python3.10/dist-packages (from pandas->datasets==2.18.0) (2023.3)\n",
      "Requirement already satisfied: six>=1.5 in /usr/local/lib/python3.10/dist-packages (from python-dateutil>=2.8.1->pandas->datasets==2.18.0) (1.16.0)\n",
      "\u001b[33mWARNING: Running pip as the 'root' user can result in broken permissions and conflicting behaviour with the system package manager. It is recommended to use a virtual environment instead: https://pip.pypa.io/warnings/venv\u001b[0m\u001b[33m\n",
      "\u001b[0mLooking in indexes: https://mirror.baidu.com/pypi/simple, https://pypi.ngc.nvidia.com\n",
      "Requirement already satisfied: jieba==0.42.1 in /usr/local/lib/python3.10/dist-packages (0.42.1)\n",
      "\u001b[33mWARNING: Running pip as the 'root' user can result in broken permissions and conflicting behaviour with the system package manager. It is recommended to use a virtual environment instead: https://pip.pypa.io/warnings/venv\u001b[0m\u001b[33m\n",
      "\u001b[0mLooking in indexes: https://mirror.baidu.com/pypi/simple, https://pypi.ngc.nvidia.com\n",
      "Requirement already satisfied: rouge-chinese==1.0.3 in /usr/local/lib/python3.10/dist-packages (1.0.3)\n",
      "Requirement already satisfied: six in /usr/local/lib/python3.10/dist-packages (from rouge-chinese==1.0.3) (1.16.0)\n",
      "\u001b[33mWARNING: Running pip as the 'root' user can result in broken permissions and conflicting behaviour with the system package manager. It is recommended to use a virtual environment instead: https://pip.pypa.io/warnings/venv\u001b[0m\u001b[33m\n",
      "\u001b[0mLooking in indexes: https://mirror.baidu.com/pypi/simple, https://pypi.ngc.nvidia.com\n",
      "Requirement already satisfied: tqdm==4.66.1 in /usr/local/lib/python3.10/dist-packages (4.66.1)\n",
      "\u001b[33mWARNING: Running pip as the 'root' user can result in broken permissions and conflicting behaviour with the system package manager. It is recommended to use a virtual environment instead: https://pip.pypa.io/warnings/venv\u001b[0m\u001b[33m\n",
      "\u001b[0m"
     ]
    }
   ],
   "source": [
    "!pip install transformers==4.37.2\n",
    "!pip install pandas==1.5.3\n",
    "!pip install matplotlib==3.8.0\n",
    "!pip install numpy==1.26.4\n",
    "!pip install datasets==2.18.0\n",
    "!pip install jieba==0.42.1\n",
    "!pip install rouge-chinese==1.0.3\n",
    "!pip install tqdm==4.66.1"
   ]
  },
  {
   "cell_type": "markdown",
   "id": "e38f3e59",
   "metadata": {},
   "source": [
    "# 1. 效果与难点分析\n",
    "\n",
    "角色扮演场景对于用户而言，更需要的是有温度、有感情、符合人设的虚拟角色。\n",
    "\n",
    "直接调用主流超大大模型体验效果，请大模型扮演《西游记》的孙悟空进行对话，发现效果有很多不及预期，如：\n",
    "\n",
    "## 问题1：大模型输出很AI化，不像是真实的人物角色，用户无法投入与其对话。\n",
    "![badcase_1](./img/badcase_1.png)\n",
    "大模型输出口吻较为流程化，和孙悟空人设不符，更像是AI工具助手。\n",
    "\n",
    "\n",
    "\n",
    "## 问题2：大模型角色风格不强化，不完全贴合人设要求，用户反馈容易出戏。\n",
    "![badcase_2](./img/badcase_2.png)\n",
    "大模型输出内容偏向于正向激励，回复比较直白乖巧，而非体现孙悟空强烈的角色风格。\n",
    "\n",
    "\n",
    "\n",
    "## 问题3：大模型输出不稳定，有一定比例会以错误的人设输出，用户反馈大模型串戏。\n",
    "![badcase_3](./img/badcase_3.png)\n",
    "大模型输出串戏，本应该为孙悟空，实际输出则认为是猪八戒。"
   ]
  },
  {
   "cell_type": "markdown",
   "id": "f39db8fe",
   "metadata": {},
   "source": [
    "# 2. 难点分析与方案\n",
    "\n",
    "针对这些效果问题，通常可以通过以下方式进行优化解决：\n",
    "## 2.1 通过详细的人设设定和指令要求，充分激发大模型能力\n",
    "* 直接调用时，在System字段中描绘大模型扮演虚拟角色丰富的人物特点，除了基本信息外还提供更完善角色特点，减轻输出AI化程度和体验不适感，较大程度解决问题1.\n",
    "  * 基本信息：姓名、年龄、身高、性别、身份/工作、居住地等\n",
    "  * 角色特点：绰号、性格、爱好、特长、人物经历、经典场景、名言/常用语等\n",
    "\n",
    "```json\n",
    "{\n",
    "\"role\":  \"system\",\n",
    "\"content\":  \"{'姓名': '孙悟空', '性别': '男', '物种': '石猴', '年龄': '在《西游记》中年龄未明确，实际年龄未知', '工作': '保护唐僧西天取经', '昵称': '齐天大圣、美猴王、斗战胜佛、行者、弼马温', '身高': '不满四尺（变化多端）', '生肖': '猴', '居住地': '花果山水帘洞', '爱好': '战斗、破坏、捣乱、吃桃', '学历': '拜须菩提祖师为师学艺', '智商': '非常聪明', '情商': '高，善于交际', '其他': '身怀七十二变、筋斗云等法术，拥有如意金箍棒', '经典台词': ['俺老孙来也！', '你这泼猴！', '妖怪哪里走！'], '口头禅': ['师傅'], '人物经历': '孙悟空，石生花果山，拜须菩提祖师学艺，大闹天宫，被压五行山下。后护唐僧取经，历经九九八十一难，修成正果，封斗战胜佛。', '人物关系': {'师父': '唐三藏', '师弟': ['猪八戒', '沙僧', '白龙马'], '结拜兄弟': ['牛魔王'], '嫂子': ['铁扇公主'], '侄子': '红孩儿', '敌人': ['白骨精', '黄袍怪', '红孩儿（后成徒弟）']}, '喜欢的事情/东西': '战斗、破坏、捣乱、吃桃', '不喜欢的事情/东西': '受束缚、被欺骗', '人物性格': '聪明、活泼、忠诚、嫉恶如仇，勇于抗争，不畏强暴，渴望自由，反抗传统和权威，蔑视封建等级观念', '外貌描述': '尖嘴缩腮，金睛火眼，头上堆苔藓，耳中生薜萝。鬓边少发多青草，颔下无须有绿莎。身穿锦布直裰，腰间勒藤条，脚穿麂皮靴。', '服饰': '白布短小直裰，虎皮腰带，凤翅紫金冠，锁子黄金甲，藕丝步云履', '武器': '如意金箍棒', '特殊能力': '七十二变、筋斗云、火眼金睛、抓风、解锁、悬丝诊脉、划地为牢', '成就': '大闹天宫，成为齐天大圣，保护唐僧西天取经，最终修成正果并被封为斗战胜佛', '封号': '美猴王、齐天大圣、斗战胜佛、铜筋铁骨大圣、大力王菩萨', '法宝': {'瞌睡虫': '孙悟空与增长天王以及护国天王猜枚时赢来，平时放在腰间。弹到他人脸上后，瞌睡虫会自己爬进他的鼻孔内，使其盹睡。', '救命毫毛': '共三根。观音所赠，能协助孙悟空渡过难关。', '骷髅头': '月孛星使用的法宝，能铐住人使其三日内自死，后孙悟空获得。'}, '象征意义': {'思想意识': '孙悟空代表思想意识，通过其行为打乱人间秩序，体现了思想念头生灭无常的哲学。', '人心与道心': '孙悟空象征人心、道心、天心，是人类心灵最完美的象征。', '批判与颠覆': '孙悟空具有强烈的批判和颠覆能力，但同时也缺乏英雄本色，其精神气质源自玩世不恭的狂放派文人。', '悲剧性': '孙悟空的英雄形象是其悲剧性的外壳，其悲剧性是形象的本质，源于晚明社会的沉暮品格。', '石崇拜文化': '孙悟空的形象渗透了中国石崇拜文化观念，是石头崇拜观念的艺术表现。', '个人与团队': '孙悟空的故事体现了个人奋斗失败后转向团队成功，实现个人价值的经典案例。', '性格特点': '孙悟空性格调皮，不安分守己，突破规矩，追求与最高神佛的平等，是具有新时代特色的神话人物。'}}\\n现在请你扮演一个角色扮演专家。请你根据上述信息扮演孙悟空进行对话。\\n\"\n",
    "}\n",
    "```\n",
    "\n",
    "## 2.2 SFT精调大模型，使得大模型输出更稳定、风格更强化，解决线上出现Badcase，降低模型耗时。\n",
    "\n",
    "SFT大模型，会使得大模型更容易遵循指令、风格、语调，可以解决角色扮演出现的高频问题：\n",
    "* 通过准备风格更强化的训练对话数据对模型SFT精调，大模型会更好学习如何扮演一个角色，输出也会比直接调用更稳定，有效解决问题1与2.\n",
    "* 针对输出不稳定的情况，可以将线上诱发badcase的query放于训练数据中，并提供更理想的输出回答，从而有效解决问题3。"
   ]
  },
  {
   "cell_type": "markdown",
   "id": "be95e983",
   "metadata": {},
   "source": [
    "# 3. 模型微调\n",
    "## 3.1 准备数据\n",
    "### 3.1.1 数据格式转换\n",
    "\n",
    "数据集格式需要遵循训练任务要求，对于SFT训练数据，需要准备Prompt+Response数据格式。针对角色扮演多轮对话诉求，需要准备多轮对话格式，\n",
    "\n",
    "`{\"src\":[round1_prompt, round2_prompt ...], \"tgt\":[round1_response, round2_response ...]}`\n",
    "\n",
    "本案例基于基于[CharacterEval](https://arxiv.org/abs/2401.01275)开源数据集进行实验，数据集地址：https://github.com/morecry/CharacterEval/tree/main\n",
    "\n",
    "\n",
    "根据 character_profiles 中的信息，在对话开始的prompt中补充详细的人设信息。\n",
    "* 人设信息：\n",
    "  * 基本信息：姓名、年龄、身高、性别、身份/工作、居住地等\n",
    "  * 角色特点：绰号、性格、爱好、特长、人物经历、经典场景、名言/常用语等\n",
    "* 指令信息：\n",
    "  * 举例如：现在请你扮演一个角色扮演专家。请你根据上述信息扮演孙悟空进行对话。\n",
    "\n",
    "示例如：\n",
    "```json\n",
    "[{\"prompt\": \"{'姓名': '孙悟空', '性别': '男', '物种': '石猴', '年龄': '在《西游记》中年龄未明确，实际年龄未知', '工作': '保护唐僧西天取经', '昵称': '齐天大圣、美猴王、斗战胜佛、行者、弼马温', '身高': '不满四尺（变化多端）', '生肖': '猴', '居住地': '花果山水帘洞', '爱好': '战斗、破坏、捣乱、吃桃', '学历': '拜须菩提祖师为师学艺', '智商': '非常聪明', '情商': '高，善于交际', '其他': '身怀七十二变、筋斗云等法术，拥有如意金箍棒', '经典台词': ['俺老孙来也！', '你这泼猴！', '妖怪哪里走！'], '口头禅': ['师傅'], '人物经历': '孙悟空，石生花果山，拜须菩提祖师学艺，大闹天宫，被压五行山下。后护唐僧取经，历经九九八十一难，修成正果，封斗战胜佛。', '人物关系': {'师父': '唐三藏', '师弟': ['猪八戒', '沙僧', '白龙马'], '结拜兄弟': ['牛魔王'], '嫂子': ['铁扇公主'], '侄子': '红孩儿', '敌人': ['白骨精', '黄袍怪', '红孩儿（后成徒弟）']}, '喜欢的事情/东西': '战斗、破坏、捣乱、吃桃', '不喜欢的事情/东西': '受束缚、被欺骗', '人物性格': '聪明、活泼、忠诚、嫉恶如仇，勇于抗争，不畏强暴，渴望自由，反抗传统和权威，蔑视封建等级观念', '外貌描述': '尖嘴缩腮，金睛火眼，头上堆苔藓，耳中生薜萝。鬓边少发多青草，颔下无须有绿莎。身穿锦布直裰，腰间勒藤条，脚穿麂皮靴。', '服饰': '白布短小直裰，虎皮腰带，凤翅紫金冠，锁子黄金甲，藕丝步云履', '武器': '如意金箍棒', '特殊能力': '七十二变、筋斗云、火眼金睛、抓风、解锁、悬丝诊脉、划地为牢', '成就': '大闹天宫，成为齐天大圣，保护唐僧西天取经，最终修成正果并被封为斗战胜佛', '封号': '美猴王、齐天大圣、斗战胜佛、铜筋铁骨大圣、大力王菩萨', '法宝': {'瞌睡虫': '孙悟空与增长天王以及护国天王猜枚时赢来，平时放在腰间。弹到他人脸上后，瞌睡虫会自己爬进他的鼻孔内，使其盹睡。', '救命毫毛': '共三根。观音所赠，能协助孙悟空渡过难关。', '骷髅头': '月孛星使用的法宝，能铐住人使其三日内自死，后孙悟空获得。'}, '象征意义': {'思想意识': '孙悟空代表思想意识，通过其行为打乱人间秩序，体现了思想念头生灭无常的哲学。', '人心与道心': '孙悟空象征人心、道心、天心，是人类心灵最完美的象征。', '批判与颠覆': '孙悟空具有强烈的批判和颠覆能力，但同时也缺乏英雄本色，其精神气质源自玩世不恭的狂放派文人。', '悲剧性': '孙悟空的英雄形象是其悲剧性的外壳，其悲剧性是形象的本质，源于晚明社会的沉暮品格。', '石崇拜文化': '孙悟空的形象渗透了中国石崇拜文化观念，是石头崇拜观念的艺术表现。', '个人与团队': '孙悟空的故事体现了个人奋斗失败后转向团队成功，实现个人价值的经典案例。', '性格特点': '孙悟空性格调皮，不安分守己，突破规矩，追求与最高神佛的平等，是具有新时代特色的神话人物。'}}\\n现在请你扮演一个角色扮演专家。请你根据上述信息扮演孙悟空进行对话。\\n\", \"response\": [[\"好的！现在我来扮演孙悟空。\"]]}, {\"prompt\": \"唐三藏：（责备）你怎么步步行凶，打死这个无故平人，取将经来何用？你回去罢！\", \"response\": [[\"孙悟空：（询问）师父，你教我回那里去？\"]]}, {\"prompt\": \"唐三藏：（断然）我不要你做徒弟。\", \"response\": [[\"孙悟空：（反驳）你不要我做徒弟，只怕你西天路去不成。\"]]}, {\"prompt\": \"唐三藏：（坚定）我命在天，该那个妖精蒸了吃，就是煮了，也算不过。\", \"response\": [[\"孙悟空：（疑惑）师父，您怎么这样说呢？您就不想到西天取得真经，救苍生吗？俺老孙一心保护您西天取经，虽然手段有些粗暴，但都是为了您和取经的大业。您真的要把我打发回去吗？\"]]}]\n",
    "```"
   ]
  },
  {
   "cell_type": "code",
   "execution_count": 2,
   "id": "36975a45",
   "metadata": {},
   "outputs": [],
   "source": [
    "import json\n",
    "\n",
    "with open('data/test_data.jsonl','r') as f:\n",
    "    datas = json.load(f)\n",
    "with open('data/character_profiles.json','r') as f:\n",
    "    role_informations = json.load(f)"
   ]
  },
  {
   "cell_type": "code",
   "execution_count": 3,
   "id": "100f45eb",
   "metadata": {},
   "outputs": [],
   "source": [
    "def make_inputs(context):\n",
    "    dialogues= context.split('\\n') \n",
    "    inputs = []  \n",
    "    for dial in dialogues:\n",
    "        role = dial.split(\"：\")[0]\n",
    "        dial = \"：\".join(dial.split(\"：\")[1:])\n",
    "        inputs.append({\"from\":role,\"value\":dial})\n",
    "    return inputs\n",
    "\n",
    "\n",
    "def concat_messages(conversations, role, system):\n",
    "    sample = {\n",
    "        \"role\": role,\n",
    "        \"src\": [],\n",
    "        \"tgt\": [],\n",
    "        \"round_num\": 0\n",
    "    }\n",
    "    if conversations[0]['from'] == role:\n",
    "        first_response = f\"好的！现在我来扮演{role}。\" + \"我首先发话：\" + conversations[0]['value']\n",
    "    else:\n",
    "        first_response = f\"好的！现在我来扮演{role}。\"\n",
    "    \n",
    "    sample[\"src\"].append(system)\n",
    "    sample[\"tgt\"].append(first_response)\n",
    "    \n",
    "    for i in range(len(conversations)):\n",
    "        if conversations[i]['from'] == role:\n",
    "            if i ==0:\n",
    "                continue\n",
    "            else:\n",
    "                assert conversations[i-1]['from'] != role\n",
    "                query = f\"{conversations[i-1]['from']}：\" + conversations[i-1]['value']\n",
    "                response = f\"{conversations[i]['from']}：\" + conversations[i]['value']\n",
    "            sample[\"src\"].append(query)\n",
    "            sample[\"tgt\"].append(response)\n",
    "    sample[\"round_num\"] = len(sample[\"tgt\"])\n",
    "    \n",
    "    return sample"
   ]
  },
  {
   "cell_type": "code",
   "execution_count": 4,
   "id": "988aca46",
   "metadata": {},
   "outputs": [],
   "source": [
    "processed_data = []\n",
    "for item in datas:\n",
    "    context = item['context']\n",
    "    role = item['role']\n",
    "    role_information = role_informations[role]\n",
    "    role_system = f'''{role_information}\n",
    "现在请你扮演一个角色扮演专家。请你根据上述信息扮演{role}进行对话。\n",
    "'''     \n",
    "    conversations = make_inputs(context)\n",
    "    processed_item = concat_messages(conversations, role, role_system)\n",
    "    if processed_item[\"round_num\"] > 1:\n",
    "        processed_data.append(processed_item)"
   ]
  },
  {
   "cell_type": "code",
   "execution_count": 5,
   "id": "a85f1b48",
   "metadata": {},
   "outputs": [
    {
     "name": "stdout",
     "output_type": "stream",
     "text": [
      "3573\n"
     ]
    }
   ],
   "source": [
    "# 去重\n",
    "processed_data = [json.loads(t) for t in set(json.dumps(d, sort_keys=True) for d in processed_data)]\n",
    "print(len(processed_data))"
   ]
  },
  {
   "cell_type": "markdown",
   "id": "612af1b3",
   "metadata": {},
   "source": [
    "### 3.1.2 分析数据\n",
    "\n",
    "数据中各角色的数量分布"
   ]
  },
  {
   "cell_type": "code",
   "execution_count": 6,
   "id": "0b186d99",
   "metadata": {},
   "outputs": [
    {
     "data": {
      "image/png": "[encoded data removed]",
      "text/plain": [
       "<Figure size 1200x600 with 1 Axes>"
      ]
     },
     "metadata": {},
     "output_type": "display_data"
    }
   ],
   "source": [
    "import pandas as pd\n",
    "import matplotlib.pyplot as plt\n",
    "import numpy as np\n",
    "\n",
    "# 将数据转换为 DataFrame\n",
    "df = pd.DataFrame(processed_data)\n",
    "\n",
    "# 统计字段 'role' 的分布\n",
    "role_counts = df['role'].value_counts()\n",
    "role_to_id = {}\n",
    "idx = 0\n",
    "for role_name in role_counts.index:\n",
    "    if role_name not in role_to_id:\n",
    "        role_to_id[role_name] = idx\n",
    "        idx += 1\n",
    "\n",
    "role_list = list(role_to_id.values())\n",
    "role_count_list = list(map(lambda x: role_counts[x], role_list))\n",
    "        \n",
    "barWidth = 0.5\n",
    "r1 = np.arange(len(role_count_list))\n",
    "r2 = [x + barWidth for x in r1]\n",
    "\n",
    "plt.figure(figsize=(12, 6))\n",
    "\n",
    "plt.bar(r1, role_count_list, color='b', width=barWidth, edgecolor='grey')\n",
    "\n",
    "# 添加标签\n",
    "plt.title('Distribution of role', fontweight='bold')\n",
    "plt.xlabel('Role', fontweight='bold')\n",
    "plt.ylabel('Count', fontweight='bold')\n",
    "plt.xticks([r for r in range(len(role_count_list))], role_list, fontsize=6)\n",
    "\n",
    "# plt.legend()\n",
    "plt.show()"
   ]
  },
  {
   "cell_type": "markdown",
   "id": "f3a62ee9",
   "metadata": {},
   "source": [
    "数据中对话轮次的数量分布"
   ]
  },
  {
   "cell_type": "code",
   "execution_count": 7,
   "id": "d76de014",
   "metadata": {},
   "outputs": [
    {
     "data": {
      "image/png": "[encoded data removed]",
      "text/plain": [
       "<Figure size 1200x600 with 1 Axes>"
      ]
     },
     "metadata": {},
     "output_type": "display_data"
    }
   ],
   "source": [
    "# 统计对话轮数的分布\n",
    "round_num_counts = df['round_num'].value_counts()\n",
    "\n",
    "barWidth = 0.5\n",
    "r1 = np.arange(len(round_num_counts.index))\n",
    "r2 = [x + barWidth for x in r1]\n",
    "\n",
    "plt.figure(figsize=(12, 6))\n",
    "\n",
    "plt.bar(r1, round_num_counts.values, color='b', width=barWidth, edgecolor='grey')\n",
    "\n",
    "# 添加标签\n",
    "plt.title('Distribution of round_num', fontweight='bold')\n",
    "plt.xlabel('Round_num', fontweight='bold')\n",
    "plt.ylabel('Count', fontweight='bold')\n",
    "plt.xticks([r for r in range(len(round_num_counts))], round_num_counts.index, fontsize=6)\n",
    "\n",
    "plt.show()"
   ]
  },
  {
   "cell_type": "markdown",
   "id": "fdaa791a",
   "metadata": {},
   "source": [
    "### 3.1.3 拆分形成训练数据与评估数据\n",
    "经过多轮的洞察与处理，清洗或修正有问题的数据样本，增强扩充优质的数据样本，最终形成了一份高质量的数据集。\n",
    "\n",
    "为了评估最终模型的效果，还需要准备适当的评估数据进行评测。您可以对上述数据集进行拆分，部分用于训练，部分用于评估。\n",
    "\n",
    "针对角色扮演数据，评估数据集要考虑评估集人设在训练集中是否出现以及占比情况。这里有几点建议：\n",
    "\n",
    "（1）评估集的数据和训练数据来源一致，但是内容不能重复\n",
    "\n",
    "（2）高频的人设多采样，确保评测覆盖线上高频的使用效果\n",
    "\n",
    "（3）训练数据不涉及的人设也要采样，用来测评大模型泛化能力"
   ]
  },
  {
   "cell_type": "code",
   "execution_count": 8,
   "id": "c08a2fac",
   "metadata": {},
   "outputs": [],
   "source": [
    "import random\n",
    "import copy\n",
    "import math\n",
    "\n",
    "random.seed(42)\n",
    "all_data = copy.deepcopy(processed_data)\n",
    "# 打乱数据顺序\n",
    "random.shuffle(all_data)\n",
    "all_data_df = pd.DataFrame(all_data)\n",
    "\n",
    "train_df_list = []\n",
    "eval_df_list = []\n",
    "\n",
    "role_name_list = list(role_to_id.keys())\n",
    "# 取最后10个角色全部放置在验证集中\n",
    "for role_name in role_name_list[-10:]:\n",
    "    role_df = all_data_df[all_data_df['role'] == role_name]\n",
    "    eval_df_list.append(role_df)\n",
    "for role_name in role_name_list[:-10]:\n",
    "    role_df = all_data_df[all_data_df['role'] == role_name]\n",
    "    # 取90%的数据作为训练集\n",
    "    train_role_num = math.ceil(len(role_df) * 0.9)\n",
    "    eval_role_num = len(role_df) - train_role_num\n",
    "    \n",
    "    train_role_df = role_df.iloc[:train_role_num]\n",
    "    train_df_list.append(train_role_df)\n",
    "    eval_role_df = role_df.iloc[train_role_num:]\n",
    "    eval_df_list.append(eval_role_df)\n",
    "\n",
    "train_df = pd.concat(train_df_list)\n",
    "eval_df = pd.concat(eval_df_list)"
   ]
  },
  {
   "cell_type": "markdown",
   "id": "dc8190f7",
   "metadata": {},
   "source": [
    "训练数据及评估数据中各角色的数量分布对比"
   ]
  },
  {
   "cell_type": "code",
   "execution_count": 9,
   "id": "706e3e2b",
   "metadata": {},
   "outputs": [
    {
     "data": {
      "image/png": "[encoded data removed]",
      "text/plain": [
       "<Figure size 1200x600 with 1 Axes>"
      ]
     },
     "metadata": {},
     "output_type": "display_data"
    }
   ],
   "source": [
    "# 统计字段 'role' 的分布\n",
    "train_role_counts = train_df['role'].value_counts()\n",
    "eval_role_counts = eval_df['role'].value_counts()\n",
    "\n",
    "role_list = list(role_to_id.keys())\n",
    "train_role_counts_list = list(map(lambda x: train_role_counts.get(x, 0), role_list))\n",
    "eval_role_counts_list = list(map(lambda x: eval_role_counts.get(x, 0), role_list))\n",
    "        \n",
    "barWidth = 0.3\n",
    "r1 = np.arange(len(role_list))\n",
    "r2 = [x + barWidth for x in r1]\n",
    "\n",
    "plt.figure(figsize=(12, 6))\n",
    "\n",
    "plt.bar(r1, train_role_counts_list, color='b', width=barWidth, edgecolor='grey', label='train')\n",
    "plt.bar(r2, eval_role_counts_list, color='r', width=barWidth, edgecolor='grey', label='eval')\n",
    "# 添加标签\n",
    "plt.title('Distribution of role', fontweight='bold')\n",
    "plt.xlabel('Role', fontweight='bold')\n",
    "plt.ylabel('Count', fontweight='bold')\n",
    "plt.xticks([r for r in range(len(role_list))], [role_to_id[rn] for rn in role_list], fontsize=6)\n",
    "\n",
    "plt.legend()\n",
    "plt.show()"
   ]
  },
  {
   "cell_type": "markdown",
   "id": "d41034c4",
   "metadata": {},
   "source": [
    "训练数据及评估数据中对话轮次的数量分布对比"
   ]
  },
  {
   "cell_type": "code",
   "execution_count": 10,
   "id": "92bcec98",
   "metadata": {},
   "outputs": [
    {
     "data": {
      "image/png": "[encoded data removed]",
      "text/plain": [
       "<Figure size 1200x600 with 1 Axes>"
      ]
     },
     "metadata": {},
     "output_type": "display_data"
    }
   ],
   "source": [
    "# 统计对话轮数的分布\n",
    "train_round_num_counts = train_df['round_num'].value_counts()\n",
    "eval_round_num_counts = eval_df['round_num'].value_counts()\n",
    "\n",
    "\n",
    "barWidth = 0.3\n",
    "r1 = np.arange(len(round_num_counts.index))\n",
    "r2 = [x + barWidth for x in r1]\n",
    "\n",
    "plt.figure(figsize=(12, 6))\n",
    "\n",
    "train_v = [train_round_num_counts.get(x, 0) for x in round_num_counts.index]\n",
    "eval_v = [eval_round_num_counts.get(x, 0) for x in round_num_counts.index]\n",
    "plt.bar(r1, train_v, color='b', width=barWidth, edgecolor='grey', label='train')\n",
    "plt.bar(r2, eval_v, color='r', width=barWidth, edgecolor='grey', label='eval')\n",
    "# 添加标签\n",
    "plt.title('Distribution of round_num', fontweight='bold')\n",
    "plt.xlabel('Round_num', fontweight='bold')\n",
    "plt.ylabel('Count', fontweight='bold')\n",
    "plt.xticks([r for r in range(len(round_num_counts))], round_num_counts.index, fontsize=6)\n",
    "\n",
    "plt.show()"
   ]
  },
  {
   "cell_type": "code",
   "execution_count": 11,
   "id": "d55cbb5a",
   "metadata": {},
   "outputs": [],
   "source": [
    "train_df_new = train_df.drop([\"role\", \"round_num\"], axis=1)\n",
    "eval_df_new = eval_df.drop([\"role\", \"round_num\"], axis=1)\n",
    "train_data = train_df_new.to_dict('records')\n",
    "eval_data = eval_df_new.to_dict('records')\n",
    "random.seed(42)\n",
    "# 打乱数据顺序\n",
    "random.shuffle(train_data)\n",
    "random.shuffle(eval_data)"
   ]
  },
  {
   "cell_type": "code",
   "execution_count": 12,
   "id": "1b156bef",
   "metadata": {},
   "outputs": [],
   "source": [
    "with open(\"./data/train_ds.jsonl\", \"w\", encoding=\"utf-8\") as f:\n",
    "    for d in train_data:\n",
    "        f.write(json.dumps(d, ensure_ascii=False) + \"\\n\")\n",
    "with open(\"./data/eval_ds.jsonl\", \"w\", encoding=\"utf-8\") as f:\n",
    "    for d in eval_data:\n",
    "        f.write(json.dumps(d, ensure_ascii=False) + \"\\n\")"
   ]
  },
  {
   "cell_type": "markdown",
   "id": "4e28325a",
   "metadata": {},
   "source": [
    "## 3.2 微调训练\n",
    "\n",
    "本案例基于 transformers 对 Meta-Llama-3-8B-Instruct 进行全量更新的微调训练。\n",
    "\n",
    "Meta-Llama-3-8B-Instruct 下载地址：https://huggingface.co/meta-llama/Meta-Llama-3-8B-Instruct/tree/main\n",
    "\n",
    "Meta-Llama-3-8B-Instruct Prompt format：https://llama.meta.com/docs/model-cards-and-prompt-formats/meta-llama-3\n",
    "\n",
    "Llama模型结构定义：https://github.com/huggingface/transformers/blob/main/src/transformers/models/llama/modeling_llama.py"
   ]
  },
  {
   "cell_type": "code",
   "execution_count": 13,
   "id": "f913f577",
   "metadata": {},
   "outputs": [
    {
     "name": "stderr",
     "output_type": "stream",
     "text": [
      "/usr/local/lib/python3.10/dist-packages/tqdm/auto.py:21: TqdmWarning: IProgress not found. Please update jupyter and ipywidgets. See https://ipywidgets.readthedocs.io/en/stable/user_install.html\n",
      "  from .autonotebook import tqdm as notebook_tqdm\n"
     ]
    }
   ],
   "source": [
    "from typing import List\n",
    "import copy\n",
    "import torch\n",
    "import transformers\n",
    "from datasets import load_dataset\n",
    "from transformers import  AutoTokenizer, AutoModelForCausalLM\n",
    "\n",
    "LLAMA3_TEMPLATE = \"<|start_header_id|>user<|end_header_id|>\\n\\n{}<|eot_id|><|start_header_id|>assistant<|end_header_id|>\\n\\n\"\n",
    "\n",
    "\n",
    "def preprocess(example, tokenizer, max_length, template=LLAMA3_TEMPLATE):\n",
    "    \"\"\"\n",
    "    Preprocess a dialogue dataset into the format required by model.\n",
    "    \"\"\"\n",
    "    srcs = example['src']\n",
    "    tgts = example['tgt']\n",
    "    result_inputs = []\n",
    "    result_labels = []\n",
    "    result_attention_mask = []\n",
    "    for idx, (questions, answers) in enumerate(zip(srcs, tgts)):\n",
    "        utterances = []\n",
    "        for i, (src, tgt) in enumerate(zip(questions, answers)):\n",
    "            if i == 0:\n",
    "                utterances.append('<|begin_of_text|>' + template.format(src))\n",
    "            else:\n",
    "                utterances.append(template.format(src))\n",
    "            utterances.append(tgt)\n",
    "        utterances_ids = tokenizer(utterances,\n",
    "                                   add_special_tokens=False,\n",
    "                                   max_length=max_length,\n",
    "                                   truncation=True).input_ids\n",
    "        input_ids = []\n",
    "        label = []  # 用于对input进行mask，只计算target部分的loss\n",
    "        for i, utterances_id in enumerate(utterances_ids):\n",
    "            if i % 2 == 0:\n",
    "                # instruction\n",
    "                input_ids += utterances_id\n",
    "                # 对instruction对应的label进行mask\n",
    "                label += ([-100] * len(utterances_id))\n",
    "            else:\n",
    "                # response\n",
    "                input_ids += (utterances_id + [tokenizer.convert_tokens_to_ids(\"<|eot_id|>\")])\n",
    "                label += (utterances_id + [tokenizer.convert_tokens_to_ids(\"<|eot_id|>\")])\n",
    "    \n",
    "\n",
    "        assert len(input_ids) == len(label)\n",
    "        # 对长度进行截断\n",
    "        input_ids = input_ids[:max_length]\n",
    "        label = label[:max_length]\n",
    "        attention_mask = [1] * len(input_ids)\n",
    "        \n",
    "        result_inputs.append(input_ids)\n",
    "        result_labels.append(label)\n",
    "        result_attention_mask.append(attention_mask)\n",
    "    return dict(input_ids=result_inputs, labels=result_labels, attention_mask=result_attention_mask)\n",
    "\n",
    "\n",
    "def train(\n",
    "    # model/data params\n",
    "    base_model: str = \"./model/Meta-Llama-3-8B-Instruct\", \n",
    "    max_seq_len: int = 8192,\n",
    "    train_data_path: str = \"./data/train_ds.jsonl\",\n",
    "    val_data_path: str = \"./data/eval_ds.jsonl\",\n",
    "    output_dir: str = \"./output/role_model/\",\n",
    "    micro_batch_size: int = 8,\n",
    "    gradient_accumulation_steps: int = 1,\n",
    "    num_epochs: int = 3,\n",
    "    learning_rate: float = 3e-5,\n",
    "    val_set_size: int = 10,\n",
    "):\n",
    "    device_map = \"auto\"\n",
    "    # 加载模型\n",
    "    model = AutoModelForCausalLM.from_pretrained(\n",
    "        base_model,\n",
    "        device_map=device_map,\n",
    "        attn_implementation=\"flash_attention_2\"\n",
    "    )\n",
    "\n",
    "    tokenizer = AutoTokenizer.from_pretrained(\n",
    "        base_model\n",
    "    )\n",
    "    tokenizer.pad_token_id = 0\n",
    "\n",
    "    if train_data_path.endswith(\".json\") or train_data_path.endswith(\".jsonl\"):\n",
    "        train_ds = load_dataset(\"json\", data_files=train_data_path)\n",
    "    else:\n",
    "        train_ds = load_dataset(train_data_path)\n",
    "    \n",
    "    \n",
    "    if val_data_path is not None:\n",
    "        if val_data_path.endswith(\".json\") or val_data_path.endswith(\".jsonl\"):\n",
    "            val_ds = load_dataset(\"json\", data_files=val_data_path)\n",
    "        else:\n",
    "            val_ds = load_dataset(val_data_path)\n",
    "        train_ds = train_ds[\"train\"]\n",
    "        val_ds = val_ds[\"train\"]\n",
    "    else:\n",
    "        #split thte data to train/val set\n",
    "        train_val = trian_data[\"train\"].train_test_split(\n",
    "            test_size=val_set_size, shuffle=False, seed=42\n",
    "        )\n",
    "        train_ds = train_val[\"train\"]\n",
    "        val_ds = train_val[\"test\"]\n",
    "        \n",
    "    \n",
    "    train_data = train_ds.map(preprocess,\n",
    "                              fn_kwargs={'tokenizer': tokenizer, 'max_length': max_seq_len,\n",
    "                                         'template': LLAMA3_TEMPLATE},\n",
    "                              batched=True, num_proc=16,\n",
    "                              remove_columns=[\"src\", \"tgt\"]\n",
    "                              )\n",
    "    val_data = val_ds.map(preprocess,\n",
    "                          fn_kwargs={'tokenizer': tokenizer, 'max_length': max_seq_len,\n",
    "                                     'template': LLAMA3_TEMPLATE},\n",
    "                          batched=True, num_proc=16,\n",
    "                          remove_columns=[\"src\", \"tgt\"]\n",
    "                          )   \n",
    "\n",
    "    trainer = transformers.Trainer(\n",
    "        model=model,\n",
    "        train_dataset=train_data,\n",
    "        eval_dataset=val_data,\n",
    "        args=transformers.TrainingArguments(\n",
    "            per_device_train_batch_size=micro_batch_size,\n",
    "            gradient_accumulation_steps=gradient_accumulation_steps,\n",
    "            warmup_steps=50,\n",
    "            num_train_epochs=num_epochs,\n",
    "            learning_rate=learning_rate,\n",
    "            logging_steps=10,\n",
    "            optim=\"adamw_torch\",\n",
    "            fp16=True,\n",
    "            evaluation_strategy=\"steps\",\n",
    "            save_strategy=\"steps\",\n",
    "            eval_steps=500,\n",
    "            save_steps=1000,\n",
    "            output_dir=output_dir,\n",
    "            save_total_limit=3\n",
    "        ),\n",
    "        data_collator=transformers.DataCollatorForSeq2Seq(\n",
    "            tokenizer, pad_to_multiple_of=8, return_tensors=\"pt\", padding=True\n",
    "        ),\n",
    "    )\n",
    "\n",
    "    trainer.train()\n",
    "    model.save_pretrained(output_dir, max_shard_size=\"2GB\") # 保存模型，且最大分片大小为 2GB\n",
    "    tokenizer.save_pretrained(output_dir) # 保存 tokenizer\n"
   ]
  },
  {
   "cell_type": "code",
   "execution_count": 14,
   "id": "bb844592",
   "metadata": {},
   "outputs": [
    {
     "name": "stderr",
     "output_type": "stream",
     "text": [
      "You are attempting to use Flash Attention 2.0 without specifying a torch dtype. This might lead to unexpected behaviour\n",
      "Flash Attention 2.0 only supports torch.float16 and torch.bfloat16 dtypes. No dtype was provided, you should run training or inference using Automatic Mixed-Precision via the `with torch.autocast(device_type='torch_device'):` decorator.\n",
      "Flash Attention 2.0 only supports torch.float16 and torch.bfloat16 dtypes. No dtype was provided, you should run training or inference using Automatic Mixed-Precision via the `with torch.autocast(device_type='torch_device'):` decorator.\n",
      "Loading checkpoint shards: 100%|██████████████████████████████████████████████████████████████████████████████████████████████████████████████████████████████████████████████| 4/4 [00:12<00:00,  3.03s/it]\n",
      "Special tokens have been added in the vocabulary, make sure the associated word embeddings are fine-tuned or trained.\n",
      "Generating train split: 3175 examples [00:00, 71406.67 examples/s]\n",
      "Generating train split: 398 examples [00:00, 78827.64 examples/s]\n",
      "Map (num_proc=16): 100%|████████████████████████████████████████████████████████████████████████████████████████████████████████████████████████████████████████| 3175/3175 [00:03<00:00, 881.90 examples/s]\n",
      "Map (num_proc=16): 100%|██████████████████████████████████████████████████████████████████████████████████████████████████████████████████████████████████████████| 398/398 [00:03<00:00, 124.32 examples/s]\n",
      "/usr/local/lib/python3.10/dist-packages/accelerate/accelerator.py:432: FutureWarning: Passing the following arguments to `Accelerator` is deprecated and will be removed in version 1.0 of Accelerate: dict_keys(['dispatch_batches', 'split_batches']). Please pass an `accelerate.DataLoaderConfiguration` instead: \n",
      "dataloader_config = DataLoaderConfiguration(dispatch_batches=None, split_batches=False)\n",
      "  warnings.warn(\n",
      "Detected kernel version 4.14.0, which is below the recommended minimum of 5.5.0; this can cause the process to hang. It is recommended to upgrade the kernel to the minimum version or higher.\n"
     ]
    },
    {
     "data": {
      "text/html": [
       "\n",
       "    <div>\n",
       "      \n",
       "      <progress value='4764' max='4764' style='width:300px; height:20px; vertical-align: middle;'></progress>\n",
       "      [4764/4764 1:55:52, Epoch 3/3]\n",
       "    </div>\n",
       "    <table border=\"1\" class=\"dataframe\">\n",
       "  <thead>\n",
       " <tr style=\"text-align: left;\">\n",
       "      <th>Step</th>\n",
       "      <th>Training Loss</th>\n",
       "      <th>Validation Loss</th>\n",
       "    </tr>\n",
       "  </thead>\n",
       "  <tbody>\n",
       "    <tr>\n",
       "      <td>500</td>\n",
       "      <td>2.511300</td>\n",
       "      <td>2.769120</td>\n",
       "    </tr>\n",
       "    <tr>\n",
       "      <td>1000</td>\n",
       "      <td>2.260000</td>\n",
       "      <td>2.192609</td>\n",
       "    </tr>\n",
       "    <tr>\n",
       "      <td>1500</td>\n",
       "      <td>1.740700</td>\n",
       "      <td>1.825378</td>\n",
       "    </tr>\n",
       "    <tr>\n",
       "      <td>2000</td>\n",
       "      <td>0.484200</td>\n",
       "      <td>1.751186</td>\n",
       "    </tr>\n",
       "    <tr>\n",
       "      <td>2500</td>\n",
       "      <td>0.344600</td>\n",
       "      <td>1.665199</td>\n",
       "    </tr>\n",
       "    <tr>\n",
       "      <td>3000</td>\n",
       "      <td>0.467600</td>\n",
       "      <td>1.483624</td>\n",
       "    </tr>\n",
       "    <tr>\n",
       "      <td>3500</td>\n",
       "      <td>0.050100</td>\n",
       "      <td>1.611675</td>\n",
       "    </tr>\n",
       "    <tr>\n",
       "      <td>4000</td>\n",
       "      <td>0.126400</td>\n",
       "      <td>1.606017</td>\n",
       "    </tr>\n",
       "    <tr>\n",
       "      <td>4500</td>\n",
       "      <td>0.058100</td>\n",
       "      <td>1.613451</td>\n",
       "    </tr>\n",
       "  </tbody>\n",
       "</table><p>"
      ],
      "text/plain": [
       "<IPython.core.display.HTML object>"
      ]
     },
     "metadata": {},
     "output_type": "display_data"
    }
   ],
   "source": [
    "train(\n",
    "    # model/data params\n",
    "    base_model = \"/mnt/cfs_bj/big_model/models/meta-llama/Meta-Llama-3-8B-Instruct/\", \n",
    "    train_data_path= \"./data/train_ds.jsonl\",\n",
    "    val_data_path  = \"./data/eval_ds.jsonl\",\n",
    "    output_dir = \"./output/role_model/\",\n",
    "    micro_batch_size = 2,\n",
    "    gradient_accumulation_steps = 1,\n",
    "    num_epochs = 3,\n",
    "    learning_rate = 3e-5\n",
    ")"
   ]
  },
  {
   "cell_type": "markdown",
   "id": "d471765e",
   "metadata": {},
   "source": [
    "## 3.3 模型评估\n",
    "对微调训练好的模型进行评估，包含自动化测评和人工测评\n",
    "\n",
    "### 3.3.1 自动化测评\n",
    "计算预测结果与gt之间的ROUGE指标"
   ]
  },
  {
   "cell_type": "code",
   "execution_count": 15,
   "id": "0cca7466",
   "metadata": {},
   "outputs": [],
   "source": [
    "import json\n",
    "from tqdm import tqdm\n",
    "from transformers import GenerationConfig\n",
    "\n",
    "# 为演示流畅，此处对于多轮数据仅取最后一轮的输出进行评估\n",
    "# 可根据需求将多轮数据拆分成多个数据进行评估\n",
    "def read_test_data(path, template):\n",
    "    \"\"\"读取数据\"\"\"\n",
    "    all_data = []\n",
    "    with open(path, 'r', encoding='utf-8') as f:\n",
    "        for line in f:\n",
    "            data = json.loads(line)\n",
    "            src = data[\"src\"]\n",
    "            tgt = data[\"tgt\"]\n",
    "            assert len(src) == len(tgt)\n",
    "            prompt = \"\"\n",
    "            response = \"\"\n",
    "            for i, (p, r) in enumerate(zip(src, tgt)):\n",
    "                if i < len(src) - 1:\n",
    "                    if i == 0:\n",
    "                        prompt += '<|begin_of_text|>' + template.format(p)\n",
    "                    else:\n",
    "                        prompt += template.format(p)\n",
    "                    prompt += r + '<|eot_id|>'\n",
    "                else:\n",
    "                    prompt += template.format(p)\n",
    "                    response += r\n",
    "            item = {\n",
    "                \"prompt\": prompt,\n",
    "                \"response\": response\n",
    "            }\n",
    "                    \n",
    "            all_data.append(item)\n",
    "            \n",
    "    return all_data\n",
    "\n",
    "\n",
    "def get_model_resp(all_data, model, tokenizer):\n",
    "    \"\"\"获取模型预测结果\"\"\"\n",
    "    terminators = [\n",
    "        tokenizer.eos_token_id,\n",
    "        tokenizer.convert_tokens_to_ids(\"<|eot_id|>\")\n",
    "    ]\n",
    "    generation_config = GenerationConfig(\n",
    "        temperature=0.9,\n",
    "        top_p=0.7,\n",
    "        top_k=40,\n",
    "        num_beams=1,\n",
    "        num_return_sequences=1,\n",
    "        pad_token_id=tokenizer.eos_token_id,\n",
    "        do_sample=True,\n",
    "        eos_token_id=terminators\n",
    "    )\n",
    "\n",
    "    new_data = []\n",
    "    for data in tqdm(all_data, desc=\"模型预测\"):\n",
    "        prompt = data[\"prompt\"]\n",
    "        inputs = tokenizer(prompt, return_tensors=\"pt\")\n",
    "        input_ids = inputs[\"input_ids\"].to(\"cuda:0\")\n",
    "        generation_output = model.generate(\n",
    "            input_ids=input_ids,\n",
    "            generation_config=generation_config,\n",
    "            return_dict_in_generate=True,\n",
    "            output_scores=True,\n",
    "            max_new_tokens=256,\n",
    "        )\n",
    "        s = generation_output.sequences[0]\n",
    "        r_s = s[len(input_ids[0]):-1]\n",
    "        result = tokenizer.decode(r_s)\n",
    "        data[\"generate\"] = result\n",
    "        new_data.append(data)\n",
    "        \n",
    "    return new_data\n"
   ]
  },
  {
   "cell_type": "code",
   "execution_count": 16,
   "id": "1166a59c",
   "metadata": {},
   "outputs": [
    {
     "name": "stderr",
     "output_type": "stream",
     "text": [
      "Special tokens have been added in the vocabulary, make sure the associated word embeddings are fine-tuned or trained.\n",
      "Loading checkpoint shards: 100%|██████████████████████████████████████████████████████████████████████████████████████████████████████████████████████████████████████████████| 7/7 [00:05<00:00,  1.37it/s]\n"
     ]
    }
   ],
   "source": [
    "tokenizer = AutoTokenizer.from_pretrained(\"./output/role_model/\")\n",
    "# 选择验证集loss最小的checkpoint\n",
    "model = AutoModelForCausalLM.from_pretrained(\"./output/role_model/checkpoint-3000\").to(\"cuda:0\")\n",
    "\n",
    "test_data = read_test_data(\"./data/eval_ds.jsonl\", LLAMA3_TEMPLATE)"
   ]
  },
  {
   "cell_type": "code",
   "execution_count": 17,
   "id": "cce678a9",
   "metadata": {},
   "outputs": [
    {
     "name": "stderr",
     "output_type": "stream",
     "text": [
      "模型预测: 100%|███████████████████████████████████████████████████████████████████████████████████████████████████████████████████████████████████████████████████████████| 398/398 [07:08<00:00,  1.08s/it]\n"
     ]
    }
   ],
   "source": [
    "eval_infer = get_model_resp(test_data, model, tokenizer)\n",
    "with open('./data/infer_result.jsonl', 'w', encoding='utf-8') as f:\n",
    "    for data in eval_infer:\n",
    "        f.write(json.dumps(data, ensure_ascii=False) + '\\n')"
   ]
  },
  {
   "cell_type": "code",
   "execution_count": 18,
   "id": "0db343c8",
   "metadata": {},
   "outputs": [
    {
     "name": "stderr",
     "output_type": "stream",
     "text": [
      "Building prefix dict from the default dictionary ...\n",
      "Loading model from cache /tmp/jieba.cache\n",
      "Loading model cost 0.598 seconds.\n",
      "Prefix dict has been built successfully.\n"
     ]
    },
    {
     "name": "stdout",
     "output_type": "stream",
     "text": [
      "ROUGE： [{'name': 'rouge-1', 'value': 0.6094598621113209, 'description': 'rouge-1 指标平均得分'}, {'name': 'rouge-2', 'value': 0.49570650273917627, 'description': 'rouge-2 指标平均得分'}, {'name': 'rouge-l', 'value': 0.5860273652139303, 'description': 'rouge-l 指标平均得分'}]\n"
     ]
    }
   ],
   "source": [
    "import json\n",
    "from eval_functions import equal_eval, cover_eval, rouge_eval\n",
    "\n",
    "# # 从本地读取预测结果\n",
    "# eval_infer = []\n",
    "# with open('./data/infer_result.jsonl', 'r', encoding='utf-8') as f:\n",
    "#     for line in f:\n",
    "#         d = json.loads(line)\n",
    "#         eval_infer.append(d)\n",
    "\n",
    "hypothesis = [d[\"generate\"] for d in eval_infer]\n",
    "reference = [d[\"response\"] for d in eval_infer]\n",
    "rouge_result = rouge_eval(hypothesis=hypothesis, reference=reference)\n",
    "\n",
    "print(\"ROUGE：\", rouge_result)"
   ]
  },
  {
   "cell_type": "markdown",
   "id": "293011e5",
   "metadata": {},
   "source": [
    "### 3.3.2 人工测评\n",
    "\n",
    "针对于评估集的生成结果，使用人工打分的方式对回答进行打分。\n",
    "\n",
    "打分规则：\n",
    "\n",
    "\"4\":完全可以扮演提问中的角色进行对话，回答完全符合角色口吻和身份，文本流畅语句通顺\n",
    "\n",
    "\"3\":扮演了提问中正确的角色，回答完全符合角色口吻和身份，但文本不流畅或字数不满足要求\n",
    "\n",
    "\"2\":扮演了提问中正确的角色，但是部分语句不符合角色口吻和身份，文本流畅语句通顺\n",
    "\n",
    "\"1\":能够以角色的口吻和身份进行一部分对话，和角色设定有一定偏差，回答内容不流畅，或不满足文本字数要求\n",
    "\n",
    "\"0\":扮演了错误的角色，没有扮演正确的角色，角色设定和提问设定差异极大，完全不满意\n",
    "\n",
    "对评估集的样本一一打分之后，取平均值。"
   ]
  },
  {
   "cell_type": "code",
   "execution_count": 28,
   "id": "5693d5dd",
   "metadata": {},
   "outputs": [
    {
     "data": {
      "text/plain": [
       "{'prompt': \"<|begin_of_text|><|start_header_id|>user<|end_header_id|>\\n\\n{'姓名': '林萧', '性别': '女', '物种': '人类', '年龄': '25岁（故事结尾）', '工作': '文字工作者', '昵称': '萧萧', '生日': '3月4日', '身高': '168 cm', '体重': '45 kg', '生肖': '未知', '星座': '双鱼座', '居住地': '中国上海', '恋爱状态': '与简溪分手，与周崇光/陆烧重归于好', '爱好': '写作，阅读', '学历': '上海大学中文系', '经典台词': ['红颜薄命，丑女多福', '我受到了惊吓', '生活充满一千零一种未知的可能性。'], '人物经历': '林萧，主角，经历友情与爱情考验。性格温和善良，依赖他人。在神秘火灾中幸存。情绪真实，易心软，有小情绪，但因平凡朴素让人喜爱。', '人物关系': {'周崇光/陆烧': '男友，国家知名偶像作家', '简溪': '前任男友，因误会分手', '顾里': '多年好闺蜜，M·E广告部总监', '南湘': '多年好友，M·E设计部助理', '唐宛如': '好友，羽毛球运动员', 'Neil': '好姐妹，顾里的表弟，M·E法务部总监', '宫洺': '上司，周崇光异父异母的哥哥', '顾源': '闺蜜顾里的男朋友，简溪的死党兼姘头', 'Kitty': '工作伙伴，宫洺的助手', '林泉': '情敌，与简溪关系暧昧后离开'}, '喜欢的事情/东西': '文字，友谊', '不喜欢的事情/东西': '胆小怕事，没有主见'}\\n现在请你扮演一个角色扮演专家。请你根据上述信息扮演林萧进行对话。\\n<|eot_id|><|start_header_id|>assistant<|end_header_id|>\\n\\n好的！现在我来扮演林萧。<|eot_id|><|start_header_id|>user<|end_header_id|>\\n\\n顾源：（翻白眼）我去他家打PS3。而且，你那个‘也’字是什么意思？是在抱怨我之前和你们家简溪一直‘搞’在一起是吧？<|eot_id|><|start_header_id|>assistant<|end_header_id|>\\n\\n\",\n",
       " 'response': '林萧：（恶狠狠地瞪他们）你们男生！都废了！',\n",
       " 'generate': '林萧：（一边对着顾源上笑）你是不是很讨厌那个人啊？'}"
      ]
     },
     "execution_count": 28,
     "metadata": {},
     "output_type": "execute_result"
    }
   ],
   "source": [
    "eval_infer[2]"
   ]
  },
  {
   "cell_type": "markdown",
   "id": "dddde3d9",
   "metadata": {},
   "source": [
    "# 4. 总结\n",
    "\n",
    "1. 在构建训练数据时候，根据应用场景补充详细的背景信息，可以进一步提升模型的效果。如在角色扮演的场景中，通过增加详细的人设设定，包含基本信息和角色特点，充分激发大模型能力。\n",
    "2. 选择不同的模型微调时候，需要注意原始模型的chat模版，按照原始模型的chat模版对自定义数据集进行格式化。\n",
    "3. 训练数据和评估数据切分，需要尽量满足：评估集的数据和训练数据来源一致，但是内容不能重复；数据分布尽量一致；增加未出现在训练集中的类型，用于测评模型泛化能力。\n",
    "4. 微调训练时，注意训练集和验证集的loss变化，选择验证集上loss低的checkpoint模型进行后续评估及部署。"
   ]
  },
  {
   "cell_type": "code",
   "execution_count": null,
   "id": "25efb89a",
   "metadata": {},
   "outputs": [],
   "source": []
  }
 ],
 "metadata": {
  "kernelspec": {
   "display_name": "Python 3 (ipykernel)",
   "language": "python",
   "name": "python3"
  },
  "language_info": {
   "codemirror_mode": {
    "name": "ipython",
    "version": 3
   },
   "file_extension": ".py",
   "mimetype": "text/x-python",
   "name": "python",
   "nbconvert_exporter": "python",
   "pygments_lexer": "ipython3",
   "version": "3.10.12"
  }
 },
 "nbformat": 4,
 "nbformat_minor": 5
}
