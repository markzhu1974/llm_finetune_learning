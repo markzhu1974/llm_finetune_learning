{
 "cells": [
  {
   "cell_type": "markdown",
   "metadata": {},
   "source": [
    "# 如何微调一个作文批改大模型？\n",
    "\n",
    "在教育场景中，对于学生作文，通常我们会从作文的内容是否符合题意、作文结构是否严谨、作文是否存在缺点和扣分项等方面，对我们的作文做出评判，并给我们打出最终的得分，这属于偏主观的打分，比较耗费老师的精力。而在大模型时代，大模型也可以成为一名作文点评专家。大模型有很好的格式遵循和风格遵循能力，我们将点评的要求或者模板\"调教\"给大模型，大模型就能按照我们的要求对一篇作文做出点评和打分。\n",
    "\n",
    "作文批改大模型，即可以成为老师的得力助手，也能够让学生知道作文还可以从哪些方面提升，大大节省老师批改的成本和时间。\n",
    "\n",
    "下面我们将结合百度智能云千帆 SDK 运行代码的方式，找到给作文打分的大模型最优解。"
   ]
  },
  {
   "cell_type": "markdown",
   "metadata": {},
   "source": [
    "# 0. 环境准备\n",
    "\n",
    "在此部分，我们将讨论使用百度智能云千帆ModelBuilder平台进行推理任务之前的准备工作。这包括获取访问权限、安装 SDK 等内容。\n",
    "\n",
    "百度智能云千帆SDK: https://github.com/baidubce/bce-qianfan-sdk/tree/main\n",
    "\n",
    "\n",
    "然后通过如下方式设置鉴权所需的 Access Key 和 Secret Key，相关 Key 可以从 [百度智能云控制台 - 安全认证](https://console.bce.baidu.com/iam/#/iam/accesslist) 页面获得。"
   ]
  },
  {
   "cell_type": "code",
   "execution_count": 1,
   "metadata": {
    "vscode": {
     "languageId": "shellscript"
    }
   },
   "outputs": [
    {
     "name": "stdout",
     "output_type": "stream",
     "text": [
      "\u001b[33mWARNING: Running pip as the 'root' user can result in broken permissions and conflicting behaviour with the system package manager. It is recommended to use a virtual environment instead: https://pip.pypa.io/warnings/venv\u001b[0m\u001b[33m\r\n",
      "\u001b[0m"
     ]
    }
   ],
   "source": [
    "!pip install -U qianfan>=0.3.8.2 qianfan[local_data_clean]"
   ]
  },
  {
   "cell_type": "code",
   "execution_count": 4,
   "metadata": {},
   "outputs": [],
   "source": [
    "import os\n",
    "\n",
    "# 这里请根据 SDK 文档获取自己的 access key 和 secret key\n",
    "os.environ[\"QIANFAN_ACCESS_KEY\"] = \"96401bf707f84410a50f6d87af18a117\"\n",
    "os.environ[\"QIANFAN_SECRET_KEY\"] = \"fd056f39b0fc49b8a6eea812b24093e3\""
   ]
  },
  {
   "cell_type": "markdown",
   "metadata": {
    "tags": []
   },
   "source": [
    "# 1. 大模型推理调用\n",
    "\n",
    "初探通用大模型作文批改能力，我们从网上找到高考作文的题目，对应的范文，以及评分规则入手，一步步调用大模型激发其能力。\n",
    "\n",
    "* 题目：[2023年 全国甲卷作文真题](https://easylearn.baidu.com/edu-page/college/composition/analysis?testType=%E5%85%A8%E5%9B%BD%E7%94%B2%E5%8D%B7&year=2023)\n",
    "* 范文：[我的世界大于这世界](https://easylearn.baidu.com/edu-page/college/composition/detail?id=qgAR%2BsJyVkxHL9IwvSY97g%3D%3D&testType=%E5%85%A8%E5%9B%BD%E7%94%B2%E5%8D%B7&year=2023)\n",
    "\n",
    "\n",
    "\n"
   ]
  },
  {
   "cell_type": "markdown",
   "metadata": {},
   "source": [
    "## 1.1 Prompt 初探\n",
    "\n",
    "\n",
    "本节将介绍如何从用户提供的简单 prompt 出发，构建一个基本的推理任务。我们将演示如何使用百度智能云千帆 SDK 调用大模型以获取模型推理的结果。\n",
    "\n",
    "作文上，准备了两份数据：高考范文和偏离主题作文。"
   ]
  },
  {
   "cell_type": "code",
   "execution_count": 3,
   "metadata": {},
   "outputs": [
    {
     "name": "stdout",
     "output_type": "stream",
     "text": [
      "请帮我批改如下高考作文，给出评价和评分（0-60分）：\n",
      "题目：人们因技术发展得以更好地掌控时间，但也有人因此成了时间的仆人。这句话引发了你怎样的联想与思考？请写一篇文章。要求：选准角度，确定立意，明确文体，自拟标题；不要套作，不得抄袭；不得泄露个人信息；不少于800字。\n",
      "作文内容：\n",
      "做网络的主人\n",
      "随着时代的发展，社会的进步，网络像是一列快车，加速着我们迈进未来的脚步，引领着我们走向瞬息万变的大千世界。\n",
      "老子说过，一切事物都有正反两面，网络也不例外。“秀才不出门，全知天下事”。坐在电脑前，鼠标轻轻一点，世界近在眼前。优雅的音乐，网上聊天使我们放松心情;奇闻异事，大好河山使我们大开眼界，不出门便走遍大江南北;搞笑的视频使我们的生活增添了几分乐趣;网上购物，读书，使我们的生活变得便捷……网络融入我们的生活，使我们乐在其中!非典”肆虐时期，北京中小学无法正常上课，便开展网上教学，学生们都通过网络在家中上课。多么神奇啊!一根线，一台电脑，既保证了师生们的生命安全，又保证了正常的学习。\n",
      "网络上有着多于我们书本的知识。因此，我们对网络便产生了依赖，变得懒惰。写作文，不要想，电脑上有抄;做题目，小意思，电脑会告诉我。做作业就像完成任务一样，只要完成就够了。老师为了我们将知识记得更牢固而辛苦布置的作业，我们都顺手抄了，没有记住，离开了电脑我们什么都不会。\n",
      "网络是把双刃剑，它给予我们思想上的满足，带给我们方便，让我们了解到世界的丰富多彩，同时又让我们沉醉、依赖于它，成了一个个网虫，渐渐因为没有满足而走向违法犯罪。\n",
      "上网就如同吃饭，会吃的人长精神，不会吃的人长病疽。作为现代人，要有驾驭网络的能力，要充分利用现代科技的先进条件，借网络为已用，化网络为神奇，让生命之舟在网络这个自由海洋里，破激流，越险滩，乘风破浪，鼓帆竞航，奔向理想的彼岸。\n",
      "“每个人都该承担一定的社会责任，在网上规范言行!”“让网络成为一方净土，从我做起!我们一定要知荣明耻，树网络新风，一句话，网络是我们大家的朋友，需要我们共同维护，我们应当让网络成为我们的朋友，成为我们健康成长的又一个人生舞台。我们应当远离网络的阴暗面，坚决上绿色的网站，做文明的中学生让我们拥有网络吧!它会使你的生活更精彩;让我们拥有网络吧!它会让奔小康的路更宽、更阔!让我们一起呼吁——“绿色上网”!让网络时空绽开文明之花!\n",
      "    "
     ]
    }
   ],
   "source": [
    "import qianfan\n",
    "from qianfan import ChatCompletion, Completion\n",
    "from qianfan.common import Prompt\n",
    "\n",
    "prompt = Prompt(\"请帮我批改如下高考作文，给出评价和评分（0-60分）：\\n题目：{question}\\n作文内容：{article}\")\n",
    "target = {\n",
    "    \"question\": \"人们因技术发展得以更好地掌控时间，但也有人因此成了时间的仆人。这句话引发了你怎样的联想与思考？请写一篇文章。要求：选准角度，确定立意，明确文体，自拟标题；不要套作，不得抄袭；不得泄露个人信息；不少于800字。\",\n",
    "    \"article\": \"\"\"\n",
    "我的世界大于这世界\n",
    "我们消磨时间，也悔恨虚度了时间。在新时代的技术潮流中，当我们学会了用充满科技感的软件感受大千世界，便开始用无限的信息充斥着所有时间——浏览新鲜事儿，刷刷直播视频，关注好友动态……直到耗尽睡前的全部精力。当我们想要获得更多，便开始想尽办法“抢先”“争先”，不断被向前驱赶。\n",
    "可是，我们的世界不止有这些，我们还可以去欣赏“江间波浪兼天涌，塞上风云接地阴”的壮阔，还可以去感受“揉碎在浮躁间，沉淀着彩虹似的梦”的温柔，更可以来一场“携手藕花湖上路，一霎黄梅细雨”的闲庭信步。只有当我们做了时间的主人才更能体会——我的世界，大于这世界。\n",
    "时不重至，华不再阳。只有做时间的朋友，才能拥有有意义的人生，创造更有价值的事业。55岁的翟志刚，一直都和所有航天员一样，进行着日复一日的训练。13年间，他先后成为神舟十号和神舟十二号任务的备份航天员。“把结果交给时间，不虚度时间”，让他把梦想放飞在了太空。在北京冬奥会上，谷爱凌流畅的滑线感动了世界，这名18岁的姑娘在接受多家媒体采访时，都曾讲述过在车上写作业，甚至在训练和学业同样繁忙时仍能保持很长睡眠时间的故事。“珍惜时间，合理规划时间”，让她用热爱把冰雪融化。\n",
    "现如今，技术的进步，正在提高人们利用时间的效率，互联网拉进了人们彼此之间的距离。通过聊天软件，我们可以随时获取信息和交流。过去，一封信是车马慢慢，递送到亲人的手里；现在，邮件秒达在同事的邮箱；功能丰富的购物平台，让买卖的时间大大缩短，人们不再需要通过“逛街”耗费时间和精力；于我们学生来说，在线教育，使得我们可以在自己的时间和节奏下，学习新的技能和知识……通过技术省力省时的现象，在我们身边不胜枚举。\n",
    "然而，技术是把双刃剑，它让我们对时间的控制越来越精准、自信，同时，也让我们逐渐模糊了时间的概念，我们开始漫无目的地趴在“网”上，消耗时光。再如“节点”“抢先”，也让我们对时间的把控失了味儿。可如果只为达到“节点”，就不会拥有太空漫步的本领，最后只能与梦想擦肩；假如只为一时“抢先”，就不会有一手提着雪板，一手拿着食物走入赛场的从容。我们可以拥抱技术，用时间工具更好地为我们服务，让技术为生活增香添色。但是，我们不要让“科技”、让“时限”，无孔不入包围我们的生活，失去张弛有度的人生。\n",
    "总之，在通过技术精确利用时间的同时，我们不要愈发深入地陷在时间的束缚和催促下。只有汲取科技的力量，善用时间，才能感受生活的美好，延展自我的世界。正如杜牧所言：“浮生若梦冰如水，日夜东流人不知。”韶华易逝，我们能做的就是在有限的生命长度里拓宽自己无限的宽度和深度。这样，我的世界便大于这世界。\n",
    "    \"\"\",\n",
    "    \"expect\": '{\"详细解析\": {\"内容项\": {\"解析\": \"文章围绕技术发展对人们时间观念的影响进行了深入的思考和讨论，立意明确，中心突出，内容充实，思想健康，感情真挚。作者通过列举翟志刚和谷爱凌的事例，以及现代科技带来的便利和负面影响，阐述了做时间主人的重要性，并提出了在利用科技的同时，也要善用时间，拓宽生命宽度的观点。整篇文章逻辑清晰，论述有力，符合题意。\", \"等级\": \"一等\", \"得分\": \"20分\"}, \"表达项\": {\"解析\": \"文章采用议论文的文体，结构严谨，语言流畅，字迹工整，符合文体要求。作者在论述过程中运用了多种论证方法，如举例论证、对比论证等，使文章更具说服力。同时，作者还引用了一些诗句和名言，增加了文章的文采和深度。\", \"等级\": \"一等\", \"得分\": \"20分\"}, \"发展等级\": {\"解析\": \"文章在立意、内容和表达等方面都表现出较高的水平，尤其是在思想深度和文采方面，作者通过深入的思考和精心的表达，使文章具有了一定的创意和启发性。因此，本文在发展等级方面也可以给予较高的评价。\", \"等级\": \"一等\", \"得分\": \"20分\"}, \"扣分项和残篇评定\": {\"解析\": \"文章在字数、标题、错别字、标点符号等方面都没有明显的问题，因此不需要扣分。同时，文章也不是残篇，结构完整，论述充分。\", \"扣分\": \"0分\"}}, \"缺点和改进意见\": {\"缺点\": \"虽然文章整体表现优秀，但在一些细节方面还可以进一步完善。例如，部分论据的阐述可以更加具体和生动，以增加读者的阅读兴趣和理解深度；另外，个别句子的表达可以更加精炼和准确，以提高文章的整体质量。\", \"改进意见\": \"作者可以在今后的写作中注重论据的具体性和生动性，通过描绘更多的细节和场景来增强文章的说服力和感染力；同时，也可以加强对句子表达的锤炼和打磨，力求用更精炼、更准确的语言来表达自己的思想和观点。\"}, \"最终得分\": \"60分\"}'\n",
    "}\n",
    "\n",
    "bad_target = {\n",
    "    \"question\": \"人们因技术发展得以更好地掌控时间，但也有人因此成了时间的仆人。这句话引发了你怎样的联想与思考？请写一篇文章。要求：选准角度，确定立意，明确文体，自拟标题；不要套作，不得抄袭；不得泄露个人信息；不少于800字。\" ,\n",
    "    \"article\": \"\"\"\n",
    "做网络的主人\n",
    "随着时代的发展，社会的进步，网络像是一列快车，加速着我们迈进未来的脚步，引领着我们走向瞬息万变的大千世界。\n",
    "老子说过，一切事物都有正反两面，网络也不例外。“秀才不出门，全知天下事”。坐在电脑前，鼠标轻轻一点，世界近在眼前。优雅的音乐，网上聊天使我们放松心情;奇闻异事，大好河山使我们大开眼界，不出门便走遍大江南北;搞笑的视频使我们的生活增添了几分乐趣;网上购物，读书，使我们的生活变得便捷……网络融入我们的生活，使我们乐在其中!非典”肆虐时期，北京中小学无法正常上课，便开展网上教学，学生们都通过网络在家中上课。多么神奇啊!一根线，一台电脑，既保证了师生们的生命安全，又保证了正常的学习。\n",
    "网络上有着多于我们书本的知识。因此，我们对网络便产生了依赖，变得懒惰。写作文，不要想，电脑上有抄;做题目，小意思，电脑会告诉我。做作业就像完成任务一样，只要完成就够了。老师为了我们将知识记得更牢固而辛苦布置的作业，我们都顺手抄了，没有记住，离开了电脑我们什么都不会。\n",
    "网络是把双刃剑，它给予我们思想上的满足，带给我们方便，让我们了解到世界的丰富多彩，同时又让我们沉醉、依赖于它，成了一个个网虫，渐渐因为没有满足而走向违法犯罪。\n",
    "上网就如同吃饭，会吃的人长精神，不会吃的人长病疽。作为现代人，要有驾驭网络的能力，要充分利用现代科技的先进条件，借网络为已用，化网络为神奇，让生命之舟在网络这个自由海洋里，破激流，越险滩，乘风破浪，鼓帆竞航，奔向理想的彼岸。\n",
    "“每个人都该承担一定的社会责任，在网上规范言行!”“让网络成为一方净土，从我做起!我们一定要知荣明耻，树网络新风，一句话，网络是我们大家的朋友，需要我们共同维护，我们应当让网络成为我们的朋友，成为我们健康成长的又一个人生舞台。我们应当远离网络的阴暗面，坚决上绿色的网站，做文明的中学生让我们拥有网络吧!它会使你的生活更精彩;让我们拥有网络吧!它会让奔小康的路更宽、更阔!让我们一起呼吁——“绿色上网”!让网络时空绽开文明之花!\n",
    "    \"\"\",\n",
    "    \"expect\": ''\n",
    "}\n",
    "prompt_r = prompt.render(**bad_target)[0]\n",
    "print(prompt_r, end='')"
   ]
  },
  {
   "cell_type": "code",
   "execution_count": 7,
   "metadata": {},
   "outputs": [
    {
     "name": "stdout",
     "output_type": "stream",
     "text": [
      "评价及评分：\n",
      "\n",
      "该篇作文围绕“人们因技术发展得以更好地掌控时间，但也有人因此成了时间的仆人”这一主题展开，从网络技术的发展给人们带来的便利和依赖两个方面进行了深入的思考和论述。文章结构清晰，层次分明，从网络的正面作用到负面影响，再到如何正确对待网络，逻辑严密，条理清晰。\n",
      "\n",
      "文章立意明确，观点鲜明，先从网络的好处谈起，如开阔视野、方便生活等，然后引出网络带来的问题，如过度依赖网络、沉迷网络游戏等。在探讨如何应对这些问题时，作者提出了自己的见解和建议，如合理利用网络、树立网络新风等。文章语言流畅，表达清晰，遣词造句得体，展现了良好的语言素养。\n",
      "\n",
      "根据以上分析，该篇作文表现出色，我会给出以下评分：\n",
      "\n",
      "一等级（50-60分）：文章紧扣主题，立意鲜明，结构清晰，层次分明，语言流畅，表达清晰。展现出作者良好的思考能力和语言表达能力。\n",
      "\n",
      "综上，本文表现得十分出色，观点鲜明且富有深度。若能在实际生活中将这些理念付诸实践，必能为社会的文明健康发展贡献自己的力量。最终评分：一等级（满分）59分。"
     ]
    }
   ],
   "source": [
    "from qianfan import ChatCompletion, Completion\n",
    "\n",
    "comp = Completion(model=\"ERNIE-Speed\")\n",
    "\n",
    "result = comp.do(\n",
    "    prompt=prompt_r,\n",
    "    stream=True)\n",
    "\n",
    "for s in result:\n",
    "    print(s['result'], end='')"
   ]
  },
  {
   "cell_type": "markdown",
   "metadata": {},
   "source": [
    "由于场景比较复杂，如果我们直接调用大模型，从返回的结果来看，可能会发现存在如下问题：\n",
    "\n",
    "* 评分不能准确遵循要求，打分普遍偏高\n",
    "* 输出的格式不固定，也没细分项打分\n",
    "* 作文解析比较空泛，给出的意见指导性较差\n",
    "\n",
    "开始着手与 Prompt 优化调整。通过调用千帆平台提供的prompt优化接口，可先进行初步快速优化：\n",
    "* 平台Prompt优化：https://console.bce.baidu.com/qianfan/prompt/optimize/online \n",
    "* Prompt 优化文档：https://cloud.baidu.com/doc/WENXINWORKSHOP/s/Clommng91 \n"
   ]
  },
  {
   "cell_type": "code",
   "execution_count": 4,
   "metadata": {},
   "outputs": [
    {
     "name": "stdout",
     "output_type": "stream",
     "text": [
      "您需要帮助批改一篇高考作文，请根据以下要求给出评价和评分（0-60分）：\n",
      "题目：{question}\n",
      "作文内容：{article}\n",
      "请注意，您的批改应该包括以下方面：\n",
      "1. 判断作文的主题和目的；\n",
      "2. 分析作文的结构和逻辑；\n",
      "3. 评估作文的语言和表达；\n",
      "4. 检查作文的拼写和语法；\n",
      "5. 综合评价作文的优缺点。\n",
      "请在回答中提供详细的解释和说明，以帮助作者了解您的批改和改进建议。同时，请注意提供正面的反馈和指导，以激励作者继续改进和提高作文水平。\n",
      "\n"
     ]
    }
   ],
   "source": [
    "# 调用平台优化能力，耗时10秒左右\n",
    "# optimized_prompt = prompt.optimize()\n",
    "optimized_prompt = Prompt(\"\"\"您需要帮助批改一篇高考作文，请根据以下要求给出评价和评分（0-60分）：\n",
    "题目：{question}\n",
    "作文内容：{article}\n",
    "请注意，您的批改应该包括以下方面：\n",
    "1. 判断作文的主题和目的；\n",
    "2. 分析作文的结构和逻辑；\n",
    "3. 评估作文的语言和表达；\n",
    "4. 检查作文的拼写和语法；\n",
    "5. 综合评价作文的优缺点。\n",
    "请在回答中提供详细的解释和说明，以帮助作者了解您的批改和改进建议。同时，请注意提供正面的反馈和指导，以激励作者继续改进和提高作文水平。\n",
    "\"\"\")\n",
    "print(optimized_prompt.template)"
   ]
  },
  {
   "cell_type": "markdown",
   "metadata": {},
   "source": [
    "然而以上 prompt 由于并不清楚任务的具体要求，给出的要求也较为笼统，因此我们需要进一步对 prompt 进行细化，这时候可以通过 prompt 框架来指引优化。\n",
    "\n",
    "CRISPE 是一个通用的 prompt 框架，CRISPE是首字母的缩写，分别代表以下含义：\n",
    "-  CR：Capacity and Role（能力与角色）：这是你给大模型立下的人设。\n",
    "-  I：Insight（洞悉；领悟）：这是你为大模型提供的背景信息和上下文。\n",
    "-  S：Statement（表述；声明）：你希望大模型具体执行的任务。\n",
    "-  P：Personality（人格；性格）：你希望大模型输出内容的风格。\n",
    "-  E：Experiment（尝试；实践）：你给大模型所做的限制条件。\n",
    "\n",
    "我们可以基于这个框架，提供更多的关于人设、输出结构、批改要求等信息。[CRISPE Prompt 介绍](https://cloud.baidu.com/doc/WENXINWORKSHOP/s/3lommshv8 )"
   ]
  },
  {
   "cell_type": "code",
   "execution_count": 13,
   "metadata": {},
   "outputs": [],
   "source": [
    "# 我们加入了高考评分规则，以及对应的角色信息，提供由平台优化得到的输出内容要求，一起组装 CRISPE 模板\n",
    "essay_rule = \"\"\"\n",
    "高考作文评分批改分为基础等级、发展等级、关于作文的其他项评定\n",
    "        1、基础等级\n",
    "        基础等级分内容和表达两项。\n",
    "        1）内容项\n",
    "        具体评分规则如下：符合题意、中心突出、内容充实、思想健康、感情真挚为一等，可按16-20分酌情给分；符合题意、主题明确、内容较充实、思想健康、感情真实为二等，可按11-15分酌情给分；基本符合题意、中心基本明确、内容单薄、思想基本健康、感情基本真实为三等，可按6-10分酌情给分；偏离题意、中心不明确、内容不当、思想不健康、感情虚假为四等，可按0-5分酌情给分。\n",
    "        2）表达项\n",
    "        具体评分规则如下：符合文体要求、结构严谨、语言流畅、字迹工整为一等，可按16-20分酌情给分；符合文体要求、结构完整、语言通顺、字迹清楚为二等，可按11-15分酌情给分；基本符合文体要求、结构基本完整、语言基本通顺、字迹基本清楚为三等，可按6-10分酌情给分；不符合文体要求、结构混乱、语言不通顺语病多、字迹潦草难辨为四等，可按0-5分酌情给分。\n",
    "        2、发展等级\n",
    "        基础等级分要与发展等级分相匹配，发展等级分不能跨越基础等级的得分等级。\n",
    "        具体评分规则如下：深刻、丰富、有文采、有创意为一等，可按16-20分酌情给分；较深刻、较丰富、较有文采、较有创意为二等，可按11-15分酌情给分；略显深刻、略显丰富、略显文采、略显创意为三等，可按6-10分酌情给分；个别语句有深意、个别例子较好、个别语句较精彩、个别地方有深意为四等，可按0-5分酌情给分。\n",
    "        3、关于作文的其他项评定\n",
    "        1）扣分项评定\n",
    "        出现错别字，1个错别字扣1分，重复不计，扣完5分为止;标点符号出现3处以上错误的酌情扣分;不足字数者，每少50字扣1分;无标题扣2分。\n",
    "        2）残篇评定\n",
    "        400字以上的文章，按评分标准评分，扣字数分。(少50个字扣1分)\n",
    "        400字以下的文章，20分以下评分，不再扣字数分。\n",
    "        200字以下的文章，10分以下评分，不再扣字数分。\n",
    "        只写一两句话的，给1分或2分，不评0分。\n",
    "        只写标题的，给1分或2分，不评0分。\n",
    "        完全空白的，评0分.\n",
    "\"\"\"\n",
    "\n",
    "crispe_prompt = Prompt(Prompt.crispe_prompt(\n",
    "    statement=\"请帮助我批改这篇高考作文，并给出相应的评价和评分（0-60分）\",\n",
    "    capacity=\"你是一个高中语文老师\\n\",\n",
    "    insight=\"\\n作文批改规则：\" + essay_rule + \"\\n作文题目: {{question}}\\n作文内容：{{article}}\\n\",\n",
    "    personality=\"\"\"你的回答应该细致、具体，并针对文章的每个方面进行点评，包括结构、语言、逻辑、文采等方面。你应该给出明确的建议和指导，以帮助作者改进文章质量，并提高其得分。同时，你的回答应该主题需要和题目要求一致，紧扣标准和要求，不偏离主题，体现公正和客观。\"\"\",\n",
    "    experiment='按照以下json格式输出：{\"详细解析\":{\"内容项\": {\"解析\": \"xxxxxx。\",\"等级\": \"xx等\",\"得分\": \"xx分\"},\"表达项\": {\"解析\": \"xxxxxx。\",\"等级\": \"xx等\",\"得分\": \"xx分\"},\"发展等级\": {\"解析\": \"xxxxxx。\",\"等级\": \"xx等\",\"得分\": \"xx分\"},\"扣分项和残篇评定\": {\"解析\": \"xxxxxx。\",\"扣分\": \"xx分\"}},\"缺点和改进意见\": {\"缺点\": \"xxxxxx。\",\"改进意见\": \"xxxxxxx。\"},\"最终得分\": \"xx分\"}'\n",
    "    ),\n",
    "    identifier=\"{{}}\"\n",
    ")"
   ]
  },
  {
   "cell_type": "code",
   "execution_count": 19,
   "metadata": {},
   "outputs": [
    {
     "name": "stderr",
     "output_type": "stream",
     "text": [
      "[WARNING] [05-10 03:03:17] base.py:624 [t:140469570856768]: This key `messages` does not seem to be a parameter that the model `ERNIE-3.5-8K` will accept\n"
     ]
    },
    {
     "name": "stdout",
     "output_type": "stream",
     "text": [
      "起始 Prompt：\n",
      "请帮我批改如下高考作文，给出评价和评分（0-60分）：\n",
      "题目：{question}\n",
      "作文内容：{article}\n",
      " ------------------------------\n",
      "平台优化 Prompt：\n",
      "您需要帮助批改一篇高考作文，请根据以下要求给出评价和评分（0-60分）：\n",
      "题目：{question}\n",
      "作文内容：{article}\n",
      "请注意，您的批改应该包括以下方面：\n",
      "1. 判断作文的主题和目的；\n",
      "2. 分析作文的结构和逻辑；\n",
      "3. 评估作文的语言和表达；\n",
      "4. 检查作文的拼写和语法；\n",
      "5. 综合评价作文的优缺点。\n",
      "请在回答中提供详细的解释和说明，以帮助作者了解您的批改和改进建议。同时，请注意提供正面的反馈和指导，以激励作者继续改进和提高作文水平。\n",
      "\n",
      " ------------------------------\n",
      "CRISPE Prompt：\n",
      "能力与角色：你是一个高中语文老师\n",
      "\n",
      "背景信息：\n",
      "作文批改规则：\n",
      "高考作文评分批改分为基础等级、发展等级、关于作文的其他项评定\n",
      "        1、基础等级\n",
      "        基础等级分内容和表达两项。\n",
      "        1）内容项\n",
      "        具体评分规则如下：符合题意、中心突出、内容充实、思想健康、感情真挚为一等，可按16-20分酌情给分；符合题意、主题明确、内容较充实、思想健康、感情真实为二等，可按11-15分酌情给分；基本符合题意、中心基本明确、内容单薄、思想基本健康、感情基本真实为三等，可按6-10分酌情给分；偏离题意、中心不明确、内容不当、思想不健康、感情虚假为四等，可按0-5分酌情给分。\n",
      "        2）表达项\n",
      "        具体评分规则如下：符合文体要求、结构严谨、语言流畅、字迹工整为一等，可按16-20分酌情给分；符合文体要求、结构完整、语言通顺、字迹清楚为二等，可按11-15分酌情给分；基本符合文体要求、结构基本完整、语言基本通顺、字迹基本清楚为三等，可按6-10分酌情给分；不符合文体要求、结构混乱、语言不通顺语病多、字迹潦草难辨为四等，可按0-5分酌情给分。\n",
      "        2、发展等级\n",
      "        基础等级分要与发展等级分相匹配，发展等级分不能跨越基础等级的得分等级。\n",
      "        具体评分规则如下：深刻、丰富、有文采、有创意为一等，可按16-20分酌情给分；较深刻、较丰富、较有文采、较有创意为二等，可按11-15分酌情给分；略显深刻、略显丰富、略显文采、略显创意为三等，可按6-10分酌情给分；个别语句有深意、个别例子较好、个别语句较精彩、个别地方有深意为四等，可按0-5分酌情给分。\n",
      "        3、关于作文的其他项评定\n",
      "        1）扣分项评定\n",
      "        出现错别字，1个错别字扣1分，重复不计，扣完5分为止;标点符号出现3处以上错误的酌情扣分;不足字数者，每少50字扣1分;无标题扣2分。\n",
      "        2）残篇评定\n",
      "        400字以上的文章，按评分标准评分，扣字数分。(少50个字扣1分)\n",
      "        400字以下的文章，20分以下评分，不再扣字数分。\n",
      "        200字以下的文章，10分以下评分，不再扣字数分。\n",
      "        只写一两句话的，给1分或2分，不评0分。\n",
      "        只写标题的，给1分或2分，不评0分。\n",
      "        完全空白的，评0分.\n",
      "\n",
      "作文题目: {{question}}\n",
      "作文内容：{{article}}\n",
      "\n",
      "指令：请帮助我批改这篇高考作文，并给出相应的评价和评分（0-60分）\n",
      "输出风格：你的回答应该细致、具体，并针对文章的每个方面进行点评，包括结构、语言、逻辑、文采等方面。你应该给出明确的建议和指导，以帮助作者改进文章质量，并提高其得分。同时，你的回答应该主题需要和题目要求一致，紧扣标准和要求，不偏离主题，体现公正和客观。\n",
      "输出范围：按照以下json格式输出：{\"详细解析\":{\"内容项\": {\"解析\": \"xxxxxx。\",\"等级\": \"xx等\",\"得分\": \"xx分\"},\"表达项\": {\"解析\": \"xxxxxx。\",\"等级\": \"xx等\",\"得分\": \"xx分\"},\"发展等级\": {\"解析\": \"xxxxxx。\",\"等级\": \"xx等\",\"得分\": \"xx分\"},\"扣分项和残篇评定\": {\"解析\": \"xxxxxx。\",\"扣分\": \"xx分\"}},\"缺点和改进意见\": {\"缺点\": \"xxxxxx。\",\"改进意见\": \"xxxxxxx。\"},\"最终得分\": \"xx分\"}\n",
      " ------------------------------\n",
      "\n",
      "\n",
      "\n"
     ]
    },
    {
     "name": "stderr",
     "output_type": "stream",
     "text": [
      "[WARNING] [05-10 03:04:02] base.py:624 [t:140469570856768]: This key `messages` does not seem to be a parameter that the model `ERNIE-3.5-8K` will accept\n",
      "[WARNING] [05-10 03:04:32] base.py:624 [t:140469570856768]: This key `messages` does not seem to be a parameter that the model `ERNIE-3.5-8K` will accept\n"
     ]
    },
    {
     "name": "stdout",
     "output_type": "stream",
     "text": [
      "起始 Prompt 分数：0.8319644598625371\n",
      "平台优化 Prompt 分数：0.900842981847625\n",
      "CRISPE Prompt 分数：0.9580812132380404\n"
     ]
    }
   ],
   "source": [
    "# 并对优化的 Prompt 进行平台侧的评估打分，使用ERNIE-3.5旗舰版模型进行初步打分\n",
    "prompts = {\"起始 Prompt\": prompt, \"平台优化 Prompt\": optimized_prompt, \"CRISPE Prompt\": crispe_prompt}\n",
    "for key, p in prompts.items():\n",
    "    print(f\"{key}：\\n{p.template}\\n {'-' * 30}\")\n",
    "\n",
    "scenes = [\n",
    "    {\n",
    "        \"args\": target,\n",
    "        \"expected\": target['expect']\n",
    "    },\n",
    "]\n",
    "\n",
    "# Prompt评估打分，对应产品链接：https://console.bce.baidu.com/qianfan/prompt/evaluate \n",
    "\n",
    "print(\"\\n\\n\")\n",
    "results = Prompt.evaluate(prompts.values(), scenes, Completion(model=\"ERNIE-3.5-8K\"))\n",
    "for i, p in enumerate(prompts.items()):\n",
    "    print(f\"{p[0]} 分数：{results[i].scene[0]['score']}\")\n"
   ]
  },
  {
   "cell_type": "code",
   "execution_count": 11,
   "metadata": {},
   "outputs": [
    {
     "name": "stdout",
     "output_type": "stream",
     "text": [
      "```json\n",
      "{\"详细解析\": {\"内容项\": {\"解析\": \"文章选题紧扣题目要求，对网络时代的利弊进行了深入探讨，立意明确，主题突出。内容详实，从网络带来的便利到网络依赖的负面影响，再到如何正确使用网络的思考，层次清晰，逻辑性强。符合题意，内容充实，思想健康。\", \"等级\": \"一等\", \"得分\": \"18分\"}, \"表达项\": {\"解析\": \"文章语言通顺，表达清晰，结构完整，逻辑连贯。但个别地方语句表达不够精炼，有小错误。\", \"等级\": \"二等\", \"得分\": \"15分\"}, \"发展等级\": {\"解析\": \"文章能够结合现实进行分析，有深度，有文采。提出“绿色上网”的倡议，体现了作者的创意和对社会的责任感。发展等级较高。\", \"等级\": \"一等\", \"得分\": \"18分\"}, \"扣分项和残篇评定\": {\"解析\": \"文章有个别错别字和标点符号错误，但不足扣分标准。字数达到要求，没有扣分情况。\", \"扣分\": \"0分\"}}, \"缺点和改进意见\": {\"缺点\": \"文章个别地方语句表达不够精炼，有小错误。部分观点阐述不够深入，例如在提到网络依赖性方面可以进一步详述其背后的心理原因和社会影响。\", \"改进意见\": \"建议作者进一步修改个别语句，提高表达的精炼性。同时可以在论述网络依赖性时进一步深入，使观点更加全面和深入。\"}, \"最终得分\": \"51分\"}\n",
      "```"
     ]
    }
   ],
   "source": [
    "# 看看优化后的效果\n",
    "\n",
    "result = comp.do(\n",
    "    prompt=crispe_prompt.render(**bad_target)[0],\n",
    "    stream=True)\n",
    "\n",
    "for s in result:\n",
    "    print(s['result'], end='')\n",
    "    "
   ]
  },
  {
   "cell_type": "code",
   "execution_count": 22,
   "metadata": {},
   "outputs": [],
   "source": [
    "# ERNIE-3.5 效果\n",
    "# ```json\n",
    "# {\"详细解析\": {\"内容项\": {\"解析\": \"文章围绕技术发展对人们时间观念的影响，特别是网络的双刃剑特性进行了讨论，与题目\n",
    "# 要求相符合，中心明确，内容充实，思想健康。但在部分论述中，如网络对时间掌控的具体影响、成为时间仆人的具体表现等方面略显薄弱。\", \n",
    "# \"等级\": \"二等\",\"得分\": \"14分\"}, \"表达项\": {\"解析\": \"文章结构完整，按照引入话题、分析利弊、提出建议的逻辑进行组织，\n",
    "# 条理清晰。语言表达通顺，但在文采方面略显平淡，缺少一些生动、形象的描绘和修辞手法的运用。\", \"等级\": \"二等\",\"得分\": \"\n",
    "# 13分\"}, \"发展等级\": {\"解析\": \"文章在论述网络对时间观念的影响时，有一定的深度和广度，能够结合正反两方面进行分析，\n",
    "# 但在创新性和文采方面仍有提升空间。\", \"等级\": \"二等\",\"得分\": \"12分\"}}, \"扣分项和残篇评定\": {\"解析\": \"文章未出现明\n",
    "# 显的错别字、标点符号错误或字数不足的问题，因此不扣分。\", \"扣分\": \"0分\"}, \"缺点和改进意见\": {\"缺点\": \"1. 部分论述内\n",
    "# 容略显单薄，缺乏具体例证支持。 2. 语言表达文采不足，缺乏吸引力。 3. 创新性不够突出，未能提供独特见解或新颖角度。\", \n",
    "# \"改进意见\": \"1. 在论述网络对时间掌控的影响和成为时间仆人的表现时，可以加入更多具体的生活案例或社会现象进行分析，\n",
    "# 使内容更丰富、有说服力。 2. 注重文采的提升，可以运用比喻、排比等修辞手法，使语言更生动、形象。3. 尝试从独特角度切入话题，\n",
    "# 提供新颖的观点或见解，以增加文章的创新性。\"}, \"最终得分\": \"39分\"}\n",
    "# ```"
   ]
  },
  {
   "cell_type": "markdown",
   "metadata": {},
   "source": [
    "优化后的prompt效果有一定提升，但是效果上与超大参数规模模型ERNIE-3.5/ERNIE-4.0存在差距。\n",
    "\n",
    "为了进一步提升模型的性能，可以对模型进行 SFT。"
   ]
  },
  {
   "cell_type": "markdown",
   "metadata": {},
   "source": [
    "# 2. 大模型微调优化\n"
   ]
  },
  {
   "cell_type": "markdown",
   "metadata": {},
   "source": [
    "## 2.1 数据准备\n",
    "\n",
    "众所周知，训练模型时需要提前准备好相关的数据集，而数据集的获取通常是一个耗时耗力的过程。这不仅对于数据的数量有要求，为了让大模型的输出质量更符合我们的预期，数据的文本质量也有一定要求。\n",
    "\n"
   ]
  },
  {
   "cell_type": "markdown",
   "metadata": {},
   "source": [
    "### 2.1.1 收集种子数据\n",
    "\n",
    "由于获取足够量的真实高考作文有一定难度，本教程将采用生成式思路，通过大模型，在原始的种子数据集上进行数据增强，以生成足够量的数据集并用于模型训练。\n",
    "\n",
    "我们通过网页爬虫手段，从互联网上获取到了近 10 年高考作文的种子数据集，总共 146 篇（提供了5个示例数据，见`data/essay-seed-sample.json`）\n",
    "\n",
    "用户可以使用千帆平台 Python SDK 来快速预览这些数据。`Dataset` 类提供了简易的数据透视能力，可以通过调用 `show_overview_info`方法来观察数据集的基本信息，如条数、重复率、占空比："
   ]
  },
  {
   "cell_type": "code",
   "execution_count": 4,
   "metadata": {
    "jupyter": {
     "outputs_hidden": true
    },
    "tags": []
   },
   "outputs": [
    {
     "name": "stderr",
     "output_type": "stream",
     "text": [
      "[INFO] [05-13 07:02:08] dataset.py:407 [t:139691935799104]: no data source was provided, construct\n",
      "[INFO] [05-13 07:02:08] dataset.py:275 [t:139691935799104]: construct a file data source from path: data/essay_seed_sample.json, with args: {}\n",
      "[INFO] [05-13 07:02:08] file.py:293 [t:139691935799104]: use format type FormatType.Json\n",
      "[INFO] [05-13 07:02:08] utils.py:417 [t:139691935799104]: need create cached arrow file for /mnt/cfs_bj/lijie/work/jupyter/essay/data/essay_seed_sample.json\n",
      "[INFO] [05-13 07:02:08] utils.py:462 [t:139691935799104]: start to write arrow table to /root/.qianfan_cache/dataset/mnt/cfs_bj/lijie/work/jupyter/essay/data/essay_seed_sample.arrow\n",
      "[INFO] [05-13 07:02:08] utils.py:478 [t:139691935799104]: writing succeeded\n",
      "[INFO] [05-13 07:02:08] utils.py:348 [t:139691935799104]: start to get memory_map from /root/.qianfan_cache/dataset/mnt/cfs_bj/lijie/work/jupyter/essay/data/essay_seed_sample.arrow\n",
      "[INFO] [05-13 07:02:08] utils.py:276 [t:139691935799104]: has got a memory-mapped table\n"
     ]
    },
    {
     "name": "stdout",
     "output_type": "stream",
     "text": [
      "entry count: 5\n",
      "\n",
      "                    prompt    response\n",
      "----------------  --------  ----------\n",
      "reputation_ratio         0           0\n",
      "null_ratio               0           0\n"
     ]
    }
   ],
   "source": [
    "from qianfan.dataset import Dataset\n",
    "\n",
    "# 为了演示流畅，抽取5条种子进行流程演示\n",
    "seed_dataset = Dataset.load(data_file=\"data/essay_seed_sample.json\")\n",
    "seed_dataset.show_overview_info()"
   ]
  },
  {
   "cell_type": "markdown",
   "metadata": {},
   "source": [
    "### 2.1.2 分析种子数据\n",
    "\n",
    "千帆 Python SDK 的 `DataInsgiht` 组件为开发者提供了开箱即用的简易数据统计能力，方便开发者能在一些关键指标上对数据集有更加直观的感受。\n",
    "\n",
    "目前千帆 Python SDK 中内置了四种分析指标，分别是：\n",
    "\n",
    "- 字数统计 `get_content_length_for_each_entry`：统计所有字符数量\n",
    "- 字符重复率统计 `get_character_repetition_ratio`： 采用 N-Gram 算法计算相邻窗口中重复出现的字所占所有字的占比\n",
    "- 特殊字符占比统计 `get_special_characters_ratio`： 统计特殊字符的占比，这些特殊字符包括标点符号，数字，空格，以及我们自己收集的特殊字符集，如 ゜ʼ≖ʼ¤ッツシ℃√！【】\n",
    "- 敏感词占比分析 `get_flagged_word_ratio`：计算色情词汇在文本中的占比\n",
    "\n",
    "其中 `敏感词占比分析` 需要用户自行准备可用的 SentencePiece 模型。\n",
    "\n",
    "用户可传入符合参数要求的自定义分析函数，来实现自定义的分析指标展示。默认使用的分析指标为字数统计、字符重复率统计、特殊字符占比统计\n",
    "\n",
    "接下来，我们在种子数据集的作文内容列上计算默认指标。"
   ]
  },
  {
   "cell_type": "code",
   "execution_count": 5,
   "metadata": {
    "jupyter": {
     "outputs_hidden": true
    },
    "tags": []
   },
   "outputs": [
    {
     "name": "stderr",
     "output_type": "stream",
     "text": [
      "/usr/local/lib/python3.10/dist-packages/tqdm/auto.py:21: TqdmWarning: IProgress not found. Please update jupyter and ipywidgets. See https://ipywidgets.readthedocs.io/en/stable/user_install.html\n",
      "  from .autonotebook import tqdm as notebook_tqdm\n",
      "[INFO] [05-13 07:02:16] utils.py:462 [t:139691935799104]: start to write arrow table to /root/.qianfan_cache/dataset/.mapper_cache/mnt/cfs_bj/lijie/work/jupyter/essay/data/essay_seed_sample_f1aa27e0-9feb-44dc-91f7-4a15c7448fd4.arrow\n",
      "[INFO] [05-13 07:02:16] utils.py:478 [t:139691935799104]: writing succeeded\n",
      "[INFO] [05-13 07:02:16] utils.py:348 [t:139691935799104]: start to get memory_map from /root/.qianfan_cache/dataset/.mapper_cache/mnt/cfs_bj/lijie/work/jupyter/essay/data/essay_seed_sample_f1aa27e0-9feb-44dc-91f7-4a15c7448fd4.arrow\n",
      "[INFO] [05-13 07:02:16] dataset.py:993 [t:139691935799104]: list local dataset data by 0\n"
     ]
    },
    {
     "data": {
      "text/plain": [
       "{'content_length': 874,\n",
       " 'character_repetition_ratio': 0.0,\n",
       " 'special_characters_ratio': 0.14759725400457666,\n",
       " 'response': '新时代新青年——谈在祖国发展中成长\\n节物风光不相待，沧海桑田须臾改。如今，我们青年已经走到了一个重要的历史坐标——“新时代”。新时代中，新青年们要摆出怎样的姿态?未来国家的中坚力量，此时无须挥斥方遒，也不必指点江山。在我看来，只须脚踏实地，心向远方。\\n放眼当下，令人遗憾和忧虑的是“佛系”与“丧文化”正在不知不觉中侵蚀着一些青年的心灵，使他们采取一种“什么都行，不大走心，看淡一切”的活法。其原因固然是多元的，但是“高不成低不就”的工作和沉溺于眼前苟且的低俗趣味无疑占极大比重。此时，他们应当有脚踏实地、心向远方的精神。\\n“苔花如米小，也学牡丹开。”技校生是一个受人轻视的群体，而小聂却能在世界技能大赛中展现出“大国工匠”的气概，怎能不使“群居而笑之”之徒黯然失色!职业从无贵贱之分，只要脚踏实地，在平凡岗位中也能够创造不平凡。\\n将个人素养与国家复兴“中国梦”相结合，应成为新时代青年的人生信条。在北大数学系被奉为“天才”的付云皓，注意到我国在数学基础教育方面的短板，放弃高端研究转而成为数学竞赛的老师，他与为“中国制造”而奋斗的工人们一样，都具有超越小我的眼光，心向远方，肩挑家国重任的他们，着实值得点赞。\\n伊斯兰教创始人穆罕默德曾言：“如果你有两块面包，你得拿出一块来换一朵水仙花。”作为新时代的青年，我们要学习雷海为，像他一样在平凡的世界中，不抛弃、不放弃对“诗和远方”的追求。他用中华优秀传统文化滋养精神家园，收获的是姹紫嫣红的美景。\\n雷海为自食其力，谁能说他不是脚踏实地呢?他以一己之力关照中华民族文化命运，目光如炬照亮文化自信之路。天地之大，近在胸中。在他身上，我们看到的是心向远方的灵魂。\\n“中国梦是过去的、当下的，也是未来的，它终将在青年们的奋斗中变为现实。”从小聂、雷海为这两位青年身上，我们看到了他们在自我成长与国家担当两方面的奋斗。脚踏实地，心向远方，这是我们新时代青年对时代的满分答卷，是响应时代号召的最好姿态。\\n新时代，是国家全面转型的时代，是每个人全面发展的时代。造次必于是，颠沛必于是。而我们青年，心向远方，砥砺前行。',\n",
       " 'prompt': '今天，众多2000年出生的同学走进高考考场。18年过去了，祖国在不断发展，大家也成长为青年。\\n请以“新时代新青年一一谈在祖国发展中成长”为题，写一篇议论文。\\n要求：观点明确，论据恰当充实，论证合理。'}"
      ]
     },
     "execution_count": 5,
     "metadata": {},
     "output_type": "execute_result"
    }
   ],
   "source": [
    "from qianfan.dataset.data_insight.insight import DatasetInsight\n",
    "\n",
    "insighter = DatasetInsight()\n",
    "insighted_ds = insighter.insight(seed_dataset, \"response\")\n",
    "\n",
    "insighted_ds.col_append(seed_dataset[\"prompt\"])\n",
    "insighted_ds[0]"
   ]
  },
  {
   "cell_type": "markdown",
   "metadata": {},
   "source": [
    "`Dataset` 还提供了 `show_processed_statistics` 方法来展示单条数据的计算指标的统计信息。\n",
    "\n",
    "`show_processed_statistics` 方法接受一个包含数值列的数据集，以及一个包含 `SummarizationMethod` 对象的 List。`SummarizationMethod` 对象包含了对数值列进行统计的信息。\n",
    "\n",
    "目前我们支持四种统计方法：\n",
    "- 均值 `MeanMethod`\n",
    "- 分位数 `QuantileMethod`\n",
    "- 最大值 `MaxMethod`\n",
    "- 最小值 `MinMethod`\n",
    "\n",
    "该方法默认统计：各数值列的均值、80% 和 90% 分位数、最大值以及最小值。\n",
    "\n",
    "我们使用该方法去统计得到的计算指标的统计值并展示"
   ]
  },
  {
   "cell_type": "code",
   "execution_count": 6,
   "metadata": {},
   "outputs": [
    {
     "name": "stderr",
     "output_type": "stream",
     "text": [
      "[INFO] [05-13 07:02:20] dataset.py:993 [t:139691935799104]: list local dataset data by 0\n"
     ]
    },
    {
     "name": "stdout",
     "output_type": "stream",
     "text": [
      "               content_length    character_repetition_ratio    special_characters_ratio\n",
      "-------------  ----------------  ----------------------------  --------------------------\n",
      "mean           962.6             0.0006335797254487857         0.1426759630204451\n",
      "min            867               0.0                           0.12226066897347174\n",
      "max            1129              0.0031678986272439284         0.1550044286979628\n",
      "80.0_quantile  1015.4            0.0006335797254487862         0.15401343804084777\n",
      "90.0_quantile  1072.2            0.0019007391763463573         0.1545089333694053\n"
     ]
    }
   ],
   "source": [
    "insighted_ds.show_processed_statistics()"
   ]
  },
  {
   "cell_type": "markdown",
   "metadata": {},
   "source": [
    "## 2.2 数据增强\n",
    "\n",
    "由于对于作文批改这个场景需要至少 1000 个标注样本，而上述我们所收集到的数据只有 146 条，且不包含打分数据。我们需要通过大模型生成的方式对训练数据进行数据增强。\n",
    "\n",
    "通过网页搜索获取全国2009年-2018年高考语文作文题目，10年共144个题目，随机抽取77个题目作为后续实验作文题目来源，见`data/examination_titles.json`。\n",
    "\n",
    "抽取的作文题目示例：\n",
    "\n",
    "`阅读下的材料，根据要求写一篇不少于800 字的文章。兔子是历届小动物运动会的短跑冠军，可是不会游泳。一次兔子被狼追到河边，差点被抓住。动物管理局为了小动物的全面发展，将小兔子送进游泳培训班，同班的还有小狗、小龟和小松鼠等。小狗、小龟学会游泳，又多了一种本领，心里很高兴：小兔子和小松鼠花了好长时间都没学会，很苦恼。培训班教练野鸭说：\"我两条腿都能游，你们四条腿还不能游？成功的90%来自汗水。加油！呷呷！\"评论家青蛙大发感慨：\"兔子擅长的是奔跑！为什么只是针对弱点训练而不发展特长呢？\"思想家仙鹤说：\"生存需要的本领不止一种呀！兔子学不了游泳就学打洞，松鼠学不了游泳就学爬树嘛。\"要求选准角度，明确立意，自选文体，自拟标题；不要脱离材料内容及含意的范围作文，不套作，不得抄袭。`\n",
    "\n",
    "数据增强包含两个方面，一是对作文数据进行增强，二是对打分数据进行增强。\n",
    "\n",
    "大模型生成数据的一般思路包括：\n",
    "\n",
    "1. 使用 Prompt 为大模型指定人设与指令，在这个场景下为高考考生编写高考作文。\n",
    "2. 传入完成任务所需的基本信息，如题目与期望生成的质量、评分标准等。\n",
    "3. 获取大模型的输出，并且根据需要进行一定程度的筛选与清洗。\n",
    "4. 重复上述步骤\n",
    "\n",
    "千帆 Python SDK 提供的 `Dataset` 模块除了包含了对数据集进行加载、处理等功能以外，还内置了根据数据集内容进行批量推理的功能。用户可以根据自己的需要对数据集进行批量推理，从而生成新的数据。\n",
    "\n",
    "并且批量推理能力还支持用户传入自定义的 Prompt 模板，从而实现在不修改数据集的前提下，灵活构造实际用于推理的输入数据。\n",
    "\n",
    "\n",
    "\n",
    "**作文生成大模型选择：** 为了防止生成的作文风格一样，所以我们没有采用由一个大模型生成作文的方式，而是采用了四种不同的大模型，这样生成的作文在风格上多样，也更符合实际场景。\n",
    "\n",
    "模型：ERNIE-4.0-8K、ERNIE-3.5-8K、ERNIE-Speed-8K、ChatGLM2-6B-32K\n",
    "\n",
    "**设置作文生成Prompt：** 现实生活中，高考语文作文有质量高的、质量普通的、质量很低的，还存在残篇，如果只采用一种prompt，则无法检验大模型批改能力的完整性，所以我们需要设置多种prompt，使生成的作文更加符合写作质量真实分布情况。根据真实作文的分布情况，我们设置四种prompt：生成质量高的、生成质量一般的、生成质量低的和生成残篇。"
   ]
  },
  {
   "cell_type": "code",
   "execution_count": 7,
   "metadata": {},
   "outputs": [
    {
     "name": "stdout",
     "output_type": "stream",
     "text": [
      "阅读下面的材料，根据要求写作。\n",
      "2000年 农历庚辰龙年，人类迈进新千年，中国千万“世纪宝宝”出生。\n",
      "2008年 汶川大地震。北京奥运会。\n",
      "2013年 “天宫一号”首次太空授课。\n",
      "公路“村村通”接近完成；“精准扶贫”开始推动。\n",
      "2017年 网民规模达7.72亿，互联网普及率超全球平均水平。\n",
      "2018年 “世纪宝宝”一代长大成人。\n",
      "……\n",
      "2020年 全面建成小康社会。\n",
      "2035年 基本实现社会主义现代化。\n",
      "一代人有一代人的际遇和机缘、使命和挑战。你们与新世纪的中国一路同行、成长，和中国的新时代一起追梦、圆梦。以上材料触发了你怎样的联想和思考？请据此写一篇文章，想象它装进“时光瓶”留待2035年开启，给那时18岁的一代人阅读。\n",
      "要求：选好角度，确定立意，明确文体，自拟标题，不要套作，不得抄袭，不得泄露个人信息；不少于800字。\n"
     ]
    }
   ],
   "source": [
    "# 作文题目\n",
    "import json\n",
    "examination_titles = json.load(open(\"data/examination_titles.json\", mode=\"r\", encoding=\"utf-8\"))\n",
    "print(examination_titles[0])"
   ]
  },
  {
   "cell_type": "code",
   "execution_count": 8,
   "metadata": {},
   "outputs": [
    {
     "data": {
      "text/plain": [
       "[{'title': '乡间有谚语，“丝瓜藤，肉豆须，分不清。”意思是丝瓜的藤蔓与肉豆的藤须一旦纠缠在一起，是很难分开的。\\n有个小孩想分辨两者的不同，结果把自家庭院里丝瓜肉豆的那些纠结错综的茎叶都扯断了。\\n父亲看了好笑，就说：“种它们是挑来吃的，不是用来分辨的呀!”你只要照顾他们长大，摘下瓜和豆来吃就好了”\\n要求：1、选准角度，确定立意;2、自拟题目;3、除诗歌外，文体不限;4、问题特征鲜明。'},\n",
       " {'title': '根据以下材料，自选角度，自拟题目，写一篇不少于800字的文章（不要写成诗歌）。\\n人的心中总有一些坚硬的东西，也有一些柔软的东西。如何对待它们，将关系到能否造就和谐的自我。'}]"
      ]
     },
     "execution_count": 8,
     "metadata": {},
     "output_type": "execute_result"
    }
   ],
   "source": [
    "import random\n",
    "from typing import Dict, List, Any\n",
    "\n",
    "\n",
    "# 使用这些作文题目来构造用于训练的数据集\n",
    "title_set: List[str] = []\n",
    "\n",
    "for title in examination_titles:\n",
    "    title_set.append(title)\n",
    "\n",
    "pure_title_set = Dataset.create_from_pyobj({\"title\": title_set}, input_columns=[\"title\"])\n",
    "\n",
    "# 但出于体验流程考虑，我们实际只随机取两个题目生成\n",
    "pure_title_set.sample(2)\n",
    "pure_title_set.list()"
   ]
  },
  {
   "cell_type": "markdown",
   "metadata": {},
   "source": [
    "然后，我们加载我们需要用于生成作文的 Prompt 模板。"
   ]
  },
  {
   "cell_type": "code",
   "execution_count": 9,
   "metadata": {},
   "outputs": [],
   "source": [
    "from qianfan.common import Prompt\n",
    "\n",
    "with open(\"prompt/essay_generating.prompt\", mode=\"r\") as f:\n",
    "    generating_prompt_template = f.read()"
   ]
  },
  {
   "cell_type": "code",
   "execution_count": 10,
   "metadata": {},
   "outputs": [
    {
     "name": "stderr",
     "output_type": "stream",
     "text": [
      "[INFO] [05-13 07:03:01] dataset_utils.py:436 [t:139691935799104]: prompt template detected, start to check template variables\n",
      "[INFO] [05-13 07:04:01] base.py:93 [t:139680729601600]: All tasks finished, exeutor will be shutdown\n",
      "[INFO] [05-13 07:04:01] utils.py:462 [t:139691935799104]: start to write arrow table to /root/.qianfan_cache/dataset/.mapper_cache/mnt/cfs_bj/lijie/work/jupyter/essay/no_source_b4ab8430-8998-4a2d-b9e3-f5ae3b56c57b_f3cebc3f-a2c1-44b6-8dbb-29c573cc68d3.arrow\n",
      "[INFO] [05-13 07:04:01] utils.py:478 [t:139691935799104]: writing succeeded\n",
      "[INFO] [05-13 07:04:01] utils.py:348 [t:139691935799104]: start to get memory_map from /root/.qianfan_cache/dataset/.mapper_cache/mnt/cfs_bj/lijie/work/jupyter/essay/no_source_b4ab8430-8998-4a2d-b9e3-f5ae3b56c57b_f3cebc3f-a2c1-44b6-8dbb-29c573cc68d3.arrow\n",
      "[INFO] [05-13 07:04:01] dataset_utils.py:436 [t:139691935799104]: prompt template detected, start to check template variables\n",
      "[INFO] [05-13 07:04:48] base.py:93 [t:139680761071168]: All tasks finished, exeutor will be shutdown\n",
      "[INFO] [05-13 07:04:48] utils.py:462 [t:139691935799104]: start to write arrow table to /root/.qianfan_cache/dataset/.mapper_cache/mnt/cfs_bj/lijie/work/jupyter/essay/no_source_5f180e13-54b4-4680-abcd-2e55675b1539_42f7ba35-bdee-4091-9ffa-9e92688b64f2.arrow\n",
      "[INFO] [05-13 07:04:48] utils.py:478 [t:139691935799104]: writing succeeded\n",
      "[INFO] [05-13 07:04:48] utils.py:348 [t:139691935799104]: start to get memory_map from /root/.qianfan_cache/dataset/.mapper_cache/mnt/cfs_bj/lijie/work/jupyter/essay/no_source_5f180e13-54b4-4680-abcd-2e55675b1539_42f7ba35-bdee-4091-9ffa-9e92688b64f2.arrow\n",
      "[INFO] [05-13 07:04:48] dataset_utils.py:436 [t:139691935799104]: prompt template detected, start to check template variables\n",
      "[INFO] [05-13 07:04:58] base.py:93 [t:139680729601600]: All tasks finished, exeutor will be shutdown\n",
      "[INFO] [05-13 07:04:58] utils.py:462 [t:139691935799104]: start to write arrow table to /root/.qianfan_cache/dataset/.mapper_cache/mnt/cfs_bj/lijie/work/jupyter/essay/no_source_230f3a4f-a283-40e8-9736-a0bfa644514e_5b11ec5e-2af8-49f0-bec3-92df3d894040.arrow\n",
      "[INFO] [05-13 07:04:58] utils.py:478 [t:139691935799104]: writing succeeded\n",
      "[INFO] [05-13 07:04:58] utils.py:348 [t:139691935799104]: start to get memory_map from /root/.qianfan_cache/dataset/.mapper_cache/mnt/cfs_bj/lijie/work/jupyter/essay/no_source_230f3a4f-a283-40e8-9736-a0bfa644514e_5b11ec5e-2af8-49f0-bec3-92df3d894040.arrow\n",
      "[INFO] [05-13 07:04:58] dataset_utils.py:436 [t:139691935799104]: prompt template detected, start to check template variables\n",
      "[WARNING] [05-13 07:04:58] base.py:633 [t:139680761071168]: This key `system` does not seem to be a parameter that the model `ChatGLM2-6B-32K` will accept\n",
      "[WARNING] [05-13 07:04:58] base.py:633 [t:139680750581312]: This key `system` does not seem to be a parameter that the model `ChatGLM2-6B-32K` will accept\n",
      "[INFO] [05-13 07:05:05] base.py:93 [t:139680750581312]: All tasks finished, exeutor will be shutdown\n",
      "[INFO] [05-13 07:05:05] utils.py:462 [t:139691935799104]: start to write arrow table to /root/.qianfan_cache/dataset/.mapper_cache/mnt/cfs_bj/lijie/work/jupyter/essay/no_source_50f21290-6782-4ebf-bbb0-72892a32414a_5524d13c-5ad3-4f83-b03a-3038230e3d8a.arrow\n",
      "[INFO] [05-13 07:05:05] utils.py:478 [t:139691935799104]: writing succeeded\n",
      "[INFO] [05-13 07:05:05] utils.py:348 [t:139691935799104]: start to get memory_map from /root/.qianfan_cache/dataset/.mapper_cache/mnt/cfs_bj/lijie/work/jupyter/essay/no_source_50f21290-6782-4ebf-bbb0-72892a32414a_5524d13c-5ad3-4f83-b03a-3038230e3d8a.arrow\n",
      "[INFO] [05-13 07:05:05] dataset_utils.py:436 [t:139691935799104]: prompt template detected, start to check template variables\n",
      "[INFO] [05-13 07:05:56] base.py:93 [t:139680771561024]: All tasks finished, exeutor will be shutdown\n",
      "[INFO] [05-13 07:05:56] utils.py:462 [t:139691935799104]: start to write arrow table to /root/.qianfan_cache/dataset/.mapper_cache/mnt/cfs_bj/lijie/work/jupyter/essay/no_source_41198c3d-da34-4418-b0ea-35fd3739609d_af0098cb-6eb0-4b95-846b-b21e6146ab51.arrow\n",
      "[INFO] [05-13 07:05:56] utils.py:478 [t:139691935799104]: writing succeeded\n",
      "[INFO] [05-13 07:05:56] utils.py:348 [t:139691935799104]: start to get memory_map from /root/.qianfan_cache/dataset/.mapper_cache/mnt/cfs_bj/lijie/work/jupyter/essay/no_source_41198c3d-da34-4418-b0ea-35fd3739609d_af0098cb-6eb0-4b95-846b-b21e6146ab51.arrow\n",
      "[INFO] [05-13 07:05:56] dataset_utils.py:436 [t:139691935799104]: prompt template detected, start to check template variables\n",
      "[INFO] [05-13 07:07:03] base.py:93 [t:139680750581312]: All tasks finished, exeutor will be shutdown\n",
      "[INFO] [05-13 07:07:03] utils.py:462 [t:139691935799104]: start to write arrow table to /root/.qianfan_cache/dataset/.mapper_cache/mnt/cfs_bj/lijie/work/jupyter/essay/no_source_e90a802e-04eb-4d71-b186-7a5c50b549b8_2e5c5ce8-6a94-4d01-8dd8-4b02bd3f057e.arrow\n",
      "[INFO] [05-13 07:07:03] utils.py:478 [t:139691935799104]: writing succeeded\n",
      "[INFO] [05-13 07:07:03] utils.py:348 [t:139691935799104]: start to get memory_map from /root/.qianfan_cache/dataset/.mapper_cache/mnt/cfs_bj/lijie/work/jupyter/essay/no_source_e90a802e-04eb-4d71-b186-7a5c50b549b8_2e5c5ce8-6a94-4d01-8dd8-4b02bd3f057e.arrow\n",
      "[INFO] [05-13 07:07:03] dataset_utils.py:436 [t:139691935799104]: prompt template detected, start to check template variables\n",
      "[INFO] [05-13 07:07:13] base.py:93 [t:139680729601600]: All tasks finished, exeutor will be shutdown\n",
      "[INFO] [05-13 07:07:13] utils.py:462 [t:139691935799104]: start to write arrow table to /root/.qianfan_cache/dataset/.mapper_cache/mnt/cfs_bj/lijie/work/jupyter/essay/no_source_4bcdc96f-366a-458a-b7ac-773e7cfce5c1_e186fd65-11c8-44ee-b1c1-75e0e735ea6d.arrow\n",
      "[INFO] [05-13 07:07:13] utils.py:478 [t:139691935799104]: writing succeeded\n",
      "[INFO] [05-13 07:07:13] utils.py:348 [t:139691935799104]: start to get memory_map from /root/.qianfan_cache/dataset/.mapper_cache/mnt/cfs_bj/lijie/work/jupyter/essay/no_source_4bcdc96f-366a-458a-b7ac-773e7cfce5c1_e186fd65-11c8-44ee-b1c1-75e0e735ea6d.arrow\n",
      "[INFO] [05-13 07:07:13] dataset_utils.py:436 [t:139691935799104]: prompt template detected, start to check template variables\n",
      "[WARNING] [05-13 07:07:13] base.py:633 [t:139680750581312]: This key `system` does not seem to be a parameter that the model `ChatGLM2-6B-32K` will accept\n",
      "[WARNING] [05-13 07:07:13] base.py:633 [t:139680761071168]: This key `system` does not seem to be a parameter that the model `ChatGLM2-6B-32K` will accept\n",
      "[INFO] [05-13 07:07:20] base.py:93 [t:139680750581312]: All tasks finished, exeutor will be shutdown\n",
      "[INFO] [05-13 07:07:20] utils.py:462 [t:139691935799104]: start to write arrow table to /root/.qianfan_cache/dataset/.mapper_cache/mnt/cfs_bj/lijie/work/jupyter/essay/no_source_44c4b446-a816-4dd3-a5c5-564f536a37bd_638dc71f-cceb-41f4-ad12-74d9dc468245.arrow\n",
      "[INFO] [05-13 07:07:20] utils.py:478 [t:139691935799104]: writing succeeded\n",
      "[INFO] [05-13 07:07:20] utils.py:348 [t:139691935799104]: start to get memory_map from /root/.qianfan_cache/dataset/.mapper_cache/mnt/cfs_bj/lijie/work/jupyter/essay/no_source_44c4b446-a816-4dd3-a5c5-564f536a37bd_638dc71f-cceb-41f4-ad12-74d9dc468245.arrow\n",
      "[INFO] [05-13 07:07:20] dataset_utils.py:436 [t:139691935799104]: prompt template detected, start to check template variables\n",
      "[INFO] [05-13 07:08:05] base.py:93 [t:139680740091456]: All tasks finished, exeutor will be shutdown\n",
      "[INFO] [05-13 07:08:05] utils.py:462 [t:139691935799104]: start to write arrow table to /root/.qianfan_cache/dataset/.mapper_cache/mnt/cfs_bj/lijie/work/jupyter/essay/no_source_9eb1919f-2656-4368-a7de-c487766dde67_665cf8fc-bf6f-4c08-9005-c346573f0bba.arrow\n",
      "[INFO] [05-13 07:08:05] utils.py:478 [t:139691935799104]: writing succeeded\n",
      "[INFO] [05-13 07:08:05] utils.py:348 [t:139691935799104]: start to get memory_map from /root/.qianfan_cache/dataset/.mapper_cache/mnt/cfs_bj/lijie/work/jupyter/essay/no_source_9eb1919f-2656-4368-a7de-c487766dde67_665cf8fc-bf6f-4c08-9005-c346573f0bba.arrow\n",
      "[INFO] [05-13 07:08:05] dataset_utils.py:436 [t:139691935799104]: prompt template detected, start to check template variables\n",
      "[INFO] [05-13 07:08:54] base.py:93 [t:139680750581312]: All tasks finished, exeutor will be shutdown\n",
      "[INFO] [05-13 07:08:54] utils.py:462 [t:139691935799104]: start to write arrow table to /root/.qianfan_cache/dataset/.mapper_cache/mnt/cfs_bj/lijie/work/jupyter/essay/no_source_ad492f05-c04a-40cd-8d23-bd95d0a652c1_11a38d71-8434-4154-b4b8-9cfa69a69197.arrow\n"
     ]
    },
    {
     "name": "stderr",
     "output_type": "stream",
     "text": [
      "[INFO] [05-13 07:08:54] utils.py:478 [t:139691935799104]: writing succeeded\n",
      "[INFO] [05-13 07:08:54] utils.py:348 [t:139691935799104]: start to get memory_map from /root/.qianfan_cache/dataset/.mapper_cache/mnt/cfs_bj/lijie/work/jupyter/essay/no_source_ad492f05-c04a-40cd-8d23-bd95d0a652c1_11a38d71-8434-4154-b4b8-9cfa69a69197.arrow\n",
      "[INFO] [05-13 07:08:54] dataset_utils.py:436 [t:139691935799104]: prompt template detected, start to check template variables\n",
      "[INFO] [05-13 07:09:08] base.py:93 [t:139680729601600]: All tasks finished, exeutor will be shutdown\n",
      "[INFO] [05-13 07:09:08] utils.py:462 [t:139691935799104]: start to write arrow table to /root/.qianfan_cache/dataset/.mapper_cache/mnt/cfs_bj/lijie/work/jupyter/essay/no_source_5f504f73-5aa0-41db-8d20-3271a959c93a_7457997b-6802-4892-bebb-d51262c2f7fb.arrow\n",
      "[INFO] [05-13 07:09:08] utils.py:478 [t:139691935799104]: writing succeeded\n",
      "[INFO] [05-13 07:09:08] utils.py:348 [t:139691935799104]: start to get memory_map from /root/.qianfan_cache/dataset/.mapper_cache/mnt/cfs_bj/lijie/work/jupyter/essay/no_source_5f504f73-5aa0-41db-8d20-3271a959c93a_7457997b-6802-4892-bebb-d51262c2f7fb.arrow\n",
      "[INFO] [05-13 07:09:08] dataset_utils.py:436 [t:139691935799104]: prompt template detected, start to check template variables\n",
      "[WARNING] [05-13 07:09:08] base.py:633 [t:139680761071168]: This key `system` does not seem to be a parameter that the model `ChatGLM2-6B-32K` will accept\n",
      "[WARNING] [05-13 07:09:08] base.py:633 [t:139680750581312]: This key `system` does not seem to be a parameter that the model `ChatGLM2-6B-32K` will accept\n",
      "[INFO] [05-13 07:09:13] base.py:93 [t:139680761071168]: All tasks finished, exeutor will be shutdown\n",
      "[INFO] [05-13 07:09:13] utils.py:462 [t:139691935799104]: start to write arrow table to /root/.qianfan_cache/dataset/.mapper_cache/mnt/cfs_bj/lijie/work/jupyter/essay/no_source_ba059135-6ac9-4deb-ab7e-36f84d929f69_ffd51868-0d0a-4fd0-aa97-71bc88e1e563.arrow\n",
      "[INFO] [05-13 07:09:13] utils.py:478 [t:139691935799104]: writing succeeded\n",
      "[INFO] [05-13 07:09:13] utils.py:348 [t:139691935799104]: start to get memory_map from /root/.qianfan_cache/dataset/.mapper_cache/mnt/cfs_bj/lijie/work/jupyter/essay/no_source_ba059135-6ac9-4deb-ab7e-36f84d929f69_ffd51868-0d0a-4fd0-aa97-71bc88e1e563.arrow\n",
      "[INFO] [05-13 07:09:13] dataset_utils.py:436 [t:139691935799104]: prompt template detected, start to check template variables\n",
      "[INFO] [05-13 07:09:52] base.py:93 [t:139680740091456]: All tasks finished, exeutor will be shutdown\n",
      "[INFO] [05-13 07:09:52] utils.py:462 [t:139691935799104]: start to write arrow table to /root/.qianfan_cache/dataset/.mapper_cache/mnt/cfs_bj/lijie/work/jupyter/essay/no_source_ef22086d-c88a-491f-a955-dfc60858d43e_8872179c-80c5-4e08-8b90-36061f1b9496.arrow\n",
      "[INFO] [05-13 07:09:52] utils.py:478 [t:139691935799104]: writing succeeded\n",
      "[INFO] [05-13 07:09:52] utils.py:348 [t:139691935799104]: start to get memory_map from /root/.qianfan_cache/dataset/.mapper_cache/mnt/cfs_bj/lijie/work/jupyter/essay/no_source_ef22086d-c88a-491f-a955-dfc60858d43e_8872179c-80c5-4e08-8b90-36061f1b9496.arrow\n",
      "[INFO] [05-13 07:09:52] dataset_utils.py:436 [t:139691935799104]: prompt template detected, start to check template variables\n",
      "[INFO] [05-13 07:10:25] base.py:93 [t:139680750581312]: All tasks finished, exeutor will be shutdown\n",
      "[INFO] [05-13 07:10:25] utils.py:462 [t:139691935799104]: start to write arrow table to /root/.qianfan_cache/dataset/.mapper_cache/mnt/cfs_bj/lijie/work/jupyter/essay/no_source_82a38952-e9eb-4ba4-96db-90d4928801a0_cd9d027e-c05e-42ee-b877-ed8778c6d7d3.arrow\n",
      "[INFO] [05-13 07:10:25] utils.py:478 [t:139691935799104]: writing succeeded\n",
      "[INFO] [05-13 07:10:25] utils.py:348 [t:139691935799104]: start to get memory_map from /root/.qianfan_cache/dataset/.mapper_cache/mnt/cfs_bj/lijie/work/jupyter/essay/no_source_82a38952-e9eb-4ba4-96db-90d4928801a0_cd9d027e-c05e-42ee-b877-ed8778c6d7d3.arrow\n",
      "[INFO] [05-13 07:10:25] dataset_utils.py:436 [t:139691935799104]: prompt template detected, start to check template variables\n",
      "[INFO] [05-13 07:10:32] base.py:93 [t:139680729601600]: All tasks finished, exeutor will be shutdown\n",
      "[INFO] [05-13 07:10:32] utils.py:462 [t:139691935799104]: start to write arrow table to /root/.qianfan_cache/dataset/.mapper_cache/mnt/cfs_bj/lijie/work/jupyter/essay/no_source_ec70126a-a4a9-432e-ad72-ea3d0b4e2f26_de66b66d-b6c1-4502-aeae-20644df78d37.arrow\n",
      "[INFO] [05-13 07:10:32] utils.py:478 [t:139691935799104]: writing succeeded\n",
      "[INFO] [05-13 07:10:32] utils.py:348 [t:139691935799104]: start to get memory_map from /root/.qianfan_cache/dataset/.mapper_cache/mnt/cfs_bj/lijie/work/jupyter/essay/no_source_ec70126a-a4a9-432e-ad72-ea3d0b4e2f26_de66b66d-b6c1-4502-aeae-20644df78d37.arrow\n",
      "[INFO] [05-13 07:10:32] dataset_utils.py:436 [t:139691935799104]: prompt template detected, start to check template variables\n",
      "[WARNING] [05-13 07:10:32] base.py:633 [t:139680761071168]: This key `system` does not seem to be a parameter that the model `ChatGLM2-6B-32K` will accept\n",
      "[WARNING] [05-13 07:10:32] base.py:633 [t:139680750581312]: This key `system` does not seem to be a parameter that the model `ChatGLM2-6B-32K` will accept\n",
      "[INFO] [05-13 07:10:38] base.py:93 [t:139680750581312]: All tasks finished, exeutor will be shutdown\n",
      "[INFO] [05-13 07:10:38] utils.py:462 [t:139691935799104]: start to write arrow table to /root/.qianfan_cache/dataset/.mapper_cache/mnt/cfs_bj/lijie/work/jupyter/essay/no_source_044c462c-e46a-4667-adf8-d25edaa7efdb_a13ab8bf-1b7e-4017-9493-ec1594d7c6f7.arrow\n",
      "[INFO] [05-13 07:10:38] utils.py:478 [t:139691935799104]: writing succeeded\n",
      "[INFO] [05-13 07:10:38] utils.py:348 [t:139691935799104]: start to get memory_map from /root/.qianfan_cache/dataset/.mapper_cache/mnt/cfs_bj/lijie/work/jupyter/essay/no_source_044c462c-e46a-4667-adf8-d25edaa7efdb_a13ab8bf-1b7e-4017-9493-ec1594d7c6f7.arrow\n"
     ]
    }
   ],
   "source": [
    "# 使用四个模型针对题目按照四种prompt分别生成对应的作文\n",
    "from essay_data_aug import (\n",
    "    generate_essay_dataset,\n",
    "    task_unit_list,\n",
    ")\n",
    "model_names = [\"ERNIE-4.0-8K\", \"ERNIE-3.5-8K\", \"ERNIE-Speed-8K\", \"ChatGLM2-6B-32K\"]\n",
    "\n",
    "content_dataset_list = []\n",
    "\n",
    "for task in task_unit_list:\n",
    "    init_flag = 0\n",
    "    for model_name in model_names:\n",
    "        if init_flag == 0:\n",
    "            content_dataset = generate_essay_dataset(task, pure_title_set, service_model_name=model_name)\n",
    "            init_flag = 1\n",
    "        else:\n",
    "            content_dataset.concat_table(generate_essay_dataset(task, pure_title_set, service_model_name=model_name))\n",
    "    content_dataset_list.append(content_dataset)"
   ]
  },
  {
   "cell_type": "code",
   "execution_count": 11,
   "metadata": {},
   "outputs": [
    {
     "data": {
      "text/plain": [
       "[{'title': '乡间有谚语，“丝瓜藤，肉豆须，分不清。”意思是丝瓜的藤蔓与肉豆的藤须一旦纠缠在一起，是很难分开的。\\n有个小孩想分辨两者的不同，结果把自家庭院里丝瓜肉豆的那些纠结错综的茎叶都扯断了。\\n父亲看了好笑，就说：“种它们是挑来吃的，不是用来分辨的呀!”你只要照顾他们长大，摘下瓜和豆来吃就好了”\\n要求：1、选准角度，确定立意;2、自拟题目;3、除诗歌外，文体不限;4、问题特征鲜明。',\n",
       "  'essay': '题目：藤蔓纠缠中的生活智慧\\n\\n丝瓜藤，肉豆须，在乡间的谚语中，其纠结错综的形象，似乎寓含了生活的某种真谛。一小孩试图分辨这两者的差异，却最终扯断了它们的茎叶。然而，父亲笑着说：“种它们是挑来吃的，不是用来分辨的呀！你只要照顾他们长大，摘下瓜和豆来吃就好了。”\\n\\n这一场景让我深思：我们是否也常常陷入类似的困境，过于专注于细微的差异，而忽略了最终的目标？生活，不正是如此吗？我们在复杂纷繁的世界中摸索，试图理清每一根藤蔓，却往往忘记了最初的目的。\\n\\n其实，生活并不需要我们过分纠结于每一个细节。如同父亲所说，重要的不是分辨藤蔓，而是照料它们，享受最终的果实。这种“有所为，有所不为”的智慧，正是我们在面对生活复杂性时应有的态度。我们可以尽力去做好自己的本职工作，去种植、去浇灌，然后，静待花开，瓜熟蒂落。\\n\\n在这个过程中，我们也许会遇到各种困扰和难题，如同那小孩面对的丝瓜藤与肉豆须的纠结。但请记住，这些困扰并不应成为我们前进的绊脚石。相反，它们是我们成长的磨砺，是我们智慧的试金石。我们可以从中学到东西，然后放下，继续前行。\\n\\n有人说，生活就是一场旅行，不在乎目的地，只在乎沿途的风景。我想说，生活也是一片藤蔓纠缠的丛林，我们不必过于在意每一根藤蔓的走向，只要我们有明确的目标，有坚定的步伐，有欣赏沿途风景的心态，那么，无论何种困境，都将成为我们前行的助力。\\n\\n丝瓜藤与肉豆须的纠结，仿佛是生活的缩影。在这个看似复杂的世界里，我们每个人都是那个小孩，试图理清生活的每一根藤蔓。然而，真正的智慧，或许就在于父亲的那句话中：不必过于分辨，只要照顾它们长大，享受果实就好。这，便是生活的真谛。\\n\\n因此，让我们放下过多的纠结和执着，以一颗简单而坚定的心去面对生活的每一个挑战。记住，我们的目标不是去分辨每一根藤蔓，而是去种植、去浇灌、去收获。这样，我们的生活将充满更多的阳光与喜悦，我们将成为真正的生活智者。'},\n",
       " {'title': '根据以下材料，自选角度，自拟题目，写一篇不少于800字的文章（不要写成诗歌）。\\n人的心中总有一些坚硬的东西，也有一些柔软的东西。如何对待它们，将关系到能否造就和谐的自我。',\n",
       "  'essay': '**造就和谐的自我**\\n\\n人的心中总有一些坚硬的东西，也有一些柔软的东西，如何对待它们，将关系到能否造就和谐的自我。这仿佛是一道摆在我们每个人面前的难题，需要我们用心去思考，用行动去解答。\\n\\n坚硬，代表着我们的理性、原则与坚持。它如同山岳，屹立不倒，支撑着我们的人格与信仰。正因为有了这份坚硬，我们才能在纷繁复杂的世界中保持清醒的头脑，坚持正确的道路，不为各种诱惑所动摇。古人云：“志士仁人无求生以害仁，有杀身以成仁。”这其中的“仁”，便是一种坚硬的精神内核，它让志士仁人在生死关头仍能坚守道义，宁死不屈。\\n\\n然而，人非草木，孰能无情？我们每个人的内心深处，也总有一些柔软的东西。柔软，代表着我们的情感、同情与包容。它如同流水，温润细腻，滋养着我们的灵魂与心田。正因为有了这份柔软，我们才能体会到人间的温情与美好，才能在冷漠与隔阂中寻找到沟通与理解的桥梁。正如《三字经》所言：“人之初，性本善。”这其中的“善”，便是一种柔软的情感表达，它让我们在成长的道路上不忘初心，保持一颗纯净善良的心。\\n\\n那么，如何对待心中的坚硬与柔软，才能造就和谐的自我呢？我认为，关键在于把握好两者之间的平衡。我们既要有坚硬的理性与原则，来指引我们前行的方向；又要有柔软的情感与同情，来丰富我们的内心世界。这两者并非水火不容，而是相辅相成、相得益彰的。\\n\\n在实际生活中，我们可以尝试将坚硬与柔软相结合。在面对困难与挑战时，我们要用坚硬的态度去迎接，勇往直前，不屈不挠；而在与他人相处时，我们则要用柔软的心态去对待，多一份理解与包容，少一份苛责与抱怨。这样，我们才能在坚硬与柔软之间找到最佳的平衡点，造就一个和谐而完整的自我。\\n\\n此外，我们还应该学会在适当的时候调整自己的坚硬与柔软。有时候，我们可能过于坚硬，以至于忽略了他人的感受与需求；而有时候，我们又可能过于柔软，以至于失去了自己的立场与底线。因此，我们需要不断地反思与自省，根据实际情况来调整自己的态度与行为。\\n\\n总之，人的心中既有坚硬的一面，也有柔软的一面。只有正确对待它们，把握好两者之间的平衡与调整，我们才能造就一个和谐而完整的自我。这个过程或许充满挑战与困难，但只要我们坚持不懈、勇往直前，最终定能收获内心的宁静与社会的和谐。'},\n",
       " {'title': '乡间有谚语，“丝瓜藤，肉豆须，分不清。”意思是丝瓜的藤蔓与肉豆的藤须一旦纠缠在一起，是很难分开的。\\n有个小孩想分辨两者的不同，结果把自家庭院里丝瓜肉豆的那些纠结错综的茎叶都扯断了。\\n父亲看了好笑，就说：“种它们是挑来吃的，不是用来分辨的呀!”你只要照顾他们长大，摘下瓜和豆来吃就好了”\\n要求：1、选准角度，确定立意;2、自拟题目;3、除诗歌外，文体不限;4、问题特征鲜明。',\n",
       "  'essay': '**丝瓜与肉豆，人生何须辨**\\n\\n乡间有谚语：“丝瓜藤，肉豆须，分不清。”这谚语看似在描述丝瓜藤蔓与肉豆藤须纠缠不清的复杂状况，实则透露出一种生活哲理：人生有些事情，何须太过计较？\\n\\n小孩想要分辨丝瓜和肉豆的不同，这本身无可非议，但当他将庭院里原本错综复杂的茎叶都扯断时，却显得过于执着。父亲的一句“种它们是挑来吃的，不是用来分辨的呀！”简单而深刻，既指出了小孩行为的无谓，也道出了生活的真谛。\\n\\n人生就像这庭院中的丝瓜和肉豆，总会有许多看似复杂、难以分辨的事情。我们或许可以像小孩一样，努力地去分辨、去探求，但很多时候，这种分辨不仅无助于我们的成长，反而会使我们陷入无尽的困惑和烦恼之中。\\n\\n与其如此，不如放下这种无谓的分辨，像父亲说的那样，专注于那些真正重要的事情。就像丝瓜和肉豆一样，它们的存在不是为了让我们去分辨它们的不同，而是为了让我们享受它们带来的美好和满足。\\n\\n生活中，我们总是习惯于给事物贴上标签，将它们分为三六九等，却忽略了事物本身的多样性和复杂性。这种标签化的思维方式，不仅限制了我们的视野，也束缚了我们的心灵。\\n\\n因此，我们需要学会以一种更加开放、包容的心态去面对生活中的种种复杂和不确定。不要过于执着于分辨事物的不同，而是要学会欣赏它们的独特和美好。\\n\\n当然，这并不是说我们要放弃对事物的认知和理解。相反，我们应该在保持开放心态的同时，不断地去探索、去学习，以丰富我们的知识和见识。\\n\\n丝瓜与肉豆，虽然难以分辨，但它们却各自有着独特的生长方式和美丽形态。同样，人生中的种种事物，也都有着它们独特的价值和意义。我们无需过于计较它们的不同，只需用心去感受、去体验，就能发现其中的美好和精彩。\\n\\n所以，让我们放下那些无谓的分辨和执着，以一种更加轻松、自在的心态去面对生活中的种种挑战和机遇。相信在这样的心态下，我们一定能够活出更加精彩、更加充实的人生。'},\n",
       " {'title': '根据以下材料，自选角度，自拟题目，写一篇不少于800字的文章（不要写成诗歌）。\\n人的心中总有一些坚硬的东西，也有一些柔软的东西。如何对待它们，将关系到能否造就和谐的自我。',\n",
       "  'essay': '题目：坚硬与柔软的和谐之舞\\n\\n人生如一场盛大的舞会，我们既是舞者，又是编导。在这场舞会中，我们的内心总有一些坚硬的东西，如同钻石般璀璨坚硬，它们是我们坚守的原则，是我们对世界的认知，是我们的理想追求；同时，我们的内心也有一些柔软的东西，如同丝绸般柔软细腻，它们是我们的情感，是我们的同情，是我们的包容与接纳。如何对待这些坚硬与柔软，将决定我们能否跳出和谐的舞步，编织出精彩的人生篇章。\\n\\n坚硬，是我们心中的坚守，是我们对生活的执着。它赋予我们力量，让我们在困难面前不屈不挠，勇往直前。然而，坚硬并非意味着顽固不化，而是要在坚守中学会变通，在执着中保持开放。正如古人云：“刚柔并济，方为上策。”只有坚硬的品质与柔软的情怀并存，我们才能在人生的道路上稳步前行，不失本心。\\n\\n柔软，则是我们心中的温情，是我们对生活的热爱。它让我们懂得关怀与理解，让我们在与人交往中更加和谐融洽。然而，柔软并非意味着软弱无能，而是要在包容中保持原则，在理解中坚守底线。柔软的力量，在于它能够化解矛盾，促进和谐，让我们在人生的舞台上更加自如地舞动。\\n\\n和谐，是我们追求的目标，是我们内心的期待。它需要我们在坚硬与柔软之间找到平衡，让它们在心中相互交融，共同构筑出我们精彩的人生。和谐不是简单的折中，而是要在尊重差异的基础上，实现共存共荣。正如大自然中的万物，既有坚硬的岩石，也有柔软的土壤，它们相互依存，共同构成了美丽的地球家园。\\n\\n在这个纷繁复杂的世界里，我们需要学会在坚硬与柔软之间舞动。我们要用坚硬的品质去迎接挑战，用柔软的情怀去拥抱生活。我们要在坚守中学会变通，在包容中保持原则。只有这样，我们才能在人生的舞台上跳出和谐的舞步，编织出精彩的人生篇章。\\n\\n坚硬与柔软并非对立的存在，而是相辅相成的。它们如同阴阳两极，相互依存，共同构成了我们丰富多彩的内心世界。让我们在坚硬与柔软之间舞动，用和谐的舞步去迎接人生的每一个挑战与机遇。让我们在坚守与变通中，不断追求更高的境界，书写出属于我们自己的精彩人生。\\n\\n在这场盛大的舞会中，让我们用心去感受坚硬与柔软的力量，用智慧去把握它们的平衡。让我们在坚硬与柔软的和谐之舞中，跳出属于自己的人生旋律，展现出我们的独特魅力。这样的人生，才是我们真正向往的，也是我们为之奋斗的目标。'},\n",
       " {'title': '乡间有谚语，“丝瓜藤，肉豆须，分不清。”意思是丝瓜的藤蔓与肉豆的藤须一旦纠缠在一起，是很难分开的。\\n有个小孩想分辨两者的不同，结果把自家庭院里丝瓜肉豆的那些纠结错综的茎叶都扯断了。\\n父亲看了好笑，就说：“种它们是挑来吃的，不是用来分辨的呀!”你只要照顾他们长大，摘下瓜和豆来吃就好了”\\n要求：1、选准角度，确定立意;2、自拟题目;3、除诗歌外，文体不限;4、问题特征鲜明。',\n",
       "  'essay': '题目：丝瓜藤与肉豆须——纠结与分清的思考\\n\\n在这广大的天地间，乡间谚语有如古老的智慧之河，流淌着人们对于生活的理解和洞察。“丝瓜藤，肉豆须，分不清。”这句话看似平淡无奇，却蕴含着人们对于生活中纠结错综事物的深刻体验。就如同丝瓜藤与肉豆须的纠缠，人生也充满了种种纷繁复杂的纠葛和挑战。然而，父亲的话如同智慧的明灯照亮了我对于这一问题的理解：“种它们是挑来吃的，不是用来分辨的呀！”意指我们应以实用主义的态度看待事物，重视结果而非过分纠结于过程。\\n\\n在这看似简单的故事中，我领悟到了许多关于人生哲学的深刻内涵。丝瓜藤与肉豆须的纠葛，象征着生活中的种种困扰和挑战。当我们面对这些困扰时，是否应该像那个小孩一样过于执着于纠结呢？父亲的话语提醒了我，我们的目标应该是收获瓜和豆，而不是纠结于如何分辨他们的藤蔓。也就是说，我们应该关注结果和价值，以实用主义的态度看待生活。在实用主义哲学的引导下，我们能够更好地处理生活中的纠结和困境。这并不意味着我们忽视过程，而是强调我们在面对生活的复杂性时应该更加注重实用性。\\n\\n在这个纷繁复杂的世界里，我们需要分清事物的本质和次要因素。丝瓜藤和肉豆须的纠葛虽然看似复杂，但只要我们关注它们的结果——瓜和豆，问题就迎刃而解。同样地，我们在面对生活中的困扰和挑战时，也应该关注问题的本质和核心，不被表面的复杂性所迷惑。我们需要以一颗冷静而明智的心来面对生活的纠结和复杂。在这个过程中，我们不仅能够分清事物的本质和次要因素，还能够培养出更加深刻的思考能力和更加成熟的人生观。因此，实用主义哲学和生活中的辩证思考是我们面对复杂世界的重要工具。它们能够帮助我们理清生活的纠结和复杂，让我们更好地面对生活的挑战。我们应该学习运用这些工具来更好地理解生活、把握生活、创造生活。\\n\\n总之，《丝瓜藤与肉豆须》的故事不仅是一个关于植物的故事，更是一个关于人生哲学的故事。它教会我们以实用主义的态度看待生活、分清事物的本质和次要因素、培养辩证思考的能力。在这个纷繁复杂的世界里，我们需要这些智慧来指导我们的生活。因此，让我们以一颗冷静而明智的心来面对生活的挑战吧！'},\n",
       " {'title': '根据以下材料，自选角度，自拟题目，写一篇不少于800字的文章（不要写成诗歌）。\\n人的心中总有一些坚硬的东西，也有一些柔软的东西。如何对待它们，将关系到能否造就和谐的自我。',\n",
       "  'essay': '心的交响：坚硬与柔软的共舞\\n\\n心中总有些东西坚硬如石，有些东西柔软如水。面对这两类情感载体，我们的处理方式决定了一个人的内在和谐。如此言之，如何将内心的坚硬与柔软有机结合，从而塑造一个和谐的自我呢？这便是我今天想要探讨的话题。\\n\\n首先，心中的坚硬之物，犹如巍峨的山峰，是我们坚定不移的信念与原则。这些信念如同指引灯塔，让我们在风雨飘摇的人生航程中不迷失方向。就如同古人云：“志坚者，功名之主也。”这种坚定不移的坚硬意志，使我们得以在挫折面前不屈不挠，挑战自我，实现价值。我们需要坚守这些信念，正如石头一样经受风雨洗礼，仍然屹立不倒。\\n\\n然而，仅有坚硬是不够的。心中的柔软之处，如同春水般温暖人心，它包含着我们的情感、同情心与包容心。这些柔软的情感是我们生活的调味品，使我们的生活更加丰富多彩。如诗人所言：“人间有情，情深似海。”这份柔软的情感使我们能够感知他人的痛苦与喜悦，愿意伸出援手，去帮助那些需要帮助的人。这种柔软，是我们身为人类的温情体现。\\n\\n面对心中的坚硬与柔软，我们应该如何去处理呢？这就像演奏一场心灵的交响乐，需要协调与和谐。一方面，我们要坚守心中的信念与原则，如同演奏交响乐时的坚定节奏；另一方面，我们要展现出心中的温暖与善良，如同交响乐中的柔和旋律。我们需要在这两者之间找到一个平衡点，让坚硬与柔软相互融合，相互衬托。如此，我们才能塑造出一个和谐统一的自我。\\n\\n此外，我们还要学会在适当的时候调整自己的心态。在坚守信念的同时，也要保持一颗包容的心。如同山间的流水，虽有石头的阻挡，但依然能够顺流而下，用其柔软温润的力量绕过阻碍。我们要学会像水一样去适应环境，而不是像石头一样硬碰硬。这样我们才能在人生的道路上走得更加顺畅。\\n\\n总之，我们应该将心中的坚硬与柔软视为一体两面，如同硬币的两面相辅相成。我们需要保持坚定的信念与决心，同时也需要拥有温暖的情感与同情心。如此，我们才能造就一个和谐的自我。让我们在人生的道路上，既有坚定不移的信念指引我们前行，又有温暖的情感照亮我们的心灵之路。这样的我们，才能如演奏一场美妙的交响乐般，将心中的坚硬与柔软完美地融合在一起。'},\n",
       " {'title': '乡间有谚语，“丝瓜藤，肉豆须，分不清。”意思是丝瓜的藤蔓与肉豆的藤须一旦纠缠在一起，是很难分开的。\\n有个小孩想分辨两者的不同，结果把自家庭院里丝瓜肉豆的那些纠结错综的茎叶都扯断了。\\n父亲看了好笑，就说：“种它们是挑来吃的，不是用来分辨的呀!”你只要照顾他们长大，摘下瓜和豆来吃就好了”\\n要求：1、选准角度，确定立意;2、自拟题目;3、除诗歌外，文体不限;4、问题特征鲜明。',\n",
       "  'essay': ' 题目：丝瓜与肉豆\\n\\n有一种植物，它的枝干上爬满了嫩绿的藤蔓，它的藤须缠绕在另一种植物的茎上，后者的枝干上则缠绕着前者的藤蔓。这是丝瓜和肉豆，它们藤蔓交织在一起，看起来纠缠不清，难以分辨。\\n\\n这世间，总有一些东西，它们表面看似毫无瓜葛，但却紧紧相连。就像丝瓜藤蔓和肉豆藤须，它们在空中交织，却难以分割。而这一次，我要说的，是丝瓜和肉豆这两个看似毫不相关的植物，它们之间又存在着怎样的联系呢？\\n\\n丝瓜，是一种葫芦科植物，它的果实呈长圆形或圆柱形，颜色有淡黄、淡绿或淡红等多种。丝瓜的藤蔓细长而柔软，可以爬满墙壁、树枝和器物，也可以悬挂在空中。丝瓜的果实成熟后，颜色变成了深绿色，形状如瓜子，形状美观，口感清爽，是一种人们喜爱的蔬菜。\\n\\n而肉豆，则是一种豆科植物，它的种子是红色或褐色，形状像豆子，味道豆腥，是一种人们常见的食物。肉豆的藤须短而粗壮，可以爬上树干或墙上，也可以缠绕在丝瓜藤上。肉豆的种子成熟后，颜色变成了褐色，形状如豆子，味道香醇，是一种人们喜爱的食物。\\n\\n看似毫不相关的丝瓜和肉豆，却有着千丝万缕的联系。据传，古代人们曾将丝瓜藤和肉豆藤攀在一起，以此来辨别两者，防止它们生长在一起，影响收成。但这种做法却弄巧成拙，因为它们藤蔓交织在一起，想要分开就变得格外困难。\\n\\n而如今，我们常常在家庭院子里看到丝瓜肉豆藤纠缠在一起，有时还会不小心将它们弄断。但父亲总是笑着说：“种它们是挑来吃的，不是用来分辨的呀！只要照顾他们长大，摘下瓜和豆来吃就好了。”他的话让我懂得了在生活中，许多看似毫无关系的事物，实际上却存在着千丝万缕的联系。\\n\\n丝瓜和肉豆，这两种看似毫不相关的植物，却成为了人们生活中不可或缺的一部分。无论是丝瓜的藤蔓和肉豆的藤须，还是丝瓜和肉豆之间的纠缠，它们都值得我们去品味、去感悟。因为只有这样，我们才能更好地发现生活中的美好，更好地把握人生。'},\n",
       " {'title': '根据以下材料，自选角度，自拟题目，写一篇不少于800字的文章（不要写成诗歌）。\\n人的心中总有一些坚硬的东西，也有一些柔软的东西。如何对待它们，将关系到能否造就和谐的自我。',\n",
       "  'essay': ' 材料：\\n\\n古人云：“知之者不如好之者，好之者不如乐之者。”说明在我们的人生旅程中，知识、技能或者成就并不是最重要的，追求内心的快乐才是人生的真谛。\\n\\n然而，在现代社会中，很多人为了追求所谓的成功，不断地奔波、劳累，却忘记了生活中最美好的东西，他们对知识、技能和功名利禄的追求，已经远远超过了对自己内心快乐的追求。\\n\\n针对这一现象，我认为，我们应当学会在追求知识、技能和功名利禄的同时，不忘初心，坚守内心的快乐，让自己的人生变得更加丰富多彩。\\n\\n首先，我们要明确知识、技能和功名利禄并不是人生的全部。我们追求这些东西的同时，也要注重培养自己的人品、道德和情感，追求内心真正的快乐。正如苏轼所说：“人间有味是清欢。”我们只有在内心感受到快乐和清欢，才能真正地感受到人生的意义。\\n\\n其次，我们要学会平衡自己的生活。我们不仅要注重自己的专业技能和知识的学习，还要注重自己的身心健康和家庭生活。正如卢梭所说：“使你的每一天，都过得幸福、充实，都能享受人生的美好。”只有这样，我们才能更好地追求自己的内心快乐，使自己的人生变得更加丰富多彩。\\n\\n最后，我们要学会欣赏生活中的点滴美好。我们常常会因为一些琐碎的小事而烦恼，却忽略了生活中最美好的东西。我们要学会用心去感受生活中的点滴美好，让这些美好构建起我们内心快乐的基础。\\n\\n总之，知识、技能和功名利禄并不是人生的全部，我们追求这些东西的同时，也要注重培养自己的人品、道德和情感，追求内心真正的快乐。同时，我们还要学会平衡自己的生活，欣赏生活中的点滴美好。这样，我们的人生才能变得更加丰富多彩。'}]"
      ]
     },
     "execution_count": 11,
     "metadata": {},
     "output_type": "execute_result"
    }
   ],
   "source": [
    "content_dataset_list[0].list()"
   ]
  },
  {
   "cell_type": "code",
   "execution_count": 12,
   "metadata": {},
   "outputs": [],
   "source": [
    "with open(\"prompt/essay_scoring.prompt\", mode=\"r\") as f:\n",
    "    correction_prompt_template = f.read()\n",
    "# 作文评改要求\n",
    "with open(\"prompt/correction_rules.prompt\", mode=\"r\") as f:\n",
    "    correction_rules = f.read()"
   ]
  },
  {
   "cell_type": "code",
   "execution_count": 13,
   "metadata": {},
   "outputs": [
    {
     "name": "stderr",
     "output_type": "stream",
     "text": [
      "[INFO] [05-13 07:11:09] dataset_utils.py:436 [t:139691935799104]: prompt template detected, start to check template variables\n",
      "[WARNING] [05-13 07:11:09] base.py:633 [t:139680782050880]: This key `request_per_minute` does not seem to be a parameter that the model `ERNIE-4.0-8K` will accept\n",
      "[WARNING] [05-13 07:11:09] base.py:633 [t:139686422853184]: This key `request_per_minute` does not seem to be a parameter that the model `ERNIE-4.0-8K` will accept\n",
      "[WARNING] [05-13 07:11:09] base.py:633 [t:139680729601600]: This key `request_per_minute` does not seem to be a parameter that the model `ERNIE-4.0-8K` will accept\n",
      "[WARNING] [05-13 07:11:09] base.py:633 [t:139680740091456]: This key `request_per_minute` does not seem to be a parameter that the model `ERNIE-4.0-8K` will accept\n",
      "[WARNING] [05-13 07:11:09] base.py:633 [t:139686401873472]: This key `request_per_minute` does not seem to be a parameter that the model `ERNIE-4.0-8K` will accept\n",
      "[WARNING] [05-13 07:11:09] base.py:633 [t:139686391383616]: This key `request_per_minute` does not seem to be a parameter that the model `ERNIE-4.0-8K` will accept\n",
      "[WARNING] [05-13 07:11:09] base.py:633 [t:139686380893760]: This key `request_per_minute` does not seem to be a parameter that the model `ERNIE-4.0-8K` will accept\n",
      "[WARNING] [05-13 07:11:09] base.py:633 [t:139686412363328]: This key `request_per_minute` does not seem to be a parameter that the model `ERNIE-4.0-8K` will accept\n",
      "[INFO] [05-13 07:11:59] base.py:93 [t:139686401873472]: All tasks finished, exeutor will be shutdown\n",
      "[INFO] [05-13 07:11:59] dataset_utils.py:436 [t:139691935799104]: prompt template detected, start to check template variables\n",
      "[WARNING] [05-13 07:11:59] base.py:633 [t:139686391383616]: This key `request_per_minute` does not seem to be a parameter that the model `ERNIE-4.0-8K` will accept\n",
      "[WARNING] [05-13 07:11:59] base.py:633 [t:139686401873472]: This key `request_per_minute` does not seem to be a parameter that the model `ERNIE-4.0-8K` will accept\n",
      "[WARNING] [05-13 07:11:59] base.py:633 [t:139686380893760]: This key `request_per_minute` does not seem to be a parameter that the model `ERNIE-4.0-8K` will accept\n",
      "[WARNING] [05-13 07:11:59] base.py:633 [t:139686412363328]: This key `request_per_minute` does not seem to be a parameter that the model `ERNIE-4.0-8K` will accept\n",
      "[WARNING] [05-13 07:11:59] base.py:633 [t:139685949072960]: This key `request_per_minute` does not seem to be a parameter that the model `ERNIE-4.0-8K` will accept\n",
      "[WARNING] [05-13 07:11:59] base.py:633 [t:139686422853184]: This key `request_per_minute` does not seem to be a parameter that the model `ERNIE-4.0-8K` will accept\n",
      "[WARNING] [05-13 07:11:59] base.py:633 [t:139685959562816]: This key `request_per_minute` does not seem to be a parameter that the model `ERNIE-4.0-8K` will accept\n",
      "[WARNING] [05-13 07:11:59] base.py:633 [t:139685938583104]: This key `request_per_minute` does not seem to be a parameter that the model `ERNIE-4.0-8K` will accept\n",
      "[INFO] [05-13 07:12:55] base.py:93 [t:139686401873472]: All tasks finished, exeutor will be shutdown\n",
      "[INFO] [05-13 07:12:55] dataset_utils.py:436 [t:139691935799104]: prompt template detected, start to check template variables\n",
      "[WARNING] [05-13 07:12:55] base.py:633 [t:139685959562816]: This key `request_per_minute` does not seem to be a parameter that the model `ERNIE-4.0-8K` will accept\n",
      "[WARNING] [05-13 07:12:55] base.py:633 [t:139686401873472]: This key `request_per_minute` does not seem to be a parameter that the model `ERNIE-4.0-8K` will accept\n",
      "[WARNING] [05-13 07:12:55] base.py:633 [t:139686422853184]: This key `request_per_minute` does not seem to be a parameter that the model `ERNIE-4.0-8K` will accept\n",
      "[WARNING] [05-13 07:12:55] base.py:633 [t:139686412363328]: This key `request_per_minute` does not seem to be a parameter that the model `ERNIE-4.0-8K` will accept\n",
      "[WARNING] [05-13 07:12:55] base.py:633 [t:139686391383616]: This key `request_per_minute` does not seem to be a parameter that the model `ERNIE-4.0-8K` will accept\n",
      "[WARNING] [05-13 07:12:55] base.py:633 [t:139685938583104]: This key `request_per_minute` does not seem to be a parameter that the model `ERNIE-4.0-8K` will accept\n",
      "[WARNING] [05-13 07:12:55] base.py:633 [t:139685949072960]: This key `request_per_minute` does not seem to be a parameter that the model `ERNIE-4.0-8K` will accept\n",
      "[WARNING] [05-13 07:12:55] base.py:633 [t:139686380893760]: This key `request_per_minute` does not seem to be a parameter that the model `ERNIE-4.0-8K` will accept\n",
      "[INFO] [05-13 07:13:36] base.py:93 [t:139686380893760]: All tasks finished, exeutor will be shutdown\n",
      "[INFO] [05-13 07:13:36] dataset_utils.py:436 [t:139691935799104]: prompt template detected, start to check template variables\n",
      "[WARNING] [05-13 07:13:36] base.py:633 [t:139686422853184]: This key `request_per_minute` does not seem to be a parameter that the model `ERNIE-4.0-8K` will accept\n",
      "[WARNING] [05-13 07:13:36] base.py:633 [t:139686380893760]: This key `request_per_minute` does not seem to be a parameter that the model `ERNIE-4.0-8K` will accept\n",
      "[WARNING] [05-13 07:13:36] base.py:633 [t:139686412363328]: This key `request_per_minute` does not seem to be a parameter that the model `ERNIE-4.0-8K` will accept\n",
      "[WARNING] [05-13 07:13:36] base.py:633 [t:139686401873472]: This key `request_per_minute` does not seem to be a parameter that the model `ERNIE-4.0-8K` will accept\n",
      "[WARNING] [05-13 07:13:36] base.py:633 [t:139686391383616]: This key `request_per_minute` does not seem to be a parameter that the model `ERNIE-4.0-8K` will accept\n",
      "[WARNING] [05-13 07:13:36] base.py:633 [t:139685938583104]: This key `request_per_minute` does not seem to be a parameter that the model `ERNIE-4.0-8K` will accept\n",
      "[WARNING] [05-13 07:13:36] base.py:633 [t:139685949072960]: This key `request_per_minute` does not seem to be a parameter that the model `ERNIE-4.0-8K` will accept\n",
      "[WARNING] [05-13 07:13:36] base.py:633 [t:139685959562816]: This key `request_per_minute` does not seem to be a parameter that the model `ERNIE-4.0-8K` will accept\n",
      "[INFO] [05-13 07:14:31] base.py:93 [t:139685949072960]: All tasks finished, exeutor will be shutdown\n"
     ]
    }
   ],
   "source": [
    "# 使用ERNIE-4.0进行评分\n",
    "from essay_data_aug import generate_correction_dataset\n",
    "\n",
    "unfiltered_dataset_list: List[Dataset] = []\n",
    "\n",
    "for content_dataset in content_dataset_list:\n",
    "    unfiltered_dataset_list.append(\n",
    "        generate_correction_dataset(content_dataset, service_model_name=\"ERNIE-4.0-8K\")\n",
    "    )"
   ]
  },
  {
   "cell_type": "code",
   "execution_count": 15,
   "metadata": {},
   "outputs": [
    {
     "name": "stdout",
     "output_type": "stream",
     "text": [
      "4\n",
      "[{'title': '乡间有谚语，“丝瓜藤，肉豆须，分不清。”意思是丝瓜的藤蔓与肉豆的藤须一旦纠缠在一起，是很难分开的。\\n有个小孩想分辨两者的不同，结果把自家庭院里丝瓜肉豆的那些纠结错综的茎叶都扯断了。\\n父亲看了好笑，就说：“种它们是挑来吃的，不是用来分辨的呀!”你只要照顾他们长大，摘下瓜和豆来吃就好了”\\n要求：1、选准角度，确定立意;2、自拟题目;3、除诗歌外，文体不限;4、问题特征鲜明。', 'essay': '题目：藤蔓纠缠中的生活智慧\\n\\n丝瓜藤，肉豆须，在乡间的谚语中，其纠结错综的形象，似乎寓含了生活的某种真谛。一小孩试图分辨这两者的差异，却最终扯断了它们的茎叶。然而，父亲笑着说：“种它们是挑来吃的，不是用来分辨的呀！你只要照顾他们长大，摘下瓜和豆来吃就好了。”\\n\\n这一场景让我深思：我们是否也常常陷入类似的困境，过于专注于细微的差异，而忽略了最终的目标？生活，不正是如此吗？我们在复杂纷繁的世界中摸索，试图理清每一根藤蔓，却往往忘记了最初的目的。\\n\\n其实，生活并不需要我们过分纠结于每一个细节。如同父亲所说，重要的不是分辨藤蔓，而是照料它们，享受最终的果实。这种“有所为，有所不为”的智慧，正是我们在面对生活复杂性时应有的态度。我们可以尽力去做好自己的本职工作，去种植、去浇灌，然后，静待花开，瓜熟蒂落。\\n\\n在这个过程中，我们也许会遇到各种困扰和难题，如同那小孩面对的丝瓜藤与肉豆须的纠结。但请记住，这些困扰并不应成为我们前进的绊脚石。相反，它们是我们成长的磨砺，是我们智慧的试金石。我们可以从中学到东西，然后放下，继续前行。\\n\\n有人说，生活就是一场旅行，不在乎目的地，只在乎沿途的风景。我想说，生活也是一片藤蔓纠缠的丛林，我们不必过于在意每一根藤蔓的走向，只要我们有明确的目标，有坚定的步伐，有欣赏沿途风景的心态，那么，无论何种困境，都将成为我们前行的助力。\\n\\n丝瓜藤与肉豆须的纠结，仿佛是生活的缩影。在这个看似复杂的世界里，我们每个人都是那个小孩，试图理清生活的每一根藤蔓。然而，真正的智慧，或许就在于父亲的那句话中：不必过于分辨，只要照顾它们长大，享受果实就好。这，便是生活的真谛。\\n\\n因此，让我们放下过多的纠结和执着，以一颗简单而坚定的心去面对生活的每一个挑战。记住，我们的目标不是去分辨每一根藤蔓，而是去种植、去浇灌、去收获。这样，我们的生活将充满更多的阳光与喜悦，我们将成为真正的生活智者。', 'input_prompt': '你是一个高考语文阅卷老师，现在有一个高考作文题目和一篇待批改论文，需要你对这篇待批改论文进行评分。\\n要求：\\n1）请认真阅读作文批改要求和作文题目，对这篇待批改作文进行公正严格的批改和打分；\\n2）评分一定要严格，不能轻易给出高分。\\n3）最后返回内容要严格按照最后的输出格式。\\n\\n一、作文批改要求：\\n高考作文评分批改分为基础等级、发展等级、关于作文的其他项评定\\n1、基础等级\\n基础等级分内容和表达两项。\\n1）内容项\\n具体评分规则如下：符合题意、中心突出、内容充实、思想健康、感情真挚为一等，可按16-20分酌情给分；符合题意、主题明确、内容较充实、思想健康、感情真实为二等，可按11-15分酌情给分；基本符合题意、中心基本明确、内容单薄、思想基本健康、感情基本真实为三等，可按6-10分酌情给分；偏离题意、中心不明确、内容不当、思想不健康、感情虚假为四等，可按0-5分酌情给分。\\n2）表达项\\n具体评分规则如下：符合文体要求、结构严谨、语言流畅、字迹工整为一等，可按16-20分酌情给分；符合文体要求、结构完整、语言通顺、字迹清楚为二等，可按11-15分酌情给分；基本符合文体要求、结构基本完整、语言基本通顺、字迹基本清楚为三等，可按6-10分酌情给分；不符合文体要求、结构混乱、语言不通顺语病多、字迹潦草难辨为四等，可按0-5分酌情给分。\\n2、发展等级\\n基础等级分要与发展等级分相匹配，发展等级分不能跨越基础等级的得分等级。\\n具体评分规则如下：深刻、丰富、有文采、有创意为一等，可按16-20分酌情给分；较深刻、较丰富、较有文采、较有创意为二等，可按11-15分酌情给分；略显深刻、略显丰富、略显文采、略显创意为三等，可按6-10分酌情给分；个别语句有深意、个别例子较好、个别语句较精彩、个别地方有深意为四等，可按0-5分酌情给分。\\n3、关于作文的其他项评定\\n1）扣分项评定\\n出现错别字，1个错别字扣1分，重复不计，扣完5分为止;标点符号出现3处以上错误的酌情扣分;不足字数者，每少50字扣1分;无标题扣2分。\\n2）残篇评定\\n400字以上的文章，按评分标准评分，扣字数分。(少50个字扣1分)\\n400字以下的文章，20分以下评分，不再扣字数分。\\n200字以下的文章，10分以下评分，不再扣字数分。\\n只写一两句话的，给1分或2分，不评0分。\\n只写标题的，给1分或2分，不评0分。\\n完全空白的，评0分。\\n\\n二、作文题目：\\n乡间有谚语，“丝瓜藤，肉豆须，分不清。”意思是丝瓜的藤蔓与肉豆的藤须一旦纠缠在一起，是很难分开的。\\n有个小孩想分辨两者的不同，结果把自家庭院里丝瓜肉豆的那些纠结错综的茎叶都扯断了。\\n父亲看了好笑，就说：“种它们是挑来吃的，不是用来分辨的呀!”你只要照顾他们长大，摘下瓜和豆来吃就好了”\\n要求：1、选准角度，确定立意;2、自拟题目;3、除诗歌外，文体不限;4、问题特征鲜明。\\n\\n三、待批改作文\\n题目：藤蔓纠缠中的生活智慧\\n\\n丝瓜藤，肉豆须，在乡间的谚语中，其纠结错综的形象，似乎寓含了生活的某种真谛。一小孩试图分辨这两者的差异，却最终扯断了它们的茎叶。然而，父亲笑着说：“种它们是挑来吃的，不是用来分辨的呀！你只要照顾他们长大，摘下瓜和豆来吃就好了。”\\n\\n这一场景让我深思：我们是否也常常陷入类似的困境，过于专注于细微的差异，而忽略了最终的目标？生活，不正是如此吗？我们在复杂纷繁的世界中摸索，试图理清每一根藤蔓，却往往忘记了最初的目的。\\n\\n其实，生活并不需要我们过分纠结于每一个细节。如同父亲所说，重要的不是分辨藤蔓，而是照料它们，享受最终的果实。这种“有所为，有所不为”的智慧，正是我们在面对生活复杂性时应有的态度。我们可以尽力去做好自己的本职工作，去种植、去浇灌，然后，静待花开，瓜熟蒂落。\\n\\n在这个过程中，我们也许会遇到各种困扰和难题，如同那小孩面对的丝瓜藤与肉豆须的纠结。但请记住，这些困扰并不应成为我们前进的绊脚石。相反，它们是我们成长的磨砺，是我们智慧的试金石。我们可以从中学到东西，然后放下，继续前行。\\n\\n有人说，生活就是一场旅行，不在乎目的地，只在乎沿途的风景。我想说，生活也是一片藤蔓纠缠的丛林，我们不必过于在意每一根藤蔓的走向，只要我们有明确的目标，有坚定的步伐，有欣赏沿途风景的心态，那么，无论何种困境，都将成为我们前行的助力。\\n\\n丝瓜藤与肉豆须的纠结，仿佛是生活的缩影。在这个看似复杂的世界里，我们每个人都是那个小孩，试图理清生活的每一根藤蔓。然而，真正的智慧，或许就在于父亲的那句话中：不必过于分辨，只要照顾它们长大，享受果实就好。这，便是生活的真谛。\\n\\n因此，让我们放下过多的纠结和执着，以一颗简单而坚定的心去面对生活的每一个挑战。记住，我们的目标不是去分辨每一根藤蔓，而是去种植、去浇灌、去收获。这样，我们的生活将充满更多的阳光与喜悦，我们将成为真正的生活智者。\\n\\n四、输出格式\\n{\"详细解析\":{\"内容项\": {\"解析\": \"xxxxxx。\",\"等级\": \"xx等\",\"得分\": \"xx分\"},\"表达项\": {\"解析\": \"xxxxxx。\",\"等级\": \"xx等\",\"得分\": \"xx分\"},\"发展等级\": {\"解析\": \"xxxxxx。\",\"等级\": \"xx等\",\"得分\": \"xx分\"},\"扣分项和残篇评定\": {\"解析\": \"xxxxxx。\",\"扣分\": \"xx分\"}},\"缺点和改进意见\": {\"缺点\": \"xxxxxx。\",\"改进意见\": \"xxxxxxx。\"},\"最终得分\": \"xx分\"}\\n', 'llm_output': '```json\\n{\"详细解析\":{\"内容项\": {\"解析\": \"文章紧扣题目材料，以丝瓜藤与肉豆须的纠结为引，展开对生活智慧的探讨。立意明确，中心突出，内容充实，思想健康，能够从生活小事中提炼出人生哲理，感情真挚。\",\"等级\": \"一等\",\"得分\": \"18分\"},\"表达项\": {\"解析\": \"文章结构严谨，层层深入，从描述现象到提出观点，再到论证展开，最后总结升华，逻辑清晰。语言流畅，文采斐然，能够运用比喻、排比等修辞手法增强文章表现力。字迹工整，符合卷面要求。\",\"等级\": \"一等\",\"得分\": \"18分\"},\"发展等级\": {\"解析\": \"文章深刻揭示了生活的真谛，即不必过于纠结细节，而应关注最终目标。所用例证丰富，能够很好地支撑论点，显示出作者的深刻思考和丰富积累。文章有文采，创意性地将生活比作旅行和丛林探险，增强了文章的可读性和感染力。\",\"等级\": \"一等\",\"得分\": \"18分\"}},\"扣分项和残篇评定\": {\"解析\": \"文章完整，未发现错别字和标点符号错误，字数符合要求，无需扣分。\",\"扣分\": \"0分\"}},\"缺点和改进意见\": {\"缺点\": \"文章内容已经非常完善，难以找到明显缺点。\",\"改进意见\": \"可以尝试在文章中引入更多具体的现实例子，以进一步丰富文章内容，增强说服力。\"},\"最终得分\": \"54分\"}\\n```'}, {'title': '根据以下材料，自选角度，自拟题目，写一篇不少于800字的文章（不要写成诗歌）。\\n人的心中总有一些坚硬的东西，也有一些柔软的东西。如何对待它们，将关系到能否造就和谐的自我。', 'essay': '**造就和谐的自我**\\n\\n人的心中总有一些坚硬的东西，也有一些柔软的东西，如何对待它们，将关系到能否造就和谐的自我。这仿佛是一道摆在我们每个人面前的难题，需要我们用心去思考，用行动去解答。\\n\\n坚硬，代表着我们的理性、原则与坚持。它如同山岳，屹立不倒，支撑着我们的人格与信仰。正因为有了这份坚硬，我们才能在纷繁复杂的世界中保持清醒的头脑，坚持正确的道路，不为各种诱惑所动摇。古人云：“志士仁人无求生以害仁，有杀身以成仁。”这其中的“仁”，便是一种坚硬的精神内核，它让志士仁人在生死关头仍能坚守道义，宁死不屈。\\n\\n然而，人非草木，孰能无情？我们每个人的内心深处，也总有一些柔软的东西。柔软，代表着我们的情感、同情与包容。它如同流水，温润细腻，滋养着我们的灵魂与心田。正因为有了这份柔软，我们才能体会到人间的温情与美好，才能在冷漠与隔阂中寻找到沟通与理解的桥梁。正如《三字经》所言：“人之初，性本善。”这其中的“善”，便是一种柔软的情感表达，它让我们在成长的道路上不忘初心，保持一颗纯净善良的心。\\n\\n那么，如何对待心中的坚硬与柔软，才能造就和谐的自我呢？我认为，关键在于把握好两者之间的平衡。我们既要有坚硬的理性与原则，来指引我们前行的方向；又要有柔软的情感与同情，来丰富我们的内心世界。这两者并非水火不容，而是相辅相成、相得益彰的。\\n\\n在实际生活中，我们可以尝试将坚硬与柔软相结合。在面对困难与挑战时，我们要用坚硬的态度去迎接，勇往直前，不屈不挠；而在与他人相处时，我们则要用柔软的心态去对待，多一份理解与包容，少一份苛责与抱怨。这样，我们才能在坚硬与柔软之间找到最佳的平衡点，造就一个和谐而完整的自我。\\n\\n此外，我们还应该学会在适当的时候调整自己的坚硬与柔软。有时候，我们可能过于坚硬，以至于忽略了他人的感受与需求；而有时候，我们又可能过于柔软，以至于失去了自己的立场与底线。因此，我们需要不断地反思与自省，根据实际情况来调整自己的态度与行为。\\n\\n总之，人的心中既有坚硬的一面，也有柔软的一面。只有正确对待它们，把握好两者之间的平衡与调整，我们才能造就一个和谐而完整的自我。这个过程或许充满挑战与困难，但只要我们坚持不懈、勇往直前，最终定能收获内心的宁静与社会的和谐。', 'input_prompt': '你是一个高考语文阅卷老师，现在有一个高考作文题目和一篇待批改论文，需要你对这篇待批改论文进行评分。\\n要求：\\n1）请认真阅读作文批改要求和作文题目，对这篇待批改作文进行公正严格的批改和打分；\\n2）评分一定要严格，不能轻易给出高分。\\n3）最后返回内容要严格按照最后的输出格式。\\n\\n一、作文批改要求：\\n高考作文评分批改分为基础等级、发展等级、关于作文的其他项评定\\n1、基础等级\\n基础等级分内容和表达两项。\\n1）内容项\\n具体评分规则如下：符合题意、中心突出、内容充实、思想健康、感情真挚为一等，可按16-20分酌情给分；符合题意、主题明确、内容较充实、思想健康、感情真实为二等，可按11-15分酌情给分；基本符合题意、中心基本明确、内容单薄、思想基本健康、感情基本真实为三等，可按6-10分酌情给分；偏离题意、中心不明确、内容不当、思想不健康、感情虚假为四等，可按0-5分酌情给分。\\n2）表达项\\n具体评分规则如下：符合文体要求、结构严谨、语言流畅、字迹工整为一等，可按16-20分酌情给分；符合文体要求、结构完整、语言通顺、字迹清楚为二等，可按11-15分酌情给分；基本符合文体要求、结构基本完整、语言基本通顺、字迹基本清楚为三等，可按6-10分酌情给分；不符合文体要求、结构混乱、语言不通顺语病多、字迹潦草难辨为四等，可按0-5分酌情给分。\\n2、发展等级\\n基础等级分要与发展等级分相匹配，发展等级分不能跨越基础等级的得分等级。\\n具体评分规则如下：深刻、丰富、有文采、有创意为一等，可按16-20分酌情给分；较深刻、较丰富、较有文采、较有创意为二等，可按11-15分酌情给分；略显深刻、略显丰富、略显文采、略显创意为三等，可按6-10分酌情给分；个别语句有深意、个别例子较好、个别语句较精彩、个别地方有深意为四等，可按0-5分酌情给分。\\n3、关于作文的其他项评定\\n1）扣分项评定\\n出现错别字，1个错别字扣1分，重复不计，扣完5分为止;标点符号出现3处以上错误的酌情扣分;不足字数者，每少50字扣1分;无标题扣2分。\\n2）残篇评定\\n400字以上的文章，按评分标准评分，扣字数分。(少50个字扣1分)\\n400字以下的文章，20分以下评分，不再扣字数分。\\n200字以下的文章，10分以下评分，不再扣字数分。\\n只写一两句话的，给1分或2分，不评0分。\\n只写标题的，给1分或2分，不评0分。\\n完全空白的，评0分。\\n\\n二、作文题目：\\n根据以下材料，自选角度，自拟题目，写一篇不少于800字的文章（不要写成诗歌）。\\n人的心中总有一些坚硬的东西，也有一些柔软的东西。如何对待它们，将关系到能否造就和谐的自我。\\n\\n三、待批改作文\\n**造就和谐的自我**\\n\\n人的心中总有一些坚硬的东西，也有一些柔软的东西，如何对待它们，将关系到能否造就和谐的自我。这仿佛是一道摆在我们每个人面前的难题，需要我们用心去思考，用行动去解答。\\n\\n坚硬，代表着我们的理性、原则与坚持。它如同山岳，屹立不倒，支撑着我们的人格与信仰。正因为有了这份坚硬，我们才能在纷繁复杂的世界中保持清醒的头脑，坚持正确的道路，不为各种诱惑所动摇。古人云：“志士仁人无求生以害仁，有杀身以成仁。”这其中的“仁”，便是一种坚硬的精神内核，它让志士仁人在生死关头仍能坚守道义，宁死不屈。\\n\\n然而，人非草木，孰能无情？我们每个人的内心深处，也总有一些柔软的东西。柔软，代表着我们的情感、同情与包容。它如同流水，温润细腻，滋养着我们的灵魂与心田。正因为有了这份柔软，我们才能体会到人间的温情与美好，才能在冷漠与隔阂中寻找到沟通与理解的桥梁。正如《三字经》所言：“人之初，性本善。”这其中的“善”，便是一种柔软的情感表达，它让我们在成长的道路上不忘初心，保持一颗纯净善良的心。\\n\\n那么，如何对待心中的坚硬与柔软，才能造就和谐的自我呢？我认为，关键在于把握好两者之间的平衡。我们既要有坚硬的理性与原则，来指引我们前行的方向；又要有柔软的情感与同情，来丰富我们的内心世界。这两者并非水火不容，而是相辅相成、相得益彰的。\\n\\n在实际生活中，我们可以尝试将坚硬与柔软相结合。在面对困难与挑战时，我们要用坚硬的态度去迎接，勇往直前，不屈不挠；而在与他人相处时，我们则要用柔软的心态去对待，多一份理解与包容，少一份苛责与抱怨。这样，我们才能在坚硬与柔软之间找到最佳的平衡点，造就一个和谐而完整的自我。\\n\\n此外，我们还应该学会在适当的时候调整自己的坚硬与柔软。有时候，我们可能过于坚硬，以至于忽略了他人的感受与需求；而有时候，我们又可能过于柔软，以至于失去了自己的立场与底线。因此，我们需要不断地反思与自省，根据实际情况来调整自己的态度与行为。\\n\\n总之，人的心中既有坚硬的一面，也有柔软的一面。只有正确对待它们，把握好两者之间的平衡与调整，我们才能造就一个和谐而完整的自我。这个过程或许充满挑战与困难，但只要我们坚持不懈、勇往直前，最终定能收获内心的宁静与社会的和谐。\\n\\n四、输出格式\\n{\"详细解析\":{\"内容项\": {\"解析\": \"xxxxxx。\",\"等级\": \"xx等\",\"得分\": \"xx分\"},\"表达项\": {\"解析\": \"xxxxxx。\",\"等级\": \"xx等\",\"得分\": \"xx分\"},\"发展等级\": {\"解析\": \"xxxxxx。\",\"等级\": \"xx等\",\"得分\": \"xx分\"},\"扣分项和残篇评定\": {\"解析\": \"xxxxxx。\",\"扣分\": \"xx分\"}},\"缺点和改进意见\": {\"缺点\": \"xxxxxx。\",\"改进意见\": \"xxxxxxx。\"},\"最终得分\": \"xx分\"}\\n', 'llm_output': '```json\\n{\"详细解析\":{\"内容项\": {\"解析\": \"文章紧扣材料主题，围绕“如何对待心中的坚硬与柔软，以造就和谐的自我”展开论述，中心突出，内容充实，思想健康，感情真挚。\",\"等级\": \"一等\",\"得分\": \"18分\"},\"表达项\": {\"解析\": \"文章结构严谨，语言流畅，符合议论文文体要求，字迹工整，无明显语病。\",\"等级\": \"一等\",\"得分\": \"18分\"},\"发展等级\": {\"解析\": \"文章在阐述坚硬与柔软的关系时，能够结合实际生活例子进行论证，显示出一定的深刻性与丰富性。同时，语言表述清晰，有一定的文采，但创意性不够突出。\",\"等级\": \"二等\",\"得分\": \"13分\"},\"扣分项和残篇评定\": {\"解析\": \"文章字数达到800字以上，无错别字，标点符号使用正确，未出现扣分情况。\",\"扣分\": \"0分\"}},\"缺点和改进意见\": {\"缺点\": \"在发展等级的评分中，虽然文章表现出一定的深刻性与丰富性，但创意性略显不足，未能完全展现出作者独特的思考与见解。\",\"改进意见\": \"在未来的写作中，作者可以进一步拓展思路，尝试从更多元的角度探讨问题，结合更丰富的实例来支撑观点，以提升文章的创意性和说服力。\"},\"最终得分\": \"49分\"}\\n```'}, {'title': '乡间有谚语，“丝瓜藤，肉豆须，分不清。”意思是丝瓜的藤蔓与肉豆的藤须一旦纠缠在一起，是很难分开的。\\n有个小孩想分辨两者的不同，结果把自家庭院里丝瓜肉豆的那些纠结错综的茎叶都扯断了。\\n父亲看了好笑，就说：“种它们是挑来吃的，不是用来分辨的呀!”你只要照顾他们长大，摘下瓜和豆来吃就好了”\\n要求：1、选准角度，确定立意;2、自拟题目;3、除诗歌外，文体不限;4、问题特征鲜明。', 'essay': '**丝瓜与肉豆，人生何须辨**\\n\\n乡间有谚语：“丝瓜藤，肉豆须，分不清。”这谚语看似在描述丝瓜藤蔓与肉豆藤须纠缠不清的复杂状况，实则透露出一种生活哲理：人生有些事情，何须太过计较？\\n\\n小孩想要分辨丝瓜和肉豆的不同，这本身无可非议，但当他将庭院里原本错综复杂的茎叶都扯断时，却显得过于执着。父亲的一句“种它们是挑来吃的，不是用来分辨的呀！”简单而深刻，既指出了小孩行为的无谓，也道出了生活的真谛。\\n\\n人生就像这庭院中的丝瓜和肉豆，总会有许多看似复杂、难以分辨的事情。我们或许可以像小孩一样，努力地去分辨、去探求，但很多时候，这种分辨不仅无助于我们的成长，反而会使我们陷入无尽的困惑和烦恼之中。\\n\\n与其如此，不如放下这种无谓的分辨，像父亲说的那样，专注于那些真正重要的事情。就像丝瓜和肉豆一样，它们的存在不是为了让我们去分辨它们的不同，而是为了让我们享受它们带来的美好和满足。\\n\\n生活中，我们总是习惯于给事物贴上标签，将它们分为三六九等，却忽略了事物本身的多样性和复杂性。这种标签化的思维方式，不仅限制了我们的视野，也束缚了我们的心灵。\\n\\n因此，我们需要学会以一种更加开放、包容的心态去面对生活中的种种复杂和不确定。不要过于执着于分辨事物的不同，而是要学会欣赏它们的独特和美好。\\n\\n当然，这并不是说我们要放弃对事物的认知和理解。相反，我们应该在保持开放心态的同时，不断地去探索、去学习，以丰富我们的知识和见识。\\n\\n丝瓜与肉豆，虽然难以分辨，但它们却各自有着独特的生长方式和美丽形态。同样，人生中的种种事物，也都有着它们独特的价值和意义。我们无需过于计较它们的不同，只需用心去感受、去体验，就能发现其中的美好和精彩。\\n\\n所以，让我们放下那些无谓的分辨和执着，以一种更加轻松、自在的心态去面对生活中的种种挑战和机遇。相信在这样的心态下，我们一定能够活出更加精彩、更加充实的人生。', 'input_prompt': '你是一个高考语文阅卷老师，现在有一个高考作文题目和一篇待批改论文，需要你对这篇待批改论文进行评分。\\n要求：\\n1）请认真阅读作文批改要求和作文题目，对这篇待批改作文进行公正严格的批改和打分；\\n2）评分一定要严格，不能轻易给出高分。\\n3）最后返回内容要严格按照最后的输出格式。\\n\\n一、作文批改要求：\\n高考作文评分批改分为基础等级、发展等级、关于作文的其他项评定\\n1、基础等级\\n基础等级分内容和表达两项。\\n1）内容项\\n具体评分规则如下：符合题意、中心突出、内容充实、思想健康、感情真挚为一等，可按16-20分酌情给分；符合题意、主题明确、内容较充实、思想健康、感情真实为二等，可按11-15分酌情给分；基本符合题意、中心基本明确、内容单薄、思想基本健康、感情基本真实为三等，可按6-10分酌情给分；偏离题意、中心不明确、内容不当、思想不健康、感情虚假为四等，可按0-5分酌情给分。\\n2）表达项\\n具体评分规则如下：符合文体要求、结构严谨、语言流畅、字迹工整为一等，可按16-20分酌情给分；符合文体要求、结构完整、语言通顺、字迹清楚为二等，可按11-15分酌情给分；基本符合文体要求、结构基本完整、语言基本通顺、字迹基本清楚为三等，可按6-10分酌情给分；不符合文体要求、结构混乱、语言不通顺语病多、字迹潦草难辨为四等，可按0-5分酌情给分。\\n2、发展等级\\n基础等级分要与发展等级分相匹配，发展等级分不能跨越基础等级的得分等级。\\n具体评分规则如下：深刻、丰富、有文采、有创意为一等，可按16-20分酌情给分；较深刻、较丰富、较有文采、较有创意为二等，可按11-15分酌情给分；略显深刻、略显丰富、略显文采、略显创意为三等，可按6-10分酌情给分；个别语句有深意、个别例子较好、个别语句较精彩、个别地方有深意为四等，可按0-5分酌情给分。\\n3、关于作文的其他项评定\\n1）扣分项评定\\n出现错别字，1个错别字扣1分，重复不计，扣完5分为止;标点符号出现3处以上错误的酌情扣分;不足字数者，每少50字扣1分;无标题扣2分。\\n2）残篇评定\\n400字以上的文章，按评分标准评分，扣字数分。(少50个字扣1分)\\n400字以下的文章，20分以下评分，不再扣字数分。\\n200字以下的文章，10分以下评分，不再扣字数分。\\n只写一两句话的，给1分或2分，不评0分。\\n只写标题的，给1分或2分，不评0分。\\n完全空白的，评0分。\\n\\n二、作文题目：\\n乡间有谚语，“丝瓜藤，肉豆须，分不清。”意思是丝瓜的藤蔓与肉豆的藤须一旦纠缠在一起，是很难分开的。\\n有个小孩想分辨两者的不同，结果把自家庭院里丝瓜肉豆的那些纠结错综的茎叶都扯断了。\\n父亲看了好笑，就说：“种它们是挑来吃的，不是用来分辨的呀!”你只要照顾他们长大，摘下瓜和豆来吃就好了”\\n要求：1、选准角度，确定立意;2、自拟题目;3、除诗歌外，文体不限;4、问题特征鲜明。\\n\\n三、待批改作文\\n**丝瓜与肉豆，人生何须辨**\\n\\n乡间有谚语：“丝瓜藤，肉豆须，分不清。”这谚语看似在描述丝瓜藤蔓与肉豆藤须纠缠不清的复杂状况，实则透露出一种生活哲理：人生有些事情，何须太过计较？\\n\\n小孩想要分辨丝瓜和肉豆的不同，这本身无可非议，但当他将庭院里原本错综复杂的茎叶都扯断时，却显得过于执着。父亲的一句“种它们是挑来吃的，不是用来分辨的呀！”简单而深刻，既指出了小孩行为的无谓，也道出了生活的真谛。\\n\\n人生就像这庭院中的丝瓜和肉豆，总会有许多看似复杂、难以分辨的事情。我们或许可以像小孩一样，努力地去分辨、去探求，但很多时候，这种分辨不仅无助于我们的成长，反而会使我们陷入无尽的困惑和烦恼之中。\\n\\n与其如此，不如放下这种无谓的分辨，像父亲说的那样，专注于那些真正重要的事情。就像丝瓜和肉豆一样，它们的存在不是为了让我们去分辨它们的不同，而是为了让我们享受它们带来的美好和满足。\\n\\n生活中，我们总是习惯于给事物贴上标签，将它们分为三六九等，却忽略了事物本身的多样性和复杂性。这种标签化的思维方式，不仅限制了我们的视野，也束缚了我们的心灵。\\n\\n因此，我们需要学会以一种更加开放、包容的心态去面对生活中的种种复杂和不确定。不要过于执着于分辨事物的不同，而是要学会欣赏它们的独特和美好。\\n\\n当然，这并不是说我们要放弃对事物的认知和理解。相反，我们应该在保持开放心态的同时，不断地去探索、去学习，以丰富我们的知识和见识。\\n\\n丝瓜与肉豆，虽然难以分辨，但它们却各自有着独特的生长方式和美丽形态。同样，人生中的种种事物，也都有着它们独特的价值和意义。我们无需过于计较它们的不同，只需用心去感受、去体验，就能发现其中的美好和精彩。\\n\\n所以，让我们放下那些无谓的分辨和执着，以一种更加轻松、自在的心态去面对生活中的种种挑战和机遇。相信在这样的心态下，我们一定能够活出更加精彩、更加充实的人生。\\n\\n四、输出格式\\n{\"详细解析\":{\"内容项\": {\"解析\": \"xxxxxx。\",\"等级\": \"xx等\",\"得分\": \"xx分\"},\"表达项\": {\"解析\": \"xxxxxx。\",\"等级\": \"xx等\",\"得分\": \"xx分\"},\"发展等级\": {\"解析\": \"xxxxxx。\",\"等级\": \"xx等\",\"得分\": \"xx分\"},\"扣分项和残篇评定\": {\"解析\": \"xxxxxx。\",\"扣分\": \"xx分\"}},\"缺点和改进意见\": {\"缺点\": \"xxxxxx。\",\"改进意见\": \"xxxxxxx。\"},\"最终得分\": \"xx分\"}\\n', 'llm_output': '```json\\n{\"详细解析\":{\"内容项\": {\"解析\": \"文章紧扣题目材料，以丝瓜与肉豆的分辨为引，展开对人生哲理的探讨。立意明确，中心突出，内容充实，思想健康，感情真挚。符合一等内容项的要求。\",\"等级\": \"一等\",\"得分\": \"18分\"},\"表达项\": {\"解析\": \"文章结构严谨，语言流畅，能够很好地表达作者的观点和情感。同时，字迹工整，符合一等表达项的要求。\",\"等级\": \"一等\",\"得分\": \"18分\"},\"发展等级\": {\"解析\": \"文章通过丝瓜与肉豆的分辨，引出对人生哲理的深刻思考，观点具有启发性。内容丰富，文采斐然，创意十足，符合一等发展等级的要求。\",\"等级\": \"一等\",\"得分\": \"18分\"}},\"扣分项和残篇评定\": {\"解析\": \"文章未发现错别字，标点符号使用正确，字数符合要求，且有自拟题目，因此无扣分项。\",\"扣分\": \"0分\"}},\"缺点和改进意见\": {\"缺点\": \"文章在某些部分可以进一步展开，如具体描述丝瓜与肉豆的象征意义，或通过更多生动的例子来佐证观点，以增加文章的层次感和说服力。\",\"改进意见\": \"可以在文章中加入一些具体的案例或故事，以更形象地阐述‘放下分辨，专注重要事物’的观点，使读者更易产生共鸣。\"},\"最终得分\": \"54分\"}\\n```'}, {'title': '根据以下材料，自选角度，自拟题目，写一篇不少于800字的文章（不要写成诗歌）。\\n人的心中总有一些坚硬的东西，也有一些柔软的东西。如何对待它们，将关系到能否造就和谐的自我。', 'essay': '题目：坚硬与柔软的和谐之舞\\n\\n人生如一场盛大的舞会，我们既是舞者，又是编导。在这场舞会中，我们的内心总有一些坚硬的东西，如同钻石般璀璨坚硬，它们是我们坚守的原则，是我们对世界的认知，是我们的理想追求；同时，我们的内心也有一些柔软的东西，如同丝绸般柔软细腻，它们是我们的情感，是我们的同情，是我们的包容与接纳。如何对待这些坚硬与柔软，将决定我们能否跳出和谐的舞步，编织出精彩的人生篇章。\\n\\n坚硬，是我们心中的坚守，是我们对生活的执着。它赋予我们力量，让我们在困难面前不屈不挠，勇往直前。然而，坚硬并非意味着顽固不化，而是要在坚守中学会变通，在执着中保持开放。正如古人云：“刚柔并济，方为上策。”只有坚硬的品质与柔软的情怀并存，我们才能在人生的道路上稳步前行，不失本心。\\n\\n柔软，则是我们心中的温情，是我们对生活的热爱。它让我们懂得关怀与理解，让我们在与人交往中更加和谐融洽。然而，柔软并非意味着软弱无能，而是要在包容中保持原则，在理解中坚守底线。柔软的力量，在于它能够化解矛盾，促进和谐，让我们在人生的舞台上更加自如地舞动。\\n\\n和谐，是我们追求的目标，是我们内心的期待。它需要我们在坚硬与柔软之间找到平衡，让它们在心中相互交融，共同构筑出我们精彩的人生。和谐不是简单的折中，而是要在尊重差异的基础上，实现共存共荣。正如大自然中的万物，既有坚硬的岩石，也有柔软的土壤，它们相互依存，共同构成了美丽的地球家园。\\n\\n在这个纷繁复杂的世界里，我们需要学会在坚硬与柔软之间舞动。我们要用坚硬的品质去迎接挑战，用柔软的情怀去拥抱生活。我们要在坚守中学会变通，在包容中保持原则。只有这样，我们才能在人生的舞台上跳出和谐的舞步，编织出精彩的人生篇章。\\n\\n坚硬与柔软并非对立的存在，而是相辅相成的。它们如同阴阳两极，相互依存，共同构成了我们丰富多彩的内心世界。让我们在坚硬与柔软之间舞动，用和谐的舞步去迎接人生的每一个挑战与机遇。让我们在坚守与变通中，不断追求更高的境界，书写出属于我们自己的精彩人生。\\n\\n在这场盛大的舞会中，让我们用心去感受坚硬与柔软的力量，用智慧去把握它们的平衡。让我们在坚硬与柔软的和谐之舞中，跳出属于自己的人生旋律，展现出我们的独特魅力。这样的人生，才是我们真正向往的，也是我们为之奋斗的目标。', 'input_prompt': '你是一个高考语文阅卷老师，现在有一个高考作文题目和一篇待批改论文，需要你对这篇待批改论文进行评分。\\n要求：\\n1）请认真阅读作文批改要求和作文题目，对这篇待批改作文进行公正严格的批改和打分；\\n2）评分一定要严格，不能轻易给出高分。\\n3）最后返回内容要严格按照最后的输出格式。\\n\\n一、作文批改要求：\\n高考作文评分批改分为基础等级、发展等级、关于作文的其他项评定\\n1、基础等级\\n基础等级分内容和表达两项。\\n1）内容项\\n具体评分规则如下：符合题意、中心突出、内容充实、思想健康、感情真挚为一等，可按16-20分酌情给分；符合题意、主题明确、内容较充实、思想健康、感情真实为二等，可按11-15分酌情给分；基本符合题意、中心基本明确、内容单薄、思想基本健康、感情基本真实为三等，可按6-10分酌情给分；偏离题意、中心不明确、内容不当、思想不健康、感情虚假为四等，可按0-5分酌情给分。\\n2）表达项\\n具体评分规则如下：符合文体要求、结构严谨、语言流畅、字迹工整为一等，可按16-20分酌情给分；符合文体要求、结构完整、语言通顺、字迹清楚为二等，可按11-15分酌情给分；基本符合文体要求、结构基本完整、语言基本通顺、字迹基本清楚为三等，可按6-10分酌情给分；不符合文体要求、结构混乱、语言不通顺语病多、字迹潦草难辨为四等，可按0-5分酌情给分。\\n2、发展等级\\n基础等级分要与发展等级分相匹配，发展等级分不能跨越基础等级的得分等级。\\n具体评分规则如下：深刻、丰富、有文采、有创意为一等，可按16-20分酌情给分；较深刻、较丰富、较有文采、较有创意为二等，可按11-15分酌情给分；略显深刻、略显丰富、略显文采、略显创意为三等，可按6-10分酌情给分；个别语句有深意、个别例子较好、个别语句较精彩、个别地方有深意为四等，可按0-5分酌情给分。\\n3、关于作文的其他项评定\\n1）扣分项评定\\n出现错别字，1个错别字扣1分，重复不计，扣完5分为止;标点符号出现3处以上错误的酌情扣分;不足字数者，每少50字扣1分;无标题扣2分。\\n2）残篇评定\\n400字以上的文章，按评分标准评分，扣字数分。(少50个字扣1分)\\n400字以下的文章，20分以下评分，不再扣字数分。\\n200字以下的文章，10分以下评分，不再扣字数分。\\n只写一两句话的，给1分或2分，不评0分。\\n只写标题的，给1分或2分，不评0分。\\n完全空白的，评0分。\\n\\n二、作文题目：\\n根据以下材料，自选角度，自拟题目，写一篇不少于800字的文章（不要写成诗歌）。\\n人的心中总有一些坚硬的东西，也有一些柔软的东西。如何对待它们，将关系到能否造就和谐的自我。\\n\\n三、待批改作文\\n题目：坚硬与柔软的和谐之舞\\n\\n人生如一场盛大的舞会，我们既是舞者，又是编导。在这场舞会中，我们的内心总有一些坚硬的东西，如同钻石般璀璨坚硬，它们是我们坚守的原则，是我们对世界的认知，是我们的理想追求；同时，我们的内心也有一些柔软的东西，如同丝绸般柔软细腻，它们是我们的情感，是我们的同情，是我们的包容与接纳。如何对待这些坚硬与柔软，将决定我们能否跳出和谐的舞步，编织出精彩的人生篇章。\\n\\n坚硬，是我们心中的坚守，是我们对生活的执着。它赋予我们力量，让我们在困难面前不屈不挠，勇往直前。然而，坚硬并非意味着顽固不化，而是要在坚守中学会变通，在执着中保持开放。正如古人云：“刚柔并济，方为上策。”只有坚硬的品质与柔软的情怀并存，我们才能在人生的道路上稳步前行，不失本心。\\n\\n柔软，则是我们心中的温情，是我们对生活的热爱。它让我们懂得关怀与理解，让我们在与人交往中更加和谐融洽。然而，柔软并非意味着软弱无能，而是要在包容中保持原则，在理解中坚守底线。柔软的力量，在于它能够化解矛盾，促进和谐，让我们在人生的舞台上更加自如地舞动。\\n\\n和谐，是我们追求的目标，是我们内心的期待。它需要我们在坚硬与柔软之间找到平衡，让它们在心中相互交融，共同构筑出我们精彩的人生。和谐不是简单的折中，而是要在尊重差异的基础上，实现共存共荣。正如大自然中的万物，既有坚硬的岩石，也有柔软的土壤，它们相互依存，共同构成了美丽的地球家园。\\n\\n在这个纷繁复杂的世界里，我们需要学会在坚硬与柔软之间舞动。我们要用坚硬的品质去迎接挑战，用柔软的情怀去拥抱生活。我们要在坚守中学会变通，在包容中保持原则。只有这样，我们才能在人生的舞台上跳出和谐的舞步，编织出精彩的人生篇章。\\n\\n坚硬与柔软并非对立的存在，而是相辅相成的。它们如同阴阳两极，相互依存，共同构成了我们丰富多彩的内心世界。让我们在坚硬与柔软之间舞动，用和谐的舞步去迎接人生的每一个挑战与机遇。让我们在坚守与变通中，不断追求更高的境界，书写出属于我们自己的精彩人生。\\n\\n在这场盛大的舞会中，让我们用心去感受坚硬与柔软的力量，用智慧去把握它们的平衡。让我们在坚硬与柔软的和谐之舞中，跳出属于自己的人生旋律，展现出我们的独特魅力。这样的人生，才是我们真正向往的，也是我们为之奋斗的目标。\\n\\n四、输出格式\\n{\"详细解析\":{\"内容项\": {\"解析\": \"xxxxxx。\",\"等级\": \"xx等\",\"得分\": \"xx分\"},\"表达项\": {\"解析\": \"xxxxxx。\",\"等级\": \"xx等\",\"得分\": \"xx分\"},\"发展等级\": {\"解析\": \"xxxxxx。\",\"等级\": \"xx等\",\"得分\": \"xx分\"},\"扣分项和残篇评定\": {\"解析\": \"xxxxxx。\",\"扣分\": \"xx分\"}},\"缺点和改进意见\": {\"缺点\": \"xxxxxx。\",\"改进意见\": \"xxxxxxx。\"},\"最终得分\": \"xx分\"}\\n', 'llm_output': '```json\\n{\"详细解析\":{\"内容项\": {\"解析\": \"文章紧扣题目材料，以‘坚硬与柔软的和谐之舞’为喻，深入探讨了人心中坚硬与柔软元素的关系，以及如何达到内心和谐的问题。观点明确，内容充实，思想健康，感情真挚，符合一等内容项的要求。\",\"等级\": \"一等\",\"得分\": \"18分\"},\"表达项\": {\"解析\": \"文章采用了舞会作为比喻，贯穿全文，使抽象的议题具象化，增强了文章的可读性。结构严谨，层次清晰，语言流畅，字迹工整，符合一等表达项的要求。\",\"等级\": \"一等\",\"得分\": \"18分\"},\"发展等级\": {\"解析\": \"文章在探讨坚硬与柔软关系时，能提出新颖的观点，如‘坚硬并非意味着顽固不化’，‘柔软并非意味着软弱无能’，显示了较深刻的思考和较丰富的内涵。同时，文章语言富有文采，如‘坚硬与柔软并非对立的存在，而是相辅相成的’，体现了较高的语言表达能力，符合二等发展等级的要求。\",\"等级\": \"二等\",\"得分\": \"14分\"},\"扣分项和残篇评定\": {\"解析\": \"文章字数达到800字以上，无错别字，标点符号使用正确，未出现扣分项。同时，文章内容完整，不属于残篇，无需扣分。\",\"扣分\": \"0分\"}},\"缺点和改进意见\": {\"缺点\": \"在探讨坚硬与柔软如何达到和谐时，部分观点稍显重复，可进一步拓展深度和广度，增加更多具体的例证来支撑观点。\",\"改进意见\": \"可以尝试引入更多现实生活中的案例或历史故事，来具体阐释坚硬与柔软如何和谐共存，以及这种和谐对个人和社会的重要意义。\"},\"最终得分\": \"50分\"}\\n```'}, {'title': '乡间有谚语，“丝瓜藤，肉豆须，分不清。”意思是丝瓜的藤蔓与肉豆的藤须一旦纠缠在一起，是很难分开的。\\n有个小孩想分辨两者的不同，结果把自家庭院里丝瓜肉豆的那些纠结错综的茎叶都扯断了。\\n父亲看了好笑，就说：“种它们是挑来吃的，不是用来分辨的呀!”你只要照顾他们长大，摘下瓜和豆来吃就好了”\\n要求：1、选准角度，确定立意;2、自拟题目;3、除诗歌外，文体不限;4、问题特征鲜明。', 'essay': '题目：丝瓜藤与肉豆须——纠结与分清的思考\\n\\n在这广大的天地间，乡间谚语有如古老的智慧之河，流淌着人们对于生活的理解和洞察。“丝瓜藤，肉豆须，分不清。”这句话看似平淡无奇，却蕴含着人们对于生活中纠结错综事物的深刻体验。就如同丝瓜藤与肉豆须的纠缠，人生也充满了种种纷繁复杂的纠葛和挑战。然而，父亲的话如同智慧的明灯照亮了我对于这一问题的理解：“种它们是挑来吃的，不是用来分辨的呀！”意指我们应以实用主义的态度看待事物，重视结果而非过分纠结于过程。\\n\\n在这看似简单的故事中，我领悟到了许多关于人生哲学的深刻内涵。丝瓜藤与肉豆须的纠葛，象征着生活中的种种困扰和挑战。当我们面对这些困扰时，是否应该像那个小孩一样过于执着于纠结呢？父亲的话语提醒了我，我们的目标应该是收获瓜和豆，而不是纠结于如何分辨他们的藤蔓。也就是说，我们应该关注结果和价值，以实用主义的态度看待生活。在实用主义哲学的引导下，我们能够更好地处理生活中的纠结和困境。这并不意味着我们忽视过程，而是强调我们在面对生活的复杂性时应该更加注重实用性。\\n\\n在这个纷繁复杂的世界里，我们需要分清事物的本质和次要因素。丝瓜藤和肉豆须的纠葛虽然看似复杂，但只要我们关注它们的结果——瓜和豆，问题就迎刃而解。同样地，我们在面对生活中的困扰和挑战时，也应该关注问题的本质和核心，不被表面的复杂性所迷惑。我们需要以一颗冷静而明智的心来面对生活的纠结和复杂。在这个过程中，我们不仅能够分清事物的本质和次要因素，还能够培养出更加深刻的思考能力和更加成熟的人生观。因此，实用主义哲学和生活中的辩证思考是我们面对复杂世界的重要工具。它们能够帮助我们理清生活的纠结和复杂，让我们更好地面对生活的挑战。我们应该学习运用这些工具来更好地理解生活、把握生活、创造生活。\\n\\n总之，《丝瓜藤与肉豆须》的故事不仅是一个关于植物的故事，更是一个关于人生哲学的故事。它教会我们以实用主义的态度看待生活、分清事物的本质和次要因素、培养辩证思考的能力。在这个纷繁复杂的世界里，我们需要这些智慧来指导我们的生活。因此，让我们以一颗冷静而明智的心来面对生活的挑战吧！', 'input_prompt': '你是一个高考语文阅卷老师，现在有一个高考作文题目和一篇待批改论文，需要你对这篇待批改论文进行评分。\\n要求：\\n1）请认真阅读作文批改要求和作文题目，对这篇待批改作文进行公正严格的批改和打分；\\n2）评分一定要严格，不能轻易给出高分。\\n3）最后返回内容要严格按照最后的输出格式。\\n\\n一、作文批改要求：\\n高考作文评分批改分为基础等级、发展等级、关于作文的其他项评定\\n1、基础等级\\n基础等级分内容和表达两项。\\n1）内容项\\n具体评分规则如下：符合题意、中心突出、内容充实、思想健康、感情真挚为一等，可按16-20分酌情给分；符合题意、主题明确、内容较充实、思想健康、感情真实为二等，可按11-15分酌情给分；基本符合题意、中心基本明确、内容单薄、思想基本健康、感情基本真实为三等，可按6-10分酌情给分；偏离题意、中心不明确、内容不当、思想不健康、感情虚假为四等，可按0-5分酌情给分。\\n2）表达项\\n具体评分规则如下：符合文体要求、结构严谨、语言流畅、字迹工整为一等，可按16-20分酌情给分；符合文体要求、结构完整、语言通顺、字迹清楚为二等，可按11-15分酌情给分；基本符合文体要求、结构基本完整、语言基本通顺、字迹基本清楚为三等，可按6-10分酌情给分；不符合文体要求、结构混乱、语言不通顺语病多、字迹潦草难辨为四等，可按0-5分酌情给分。\\n2、发展等级\\n基础等级分要与发展等级分相匹配，发展等级分不能跨越基础等级的得分等级。\\n具体评分规则如下：深刻、丰富、有文采、有创意为一等，可按16-20分酌情给分；较深刻、较丰富、较有文采、较有创意为二等，可按11-15分酌情给分；略显深刻、略显丰富、略显文采、略显创意为三等，可按6-10分酌情给分；个别语句有深意、个别例子较好、个别语句较精彩、个别地方有深意为四等，可按0-5分酌情给分。\\n3、关于作文的其他项评定\\n1）扣分项评定\\n出现错别字，1个错别字扣1分，重复不计，扣完5分为止;标点符号出现3处以上错误的酌情扣分;不足字数者，每少50字扣1分;无标题扣2分。\\n2）残篇评定\\n400字以上的文章，按评分标准评分，扣字数分。(少50个字扣1分)\\n400字以下的文章，20分以下评分，不再扣字数分。\\n200字以下的文章，10分以下评分，不再扣字数分。\\n只写一两句话的，给1分或2分，不评0分。\\n只写标题的，给1分或2分，不评0分。\\n完全空白的，评0分。\\n\\n二、作文题目：\\n乡间有谚语，“丝瓜藤，肉豆须，分不清。”意思是丝瓜的藤蔓与肉豆的藤须一旦纠缠在一起，是很难分开的。\\n有个小孩想分辨两者的不同，结果把自家庭院里丝瓜肉豆的那些纠结错综的茎叶都扯断了。\\n父亲看了好笑，就说：“种它们是挑来吃的，不是用来分辨的呀!”你只要照顾他们长大，摘下瓜和豆来吃就好了”\\n要求：1、选准角度，确定立意;2、自拟题目;3、除诗歌外，文体不限;4、问题特征鲜明。\\n\\n三、待批改作文\\n题目：丝瓜藤与肉豆须——纠结与分清的思考\\n\\n在这广大的天地间，乡间谚语有如古老的智慧之河，流淌着人们对于生活的理解和洞察。“丝瓜藤，肉豆须，分不清。”这句话看似平淡无奇，却蕴含着人们对于生活中纠结错综事物的深刻体验。就如同丝瓜藤与肉豆须的纠缠，人生也充满了种种纷繁复杂的纠葛和挑战。然而，父亲的话如同智慧的明灯照亮了我对于这一问题的理解：“种它们是挑来吃的，不是用来分辨的呀！”意指我们应以实用主义的态度看待事物，重视结果而非过分纠结于过程。\\n\\n在这看似简单的故事中，我领悟到了许多关于人生哲学的深刻内涵。丝瓜藤与肉豆须的纠葛，象征着生活中的种种困扰和挑战。当我们面对这些困扰时，是否应该像那个小孩一样过于执着于纠结呢？父亲的话语提醒了我，我们的目标应该是收获瓜和豆，而不是纠结于如何分辨他们的藤蔓。也就是说，我们应该关注结果和价值，以实用主义的态度看待生活。在实用主义哲学的引导下，我们能够更好地处理生活中的纠结和困境。这并不意味着我们忽视过程，而是强调我们在面对生活的复杂性时应该更加注重实用性。\\n\\n在这个纷繁复杂的世界里，我们需要分清事物的本质和次要因素。丝瓜藤和肉豆须的纠葛虽然看似复杂，但只要我们关注它们的结果——瓜和豆，问题就迎刃而解。同样地，我们在面对生活中的困扰和挑战时，也应该关注问题的本质和核心，不被表面的复杂性所迷惑。我们需要以一颗冷静而明智的心来面对生活的纠结和复杂。在这个过程中，我们不仅能够分清事物的本质和次要因素，还能够培养出更加深刻的思考能力和更加成熟的人生观。因此，实用主义哲学和生活中的辩证思考是我们面对复杂世界的重要工具。它们能够帮助我们理清生活的纠结和复杂，让我们更好地面对生活的挑战。我们应该学习运用这些工具来更好地理解生活、把握生活、创造生活。\\n\\n总之，《丝瓜藤与肉豆须》的故事不仅是一个关于植物的故事，更是一个关于人生哲学的故事。它教会我们以实用主义的态度看待生活、分清事物的本质和次要因素、培养辩证思考的能力。在这个纷繁复杂的世界里，我们需要这些智慧来指导我们的生活。因此，让我们以一颗冷静而明智的心来面对生活的挑战吧！\\n\\n四、输出格式\\n{\"详细解析\":{\"内容项\": {\"解析\": \"xxxxxx。\",\"等级\": \"xx等\",\"得分\": \"xx分\"},\"表达项\": {\"解析\": \"xxxxxx。\",\"等级\": \"xx等\",\"得分\": \"xx分\"},\"发展等级\": {\"解析\": \"xxxxxx。\",\"等级\": \"xx等\",\"得分\": \"xx分\"},\"扣分项和残篇评定\": {\"解析\": \"xxxxxx。\",\"扣分\": \"xx分\"}},\"缺点和改进意见\": {\"缺点\": \"xxxxxx。\",\"改进意见\": \"xxxxxxx。\"},\"最终得分\": \"xx分\"}\\n', 'llm_output': '```json\\n{\"详细解析\":{\"内容项\": {\"解析\": \"文章紧扣题目材料，从乡间谚语出发，展开对人生哲学、实用主义态度的探讨，立意明确且具有一定深度。内容充实，涵盖了对谚语的解读、人生哲学的思考以及实用主义的应用等方面，思想健康，感情真挚。\",\"等级\": \"一等\",\"得分\": \"18分\"},\"表达项\": {\"解析\": \"文体符合议论文要求，结构严谨，从引出话题到展开论述再到总结观点，逻辑清晰。语言流畅，能够准确表达思想，字迹工整，符合规范。\",\"等级\": \"一等\",\"得分\": \"18分\"}},\"发展等级\": {\"解析\": \"文章在深刻解读谚语的基础上，展开了对人生哲学的较深刻思考，体现了作者对问题的深入理解和独立见解。同时，能够结合实用主义哲学进行阐述，显示出较丰富的知识和较有文采的表达。整体上有一定创意。\",\"等级\": \"二等\",\"得分\": \"14分\"}},\"扣分项和残篇评定\": {\"解析\": \"文章未出现错别字，标点符号使用正确，字数达到要求，且有自拟题目，因此无扣分项。\",\"扣分\": \"0分\"}},\"缺点和改进意见\": {\"缺点\": \"在论述过程中，部分内容稍有重复，例如多次提及‘实用主义的态度看待生活’，可进一步精简语言，避免冗余。\",\"改进意见\": \"可以对重复表述进行合并或换一种说法，使文章更加简洁明了，同时增加一些具体的例证来支持论点，增强说服力。\"},\"最终得分\": \"50分\"}\\n```'}, {'title': '根据以下材料，自选角度，自拟题目，写一篇不少于800字的文章（不要写成诗歌）。\\n人的心中总有一些坚硬的东西，也有一些柔软的东西。如何对待它们，将关系到能否造就和谐的自我。', 'essay': '心的交响：坚硬与柔软的共舞\\n\\n心中总有些东西坚硬如石，有些东西柔软如水。面对这两类情感载体，我们的处理方式决定了一个人的内在和谐。如此言之，如何将内心的坚硬与柔软有机结合，从而塑造一个和谐的自我呢？这便是我今天想要探讨的话题。\\n\\n首先，心中的坚硬之物，犹如巍峨的山峰，是我们坚定不移的信念与原则。这些信念如同指引灯塔，让我们在风雨飘摇的人生航程中不迷失方向。就如同古人云：“志坚者，功名之主也。”这种坚定不移的坚硬意志，使我们得以在挫折面前不屈不挠，挑战自我，实现价值。我们需要坚守这些信念，正如石头一样经受风雨洗礼，仍然屹立不倒。\\n\\n然而，仅有坚硬是不够的。心中的柔软之处，如同春水般温暖人心，它包含着我们的情感、同情心与包容心。这些柔软的情感是我们生活的调味品，使我们的生活更加丰富多彩。如诗人所言：“人间有情，情深似海。”这份柔软的情感使我们能够感知他人的痛苦与喜悦，愿意伸出援手，去帮助那些需要帮助的人。这种柔软，是我们身为人类的温情体现。\\n\\n面对心中的坚硬与柔软，我们应该如何去处理呢？这就像演奏一场心灵的交响乐，需要协调与和谐。一方面，我们要坚守心中的信念与原则，如同演奏交响乐时的坚定节奏；另一方面，我们要展现出心中的温暖与善良，如同交响乐中的柔和旋律。我们需要在这两者之间找到一个平衡点，让坚硬与柔软相互融合，相互衬托。如此，我们才能塑造出一个和谐统一的自我。\\n\\n此外，我们还要学会在适当的时候调整自己的心态。在坚守信念的同时，也要保持一颗包容的心。如同山间的流水，虽有石头的阻挡，但依然能够顺流而下，用其柔软温润的力量绕过阻碍。我们要学会像水一样去适应环境，而不是像石头一样硬碰硬。这样我们才能在人生的道路上走得更加顺畅。\\n\\n总之，我们应该将心中的坚硬与柔软视为一体两面，如同硬币的两面相辅相成。我们需要保持坚定的信念与决心，同时也需要拥有温暖的情感与同情心。如此，我们才能造就一个和谐的自我。让我们在人生的道路上，既有坚定不移的信念指引我们前行，又有温暖的情感照亮我们的心灵之路。这样的我们，才能如演奏一场美妙的交响乐般，将心中的坚硬与柔软完美地融合在一起。', 'input_prompt': '你是一个高考语文阅卷老师，现在有一个高考作文题目和一篇待批改论文，需要你对这篇待批改论文进行评分。\\n要求：\\n1）请认真阅读作文批改要求和作文题目，对这篇待批改作文进行公正严格的批改和打分；\\n2）评分一定要严格，不能轻易给出高分。\\n3）最后返回内容要严格按照最后的输出格式。\\n\\n一、作文批改要求：\\n高考作文评分批改分为基础等级、发展等级、关于作文的其他项评定\\n1、基础等级\\n基础等级分内容和表达两项。\\n1）内容项\\n具体评分规则如下：符合题意、中心突出、内容充实、思想健康、感情真挚为一等，可按16-20分酌情给分；符合题意、主题明确、内容较充实、思想健康、感情真实为二等，可按11-15分酌情给分；基本符合题意、中心基本明确、内容单薄、思想基本健康、感情基本真实为三等，可按6-10分酌情给分；偏离题意、中心不明确、内容不当、思想不健康、感情虚假为四等，可按0-5分酌情给分。\\n2）表达项\\n具体评分规则如下：符合文体要求、结构严谨、语言流畅、字迹工整为一等，可按16-20分酌情给分；符合文体要求、结构完整、语言通顺、字迹清楚为二等，可按11-15分酌情给分；基本符合文体要求、结构基本完整、语言基本通顺、字迹基本清楚为三等，可按6-10分酌情给分；不符合文体要求、结构混乱、语言不通顺语病多、字迹潦草难辨为四等，可按0-5分酌情给分。\\n2、发展等级\\n基础等级分要与发展等级分相匹配，发展等级分不能跨越基础等级的得分等级。\\n具体评分规则如下：深刻、丰富、有文采、有创意为一等，可按16-20分酌情给分；较深刻、较丰富、较有文采、较有创意为二等，可按11-15分酌情给分；略显深刻、略显丰富、略显文采、略显创意为三等，可按6-10分酌情给分；个别语句有深意、个别例子较好、个别语句较精彩、个别地方有深意为四等，可按0-5分酌情给分。\\n3、关于作文的其他项评定\\n1）扣分项评定\\n出现错别字，1个错别字扣1分，重复不计，扣完5分为止;标点符号出现3处以上错误的酌情扣分;不足字数者，每少50字扣1分;无标题扣2分。\\n2）残篇评定\\n400字以上的文章，按评分标准评分，扣字数分。(少50个字扣1分)\\n400字以下的文章，20分以下评分，不再扣字数分。\\n200字以下的文章，10分以下评分，不再扣字数分。\\n只写一两句话的，给1分或2分，不评0分。\\n只写标题的，给1分或2分，不评0分。\\n完全空白的，评0分。\\n\\n二、作文题目：\\n根据以下材料，自选角度，自拟题目，写一篇不少于800字的文章（不要写成诗歌）。\\n人的心中总有一些坚硬的东西，也有一些柔软的东西。如何对待它们，将关系到能否造就和谐的自我。\\n\\n三、待批改作文\\n心的交响：坚硬与柔软的共舞\\n\\n心中总有些东西坚硬如石，有些东西柔软如水。面对这两类情感载体，我们的处理方式决定了一个人的内在和谐。如此言之，如何将内心的坚硬与柔软有机结合，从而塑造一个和谐的自我呢？这便是我今天想要探讨的话题。\\n\\n首先，心中的坚硬之物，犹如巍峨的山峰，是我们坚定不移的信念与原则。这些信念如同指引灯塔，让我们在风雨飘摇的人生航程中不迷失方向。就如同古人云：“志坚者，功名之主也。”这种坚定不移的坚硬意志，使我们得以在挫折面前不屈不挠，挑战自我，实现价值。我们需要坚守这些信念，正如石头一样经受风雨洗礼，仍然屹立不倒。\\n\\n然而，仅有坚硬是不够的。心中的柔软之处，如同春水般温暖人心，它包含着我们的情感、同情心与包容心。这些柔软的情感是我们生活的调味品，使我们的生活更加丰富多彩。如诗人所言：“人间有情，情深似海。”这份柔软的情感使我们能够感知他人的痛苦与喜悦，愿意伸出援手，去帮助那些需要帮助的人。这种柔软，是我们身为人类的温情体现。\\n\\n面对心中的坚硬与柔软，我们应该如何去处理呢？这就像演奏一场心灵的交响乐，需要协调与和谐。一方面，我们要坚守心中的信念与原则，如同演奏交响乐时的坚定节奏；另一方面，我们要展现出心中的温暖与善良，如同交响乐中的柔和旋律。我们需要在这两者之间找到一个平衡点，让坚硬与柔软相互融合，相互衬托。如此，我们才能塑造出一个和谐统一的自我。\\n\\n此外，我们还要学会在适当的时候调整自己的心态。在坚守信念的同时，也要保持一颗包容的心。如同山间的流水，虽有石头的阻挡，但依然能够顺流而下，用其柔软温润的力量绕过阻碍。我们要学会像水一样去适应环境，而不是像石头一样硬碰硬。这样我们才能在人生的道路上走得更加顺畅。\\n\\n总之，我们应该将心中的坚硬与柔软视为一体两面，如同硬币的两面相辅相成。我们需要保持坚定的信念与决心，同时也需要拥有温暖的情感与同情心。如此，我们才能造就一个和谐的自我。让我们在人生的道路上，既有坚定不移的信念指引我们前行，又有温暖的情感照亮我们的心灵之路。这样的我们，才能如演奏一场美妙的交响乐般，将心中的坚硬与柔软完美地融合在一起。\\n\\n四、输出格式\\n{\"详细解析\":{\"内容项\": {\"解析\": \"xxxxxx。\",\"等级\": \"xx等\",\"得分\": \"xx分\"},\"表达项\": {\"解析\": \"xxxxxx。\",\"等级\": \"xx等\",\"得分\": \"xx分\"},\"发展等级\": {\"解析\": \"xxxxxx。\",\"等级\": \"xx等\",\"得分\": \"xx分\"},\"扣分项和残篇评定\": {\"解析\": \"xxxxxx。\",\"扣分\": \"xx分\"}},\"缺点和改进意见\": {\"缺点\": \"xxxxxx。\",\"改进意见\": \"xxxxxxx。\"},\"最终得分\": \"xx分\"}\\n', 'llm_output': '```json\\n{\"详细解析\":{\"内容项\": {\"解析\": \"文章紧扣题目材料，以“心的交响：坚硬与柔软的共舞”为题，准确地捕捉了题目的核心议题。全文围绕如何处理内心的坚硬与柔软展开论述，观点明确，内容充实，符合题意，中心突出。同时，文章所表达的思想健康，感情真挚，展现了作者对于和谐自我塑造的深入思考。\",\"等级\": \"一等\",\"得分\": \"18分\"},\"表达项\": {\"解析\": \"文章结构严谨，从引出话题到分别论述坚硬与柔软的重要性，再到如何处理二者关系，最后总结观点，层次分明，逻辑清晰。语言表达流畅，文采斐然，如“心中的坚硬之物，犹如巍峨的山峰”等比喻贴切生动，增强了文章的表现力。同时，字迹工整，符合文体要求，是一篇优秀的议论文。\",\"等级\": \"一等\",\"得分\": \"19分\"},\"发展等级\": {\"解析\": \"文章在深刻阐述坚硬与柔软关系的基础上，进一步提出了如何在二者间找到平衡、如何调整心态以适应环境的观点，显示了作者较深刻的思考。同时，文章材料丰富，既有古人名言的引用，又有生动的比喻，使得文章内涵丰富多彩。在文采方面，作者运用多种修辞手法，使文章富有文采。整体来看，文章在深刻、丰富、有文采方面均表现突出，显示出一定的创意。\",\"等级\": \"一等\",\"得分\": \"18分\"},\"扣分项和残篇评定\": {\"解析\": \"文章未出现错别字，标点符号使用正确，字数达到800字以上，且标题新颖，符合题目要求，因此无扣分项。\",\"扣分\": \"0分\"}},\"缺点和改进意见\": {\"缺点\": \"文章在个别地方的表述可以更加精炼，以避免略显啰嗦的情况。同时，虽然文章引用了古人名言，但可以进一步增加更多元化的论据来支撑观点，如现代事例或数据等。\",\"改进意见\": \"对文章进行细致的打磨，剔除冗余的表述，使语言更加简洁明了。同时，在论证过程中融入更多元化的论据，以增强文章的说服力和丰富性。\"},\"最终得分\": \"55分\"}\\n```'}, {'title': '乡间有谚语，“丝瓜藤，肉豆须，分不清。”意思是丝瓜的藤蔓与肉豆的藤须一旦纠缠在一起，是很难分开的。\\n有个小孩想分辨两者的不同，结果把自家庭院里丝瓜肉豆的那些纠结错综的茎叶都扯断了。\\n父亲看了好笑，就说：“种它们是挑来吃的，不是用来分辨的呀!”你只要照顾他们长大，摘下瓜和豆来吃就好了”\\n要求：1、选准角度，确定立意;2、自拟题目;3、除诗歌外，文体不限;4、问题特征鲜明。', 'essay': ' 题目：丝瓜与肉豆\\n\\n有一种植物，它的枝干上爬满了嫩绿的藤蔓，它的藤须缠绕在另一种植物的茎上，后者的枝干上则缠绕着前者的藤蔓。这是丝瓜和肉豆，它们藤蔓交织在一起，看起来纠缠不清，难以分辨。\\n\\n这世间，总有一些东西，它们表面看似毫无瓜葛，但却紧紧相连。就像丝瓜藤蔓和肉豆藤须，它们在空中交织，却难以分割。而这一次，我要说的，是丝瓜和肉豆这两个看似毫不相关的植物，它们之间又存在着怎样的联系呢？\\n\\n丝瓜，是一种葫芦科植物，它的果实呈长圆形或圆柱形，颜色有淡黄、淡绿或淡红等多种。丝瓜的藤蔓细长而柔软，可以爬满墙壁、树枝和器物，也可以悬挂在空中。丝瓜的果实成熟后，颜色变成了深绿色，形状如瓜子，形状美观，口感清爽，是一种人们喜爱的蔬菜。\\n\\n而肉豆，则是一种豆科植物，它的种子是红色或褐色，形状像豆子，味道豆腥，是一种人们常见的食物。肉豆的藤须短而粗壮，可以爬上树干或墙上，也可以缠绕在丝瓜藤上。肉豆的种子成熟后，颜色变成了褐色，形状如豆子，味道香醇，是一种人们喜爱的食物。\\n\\n看似毫不相关的丝瓜和肉豆，却有着千丝万缕的联系。据传，古代人们曾将丝瓜藤和肉豆藤攀在一起，以此来辨别两者，防止它们生长在一起，影响收成。但这种做法却弄巧成拙，因为它们藤蔓交织在一起，想要分开就变得格外困难。\\n\\n而如今，我们常常在家庭院子里看到丝瓜肉豆藤纠缠在一起，有时还会不小心将它们弄断。但父亲总是笑着说：“种它们是挑来吃的，不是用来分辨的呀！只要照顾他们长大，摘下瓜和豆来吃就好了。”他的话让我懂得了在生活中，许多看似毫无关系的事物，实际上却存在着千丝万缕的联系。\\n\\n丝瓜和肉豆，这两种看似毫不相关的植物，却成为了人们生活中不可或缺的一部分。无论是丝瓜的藤蔓和肉豆的藤须，还是丝瓜和肉豆之间的纠缠，它们都值得我们去品味、去感悟。因为只有这样，我们才能更好地发现生活中的美好，更好地把握人生。', 'input_prompt': '你是一个高考语文阅卷老师，现在有一个高考作文题目和一篇待批改论文，需要你对这篇待批改论文进行评分。\\n要求：\\n1）请认真阅读作文批改要求和作文题目，对这篇待批改作文进行公正严格的批改和打分；\\n2）评分一定要严格，不能轻易给出高分。\\n3）最后返回内容要严格按照最后的输出格式。\\n\\n一、作文批改要求：\\n高考作文评分批改分为基础等级、发展等级、关于作文的其他项评定\\n1、基础等级\\n基础等级分内容和表达两项。\\n1）内容项\\n具体评分规则如下：符合题意、中心突出、内容充实、思想健康、感情真挚为一等，可按16-20分酌情给分；符合题意、主题明确、内容较充实、思想健康、感情真实为二等，可按11-15分酌情给分；基本符合题意、中心基本明确、内容单薄、思想基本健康、感情基本真实为三等，可按6-10分酌情给分；偏离题意、中心不明确、内容不当、思想不健康、感情虚假为四等，可按0-5分酌情给分。\\n2）表达项\\n具体评分规则如下：符合文体要求、结构严谨、语言流畅、字迹工整为一等，可按16-20分酌情给分；符合文体要求、结构完整、语言通顺、字迹清楚为二等，可按11-15分酌情给分；基本符合文体要求、结构基本完整、语言基本通顺、字迹基本清楚为三等，可按6-10分酌情给分；不符合文体要求、结构混乱、语言不通顺语病多、字迹潦草难辨为四等，可按0-5分酌情给分。\\n2、发展等级\\n基础等级分要与发展等级分相匹配，发展等级分不能跨越基础等级的得分等级。\\n具体评分规则如下：深刻、丰富、有文采、有创意为一等，可按16-20分酌情给分；较深刻、较丰富、较有文采、较有创意为二等，可按11-15分酌情给分；略显深刻、略显丰富、略显文采、略显创意为三等，可按6-10分酌情给分；个别语句有深意、个别例子较好、个别语句较精彩、个别地方有深意为四等，可按0-5分酌情给分。\\n3、关于作文的其他项评定\\n1）扣分项评定\\n出现错别字，1个错别字扣1分，重复不计，扣完5分为止;标点符号出现3处以上错误的酌情扣分;不足字数者，每少50字扣1分;无标题扣2分。\\n2）残篇评定\\n400字以上的文章，按评分标准评分，扣字数分。(少50个字扣1分)\\n400字以下的文章，20分以下评分，不再扣字数分。\\n200字以下的文章，10分以下评分，不再扣字数分。\\n只写一两句话的，给1分或2分，不评0分。\\n只写标题的，给1分或2分，不评0分。\\n完全空白的，评0分。\\n\\n二、作文题目：\\n乡间有谚语，“丝瓜藤，肉豆须，分不清。”意思是丝瓜的藤蔓与肉豆的藤须一旦纠缠在一起，是很难分开的。\\n有个小孩想分辨两者的不同，结果把自家庭院里丝瓜肉豆的那些纠结错综的茎叶都扯断了。\\n父亲看了好笑，就说：“种它们是挑来吃的，不是用来分辨的呀!”你只要照顾他们长大，摘下瓜和豆来吃就好了”\\n要求：1、选准角度，确定立意;2、自拟题目;3、除诗歌外，文体不限;4、问题特征鲜明。\\n\\n三、待批改作文\\n 题目：丝瓜与肉豆\\n\\n有一种植物，它的枝干上爬满了嫩绿的藤蔓，它的藤须缠绕在另一种植物的茎上，后者的枝干上则缠绕着前者的藤蔓。这是丝瓜和肉豆，它们藤蔓交织在一起，看起来纠缠不清，难以分辨。\\n\\n这世间，总有一些东西，它们表面看似毫无瓜葛，但却紧紧相连。就像丝瓜藤蔓和肉豆藤须，它们在空中交织，却难以分割。而这一次，我要说的，是丝瓜和肉豆这两个看似毫不相关的植物，它们之间又存在着怎样的联系呢？\\n\\n丝瓜，是一种葫芦科植物，它的果实呈长圆形或圆柱形，颜色有淡黄、淡绿或淡红等多种。丝瓜的藤蔓细长而柔软，可以爬满墙壁、树枝和器物，也可以悬挂在空中。丝瓜的果实成熟后，颜色变成了深绿色，形状如瓜子，形状美观，口感清爽，是一种人们喜爱的蔬菜。\\n\\n而肉豆，则是一种豆科植物，它的种子是红色或褐色，形状像豆子，味道豆腥，是一种人们常见的食物。肉豆的藤须短而粗壮，可以爬上树干或墙上，也可以缠绕在丝瓜藤上。肉豆的种子成熟后，颜色变成了褐色，形状如豆子，味道香醇，是一种人们喜爱的食物。\\n\\n看似毫不相关的丝瓜和肉豆，却有着千丝万缕的联系。据传，古代人们曾将丝瓜藤和肉豆藤攀在一起，以此来辨别两者，防止它们生长在一起，影响收成。但这种做法却弄巧成拙，因为它们藤蔓交织在一起，想要分开就变得格外困难。\\n\\n而如今，我们常常在家庭院子里看到丝瓜肉豆藤纠缠在一起，有时还会不小心将它们弄断。但父亲总是笑着说：“种它们是挑来吃的，不是用来分辨的呀！只要照顾他们长大，摘下瓜和豆来吃就好了。”他的话让我懂得了在生活中，许多看似毫无关系的事物，实际上却存在着千丝万缕的联系。\\n\\n丝瓜和肉豆，这两种看似毫不相关的植物，却成为了人们生活中不可或缺的一部分。无论是丝瓜的藤蔓和肉豆的藤须，还是丝瓜和肉豆之间的纠缠，它们都值得我们去品味、去感悟。因为只有这样，我们才能更好地发现生活中的美好，更好地把握人生。\\n\\n四、输出格式\\n{\"详细解析\":{\"内容项\": {\"解析\": \"xxxxxx。\",\"等级\": \"xx等\",\"得分\": \"xx分\"},\"表达项\": {\"解析\": \"xxxxxx。\",\"等级\": \"xx等\",\"得分\": \"xx分\"},\"发展等级\": {\"解析\": \"xxxxxx。\",\"等级\": \"xx等\",\"得分\": \"xx分\"},\"扣分项和残篇评定\": {\"解析\": \"xxxxxx。\",\"扣分\": \"xx分\"}},\"缺点和改进意见\": {\"缺点\": \"xxxxxx。\",\"改进意见\": \"xxxxxxx。\"},\"最终得分\": \"xx分\"}\\n', 'llm_output': '```json\\n{\"详细解析\":{\"内容项\": {\"解析\": \"文章围绕丝瓜和肉豆的纠缠关系展开，通过描述两者的特征和联系，引申出对生活中事物间联系的感悟。内容符合题意，中心突出，思想健康，感情真挚，但部分描述略显重复，不够精炼。\",\"等级\": \"一等\",\"得分\": \"18分\"},\"表达项\": {\"解析\": \"文章结构完整，语言通顺，但部分句子稍显冗长，不够简洁明了。整体符合文体要求，字迹清晰。\",\"等级\": \"二等\",\"得分\": \"14分\"},\"发展等级\": {\"解析\": \"文章通过丝瓜和肉豆的纠缠，引发出对生活中事物联系的深层次思考，显示出一定的深刻性和创意。但在文采和丰富性方面还有提升空间。\",\"等级\": \"二等\",\"得分\": \"12分\"},\"扣分项和残篇评定\": {\"解析\": \"文章未出现错别字，标点符号使用也基本正确，字数达到要求，无需扣分。\",\"扣分\": \"0分\"}},\"缺点和改进意见\": {\"缺点\": \"部分描述重复，句子不够简洁；文采和丰富性有待提升。\",\"改进意见\": \"精简重复的描述，使语言更加简洁明了；在文采方面可以通过运用更多的修辞手法和丰富的词汇来提升文章的吸引力。\"},\"最终得分\": \"44分\"}\\n```'}, {'title': '根据以下材料，自选角度，自拟题目，写一篇不少于800字的文章（不要写成诗歌）。\\n人的心中总有一些坚硬的东西，也有一些柔软的东西。如何对待它们，将关系到能否造就和谐的自我。', 'essay': ' 材料：\\n\\n古人云：“知之者不如好之者，好之者不如乐之者。”说明在我们的人生旅程中，知识、技能或者成就并不是最重要的，追求内心的快乐才是人生的真谛。\\n\\n然而，在现代社会中，很多人为了追求所谓的成功，不断地奔波、劳累，却忘记了生活中最美好的东西，他们对知识、技能和功名利禄的追求，已经远远超过了对自己内心快乐的追求。\\n\\n针对这一现象，我认为，我们应当学会在追求知识、技能和功名利禄的同时，不忘初心，坚守内心的快乐，让自己的人生变得更加丰富多彩。\\n\\n首先，我们要明确知识、技能和功名利禄并不是人生的全部。我们追求这些东西的同时，也要注重培养自己的人品、道德和情感，追求内心真正的快乐。正如苏轼所说：“人间有味是清欢。”我们只有在内心感受到快乐和清欢，才能真正地感受到人生的意义。\\n\\n其次，我们要学会平衡自己的生活。我们不仅要注重自己的专业技能和知识的学习，还要注重自己的身心健康和家庭生活。正如卢梭所说：“使你的每一天，都过得幸福、充实，都能享受人生的美好。”只有这样，我们才能更好地追求自己的内心快乐，使自己的人生变得更加丰富多彩。\\n\\n最后，我们要学会欣赏生活中的点滴美好。我们常常会因为一些琐碎的小事而烦恼，却忽略了生活中最美好的东西。我们要学会用心去感受生活中的点滴美好，让这些美好构建起我们内心快乐的基础。\\n\\n总之，知识、技能和功名利禄并不是人生的全部，我们追求这些东西的同时，也要注重培养自己的人品、道德和情感，追求内心真正的快乐。同时，我们还要学会平衡自己的生活，欣赏生活中的点滴美好。这样，我们的人生才能变得更加丰富多彩。', 'input_prompt': '你是一个高考语文阅卷老师，现在有一个高考作文题目和一篇待批改论文，需要你对这篇待批改论文进行评分。\\n要求：\\n1）请认真阅读作文批改要求和作文题目，对这篇待批改作文进行公正严格的批改和打分；\\n2）评分一定要严格，不能轻易给出高分。\\n3）最后返回内容要严格按照最后的输出格式。\\n\\n一、作文批改要求：\\n高考作文评分批改分为基础等级、发展等级、关于作文的其他项评定\\n1、基础等级\\n基础等级分内容和表达两项。\\n1）内容项\\n具体评分规则如下：符合题意、中心突出、内容充实、思想健康、感情真挚为一等，可按16-20分酌情给分；符合题意、主题明确、内容较充实、思想健康、感情真实为二等，可按11-15分酌情给分；基本符合题意、中心基本明确、内容单薄、思想基本健康、感情基本真实为三等，可按6-10分酌情给分；偏离题意、中心不明确、内容不当、思想不健康、感情虚假为四等，可按0-5分酌情给分。\\n2）表达项\\n具体评分规则如下：符合文体要求、结构严谨、语言流畅、字迹工整为一等，可按16-20分酌情给分；符合文体要求、结构完整、语言通顺、字迹清楚为二等，可按11-15分酌情给分；基本符合文体要求、结构基本完整、语言基本通顺、字迹基本清楚为三等，可按6-10分酌情给分；不符合文体要求、结构混乱、语言不通顺语病多、字迹潦草难辨为四等，可按0-5分酌情给分。\\n2、发展等级\\n基础等级分要与发展等级分相匹配，发展等级分不能跨越基础等级的得分等级。\\n具体评分规则如下：深刻、丰富、有文采、有创意为一等，可按16-20分酌情给分；较深刻、较丰富、较有文采、较有创意为二等，可按11-15分酌情给分；略显深刻、略显丰富、略显文采、略显创意为三等，可按6-10分酌情给分；个别语句有深意、个别例子较好、个别语句较精彩、个别地方有深意为四等，可按0-5分酌情给分。\\n3、关于作文的其他项评定\\n1）扣分项评定\\n出现错别字，1个错别字扣1分，重复不计，扣完5分为止;标点符号出现3处以上错误的酌情扣分;不足字数者，每少50字扣1分;无标题扣2分。\\n2）残篇评定\\n400字以上的文章，按评分标准评分，扣字数分。(少50个字扣1分)\\n400字以下的文章，20分以下评分，不再扣字数分。\\n200字以下的文章，10分以下评分，不再扣字数分。\\n只写一两句话的，给1分或2分，不评0分。\\n只写标题的，给1分或2分，不评0分。\\n完全空白的，评0分。\\n\\n二、作文题目：\\n根据以下材料，自选角度，自拟题目，写一篇不少于800字的文章（不要写成诗歌）。\\n人的心中总有一些坚硬的东西，也有一些柔软的东西。如何对待它们，将关系到能否造就和谐的自我。\\n\\n三、待批改作文\\n 材料：\\n\\n古人云：“知之者不如好之者，好之者不如乐之者。”说明在我们的人生旅程中，知识、技能或者成就并不是最重要的，追求内心的快乐才是人生的真谛。\\n\\n然而，在现代社会中，很多人为了追求所谓的成功，不断地奔波、劳累，却忘记了生活中最美好的东西，他们对知识、技能和功名利禄的追求，已经远远超过了对自己内心快乐的追求。\\n\\n针对这一现象，我认为，我们应当学会在追求知识、技能和功名利禄的同时，不忘初心，坚守内心的快乐，让自己的人生变得更加丰富多彩。\\n\\n首先，我们要明确知识、技能和功名利禄并不是人生的全部。我们追求这些东西的同时，也要注重培养自己的人品、道德和情感，追求内心真正的快乐。正如苏轼所说：“人间有味是清欢。”我们只有在内心感受到快乐和清欢，才能真正地感受到人生的意义。\\n\\n其次，我们要学会平衡自己的生活。我们不仅要注重自己的专业技能和知识的学习，还要注重自己的身心健康和家庭生活。正如卢梭所说：“使你的每一天，都过得幸福、充实，都能享受人生的美好。”只有这样，我们才能更好地追求自己的内心快乐，使自己的人生变得更加丰富多彩。\\n\\n最后，我们要学会欣赏生活中的点滴美好。我们常常会因为一些琐碎的小事而烦恼，却忽略了生活中最美好的东西。我们要学会用心去感受生活中的点滴美好，让这些美好构建起我们内心快乐的基础。\\n\\n总之，知识、技能和功名利禄并不是人生的全部，我们追求这些东西的同时，也要注重培养自己的人品、道德和情感，追求内心真正的快乐。同时，我们还要学会平衡自己的生活，欣赏生活中的点滴美好。这样，我们的人生才能变得更加丰富多彩。\\n\\n四、输出格式\\n{\"详细解析\":{\"内容项\": {\"解析\": \"xxxxxx。\",\"等级\": \"xx等\",\"得分\": \"xx分\"},\"表达项\": {\"解析\": \"xxxxxx。\",\"等级\": \"xx等\",\"得分\": \"xx分\"},\"发展等级\": {\"解析\": \"xxxxxx。\",\"等级\": \"xx等\",\"得分\": \"xx分\"},\"扣分项和残篇评定\": {\"解析\": \"xxxxxx。\",\"扣分\": \"xx分\"}},\"缺点和改进意见\": {\"缺点\": \"xxxxxx。\",\"改进意见\": \"xxxxxxx。\"},\"最终得分\": \"xx分\"}\\n', 'llm_output': '```json\\n{\"详细解析\":{\"内容项\": {\"解析\": \"文章从古人名言引入，提出在追求知识、技能和功名利禄的同时，应不忘初心，坚守内心的快乐。观点明确，符合题意，但内容相对较为普通，缺乏深刻的见解或新颖的角度，可视为二等。\",\"等级\": \"二等\",\"得分\": \"13分\"},\"表达项\": {\"解析\": \"文章结构清晰，分为引入、论述和总结三个部分，语言通顺，符合议论文的写作规范。字迹清楚，符合二等评分标准。\",\"等级\": \"二等\",\"得分\": \"13分\"},\"发展等级\": {\"解析\": \"文章在论述过程中，虽然能够引用古人名言来支持观点，但整体上缺乏深刻的剖析和独到的见解，创意和文采表现平平，可评为二等。\",\"等级\": \"二等\",\"得分\": \"12分\"},\"扣分项和残篇评定\": {\"解析\": \"文章未出现明显的错别字或标点符号错误，字数也达到800字以上，因此不扣分。\",\"扣分\": \"0分\"}},\"缺点和改进意见\": {\"缺点\": \"文章内容相对普通，缺乏深刻的见解和新颖的角度；在文采和创意方面表现平平，未能充分展现作者的个性和思考深度。\",\"改进意见\": \"可以尝试从更多元的角度探讨主题，结合现实生活中的具体案例进行深刻剖析，以提升文章的深度和广度；同时，注重语言的锤炼和文采的提升，使文章更具吸引力和感染力。\"},\"最终得分\": \"50分\"}\\n```'}]\n"
     ]
    }
   ],
   "source": [
    "print(len(unfiltered_dataset_list))\n",
    "print(unfiltered_dataset_list[0].list())"
   ]
  },
  {
   "cell_type": "markdown",
   "metadata": {},
   "source": [
    "## 2.3 数据清洗\n",
    "\n",
    "平台提供数据清洗能力：https://console.bce.baidu.com/qianfan/data/etl/v2/clean/list \n",
    "\n",
    "同时，我们在本地提供了未经清洗过的、生成后的数据集，供大家测试。\n",
    "\n",
    "接下来我们加载这些数据，并对于得到的数据，我们可以先简单的使用数据洞察功能，来观察一下数据指标："
   ]
  },
  {
   "cell_type": "code",
   "execution_count": 16,
   "metadata": {},
   "outputs": [],
   "source": [
    "import logging\n",
    "from qianfan.utils import enable_log\n",
    "\n",
    "enable_log(logging.ERROR)"
   ]
  },
  {
   "cell_type": "code",
   "execution_count": 17,
   "metadata": {},
   "outputs": [
    {
     "name": "stdout",
     "output_type": "stream",
     "text": [
      "\n",
      "\n",
      "entry count: 8\n",
      "\n",
      "                    title    essay    input_prompt    llm_output\n",
      "----------------  -------  -------  --------------  ------------\n",
      "reputation_ratio     0.75        0               0             0\n",
      "null_ratio              0        0               0             0\n",
      "great_essay essay statistics:\n",
      "\n",
      "               content_length     character_repetition_ratio    special_characters_ratio\n",
      "-------------  -----------------  ----------------------------  --------------------------\n",
      "mean           836.0              0.024665953118188234          0.1318208258615059\n",
      "min            666                0.0                           0.09841628959276018\n",
      "max            949                0.076103500761035             0.15217391304347827\n",
      "80.0_quantile  915.4000000000001  0.04804376899696049           0.14431672025723472\n",
      "90.0_quantile  937.8              0.058031050228310496          0.146938347546484\n",
      "great_essay correction statistics:\n",
      "\n",
      "               content_length    character_repetition_ratio    special_characters_ratio\n",
      "-------------  ----------------  ----------------------------  --------------------------\n",
      "mean           613.0             0.10359964211820634           0.33070510177593004\n",
      "min            524               0.08487084870848709           0.2798053527980535\n",
      "max            822               0.12773722627737227           0.36044362292051757\n",
      "80.0_quantile  652.8             0.11891828015634943           0.3511395562377513\n",
      "90.0_quantile  721.2             0.12305800998847484           0.35570938849195416\n",
      "\n",
      "\n",
      "entry count: 8\n",
      "\n",
      "                    title    essay    input_prompt    llm_output\n",
      "----------------  -------  -------  --------------  ------------\n",
      "reputation_ratio     0.75        0               0             0\n",
      "null_ratio              0        0               0             0\n",
      "good_essay essay statistics:\n",
      "\n",
      "               content_length     character_repetition_ratio    special_characters_ratio\n",
      "-------------  -----------------  ----------------------------  --------------------------\n",
      "mean           811.125            0.028474238948362             0.13631193445003875\n",
      "min            553                0.0                           0.049586776859504134\n",
      "max            1065               0.14522058823529413           0.27124773960216997\n",
      "80.0_quantile  948.4000000000001  0.04157986898042342           0.14531972259551051\n",
      "90.0_quantile  997.0999999999999  0.08407250558451226           0.18572687900796325\n",
      "good_essay correction statistics:\n",
      "\n",
      "               content_length     character_repetition_ratio    special_characters_ratio\n",
      "-------------  -----------------  ----------------------------  --------------------------\n",
      "mean           673.625            0.10180813355362106           0.3129875917241987\n",
      "min            563                0.08124076809453472           0.2608257804632427\n",
      "max            993                0.1263537906137184            0.34991119005328597\n",
      "80.0_quantile  683.2              0.10980854197349044           0.33817681895093066\n",
      "90.0_quantile  778.0999999999999  0.11790613718411552           0.34316780146043024\n",
      "\n",
      "\n",
      "entry count: 8\n",
      "\n",
      "                    title    essay    input_prompt    llm_output\n",
      "----------------  -------  -------  --------------  ------------\n",
      "reputation_ratio     0.75        0               0             0\n",
      "null_ratio              0        0               0             0\n",
      "normal_essay essay statistics:\n",
      "\n",
      "               content_length    character_repetition_ratio    special_characters_ratio\n",
      "-------------  ----------------  ----------------------------  --------------------------\n",
      "mean           755.875           0.02541898227927341           0.12432922933853813\n",
      "min            313               0.0                           0.08959835221421215\n",
      "max            991               0.0830188679245283            0.1501597444089457\n",
      "80.0_quantile  939.4             0.05175000000000003           0.13568708531265417\n",
      "90.0_quantile  977.0             0.07828066037735848           0.14109242270463673\n",
      "normal_essay correction statistics:\n",
      "\n",
      "               content_length    character_repetition_ratio    special_characters_ratio\n",
      "-------------  ----------------  ----------------------------  --------------------------\n",
      "mean           577.5             0.10533905566727642           0.3353663591652376\n",
      "min            521               0.08461538461538462           0.30349013657056145\n",
      "max            659               0.1218568665377176            0.3685220729366603\n",
      "80.0_quantile  599.4             0.1156784335355764            0.35402592525532955\n",
      "90.0_quantile  618.4             0.11869991710417244           0.3647391313867015\n",
      "\n",
      "\n",
      "entry count: 8\n",
      "\n",
      "                    title    essay    input_prompt    llm_output\n",
      "----------------  -------  -------  --------------  ------------\n",
      "reputation_ratio     0.75        0               0             0\n",
      "null_ratio              0        0               0             0\n",
      "failed_essay essay statistics:\n",
      "\n",
      "               content_length    character_repetition_ratio    special_characters_ratio\n",
      "-------------  ----------------  ----------------------------  --------------------------\n",
      "mean           517.125           0.0072499604120273625         0.14771959009285834\n",
      "min            201               0.0                           0.12255772646536411\n",
      "max            655               0.042643923240938165          0.22885572139303484\n",
      "80.0_quantile  592.2             0.008454442750435998          0.1586607926914761\n",
      "90.0_quantile  622.8             0.02088566252141439           0.18874039842627865\n",
      "failed_essay correction statistics:\n",
      "\n",
      "               content_length     character_repetition_ratio    special_characters_ratio\n",
      "-------------  -----------------  ----------------------------  --------------------------\n",
      "mean           580.75             0.10878816620578274           0.34315609319181106\n",
      "min            486                0.08620689655172414           0.2865248226950355\n",
      "max            705                0.13417190775681342           0.39711934156378603\n",
      "80.0_quantile  647.8000000000001  0.1311132422280828            0.36900559090032775\n",
      "90.0_quantile  689.6              0.1326227063476626            0.3798645474084071\n"
     ]
    }
   ],
   "source": [
    "from essay_data_aug import task_unit_list\n",
    "for i in range(len(unfiltered_dataset_list)):\n",
    "    ds = unfiltered_dataset_list[i]\n",
    "    print(\"\\n\")\n",
    "    ds.show_overview_info()\n",
    "\n",
    "    print(f\"{task_unit_list[i].name} essay statistics:\\n\")\n",
    "    insighter.insight(ds, \"essay\").show_processed_statistics()\n",
    "\n",
    "    print(f\"{task_unit_list[i].name} correction statistics:\\n\")\n",
    "    insighter.insight(ds, \"llm_output\").show_processed_statistics()"
   ]
  },
  {
   "cell_type": "markdown",
   "metadata": {},
   "source": [
    "然后对于生成得到的数据，我们可以先简单的进行一次简单的数据清洗，去除那些不符合我们字数要求的作文以及不合规的评分\n",
    "\n",
    "站在业务场景的角度考虑，我们设计了五个本地数据清洗算子，分别是：\n",
    "\n",
    "+ 长度过滤：过滤掉那些不符合长度要求的作文数据\n",
    "+ 作文质量过滤：由于大模型的生成结果可能会包含我们不想要的内容，因此我们需要通过关键词匹配的方式去过滤掉这部分低质量数据\n",
    "+ 评分格式过滤：过滤掉那些不符合输出打分格式的数据\n",
    "+ 分数一致性过滤：过滤掉超出打分范围的打分数据\n",
    "+ 等级一致性过滤：过滤掉不在评分等级内的打分数据\n",
    "\n",
    "相关代码在 essay_data_clean.py 中\n",
    "\n",
    "然后我们就可以使用 `Dataset` 对象所提供的 `filter` 函数，来链式调用的处理这些数据"
   ]
  },
  {
   "cell_type": "code",
   "execution_count": 18,
   "metadata": {},
   "outputs": [
    {
     "name": "stdout",
     "output_type": "stream",
     "text": [
      "great_essay 数据集清洗前数据条量: 8\n",
      "great_essay 数据集清洗后数据条量: 4 \n",
      "\n",
      "entry count: 4\n",
      "\n",
      "                    title    essay    input_prompt    llm_output\n",
      "----------------  -------  -------  --------------  ------------\n",
      "reputation_ratio      0.5        0               0             0\n",
      "null_ratio              0        0               0             0\n",
      "great_essay essay statistics:\n",
      "\n",
      "               content_length    character_repetition_ratio    special_characters_ratio\n",
      "-------------  ----------------  ----------------------------  --------------------------\n",
      "mean           888.25            0.015169501532387223          0.13657065180813308\n",
      "min            782               0.0                           0.12118018967334036\n",
      "max            949               0.04468085106382979           0.15217391304347827\n",
      "80.0_quantile  939.4             0.024365846919038422          0.14768628547462603\n",
      "90.0_quantile  944.2             0.03452334899143411           0.14993009925905215\n",
      "great_essay correction statistics:\n",
      "\n",
      "               content_length     character_repetition_ratio    special_characters_ratio\n",
      "-------------  -----------------  ----------------------------  --------------------------\n",
      "mean           641.25             0.09379540379394738           0.3250653964437728\n",
      "min            524                0.08487084870848709           0.2798053527980535\n",
      "max            822                0.10338345864661654           0.36044362292051757\n",
      "80.0_quantile  735.6000000000001  0.09875248659766006           0.35257439573309257\n",
      "90.0_quantile  778.8              0.1010679726221383            0.35650900932680507\n",
      "good_essay 数据集清洗前数据条量: 8\n",
      "good_essay 数据集清洗后数据条量: 2 \n",
      "\n",
      "entry count: 2\n",
      "\n",
      "                    title    essay    input_prompt    llm_output\n",
      "----------------  -------  -------  --------------  ------------\n",
      "reputation_ratio        0        0               0             0\n",
      "null_ratio              0        0               0             0\n",
      "good_essay essay statistics:\n",
      "\n",
      "               content_length    character_repetition_ratio    special_characters_ratio\n",
      "-------------  ----------------  ----------------------------  --------------------------\n",
      "mean           827.5             0.0037783715623874144         0.13339789771709346\n",
      "min            766               0.0022727272727272726         0.12710911136107986\n",
      "max            889               0.005284015852047556          0.13968668407310705\n",
      "80.0_quantile  864.4             0.0046817581361835            0.1371711695307016\n",
      "90.0_quantile  876.7             0.0049828869941155275         0.13842892680190433\n",
      "good_essay correction statistics:\n",
      "\n",
      "               content_length     character_repetition_ratio    special_characters_ratio\n",
      "-------------  -----------------  ----------------------------  --------------------------\n",
      "mean           577.0              0.11472328705943652           0.34246828538197294\n",
      "min            563                0.10309278350515463           0.3350253807106599\n",
      "max            591                0.1263537906137184            0.34991119005328597\n",
      "80.0_quantile  585.4              0.12170158919200565           0.34693402818476077\n",
      "90.0_quantile  588.1999999999999  0.12402768990286202           0.34842260911902334\n",
      "normal_essay 数据集清洗前数据条量: 8\n",
      "normal_essay 数据集清洗后数据条量: 2 \n",
      "\n",
      "entry count: 2\n",
      "\n",
      "                    title    essay    input_prompt    llm_output\n",
      "----------------  -------  -------  --------------  ------------\n",
      "reputation_ratio      0.5        0               0             0\n",
      "null_ratio              0        0               0             0\n",
      "normal_essay essay statistics:\n",
      "\n",
      "               content_length     character_repetition_ratio    special_characters_ratio\n",
      "-------------  -----------------  ----------------------------  --------------------------\n",
      "mean           941.5              0.008260812403558504          0.12472623567262311\n",
      "min            892                0.0022650056625141564         0.11604439959636731\n",
      "max            991                0.014256619144602852          0.13340807174887892\n",
      "80.0_quantile  971.2              0.011858296448185113          0.1299353373183766\n",
      "90.0_quantile  981.0999999999999  0.013057457796393982          0.13167170453362775\n",
      "normal_essay correction statistics:\n",
      "\n",
      "               content_length    character_repetition_ratio    special_characters_ratio\n",
      "-------------  ----------------  ----------------------------  --------------------------\n",
      "mean           546.5             0.11021158739072259           0.3517529388885536\n",
      "min            526               0.0985663082437276            0.3403880070546737\n",
      "max            567               0.1218568665377176            0.36311787072243346\n",
      "80.0_quantile  558.8             0.11719875487891959           0.3585718979888815\n",
      "90.0_quantile  562.9             0.1195278107083186            0.3608448843556575\n",
      "failed_essay 数据集清洗前数据条量: 8\n",
      "failed_essay 数据集清洗后数据条量: 1 \n",
      "\n",
      "entry count: 1\n",
      "\n",
      "                    title    essay    input_prompt    llm_output\n",
      "----------------  -------  -------  --------------  ------------\n",
      "reputation_ratio        0        0               0             0\n",
      "null_ratio              0        0               0             0\n",
      "failed_essay essay statistics:\n",
      "\n",
      "               content_length    character_repetition_ratio    special_characters_ratio\n",
      "-------------  ----------------  ----------------------------  --------------------------\n",
      "mean           201.0             0.0                           0.22885572139303484\n",
      "min            201               0.0                           0.22885572139303484\n",
      "max            201               0.0                           0.22885572139303484\n",
      "80.0_quantile  201.0             0.0                           0.22885572139303484\n",
      "90.0_quantile  201.0             0.0                           0.22885572139303484\n",
      "failed_essay correction statistics:\n",
      "\n",
      "               content_length    character_repetition_ratio    special_characters_ratio\n",
      "-------------  ----------------  ----------------------------  --------------------------\n",
      "mean           705.0             0.08620689655172414           0.2865248226950355\n",
      "min            705               0.08620689655172414           0.2865248226950355\n",
      "max            705               0.08620689655172414           0.2865248226950355\n",
      "80.0_quantile  705.0             0.08620689655172414           0.2865248226950355\n",
      "90.0_quantile  705.0             0.08620689655172414           0.2865248226950355\n"
     ]
    }
   ],
   "source": [
    "from essay_data_clean import *\n",
    "from typing import List\n",
    "\n",
    "filtered_dataset_list: List[Dataset] = []\n",
    "\n",
    "\n",
    "for i, (ds, task) in enumerate(zip(unfiltered_dataset_list, task_unit_list)):\n",
    "    length_filter = character_length_filter_with_cond(task.is_bad_essay_case_set)\n",
    "\n",
    "    print(f\"{task.name} 数据集清洗前数据条量: {len(ds)}\")\n",
    "\n",
    "    new_ds = ds.filter(length_filter, True)\\\n",
    "        .filter(low_quality_essay_filter)\\\n",
    "        .filter(correction_format_filter)\\\n",
    "        .filter(score_consistence_filter)\\\n",
    "        .filter(level_consistence_filter)\n",
    "\n",
    "    print(f\"{task.name} 数据集清洗后数据条量: {len(new_ds)} \\n\")\n",
    "    \n",
    "    filtered_dataset_list.append(new_ds)\n",
    "    if len(new_ds) > 0:\n",
    "        #经过上述步骤，我们就得到了可被人工筛选的数据集。我们可以再做一次数据洞察，来看清洗后的数据情况\n",
    "        new_ds.show_overview_info()\n",
    "        print(f\"{task_unit_list[i].name} essay statistics:\\n\")\n",
    "        insighter.insight(new_ds, \"essay\").show_processed_statistics()\n",
    "\n",
    "        print(f\"{task_unit_list[i].name} correction statistics:\\n\")\n",
    "        insighter.insight(new_ds, \"llm_output\").show_processed_statistics()"
   ]
  },
  {
   "cell_type": "markdown",
   "metadata": {},
   "source": [
    "对于数据集按照以下方式进行人工评分，筛除1分的数据。\n",
    "* 3分:好评，返回格式满足prompt中的要求，解析合理有依据，缺点和改进意见有参考性，评分准确符合作文质量应得分数范围，扣分项按照规定的5分限制；\n",
    "* 2分:一般，返回格式满足prompt中的要求，解析基本合理，缺点和改进意见基本有参考性，扣分项按照规定的5分限制，评分稍有不合理；\n",
    "* 1分:差评，返回格式不满足prompt中的要求，最终得分计算出错，扣分项没按照规定的5分限制，出现满分，以上四项出现一项就差评。\n",
    "\n",
    "经过人工辅助的筛选之后，我们就得到了四个包含了四档等级的作文-评分数据集。\n",
    "我们可以把它们随机切分并拼接起来，得到最后的训练集与评估集。"
   ]
  },
  {
   "cell_type": "code",
   "execution_count": 19,
   "metadata": {},
   "outputs": [
    {
     "name": "stdout",
     "output_type": "stream",
     "text": [
      "training dataset len: 6\n",
      "eval dataset len: 3\n"
     ]
    }
   ],
   "source": [
    "import random\n",
    "\n",
    "final_dataset = Dataset.create_from_datasets(filtered_dataset_list)\n",
    "final_dataset.shuffle()\n",
    "\n",
    "def _format_map(entry: Dict[str, Any]) -> Dict:\n",
    "    return {\n",
    "        \"prompt\": entry[\"input_prompt\"],\n",
    "        \"response\": entry[\"llm_output\"],\n",
    "    }\n",
    "\n",
    "# 转换成modelbuilder数据集格式要求\n",
    "final_dataset.map(_format_map)\n",
    "final_dataset.pack()\n",
    "\n",
    "eval_ds = final_dataset.take_slice(0, 2, should_create_new_obj=True)\n",
    "training_ds = final_dataset.take_slice(3, should_create_new_obj=True)\n",
    "\n",
    "# 保存至本地路径中\n",
    "training_ds.save(data_file=\"./data/training_ds.json\")\n",
    "eval_ds.save(data_file=\"./data/eval_ds.json\")\n",
    "\n",
    "print(f\"training dataset len: {len(training_ds)}\")\n",
    "print(f\"eval dataset len: {len(eval_ds)}\")"
   ]
  },
  {
   "cell_type": "markdown",
   "metadata": {},
   "source": [
    "可将数据集上传至平台，实现精调以及后续流程。相关文档可查看此链接：[点击](https://github.com/baidubce/bce-qianfan-sdk/blob/main/docs/dataset.md#%E5%AF%BC%E5%87%BA-1)"
   ]
  },
  {
   "cell_type": "markdown",
   "metadata": {},
   "source": [
    "## 2.4 微调准备\n",
    "\n",
    "为了让我们的训练模型的成本和效果之间的tradeoff趋向于最优，千帆大模型平台SFT训练提供多种基础大模型的支持，我们可以通过千帆SDK提供的命令工具快速的浏览："
   ]
  },
  {
   "cell_type": "code",
   "execution_count": 20,
   "metadata": {},
   "outputs": [
    {
     "name": "stdout",
     "output_type": "stream",
     "text": [
      "\u001b[1;31mText2Text:\u001b[0m\r\n",
      "  \u001b[1;32mERNIE Speed:\u001b[0m\r\n",
      "    ERNIE-Speed-8K\r\n",
      "    \u001b[9mERNIE-Speed\u001b[0m\u001b[2;9m (deprecated)\u001b[0m\r\n",
      "  \u001b[1;32mERNIE-Bot-turbo:\u001b[0m\r\n",
      "    \u001b[9mERNIE-Bot-turbo-0704\u001b[0m\u001b[2;9m (deprecated)\u001b[0m\r\n",
      "    \u001b[9mERNIE-Bot-turbo-0725\u001b[0m\u001b[2;9m (deprecated)\u001b[0m\r\n",
      "    \u001b[9mERNIE-Bot-turbo-0922\u001b[0m\u001b[2;9m (deprecated)\u001b[0m\r\n",
      "  \u001b[1;32mLlama:\u001b[0m\r\n",
      "    Meta-Llama-3-8B\r\n",
      "    Qianfan-Chinese-Llama-2-1.3B\r\n",
      "    Qianfan-Chinese-Llama-2-13B-v1\r\n",
      "    Qianfan-Chinese-Llama-2-13B-v2\r\n",
      "    Qianfan-Chinese-Llama-2-7B\r\n",
      "    Qianfan-Chinese-Llama-2-7B-32K\r\n",
      "  \u001b[1;32mLlama-\u001b[0m\u001b[1;32m2\u001b[0m\u001b[1;32m:\u001b[0m\r\n",
      "    Qianfan-Chinese-Llama-2-13B\r\n",
      "  \u001b[1;32mSQLCoder-7B:\u001b[0m\r\n",
      "    SQLCoder-7B\r\n",
      "  \u001b[1;32mChatGLM:\u001b[0m\r\n",
      "    ChatGLM2-6B\r\n",
      "    ChatGLM2-6B-32K\r\n",
      "  \u001b[1;32mBaichuan2:\u001b[0m\r\n",
      "    Baichuan2-13B-Chat\r\n",
      "    Baichuan2-7B-Chat\r\n",
      "  \u001b[1;32mBLOOMZ-7B:\u001b[0m\r\n",
      "    BLOOMZ-7B\r\n",
      "  \u001b[1;32mCodeLlama:\u001b[0m\r\n",
      "    CodeLlama-7B\r\n",
      "  \u001b[1;32mCustom Model:\u001b[0m\r\n",
      "    Custom-Model\r\n",
      "  \u001b[1;32mERNIE Lite:\u001b[0m\r\n",
      "    ERNIE-Lite-128K-0419\r\n",
      "    ERNIE-Lite-8K-0308\r\n",
      "    ERNIE-Lite-8K-0922\r\n",
      "  \u001b[1;32mERNIE Character:\u001b[0m\r\n",
      "    ERNIE-Character-8K-0321\r\n",
      "  \u001b[1;32mERNIE Tiny:\u001b[0m\r\n",
      "    ERNIE-Tiny-8K\r\n",
      "  \u001b[1;32mMixtral-8x7B:\u001b[0m\r\n",
      "    Mixtral-8x7B\r\n",
      "\u001b[1;31mText2Image:\u001b[0m\r\n",
      "  \u001b[1;32mWENXIN-YIGE:\u001b[0m\r\n",
      "    WENXIN-YIGE\r\n",
      "  \u001b[1;32mStable-Diffusion-XL:\u001b[0m\r\n",
      "    Stable-Diffusion-XL-Base-1.0\r\n"
     ]
    }
   ],
   "source": [
    "!qianfan trainer finetune -l"
   ]
  },
  {
   "cell_type": "markdown",
   "metadata": {},
   "source": [
    "本次作文批改场景使用的是高考作文，对*中文的理解*和*生成能力*有较高要求，我们通过多个实验对比了多个基础模型的效果，最终选择了ERNIE Speed模型作为训练的基础模型。\n",
    "该模型为百度2024年最新发布的自研高性能大语言模型，通用能力优异，适合作为基座模型进行精调，更好地处理特定场景问题，同时具备极佳的推理性能。\n",
    "\n",
    "确定了基础的模型后，我们进一步来看ERNIE-Speed支持的超参以及对应的意义：\n",
    "\n",
    "类似的，我们也可以使用千帆SDK的命令行工具以获取模型参数列表，以及支持取值范围："
   ]
  },
  {
   "cell_type": "code",
   "execution_count": 21,
   "metadata": {},
   "outputs": [
    {
     "name": "stdout",
     "output_type": "stream",
     "text": [
      "┏━━━━━━━━━━━━━━━━━━━━━━━━━┳━━━━━━━━━━━━━━━━━━━━━━━━━┳━━━━━━━━━━━━━━━━━━━━━━━━━━┓\r\n",
      "┃\u001b[1m \u001b[0m\u001b[1m                       \u001b[0m\u001b[1m \u001b[0m┃\u001b[1m \u001b[0m\u001b[32m'FullFineTuning'\u001b[0m\u001b[1m       \u001b[0m\u001b[1m \u001b[0m┃\u001b[1m \u001b[0m\u001b[32m'LoRA'\u001b[0m\u001b[1m                  \u001b[0m\u001b[1m \u001b[0m┃\r\n",
      "┡━━━━━━━━━━━━━━━━━━━━━━━━━╇━━━━━━━━━━━━━━━━━━━━━━━━━╇━━━━━━━━━━━━━━━━━━━━━━━━━━┩\r\n",
      "│ epoch                   │ [1, 50]                 │ [1, 50]                  │\r\n",
      "│ learning_rate           │ [1e-06, 4e-05]          │ [1e-06, 0.001]           │\r\n",
      "│ max_seq_len             │ [512, 1024, 2048, 4096, │ [512, 1024, 2048, 4096,  │\r\n",
      "│                         │ 8192]                   │ 8192]                    │\r\n",
      "│ logging_steps           │ [1, 1]                  │ [1, 1]                   │\r\n",
      "│ warmup_ratio            │ [0.01, 0.5]             │ [0.01, 0.5]              │\r\n",
      "│ weight_decay            │ [0.0001, 0.1]           │ [0.0001, 0.1]            │\r\n",
      "│ lora_rank               │ ---                     │ [2, 4, 8]                │\r\n",
      "│ lora_all_linear         │ ---                     │ ['True', 'False']        │\r\n",
      "│ gradient_accumulation_… │ [0, 32]                 │ [0, 32]                  │\r\n",
      "│ pseudo_sampling_prob    │ [0, 1]                  │ [0, 1]                   │\r\n",
      "│ checkpoint_count        │ [1, 10]                 │ [1, 10]                  │\r\n",
      "│ save_step               │ [64, 128, 256, 512,     │ [64, 128, 256, 512,      │\r\n",
      "│                         │ 1024, 2048, 4096]       │ 1024, 2048, 4096]        │\r\n",
      "│ seed                    │ [1, 2147483647]         │ [1, 2147483647]          │\r\n",
      "│ lr_scheduler_type       │ ['linear', 'cosine',    │ ['linear', 'cosine',     │\r\n",
      "│                         │ 'polynomial',           │ 'polynomial',            │\r\n",
      "│                         │ 'constant',             │ 'constant',              │\r\n",
      "│                         │ 'constant_with_warmup'] │ 'constant_with_warmup']  │\r\n",
      "│ num_cycles              │ [0.1, 0.5]              │ [0.1, 0.5]               │\r\n",
      "│ lr_end                  │ [1e-08, 1e-06]          │ [1e-08, 1e-06]           │\r\n",
      "│ power                   │ [1, 3]                  │ [1, 3]                   │\r\n",
      "└─────────────────────────┴─────────────────────────┴──────────────────────────┘\r\n"
     ]
    }
   ],
   "source": [
    "!qianfan trainer finetune --show-config-limit ERNIE-Speed-8K"
   ]
  },
  {
   "cell_type": "markdown",
   "metadata": {},
   "source": [
    "ERNIE-Speed支持两种微调方式：\n",
    "* 全量更新（Full Fine-tune）: 在基础大模型的参数基础上做全量的更新，使得整个模型的参数可以按照数据进行更重复的调整，是效果最理想的训练方式，但同时需要较高的训练成本和时间。\n",
    "* LoRA（Low-Rank Adaptation）：是指在固定预训练大模型本身的参数的基础上，在保留自注意力模块中原始权重矩阵的基础上，对权重矩阵进行低秩分解，训练过程中只更新低秩部分的参数的训练方法。LoRA方法在训练时间和内存消耗上比全量更新方法大幅减少，因此它训练成本低，训练时间快，可以低价高效地完成训练。如果您想要快速训练看到实验效果，可以优先尝试使用LoRA的训练方法。\n",
    "\n",
    "这两种方法各有利弊，我们可以通常可以基于以下标准进行选择：\n",
    " * 样本数量少于1000且需注重基座模型的*通用*能力：优先考虑LoRA。  \n",
    " * 如果特定任务数据样本较多且主要注重这些*任务效果*：使用全量更新。  \n",
    "\n",
    "对于作文批改场景，我们的训练数据>1000条，比较关注于作文的批改能力的同时，对于通用场景的能力也有一定要求，所以针对以上两种方法我们都进行了多组实验，最终选择了全量更新这种方式以获得更好的作文批改任务效果，以下将进行详细描述：\n",
    "\n",
    "完成了基础模型，微调方法的选择，接下来我们介绍一下在模型微调中较为重要的一些参数：\n",
    "* 迭代轮次（epoch）: 控制训练过程中的迭代轮数。轮数增加代表会使用训练集再训练一轮模型。根据不同数据量，我们可以采用如下的epoch设置以进行实验：\n",
    "  |数据量|epoch|\n",
    "  |---|---|\n",
    "  |100|15|\n",
    "  |1000|10|\n",
    "  |10000|2|\n",
    "  \n",
    "  例如作文批改场景下我们准备了近900条数据，我们可以尝试使用epoch=10或5来训练\n",
    "* 学习率（Learning Rate）: 是在梯度下降的过程中更新权重时的超参数，过高会导致模型难以收敛，过低则会导致模型收敛速度过慢，平台已给出默认推荐值，也可根据经验调整。\n",
    "* max_seq_len：单条数据的长度，单位为token。如果数据集中每条数据的长度（输入）都在4096 tokens 以内，建议选择4096，针对短序列可以达到更优的训练效果。\n",
    "  * 由于我们的作文批改Prompt+作文的token大概在2000以内，我们选择默认的4096作为max_seq_len。\n",
    "\n"
   ]
  },
  {
   "cell_type": "markdown",
   "metadata": {},
   "source": [
    "同时如果希望得到更好的训练效果，ERNIE-Speed也提供了其他可用的超参用于优化：\n",
    "* warmup_ratio：学习率预热的步数占比，合适的预热可以使得模型loss快速收敛。\n",
    "* weight_decay：正则化系数，用于防止模型对训练数据过拟合。但系数过大，可能导致欠拟合。\n",
    "* gradient_accumulation_steps：将多次计算得到的梯度值进行累加，然后一次性进行参数更新，可以增加训练的效率。\n",
    "* pseudo_sampling_prob：采用数据拼接的数据增强策略提升长文本效果。\n",
    "* checkpoint_count: 保存的checkpoint数量，默认值为1，即只保存最后一个step的checkpoint。\n",
    "* save_step: 指的是保存checkpoint的间隔step数。\n",
    "\n",
    "在进行简单的了解和分析之后，我们开始结合千帆SDK进行训练。"
   ]
  },
  {
   "cell_type": "markdown",
   "metadata": {},
   "source": [
    "## 2.5 微调运行\n",
    "\n",
    "在前面的数据准备中，我们已经通过增强，清洗得到一批较为优质的数据集，接下来我们将把其上传到千帆平台以进行下一步的训练和评估。\n",
    "\n",
    "平台也内置了作文批改当前场景的预置数据集，可以直接用于训练，或者跟上面自行处理的数据做结合，增强训练效果：\n",
    "\n",
    "* 预置训练集，900+条：https://console.bce.baidu.com/qianfan/data/dataset/ds-553hczysf3um4cc9/detail\n",
    "* 预置评估集，50条：https://console.bce.baidu.com/qianfan/data/dataset/ds-6ubasnsry5pa4azi/detail\n"
   ]
  },
  {
   "cell_type": "code",
   "execution_count": 48,
   "metadata": {},
   "outputs": [],
   "source": [
    "# 加载训练用的预置数据集\n",
    "qf_train_ds = Dataset.load(qianfan_dataset_id=\"ds-553hczysf3um4cc9\")\n",
    "# 加载评估用的预置数据集\n",
    "qf_eval_ds = Dataset.load(qianfan_dataset_id=\"ds-6ubasnsry5pa4azi\")"
   ]
  },
  {
   "cell_type": "code",
   "execution_count": 134,
   "metadata": {},
   "outputs": [],
   "source": [
    "from qianfan.trainer import Finetune\n",
    "from qianfan.trainer.configs import TrainConfig\n",
    "from qianfan.trainer.consts import PeftType\n",
    "\n",
    "enable_log(logging.INFO)\n",
    "\n",
    "# 声明Trainer，配置模型和超参\n",
    "# 也可以增加evaluation，deploy相关参数，通过trainer一步完成训练，评估，发布，部署：\n",
    "trainer = Finetune(\n",
    "    name=\"essay_sft_0510\",\n",
    "    train_type=\"ERNIE-Speed-8K\",\n",
    "    train_config=TrainConfig(\n",
    "        peft_type=PeftType.ALL,\n",
    "        epoch=10,\n",
    "        learning_rate=0.00003,\n",
    "        max_seq_len=4096,\n",
    "        save_step=64,\n",
    "        checkpoint_count=5,\n",
    "    ),\n",
    "    dataset=qf_train_ds,\n",
    "#    eval_ds=eval_ds,   \n",
    "#    evaluators=[local_evalutor],\n",
    "#    deploy_config=DeployConfig(\n",
    "#        name=\"essay_correct\",\n",
    "#        endpoint_prefix=\"essaycor\",\n",
    "#        replicas=1,\n",
    "#        pool_type=DeployPoolType.PrivateResource,\n",
    "#        service_type=ServiceType.Chat,\n",
    "#    )\n",
    ")"
   ]
  },
  {
   "cell_type": "markdown",
   "metadata": {},
   "source": [
    "在`Trainer`创建成功后，我们可以通过`Trainer.start()` 或者 `Trainer.run()`方法来开始训练。\n",
    "* `start()`将启动一个后台进程持续的跟踪训练任务，并把任务的信息持久化到本地，以便后续查看。\n",
    "* `run()`则会阻塞等待训练任务完成，持续的训练任务日志."
   ]
  },
  {
   "cell_type": "code",
   "execution_count": 135,
   "metadata": {},
   "outputs": [
    {
     "name": "stderr",
     "output_type": "stream",
     "text": [
      "[INFO] [05-10 08:57:51] base.py:226 [t:140469570856768]: trainer subprocess started, pid: 21383\n"
     ]
    },
    {
     "data": {
      "text/plain": [
       "<qianfan.trainer.finetune.Finetune at 0x7fbfe35f6f80>"
      ]
     },
     "execution_count": 135,
     "metadata": {},
     "output_type": "execute_result"
    },
    {
     "name": "stderr",
     "output_type": "stream",
     "text": [
      "[INFO] [05-10 08:57:51] base.py:202 [t:140469570856768]: check running log in .qianfan_exec_cache/36qrTWqi/2024-05-10.log\n"
     ]
    }
   ],
   "source": [
    "trainer.start()"
   ]
  },
  {
   "cell_type": "code",
   "execution_count": 147,
   "metadata": {},
   "outputs": [],
   "source": [
    "trainer.save(\"data/essay_sft_0510_train_meta\")"
   ]
  },
  {
   "cell_type": "markdown",
   "metadata": {},
   "source": [
    "使用`trainer.info()`可以快速的查看当前Trainer的配置信息，运行任务的状态："
   ]
  },
  {
   "cell_type": "code",
   "execution_count": 148,
   "metadata": {
    "tags": []
   },
   "outputs": [
    {
     "name": "stderr",
     "output_type": "stream",
     "text": [
      "[INFO] [05-10 10:50:07] dataset.py:407 [t:140469570856768]: no data source was provided, construct\n",
      "[INFO] [05-10 10:50:07] dataset.py:281 [t:140469570856768]: construct a qianfan data source from existed id: ds-553hczysf3um4cc9, with args: {}\n"
     ]
    },
    {
     "data": {
      "text/plain": [
       "{'id': 'Ln9tID34FK',\n",
       " 'current_action': '5w0i5mXgj3',\n",
       " 'process_id': 21383,\n",
       " 'actions': [{'id': '1FXicMzPu6',\n",
       "   'type': 'LoadDataSetAction',\n",
       "   'ds_id': 'ds-553hczysf3um4cc9',\n",
       "   'dataset_bos': None,\n",
       "   'output': {'datasets': {'sourceType': 'Platform',\n",
       "     'versions': [{'versionId': 'ds-553hczysf3um4cc9'}],\n",
       "     'splitRatio': 20}}},\n",
       "  {'id': 'MRkqaVk6JJ',\n",
       "   'type': 'TrainAction',\n",
       "   'init_params': {'job_id': None,\n",
       "    'task_id': None,\n",
       "    'train_mode': 'SFT',\n",
       "    'train_type': 'ERNIE-Speed-8K',\n",
       "    'train_config': {'peft_type': 'FullFineTuning',\n",
       "     'trainset_rate': 20,\n",
       "     'extras': {},\n",
       "     'epoch': 10,\n",
       "     'batch_size': None,\n",
       "     'learning_rate': 3e-05,\n",
       "     'max_seq_len': 4096,\n",
       "     'logging_steps': None,\n",
       "     'warmup_ratio': None,\n",
       "     'weight_decay': None,\n",
       "     'lora_rank': None,\n",
       "     'lora_all_linear': None,\n",
       "     'scheduler_name': None,\n",
       "     'lora_alpha': None,\n",
       "     'lora_dropout': None,\n",
       "     'lora_target_modules': None,\n",
       "     'gradient_accumulation_steps': None,\n",
       "     'pseudo_sampling_prob': None,\n",
       "     'checkpoint_count': 5,\n",
       "     'save_step': 64,\n",
       "     'seed': None,\n",
       "     'lr_scheduler_type': None,\n",
       "     'num_cycles': None,\n",
       "     'lr_end': None,\n",
       "     'power': None,\n",
       "     'dpo_beta': None,\n",
       "     'packing': None},\n",
       "    'is_incr': False,\n",
       "    'job_name': 'essay_sft_0510',\n",
       "    'task_description': None,\n",
       "    'job_description': None},\n",
       "   'job_id': 'job-6dqr2yv1ti9n',\n",
       "   'task_id': 'task-aqzspcqwsk0q',\n",
       "   'status': 'Done',\n",
       "   'progress': 99,\n",
       "   'vdl_link': 'https://console.bce.baidu.com/qianfan/visualdl/index?displayToken=eyJydW5JZCI6InJ1bi1tODhmMHg5azFlYWFud2htIn0=',\n",
       "   'log_link': 'https://console.bce.baidu.com/qianfan/train/sft/job-6dqr2yv1ti9n/task-aqzspcqwsk0q/detail/traininglog',\n",
       "   'input': {'datasets': {'sourceType': 'Platform',\n",
       "     'versions': [{'versionId': 'ds-553hczysf3um4cc9'}],\n",
       "     'splitRatio': 20}},\n",
       "   'output': {'datasets': {'sourceType': 'Platform',\n",
       "     'versions': [{'versionId': 'ds-553hczysf3um4cc9'}],\n",
       "     'splitRatio': 20},\n",
       "    'task_id': 'task-aqzspcqwsk0q',\n",
       "    'job_id': 'job-6dqr2yv1ti9n',\n",
       "    'metrics': {'BLEU-4': '46.89%',\n",
       "     'ROUGE-1': '51.12%',\n",
       "     'ROUGE-2': '29.85%',\n",
       "     'ROUGE-L': '55.41%'},\n",
       "    'checkpoints': [{'perplexity': 1.536190390586853,\n",
       "      'step': 64,\n",
       "      'trainingLoss': 0.4293056130409241},\n",
       "     {'perplexity': 1.0718179941177368,\n",
       "      'step': 128,\n",
       "      'trainingLoss': 0.06935623288154602},\n",
       "     {'perplexity': 1.0075938701629639,\n",
       "      'step': 192,\n",
       "      'trainingLoss': 0.007565219886600971},\n",
       "     {'perplexity': 1.0052101612091064,\n",
       "      'step': 230,\n",
       "      'trainingLoss': 0.005196679849177599}]}},\n",
       "  {'id': '5w0i5mXgj3',\n",
       "   'type': 'ModelPublishAction',\n",
       "   'input': {'task_id': None, 'job_id': None},\n",
       "   'model_version_id': 'amv-bkfu3tqcejt2',\n",
       "   'output': {'datasets': {'sourceType': 'Platform',\n",
       "     'versions': [{'versionId': 'ds-553hczysf3um4cc9'}],\n",
       "     'splitRatio': 20},\n",
       "    'task_id': 'task-aqzspcqwsk0q',\n",
       "    'job_id': 'job-6dqr2yv1ti9n',\n",
       "    'metrics': {'BLEU-4': '46.89%',\n",
       "     'ROUGE-1': '51.12%',\n",
       "     'ROUGE-2': '29.85%',\n",
       "     'ROUGE-L': '55.41%'},\n",
       "    'checkpoints': [{'perplexity': 1.536190390586853,\n",
       "      'step': 64,\n",
       "      'trainingLoss': 0.4293056130409241},\n",
       "     {'perplexity': 1.0718179941177368,\n",
       "      'step': 128,\n",
       "      'trainingLoss': 0.06935623288154602},\n",
       "     {'perplexity': 1.0075938701629639,\n",
       "      'step': 192,\n",
       "      'trainingLoss': 0.007565219886600971},\n",
       "     {'perplexity': 1.0052101612091064,\n",
       "      'step': 230,\n",
       "      'trainingLoss': 0.005196679849177599}],\n",
       "    'model_id': 'am-3s1bpzc3xsjv',\n",
       "    'model_version_id': 'amv-bkfu3tqcejt2'}}],\n",
       " 'case_init_params': {'case_type': 'Finetune'}}"
      ]
     },
     "execution_count": 148,
     "metadata": {},
     "output_type": "execute_result"
    }
   ],
   "source": [
    "trainer.info()"
   ]
  },
  {
   "cell_type": "code",
   "execution_count": 50,
   "metadata": {
    "jupyter": {
     "outputs_hidden": true
    },
    "scrolled": true,
    "tags": []
   },
   "outputs": [
    {
     "name": "stderr",
     "output_type": "stream",
     "text": [
      "[INFO] [05-10 04:26:41] actions.py:645 [t:140466393056832]: [train_action] training ... job_name:eb_sft_test_0510_1 current status: Running, 1% check train task log in https://console.bce.baidu.com/qianfan/train/sft/job-mt8qs05rypsr/task-tceyepxedsj7/detail/traininglog\n",
      "[INFO] [05-10 04:27:11] actions.py:645 [t:140466393056832]: [train_action] training ... job_name:eb_sft_test_0510_1 current status: Running, 1% check train task log in https://console.bce.baidu.com/qianfan/train/sft/job-mt8qs05rypsr/task-tceyepxedsj7/detail/traininglog\n",
      "[INFO] [05-10 04:27:42] actions.py:645 [t:140466393056832]: [train_action] training ... job_name:eb_sft_test_0510_1 current status: Running, 3% check train task log in https://console.bce.baidu.com/qianfan/train/sft/job-mt8qs05rypsr/task-tceyepxedsj7/detail/traininglog\n",
      "[INFO] [05-10 04:28:12] actions.py:645 [t:140466393056832]: [train_action] training ... job_name:eb_sft_test_0510_1 current status: Running, 3% check train task log in https://console.bce.baidu.com/qianfan/train/sft/job-mt8qs05rypsr/task-tceyepxedsj7/detail/traininglog\n",
      "[INFO] [05-10 04:28:43] actions.py:645 [t:140466393056832]: [train_action] training ... job_name:eb_sft_test_0510_1 current status: Running, 34% check train task log in https://console.bce.baidu.com/qianfan/train/sft/job-mt8qs05rypsr/task-tceyepxedsj7/detail/traininglog\n",
      "[INFO] [05-10 04:29:13] actions.py:645 [t:140466393056832]: [train_action] training ... job_name:eb_sft_test_0510_1 current status: Running, 34% check train task log in https://console.bce.baidu.com/qianfan/train/sft/job-mt8qs05rypsr/task-tceyepxedsj7/detail/traininglog\n",
      "[INFO] [05-10 04:29:44] actions.py:645 [t:140466393056832]: [train_action] training ... job_name:eb_sft_test_0510_1 current status: Running, 34% check train task log in https://console.bce.baidu.com/qianfan/train/sft/job-mt8qs05rypsr/task-tceyepxedsj7/detail/traininglog\n",
      "[INFO] [05-10 04:30:14] actions.py:645 [t:140466393056832]: [train_action] training ... job_name:eb_sft_test_0510_1 current status: Running, 34% check train task log in https://console.bce.baidu.com/qianfan/train/sft/job-mt8qs05rypsr/task-tceyepxedsj7/detail/traininglog\n",
      "[INFO] [05-10 04:30:44] actions.py:645 [t:140466393056832]: [train_action] training ... job_name:eb_sft_test_0510_1 current status: Running, 34% check train task log in https://console.bce.baidu.com/qianfan/train/sft/job-mt8qs05rypsr/task-tceyepxedsj7/detail/traininglog\n",
      "[INFO] [05-10 04:31:15] actions.py:645 [t:140466393056832]: [train_action] training ... job_name:eb_sft_test_0510_1 current status: Running, 34% check train task log in https://console.bce.baidu.com/qianfan/train/sft/job-mt8qs05rypsr/task-tceyepxedsj7/detail/traininglog\n",
      "[INFO] [05-10 04:31:45] actions.py:645 [t:140466393056832]: [train_action] training ... job_name:eb_sft_test_0510_1 current status: Running, 34% check train task log in https://console.bce.baidu.com/qianfan/train/sft/job-mt8qs05rypsr/task-tceyepxedsj7/detail/traininglog\n",
      "[INFO] [05-10 04:32:16] actions.py:645 [t:140466393056832]: [train_action] training ... job_name:eb_sft_test_0510_1 current status: Running, 34% check train task log in https://console.bce.baidu.com/qianfan/train/sft/job-mt8qs05rypsr/task-tceyepxedsj7/detail/traininglog\n",
      "[INFO] [05-10 04:32:46] actions.py:645 [t:140466393056832]: [train_action] training ... job_name:eb_sft_test_0510_1 current status: Running, 34% check train task log in https://console.bce.baidu.com/qianfan/train/sft/job-mt8qs05rypsr/task-tceyepxedsj7/detail/traininglog\n",
      "[INFO] [05-10 04:33:17] actions.py:645 [t:140466393056832]: [train_action] training ... job_name:eb_sft_test_0510_1 current status: Running, 35% check train task log in https://console.bce.baidu.com/qianfan/train/sft/job-mt8qs05rypsr/task-tceyepxedsj7/detail/traininglog\n",
      "[INFO] [05-10 04:33:47] actions.py:645 [t:140466393056832]: [train_action] training ... job_name:eb_sft_test_0510_1 current status: Running, 35% check train task log in https://console.bce.baidu.com/qianfan/train/sft/job-mt8qs05rypsr/task-tceyepxedsj7/detail/traininglog\n",
      "[INFO] [05-10 04:34:18] actions.py:645 [t:140466393056832]: [train_action] training ... job_name:eb_sft_test_0510_1 current status: Running, 35% check train task log in https://console.bce.baidu.com/qianfan/train/sft/job-mt8qs05rypsr/task-tceyepxedsj7/detail/traininglog\n",
      "[INFO] [05-10 04:34:48] actions.py:645 [t:140466393056832]: [train_action] training ... job_name:eb_sft_test_0510_1 current status: Running, 36% check train task log in https://console.bce.baidu.com/qianfan/train/sft/job-mt8qs05rypsr/task-tceyepxedsj7/detail/traininglog\n",
      "[INFO] [05-10 04:35:19] actions.py:645 [t:140466393056832]: [train_action] training ... job_name:eb_sft_test_0510_1 current status: Running, 36% check train task log in https://console.bce.baidu.com/qianfan/train/sft/job-mt8qs05rypsr/task-tceyepxedsj7/detail/traininglog\n",
      "[INFO] [05-10 04:35:49] actions.py:645 [t:140466393056832]: [train_action] training ... job_name:eb_sft_test_0510_1 current status: Running, 36% check train task log in https://console.bce.baidu.com/qianfan/train/sft/job-mt8qs05rypsr/task-tceyepxedsj7/detail/traininglog\n",
      "[INFO] [05-10 04:36:19] actions.py:645 [t:140466393056832]: [train_action] training ... job_name:eb_sft_test_0510_1 current status: Running, 37% check train task log in https://console.bce.baidu.com/qianfan/train/sft/job-mt8qs05rypsr/task-tceyepxedsj7/detail/traininglog\n",
      "[INFO] [05-10 04:36:50] actions.py:645 [t:140466393056832]: [train_action] training ... job_name:eb_sft_test_0510_1 current status: Running, 37% check train task log in https://console.bce.baidu.com/qianfan/train/sft/job-mt8qs05rypsr/task-tceyepxedsj7/detail/traininglog\n",
      "[INFO] [05-10 04:37:20] actions.py:645 [t:140466393056832]: [train_action] training ... job_name:eb_sft_test_0510_1 current status: Running, 38% check train task log in https://console.bce.baidu.com/qianfan/train/sft/job-mt8qs05rypsr/task-tceyepxedsj7/detail/traininglog\n",
      "[INFO] [05-10 04:37:51] actions.py:645 [t:140466393056832]: [train_action] training ... job_name:eb_sft_test_0510_1 current status: Running, 38% check train task log in https://console.bce.baidu.com/qianfan/train/sft/job-mt8qs05rypsr/task-tceyepxedsj7/detail/traininglog\n",
      "[INFO] [05-10 04:38:21] actions.py:645 [t:140466393056832]: [train_action] training ... job_name:eb_sft_test_0510_1 current status: Running, 38% check train task log in https://console.bce.baidu.com/qianfan/train/sft/job-mt8qs05rypsr/task-tceyepxedsj7/detail/traininglog\n",
      "[INFO] [05-10 04:38:52] actions.py:645 [t:140466393056832]: [train_action] training ... job_name:eb_sft_test_0510_1 current status: Running, 39% check train task log in https://console.bce.baidu.com/qianfan/train/sft/job-mt8qs05rypsr/task-tceyepxedsj7/detail/traininglog\n",
      "[INFO] [05-10 04:39:22] actions.py:645 [t:140466393056832]: [train_action] training ... job_name:eb_sft_test_0510_1 current status: Running, 39% check train task log in https://console.bce.baidu.com/qianfan/train/sft/job-mt8qs05rypsr/task-tceyepxedsj7/detail/traininglog\n",
      "[INFO] [05-10 04:39:53] actions.py:645 [t:140466393056832]: [train_action] training ... job_name:eb_sft_test_0510_1 current status: Running, 40% check train task log in https://console.bce.baidu.com/qianfan/train/sft/job-mt8qs05rypsr/task-tceyepxedsj7/detail/traininglog\n",
      "[INFO] [05-10 04:40:23] actions.py:645 [t:140466393056832]: [train_action] training ... job_name:eb_sft_test_0510_1 current status: Running, 40% check train task log in https://console.bce.baidu.com/qianfan/train/sft/job-mt8qs05rypsr/task-tceyepxedsj7/detail/traininglog\n",
      "[INFO] [05-10 04:40:54] actions.py:645 [t:140466393056832]: [train_action] training ... job_name:eb_sft_test_0510_1 current status: Running, 40% check train task log in https://console.bce.baidu.com/qianfan/train/sft/job-mt8qs05rypsr/task-tceyepxedsj7/detail/traininglog\n",
      "[INFO] [05-10 04:41:24] actions.py:645 [t:140466393056832]: [train_action] training ... job_name:eb_sft_test_0510_1 current status: Running, 41% check train task log in https://console.bce.baidu.com/qianfan/train/sft/job-mt8qs05rypsr/task-tceyepxedsj7/detail/traininglog\n",
      "[INFO] [05-10 04:41:54] actions.py:645 [t:140466393056832]: [train_action] training ... job_name:eb_sft_test_0510_1 current status: Running, 41% check train task log in https://console.bce.baidu.com/qianfan/train/sft/job-mt8qs05rypsr/task-tceyepxedsj7/detail/traininglog\n"
     ]
    },
    {
     "name": "stderr",
     "output_type": "stream",
     "text": [
      "[INFO] [05-10 04:42:25] actions.py:645 [t:140466393056832]: [train_action] training ... job_name:eb_sft_test_0510_1 current status: Running, 42% check train task log in https://console.bce.baidu.com/qianfan/train/sft/job-mt8qs05rypsr/task-tceyepxedsj7/detail/traininglog\n",
      "[INFO] [05-10 04:42:55] actions.py:645 [t:140466393056832]: [train_action] training ... job_name:eb_sft_test_0510_1 current status: Running, 42% check train task log in https://console.bce.baidu.com/qianfan/train/sft/job-mt8qs05rypsr/task-tceyepxedsj7/detail/traininglog\n",
      "[INFO] [05-10 04:43:26] actions.py:645 [t:140466393056832]: [train_action] training ... job_name:eb_sft_test_0510_1 current status: Running, 42% check train task log in https://console.bce.baidu.com/qianfan/train/sft/job-mt8qs05rypsr/task-tceyepxedsj7/detail/traininglog\n",
      "[INFO] [05-10 04:43:56] actions.py:645 [t:140466393056832]: [train_action] training ... job_name:eb_sft_test_0510_1 current status: Running, 42% check train task log in https://console.bce.baidu.com/qianfan/train/sft/job-mt8qs05rypsr/task-tceyepxedsj7/detail/traininglog\n",
      "[INFO] [05-10 04:44:27] actions.py:645 [t:140466393056832]: [train_action] training ... job_name:eb_sft_test_0510_1 current status: Running, 42% check train task log in https://console.bce.baidu.com/qianfan/train/sft/job-mt8qs05rypsr/task-tceyepxedsj7/detail/traininglog\n",
      "[INFO] [05-10 04:44:57] actions.py:645 [t:140466393056832]: [train_action] training ... job_name:eb_sft_test_0510_1 current status: Running, 42% check train task log in https://console.bce.baidu.com/qianfan/train/sft/job-mt8qs05rypsr/task-tceyepxedsj7/detail/traininglog\n",
      "[INFO] [05-10 04:45:28] actions.py:645 [t:140466393056832]: [train_action] training ... job_name:eb_sft_test_0510_1 current status: Running, 42% check train task log in https://console.bce.baidu.com/qianfan/train/sft/job-mt8qs05rypsr/task-tceyepxedsj7/detail/traininglog\n",
      "[INFO] [05-10 04:45:58] actions.py:645 [t:140466393056832]: [train_action] training ... job_name:eb_sft_test_0510_1 current status: Running, 42% check train task log in https://console.bce.baidu.com/qianfan/train/sft/job-mt8qs05rypsr/task-tceyepxedsj7/detail/traininglog\n",
      "[INFO] [05-10 04:46:28] actions.py:645 [t:140466393056832]: [train_action] training ... job_name:eb_sft_test_0510_1 current status: Running, 43% check train task log in https://console.bce.baidu.com/qianfan/train/sft/job-mt8qs05rypsr/task-tceyepxedsj7/detail/traininglog\n",
      "[INFO] [05-10 04:46:59] actions.py:645 [t:140466393056832]: [train_action] training ... job_name:eb_sft_test_0510_1 current status: Running, 43% check train task log in https://console.bce.baidu.com/qianfan/train/sft/job-mt8qs05rypsr/task-tceyepxedsj7/detail/traininglog\n",
      "[INFO] [05-10 04:47:29] actions.py:645 [t:140466393056832]: [train_action] training ... job_name:eb_sft_test_0510_1 current status: Running, 44% check train task log in https://console.bce.baidu.com/qianfan/train/sft/job-mt8qs05rypsr/task-tceyepxedsj7/detail/traininglog\n",
      "[INFO] [05-10 04:48:00] actions.py:645 [t:140466393056832]: [train_action] training ... job_name:eb_sft_test_0510_1 current status: Running, 44% check train task log in https://console.bce.baidu.com/qianfan/train/sft/job-mt8qs05rypsr/task-tceyepxedsj7/detail/traininglog\n",
      "[INFO] [05-10 04:48:30] actions.py:645 [t:140466393056832]: [train_action] training ... job_name:eb_sft_test_0510_1 current status: Running, 44% check train task log in https://console.bce.baidu.com/qianfan/train/sft/job-mt8qs05rypsr/task-tceyepxedsj7/detail/traininglog\n",
      "[INFO] [05-10 04:49:01] actions.py:645 [t:140466393056832]: [train_action] training ... job_name:eb_sft_test_0510_1 current status: Running, 45% check train task log in https://console.bce.baidu.com/qianfan/train/sft/job-mt8qs05rypsr/task-tceyepxedsj7/detail/traininglog\n",
      "[INFO] [05-10 04:49:31] actions.py:645 [t:140466393056832]: [train_action] training ... job_name:eb_sft_test_0510_1 current status: Running, 45% check train task log in https://console.bce.baidu.com/qianfan/train/sft/job-mt8qs05rypsr/task-tceyepxedsj7/detail/traininglog\n",
      "[INFO] [05-10 04:50:02] actions.py:645 [t:140466393056832]: [train_action] training ... job_name:eb_sft_test_0510_1 current status: Running, 45% check train task log in https://console.bce.baidu.com/qianfan/train/sft/job-mt8qs05rypsr/task-tceyepxedsj7/detail/traininglog\n",
      "[INFO] [05-10 04:50:32] actions.py:645 [t:140466393056832]: [train_action] training ... job_name:eb_sft_test_0510_1 current status: Running, 46% check train task log in https://console.bce.baidu.com/qianfan/train/sft/job-mt8qs05rypsr/task-tceyepxedsj7/detail/traininglog\n",
      "[INFO] [05-10 04:51:03] actions.py:645 [t:140466393056832]: [train_action] training ... job_name:eb_sft_test_0510_1 current status: Running, 46% check train task log in https://console.bce.baidu.com/qianfan/train/sft/job-mt8qs05rypsr/task-tceyepxedsj7/detail/traininglog\n",
      "[INFO] [05-10 04:51:33] actions.py:645 [t:140466393056832]: [train_action] training ... job_name:eb_sft_test_0510_1 current status: Running, 47% check train task log in https://console.bce.baidu.com/qianfan/train/sft/job-mt8qs05rypsr/task-tceyepxedsj7/detail/traininglog\n",
      "[INFO] [05-10 04:52:04] actions.py:645 [t:140466393056832]: [train_action] training ... job_name:eb_sft_test_0510_1 current status: Running, 47% check train task log in https://console.bce.baidu.com/qianfan/train/sft/job-mt8qs05rypsr/task-tceyepxedsj7/detail/traininglog\n",
      "[INFO] [05-10 04:52:34] actions.py:645 [t:140466393056832]: [train_action] training ... job_name:eb_sft_test_0510_1 current status: Running, 47% check train task log in https://console.bce.baidu.com/qianfan/train/sft/job-mt8qs05rypsr/task-tceyepxedsj7/detail/traininglog\n",
      "[INFO] [05-10 04:53:05] actions.py:645 [t:140466393056832]: [train_action] training ... job_name:eb_sft_test_0510_1 current status: Running, 48% check train task log in https://console.bce.baidu.com/qianfan/train/sft/job-mt8qs05rypsr/task-tceyepxedsj7/detail/traininglog\n",
      "[INFO] [05-10 04:53:35] actions.py:645 [t:140466393056832]: [train_action] training ... job_name:eb_sft_test_0510_1 current status: Running, 48% check train task log in https://console.bce.baidu.com/qianfan/train/sft/job-mt8qs05rypsr/task-tceyepxedsj7/detail/traininglog\n",
      "[INFO] [05-10 04:54:05] actions.py:645 [t:140466393056832]: [train_action] training ... job_name:eb_sft_test_0510_1 current status: Running, 49% check train task log in https://console.bce.baidu.com/qianfan/train/sft/job-mt8qs05rypsr/task-tceyepxedsj7/detail/traininglog\n",
      "[INFO] [05-10 04:54:36] actions.py:645 [t:140466393056832]: [train_action] training ... job_name:eb_sft_test_0510_1 current status: Running, 49% check train task log in https://console.bce.baidu.com/qianfan/train/sft/job-mt8qs05rypsr/task-tceyepxedsj7/detail/traininglog\n",
      "[INFO] [05-10 04:55:06] actions.py:645 [t:140466393056832]: [train_action] training ... job_name:eb_sft_test_0510_1 current status: Running, 50% check train task log in https://console.bce.baidu.com/qianfan/train/sft/job-mt8qs05rypsr/task-tceyepxedsj7/detail/traininglog\n",
      "[INFO] [05-10 04:55:06] actions.py:652 [t:140466393056832]:  check vdl report in https://console.bce.baidu.com/qianfan/visualdl/index?displayToken=eyJydW5JZCI6InJ1bi1ocnJnN2hicTRpZDJ4Mjh4In0=\n",
      "[INFO] [05-10 04:55:37] actions.py:645 [t:140466393056832]: [train_action] training ... job_name:eb_sft_test_0510_1 current status: Running, 50% check train task log in https://console.bce.baidu.com/qianfan/train/sft/job-mt8qs05rypsr/task-tceyepxedsj7/detail/traininglog\n",
      "[INFO] [05-10 04:55:37] actions.py:652 [t:140466393056832]:  check vdl report in https://console.bce.baidu.com/qianfan/visualdl/index?displayToken=eyJydW5JZCI6InJ1bi1ocnJnN2hicTRpZDJ4Mjh4In0=\n",
      "[INFO] [05-10 04:56:07] actions.py:645 [t:140466393056832]: [train_action] training ... job_name:eb_sft_test_0510_1 current status: Running, 50% check train task log in https://console.bce.baidu.com/qianfan/train/sft/job-mt8qs05rypsr/task-tceyepxedsj7/detail/traininglog\n",
      "[INFO] [05-10 04:56:07] actions.py:652 [t:140466393056832]:  check vdl report in https://console.bce.baidu.com/qianfan/visualdl/index?displayToken=eyJydW5JZCI6InJ1bi1ocnJnN2hicTRpZDJ4Mjh4In0=\n",
      "[INFO] [05-10 04:56:38] actions.py:645 [t:140466393056832]: [train_action] training ... job_name:eb_sft_test_0510_1 current status: Running, 50% check train task log in https://console.bce.baidu.com/qianfan/train/sft/job-mt8qs05rypsr/task-tceyepxedsj7/detail/traininglog\n"
     ]
    },
    {
     "name": "stderr",
     "output_type": "stream",
     "text": [
      "[INFO] [05-10 04:56:38] actions.py:652 [t:140466393056832]:  check vdl report in https://console.bce.baidu.com/qianfan/visualdl/index?displayToken=eyJydW5JZCI6InJ1bi1ocnJnN2hicTRpZDJ4Mjh4In0=\n",
      "[INFO] [05-10 04:57:08] actions.py:645 [t:140466393056832]: [train_action] training ... job_name:eb_sft_test_0510_1 current status: Running, 51% check train task log in https://console.bce.baidu.com/qianfan/train/sft/job-mt8qs05rypsr/task-tceyepxedsj7/detail/traininglog\n",
      "[INFO] [05-10 04:57:08] actions.py:652 [t:140466393056832]:  check vdl report in https://console.bce.baidu.com/qianfan/visualdl/index?displayToken=eyJydW5JZCI6InJ1bi1ocnJnN2hicTRpZDJ4Mjh4In0=\n",
      "[INFO] [05-10 04:57:39] actions.py:645 [t:140466393056832]: [train_action] training ... job_name:eb_sft_test_0510_1 current status: Running, 51% check train task log in https://console.bce.baidu.com/qianfan/train/sft/job-mt8qs05rypsr/task-tceyepxedsj7/detail/traininglog\n",
      "[INFO] [05-10 04:57:39] actions.py:652 [t:140466393056832]:  check vdl report in https://console.bce.baidu.com/qianfan/visualdl/index?displayToken=eyJydW5JZCI6InJ1bi1ocnJnN2hicTRpZDJ4Mjh4In0=\n",
      "[INFO] [05-10 04:58:09] actions.py:645 [t:140466393056832]: [train_action] training ... job_name:eb_sft_test_0510_1 current status: Running, 51% check train task log in https://console.bce.baidu.com/qianfan/train/sft/job-mt8qs05rypsr/task-tceyepxedsj7/detail/traininglog\n",
      "[INFO] [05-10 04:58:09] actions.py:652 [t:140466393056832]:  check vdl report in https://console.bce.baidu.com/qianfan/visualdl/index?displayToken=eyJydW5JZCI6InJ1bi1ocnJnN2hicTRpZDJ4Mjh4In0=\n",
      "[INFO] [05-10 04:58:39] actions.py:645 [t:140466393056832]: [train_action] training ... job_name:eb_sft_test_0510_1 current status: Running, 51% check train task log in https://console.bce.baidu.com/qianfan/train/sft/job-mt8qs05rypsr/task-tceyepxedsj7/detail/traininglog\n",
      "[INFO] [05-10 04:58:39] actions.py:652 [t:140466393056832]:  check vdl report in https://console.bce.baidu.com/qianfan/visualdl/index?displayToken=eyJydW5JZCI6InJ1bi1ocnJnN2hicTRpZDJ4Mjh4In0=\n",
      "[INFO] [05-10 04:59:10] actions.py:645 [t:140466393056832]: [train_action] training ... job_name:eb_sft_test_0510_1 current status: Running, 51% check train task log in https://console.bce.baidu.com/qianfan/train/sft/job-mt8qs05rypsr/task-tceyepxedsj7/detail/traininglog\n",
      "[INFO] [05-10 04:59:10] actions.py:652 [t:140466393056832]:  check vdl report in https://console.bce.baidu.com/qianfan/visualdl/index?displayToken=eyJydW5JZCI6InJ1bi1ocnJnN2hicTRpZDJ4Mjh4In0=\n",
      "[INFO] [05-10 04:59:40] actions.py:645 [t:140466393056832]: [train_action] training ... job_name:eb_sft_test_0510_1 current status: Running, 51% check train task log in https://console.bce.baidu.com/qianfan/train/sft/job-mt8qs05rypsr/task-tceyepxedsj7/detail/traininglog\n",
      "[INFO] [05-10 04:59:40] actions.py:652 [t:140466393056832]:  check vdl report in https://console.bce.baidu.com/qianfan/visualdl/index?displayToken=eyJydW5JZCI6InJ1bi1ocnJnN2hicTRpZDJ4Mjh4In0=\n",
      "[INFO] [05-10 05:00:11] actions.py:645 [t:140466393056832]: [train_action] training ... job_name:eb_sft_test_0510_1 current status: Running, 51% check train task log in https://console.bce.baidu.com/qianfan/train/sft/job-mt8qs05rypsr/task-tceyepxedsj7/detail/traininglog\n",
      "[INFO] [05-10 05:00:11] actions.py:652 [t:140466393056832]:  check vdl report in https://console.bce.baidu.com/qianfan/visualdl/index?displayToken=eyJydW5JZCI6InJ1bi1ocnJnN2hicTRpZDJ4Mjh4In0=\n",
      "[INFO] [05-10 05:00:41] actions.py:645 [t:140466393056832]: [train_action] training ... job_name:eb_sft_test_0510_1 current status: Running, 51% check train task log in https://console.bce.baidu.com/qianfan/train/sft/job-mt8qs05rypsr/task-tceyepxedsj7/detail/traininglog\n",
      "[INFO] [05-10 05:00:41] actions.py:652 [t:140466393056832]:  check vdl report in https://console.bce.baidu.com/qianfan/visualdl/index?displayToken=eyJydW5JZCI6InJ1bi1ocnJnN2hicTRpZDJ4Mjh4In0=\n",
      "[INFO] [05-10 05:01:12] actions.py:645 [t:140466393056832]: [train_action] training ... job_name:eb_sft_test_0510_1 current status: Running, 52% check train task log in https://console.bce.baidu.com/qianfan/train/sft/job-mt8qs05rypsr/task-tceyepxedsj7/detail/traininglog\n",
      "[INFO] [05-10 05:01:12] actions.py:652 [t:140466393056832]:  check vdl report in https://console.bce.baidu.com/qianfan/visualdl/index?displayToken=eyJydW5JZCI6InJ1bi1ocnJnN2hicTRpZDJ4Mjh4In0=\n",
      "[INFO] [05-10 05:01:42] actions.py:645 [t:140466393056832]: [train_action] training ... job_name:eb_sft_test_0510_1 current status: Running, 52% check train task log in https://console.bce.baidu.com/qianfan/train/sft/job-mt8qs05rypsr/task-tceyepxedsj7/detail/traininglog\n",
      "[INFO] [05-10 05:01:42] actions.py:652 [t:140466393056832]:  check vdl report in https://console.bce.baidu.com/qianfan/visualdl/index?displayToken=eyJydW5JZCI6InJ1bi1ocnJnN2hicTRpZDJ4Mjh4In0=\n",
      "[INFO] [05-10 05:02:13] actions.py:645 [t:140466393056832]: [train_action] training ... job_name:eb_sft_test_0510_1 current status: Running, 53% check train task log in https://console.bce.baidu.com/qianfan/train/sft/job-mt8qs05rypsr/task-tceyepxedsj7/detail/traininglog\n",
      "[INFO] [05-10 05:02:13] actions.py:652 [t:140466393056832]:  check vdl report in https://console.bce.baidu.com/qianfan/visualdl/index?displayToken=eyJydW5JZCI6InJ1bi1ocnJnN2hicTRpZDJ4Mjh4In0=\n",
      "[INFO] [05-10 05:02:43] actions.py:645 [t:140466393056832]: [train_action] training ... job_name:eb_sft_test_0510_1 current status: Running, 53% check train task log in https://console.bce.baidu.com/qianfan/train/sft/job-mt8qs05rypsr/task-tceyepxedsj7/detail/traininglog\n",
      "[INFO] [05-10 05:02:43] actions.py:652 [t:140466393056832]:  check vdl report in https://console.bce.baidu.com/qianfan/visualdl/index?displayToken=eyJydW5JZCI6InJ1bi1ocnJnN2hicTRpZDJ4Mjh4In0=\n",
      "[INFO] [05-10 05:03:14] actions.py:645 [t:140466393056832]: [train_action] training ... job_name:eb_sft_test_0510_1 current status: Running, 54% check train task log in https://console.bce.baidu.com/qianfan/train/sft/job-mt8qs05rypsr/task-tceyepxedsj7/detail/traininglog\n",
      "[INFO] [05-10 05:03:14] actions.py:652 [t:140466393056832]:  check vdl report in https://console.bce.baidu.com/qianfan/visualdl/index?displayToken=eyJydW5JZCI6InJ1bi1ocnJnN2hicTRpZDJ4Mjh4In0=\n",
      "[INFO] [05-10 05:03:44] actions.py:645 [t:140466393056832]: [train_action] training ... job_name:eb_sft_test_0510_1 current status: Running, 54% check train task log in https://console.bce.baidu.com/qianfan/train/sft/job-mt8qs05rypsr/task-tceyepxedsj7/detail/traininglog\n",
      "[INFO] [05-10 05:03:44] actions.py:652 [t:140466393056832]:  check vdl report in https://console.bce.baidu.com/qianfan/visualdl/index?displayToken=eyJydW5JZCI6InJ1bi1ocnJnN2hicTRpZDJ4Mjh4In0=\n",
      "[INFO] [05-10 05:04:15] actions.py:645 [t:140466393056832]: [train_action] training ... job_name:eb_sft_test_0510_1 current status: Running, 54% check train task log in https://console.bce.baidu.com/qianfan/train/sft/job-mt8qs05rypsr/task-tceyepxedsj7/detail/traininglog\n",
      "[INFO] [05-10 05:04:15] actions.py:652 [t:140466393056832]:  check vdl report in https://console.bce.baidu.com/qianfan/visualdl/index?displayToken=eyJydW5JZCI6InJ1bi1ocnJnN2hicTRpZDJ4Mjh4In0=\n",
      "[INFO] [05-10 05:04:45] actions.py:645 [t:140466393056832]: [train_action] training ... job_name:eb_sft_test_0510_1 current status: Running, 55% check train task log in https://console.bce.baidu.com/qianfan/train/sft/job-mt8qs05rypsr/task-tceyepxedsj7/detail/traininglog\n",
      "[INFO] [05-10 05:04:45] actions.py:652 [t:140466393056832]:  check vdl report in https://console.bce.baidu.com/qianfan/visualdl/index?displayToken=eyJydW5JZCI6InJ1bi1ocnJnN2hicTRpZDJ4Mjh4In0=\n",
      "[INFO] [05-10 05:05:15] actions.py:645 [t:140466393056832]: [train_action] training ... job_name:eb_sft_test_0510_1 current status: Running, 55% check train task log in https://console.bce.baidu.com/qianfan/train/sft/job-mt8qs05rypsr/task-tceyepxedsj7/detail/traininglog\n",
      "[INFO] [05-10 05:05:15] actions.py:652 [t:140466393056832]:  check vdl report in https://console.bce.baidu.com/qianfan/visualdl/index?displayToken=eyJydW5JZCI6InJ1bi1ocnJnN2hicTRpZDJ4Mjh4In0=\n",
      "[INFO] [05-10 05:05:46] actions.py:645 [t:140466393056832]: [train_action] training ... job_name:eb_sft_test_0510_1 current status: Running, 55% check train task log in https://console.bce.baidu.com/qianfan/train/sft/job-mt8qs05rypsr/task-tceyepxedsj7/detail/traininglog\n"
     ]
    },
    {
     "name": "stderr",
     "output_type": "stream",
     "text": [
      "[INFO] [05-10 05:05:46] actions.py:652 [t:140466393056832]:  check vdl report in https://console.bce.baidu.com/qianfan/visualdl/index?displayToken=eyJydW5JZCI6InJ1bi1ocnJnN2hicTRpZDJ4Mjh4In0=\n",
      "[INFO] [05-10 05:06:16] actions.py:645 [t:140466393056832]: [train_action] training ... job_name:eb_sft_test_0510_1 current status: Running, 56% check train task log in https://console.bce.baidu.com/qianfan/train/sft/job-mt8qs05rypsr/task-tceyepxedsj7/detail/traininglog\n",
      "[INFO] [05-10 05:06:16] actions.py:652 [t:140466393056832]:  check vdl report in https://console.bce.baidu.com/qianfan/visualdl/index?displayToken=eyJydW5JZCI6InJ1bi1ocnJnN2hicTRpZDJ4Mjh4In0=\n",
      "[INFO] [05-10 05:06:47] actions.py:645 [t:140466393056832]: [train_action] training ... job_name:eb_sft_test_0510_1 current status: Running, 56% check train task log in https://console.bce.baidu.com/qianfan/train/sft/job-mt8qs05rypsr/task-tceyepxedsj7/detail/traininglog\n",
      "[INFO] [05-10 05:06:47] actions.py:652 [t:140466393056832]:  check vdl report in https://console.bce.baidu.com/qianfan/visualdl/index?displayToken=eyJydW5JZCI6InJ1bi1ocnJnN2hicTRpZDJ4Mjh4In0=\n",
      "[INFO] [05-10 05:07:17] actions.py:645 [t:140466393056832]: [train_action] training ... job_name:eb_sft_test_0510_1 current status: Running, 57% check train task log in https://console.bce.baidu.com/qianfan/train/sft/job-mt8qs05rypsr/task-tceyepxedsj7/detail/traininglog\n",
      "[INFO] [05-10 05:07:17] actions.py:652 [t:140466393056832]:  check vdl report in https://console.bce.baidu.com/qianfan/visualdl/index?displayToken=eyJydW5JZCI6InJ1bi1ocnJnN2hicTRpZDJ4Mjh4In0=\n",
      "[INFO] [05-10 05:07:48] actions.py:645 [t:140466393056832]: [train_action] training ... job_name:eb_sft_test_0510_1 current status: Running, 57% check train task log in https://console.bce.baidu.com/qianfan/train/sft/job-mt8qs05rypsr/task-tceyepxedsj7/detail/traininglog\n",
      "[INFO] [05-10 05:07:48] actions.py:652 [t:140466393056832]:  check vdl report in https://console.bce.baidu.com/qianfan/visualdl/index?displayToken=eyJydW5JZCI6InJ1bi1ocnJnN2hicTRpZDJ4Mjh4In0=\n",
      "[INFO] [05-10 05:08:18] actions.py:645 [t:140466393056832]: [train_action] training ... job_name:eb_sft_test_0510_1 current status: Running, 57% check train task log in https://console.bce.baidu.com/qianfan/train/sft/job-mt8qs05rypsr/task-tceyepxedsj7/detail/traininglog\n",
      "[INFO] [05-10 05:08:18] actions.py:652 [t:140466393056832]:  check vdl report in https://console.bce.baidu.com/qianfan/visualdl/index?displayToken=eyJydW5JZCI6InJ1bi1ocnJnN2hicTRpZDJ4Mjh4In0=\n",
      "[INFO] [05-10 05:08:49] actions.py:645 [t:140466393056832]: [train_action] training ... job_name:eb_sft_test_0510_1 current status: Running, 58% check train task log in https://console.bce.baidu.com/qianfan/train/sft/job-mt8qs05rypsr/task-tceyepxedsj7/detail/traininglog\n",
      "[INFO] [05-10 05:08:49] actions.py:652 [t:140466393056832]:  check vdl report in https://console.bce.baidu.com/qianfan/visualdl/index?displayToken=eyJydW5JZCI6InJ1bi1ocnJnN2hicTRpZDJ4Mjh4In0=\n",
      "[INFO] [05-10 05:09:19] actions.py:645 [t:140466393056832]: [train_action] training ... job_name:eb_sft_test_0510_1 current status: Running, 58% check train task log in https://console.bce.baidu.com/qianfan/train/sft/job-mt8qs05rypsr/task-tceyepxedsj7/detail/traininglog\n",
      "[INFO] [05-10 05:09:19] actions.py:652 [t:140466393056832]:  check vdl report in https://console.bce.baidu.com/qianfan/visualdl/index?displayToken=eyJydW5JZCI6InJ1bi1ocnJnN2hicTRpZDJ4Mjh4In0=\n",
      "[INFO] [05-10 05:09:50] actions.py:645 [t:140466393056832]: [train_action] training ... job_name:eb_sft_test_0510_1 current status: Running, 59% check train task log in https://console.bce.baidu.com/qianfan/train/sft/job-mt8qs05rypsr/task-tceyepxedsj7/detail/traininglog\n",
      "[INFO] [05-10 05:09:50] actions.py:652 [t:140466393056832]:  check vdl report in https://console.bce.baidu.com/qianfan/visualdl/index?displayToken=eyJydW5JZCI6InJ1bi1ocnJnN2hicTRpZDJ4Mjh4In0=\n",
      "[INFO] [05-10 05:10:20] actions.py:645 [t:140466393056832]: [train_action] training ... job_name:eb_sft_test_0510_1 current status: Running, 59% check train task log in https://console.bce.baidu.com/qianfan/train/sft/job-mt8qs05rypsr/task-tceyepxedsj7/detail/traininglog\n",
      "[INFO] [05-10 05:10:20] actions.py:652 [t:140466393056832]:  check vdl report in https://console.bce.baidu.com/qianfan/visualdl/index?displayToken=eyJydW5JZCI6InJ1bi1ocnJnN2hicTRpZDJ4Mjh4In0=\n",
      "[INFO] [05-10 05:10:51] actions.py:645 [t:140466393056832]: [train_action] training ... job_name:eb_sft_test_0510_1 current status: Running, 59% check train task log in https://console.bce.baidu.com/qianfan/train/sft/job-mt8qs05rypsr/task-tceyepxedsj7/detail/traininglog\n",
      "[INFO] [05-10 05:10:51] actions.py:652 [t:140466393056832]:  check vdl report in https://console.bce.baidu.com/qianfan/visualdl/index?displayToken=eyJydW5JZCI6InJ1bi1ocnJnN2hicTRpZDJ4Mjh4In0=\n",
      "[INFO] [05-10 05:11:21] actions.py:645 [t:140466393056832]: [train_action] training ... job_name:eb_sft_test_0510_1 current status: Running, 60% check train task log in https://console.bce.baidu.com/qianfan/train/sft/job-mt8qs05rypsr/task-tceyepxedsj7/detail/traininglog\n",
      "[INFO] [05-10 05:11:21] actions.py:652 [t:140466393056832]:  check vdl report in https://console.bce.baidu.com/qianfan/visualdl/index?displayToken=eyJydW5JZCI6InJ1bi1ocnJnN2hicTRpZDJ4Mjh4In0=\n",
      "[INFO] [05-10 05:11:51] actions.py:645 [t:140466393056832]: [train_action] training ... job_name:eb_sft_test_0510_1 current status: Running, 60% check train task log in https://console.bce.baidu.com/qianfan/train/sft/job-mt8qs05rypsr/task-tceyepxedsj7/detail/traininglog\n",
      "[INFO] [05-10 05:11:51] actions.py:652 [t:140466393056832]:  check vdl report in https://console.bce.baidu.com/qianfan/visualdl/index?displayToken=eyJydW5JZCI6InJ1bi1ocnJnN2hicTRpZDJ4Mjh4In0=\n",
      "[INFO] [05-10 05:12:22] actions.py:645 [t:140466393056832]: [train_action] training ... job_name:eb_sft_test_0510_1 current status: Running, 60% check train task log in https://console.bce.baidu.com/qianfan/train/sft/job-mt8qs05rypsr/task-tceyepxedsj7/detail/traininglog\n",
      "[INFO] [05-10 05:12:22] actions.py:652 [t:140466393056832]:  check vdl report in https://console.bce.baidu.com/qianfan/visualdl/index?displayToken=eyJydW5JZCI6InJ1bi1ocnJnN2hicTRpZDJ4Mjh4In0=\n",
      "[INFO] [05-10 05:12:52] actions.py:645 [t:140466393056832]: [train_action] training ... job_name:eb_sft_test_0510_1 current status: Running, 60% check train task log in https://console.bce.baidu.com/qianfan/train/sft/job-mt8qs05rypsr/task-tceyepxedsj7/detail/traininglog\n",
      "[INFO] [05-10 05:12:52] actions.py:652 [t:140466393056832]:  check vdl report in https://console.bce.baidu.com/qianfan/visualdl/index?displayToken=eyJydW5JZCI6InJ1bi1ocnJnN2hicTRpZDJ4Mjh4In0=\n",
      "[INFO] [05-10 05:13:23] actions.py:645 [t:140466393056832]: [train_action] training ... job_name:eb_sft_test_0510_1 current status: Running, 60% check train task log in https://console.bce.baidu.com/qianfan/train/sft/job-mt8qs05rypsr/task-tceyepxedsj7/detail/traininglog\n",
      "[INFO] [05-10 05:13:23] actions.py:652 [t:140466393056832]:  check vdl report in https://console.bce.baidu.com/qianfan/visualdl/index?displayToken=eyJydW5JZCI6InJ1bi1ocnJnN2hicTRpZDJ4Mjh4In0=\n",
      "[INFO] [05-10 05:13:53] actions.py:645 [t:140466393056832]: [train_action] training ... job_name:eb_sft_test_0510_1 current status: Running, 60% check train task log in https://console.bce.baidu.com/qianfan/train/sft/job-mt8qs05rypsr/task-tceyepxedsj7/detail/traininglog\n",
      "[INFO] [05-10 05:13:53] actions.py:652 [t:140466393056832]:  check vdl report in https://console.bce.baidu.com/qianfan/visualdl/index?displayToken=eyJydW5JZCI6InJ1bi1ocnJnN2hicTRpZDJ4Mjh4In0=\n",
      "[INFO] [05-10 05:14:24] actions.py:645 [t:140466393056832]: [train_action] training ... job_name:eb_sft_test_0510_1 current status: Running, 60% check train task log in https://console.bce.baidu.com/qianfan/train/sft/job-mt8qs05rypsr/task-tceyepxedsj7/detail/traininglog\n",
      "[INFO] [05-10 05:14:24] actions.py:652 [t:140466393056832]:  check vdl report in https://console.bce.baidu.com/qianfan/visualdl/index?displayToken=eyJydW5JZCI6InJ1bi1ocnJnN2hicTRpZDJ4Mjh4In0=\n",
      "[INFO] [05-10 05:14:54] actions.py:645 [t:140466393056832]: [train_action] training ... job_name:eb_sft_test_0510_1 current status: Running, 60% check train task log in https://console.bce.baidu.com/qianfan/train/sft/job-mt8qs05rypsr/task-tceyepxedsj7/detail/traininglog\n"
     ]
    },
    {
     "name": "stderr",
     "output_type": "stream",
     "text": [
      "[INFO] [05-10 05:14:54] actions.py:652 [t:140466393056832]:  check vdl report in https://console.bce.baidu.com/qianfan/visualdl/index?displayToken=eyJydW5JZCI6InJ1bi1ocnJnN2hicTRpZDJ4Mjh4In0=\n",
      "[INFO] [05-10 05:15:24] actions.py:645 [t:140466393056832]: [train_action] training ... job_name:eb_sft_test_0510_1 current status: Running, 61% check train task log in https://console.bce.baidu.com/qianfan/train/sft/job-mt8qs05rypsr/task-tceyepxedsj7/detail/traininglog\n",
      "[INFO] [05-10 05:15:24] actions.py:652 [t:140466393056832]:  check vdl report in https://console.bce.baidu.com/qianfan/visualdl/index?displayToken=eyJydW5JZCI6InJ1bi1ocnJnN2hicTRpZDJ4Mjh4In0=\n",
      "[INFO] [05-10 05:15:55] actions.py:645 [t:140466393056832]: [train_action] training ... job_name:eb_sft_test_0510_1 current status: Running, 61% check train task log in https://console.bce.baidu.com/qianfan/train/sft/job-mt8qs05rypsr/task-tceyepxedsj7/detail/traininglog\n",
      "[INFO] [05-10 05:15:55] actions.py:652 [t:140466393056832]:  check vdl report in https://console.bce.baidu.com/qianfan/visualdl/index?displayToken=eyJydW5JZCI6InJ1bi1ocnJnN2hicTRpZDJ4Mjh4In0=\n",
      "[INFO] [05-10 05:16:25] actions.py:645 [t:140466393056832]: [train_action] training ... job_name:eb_sft_test_0510_1 current status: Running, 62% check train task log in https://console.bce.baidu.com/qianfan/train/sft/job-mt8qs05rypsr/task-tceyepxedsj7/detail/traininglog\n",
      "[INFO] [05-10 05:16:25] actions.py:652 [t:140466393056832]:  check vdl report in https://console.bce.baidu.com/qianfan/visualdl/index?displayToken=eyJydW5JZCI6InJ1bi1ocnJnN2hicTRpZDJ4Mjh4In0=\n",
      "[INFO] [05-10 05:16:56] actions.py:645 [t:140466393056832]: [train_action] training ... job_name:eb_sft_test_0510_1 current status: Running, 62% check train task log in https://console.bce.baidu.com/qianfan/train/sft/job-mt8qs05rypsr/task-tceyepxedsj7/detail/traininglog\n",
      "[INFO] [05-10 05:16:56] actions.py:652 [t:140466393056832]:  check vdl report in https://console.bce.baidu.com/qianfan/visualdl/index?displayToken=eyJydW5JZCI6InJ1bi1ocnJnN2hicTRpZDJ4Mjh4In0=\n",
      "[INFO] [05-10 05:17:26] actions.py:645 [t:140466393056832]: [train_action] training ... job_name:eb_sft_test_0510_1 current status: Running, 62% check train task log in https://console.bce.baidu.com/qianfan/train/sft/job-mt8qs05rypsr/task-tceyepxedsj7/detail/traininglog\n",
      "[INFO] [05-10 05:17:26] actions.py:652 [t:140466393056832]:  check vdl report in https://console.bce.baidu.com/qianfan/visualdl/index?displayToken=eyJydW5JZCI6InJ1bi1ocnJnN2hicTRpZDJ4Mjh4In0=\n",
      "[INFO] [05-10 05:17:57] actions.py:645 [t:140466393056832]: [train_action] training ... job_name:eb_sft_test_0510_1 current status: Running, 63% check train task log in https://console.bce.baidu.com/qianfan/train/sft/job-mt8qs05rypsr/task-tceyepxedsj7/detail/traininglog\n",
      "[INFO] [05-10 05:17:57] actions.py:652 [t:140466393056832]:  check vdl report in https://console.bce.baidu.com/qianfan/visualdl/index?displayToken=eyJydW5JZCI6InJ1bi1ocnJnN2hicTRpZDJ4Mjh4In0=\n",
      "[INFO] [05-10 05:18:27] actions.py:645 [t:140466393056832]: [train_action] training ... job_name:eb_sft_test_0510_1 current status: Running, 63% check train task log in https://console.bce.baidu.com/qianfan/train/sft/job-mt8qs05rypsr/task-tceyepxedsj7/detail/traininglog\n",
      "[INFO] [05-10 05:18:27] actions.py:652 [t:140466393056832]:  check vdl report in https://console.bce.baidu.com/qianfan/visualdl/index?displayToken=eyJydW5JZCI6InJ1bi1ocnJnN2hicTRpZDJ4Mjh4In0=\n",
      "[INFO] [05-10 05:18:58] actions.py:645 [t:140466393056832]: [train_action] training ... job_name:eb_sft_test_0510_1 current status: Running, 64% check train task log in https://console.bce.baidu.com/qianfan/train/sft/job-mt8qs05rypsr/task-tceyepxedsj7/detail/traininglog\n",
      "[INFO] [05-10 05:18:58] actions.py:652 [t:140466393056832]:  check vdl report in https://console.bce.baidu.com/qianfan/visualdl/index?displayToken=eyJydW5JZCI6InJ1bi1ocnJnN2hicTRpZDJ4Mjh4In0=\n",
      "[INFO] [05-10 05:19:28] actions.py:645 [t:140466393056832]: [train_action] training ... job_name:eb_sft_test_0510_1 current status: Running, 64% check train task log in https://console.bce.baidu.com/qianfan/train/sft/job-mt8qs05rypsr/task-tceyepxedsj7/detail/traininglog\n",
      "[INFO] [05-10 05:19:28] actions.py:652 [t:140466393056832]:  check vdl report in https://console.bce.baidu.com/qianfan/visualdl/index?displayToken=eyJydW5JZCI6InJ1bi1ocnJnN2hicTRpZDJ4Mjh4In0=\n",
      "[INFO] [05-10 05:19:59] actions.py:645 [t:140466393056832]: [train_action] training ... job_name:eb_sft_test_0510_1 current status: Running, 65% check train task log in https://console.bce.baidu.com/qianfan/train/sft/job-mt8qs05rypsr/task-tceyepxedsj7/detail/traininglog\n",
      "[INFO] [05-10 05:19:59] actions.py:652 [t:140466393056832]:  check vdl report in https://console.bce.baidu.com/qianfan/visualdl/index?displayToken=eyJydW5JZCI6InJ1bi1ocnJnN2hicTRpZDJ4Mjh4In0=\n",
      "[INFO] [05-10 05:20:29] actions.py:645 [t:140466393056832]: [train_action] training ... job_name:eb_sft_test_0510_1 current status: Running, 65% check train task log in https://console.bce.baidu.com/qianfan/train/sft/job-mt8qs05rypsr/task-tceyepxedsj7/detail/traininglog\n",
      "[INFO] [05-10 05:20:29] actions.py:652 [t:140466393056832]:  check vdl report in https://console.bce.baidu.com/qianfan/visualdl/index?displayToken=eyJydW5JZCI6InJ1bi1ocnJnN2hicTRpZDJ4Mjh4In0=\n",
      "[INFO] [05-10 05:20:59] actions.py:645 [t:140466393056832]: [train_action] training ... job_name:eb_sft_test_0510_1 current status: Running, 65% check train task log in https://console.bce.baidu.com/qianfan/train/sft/job-mt8qs05rypsr/task-tceyepxedsj7/detail/traininglog\n",
      "[INFO] [05-10 05:20:59] actions.py:652 [t:140466393056832]:  check vdl report in https://console.bce.baidu.com/qianfan/visualdl/index?displayToken=eyJydW5JZCI6InJ1bi1ocnJnN2hicTRpZDJ4Mjh4In0=\n",
      "[INFO] [05-10 05:21:30] actions.py:645 [t:140466393056832]: [train_action] training ... job_name:eb_sft_test_0510_1 current status: Running, 65% check train task log in https://console.bce.baidu.com/qianfan/train/sft/job-mt8qs05rypsr/task-tceyepxedsj7/detail/traininglog\n",
      "[INFO] [05-10 05:21:30] actions.py:652 [t:140466393056832]:  check vdl report in https://console.bce.baidu.com/qianfan/visualdl/index?displayToken=eyJydW5JZCI6InJ1bi1ocnJnN2hicTRpZDJ4Mjh4In0=\n",
      "[INFO] [05-10 05:22:00] actions.py:645 [t:140466393056832]: [train_action] training ... job_name:eb_sft_test_0510_1 current status: Running, 65% check train task log in https://console.bce.baidu.com/qianfan/train/sft/job-mt8qs05rypsr/task-tceyepxedsj7/detail/traininglog\n",
      "[INFO] [05-10 05:22:00] actions.py:652 [t:140466393056832]:  check vdl report in https://console.bce.baidu.com/qianfan/visualdl/index?displayToken=eyJydW5JZCI6InJ1bi1ocnJnN2hicTRpZDJ4Mjh4In0=\n",
      "[INFO] [05-10 05:22:31] actions.py:645 [t:140466393056832]: [train_action] training ... job_name:eb_sft_test_0510_1 current status: Running, 65% check train task log in https://console.bce.baidu.com/qianfan/train/sft/job-mt8qs05rypsr/task-tceyepxedsj7/detail/traininglog\n",
      "[INFO] [05-10 05:22:31] actions.py:652 [t:140466393056832]:  check vdl report in https://console.bce.baidu.com/qianfan/visualdl/index?displayToken=eyJydW5JZCI6InJ1bi1ocnJnN2hicTRpZDJ4Mjh4In0=\n",
      "[INFO] [05-10 05:23:01] actions.py:645 [t:140466393056832]: [train_action] training ... job_name:eb_sft_test_0510_1 current status: Running, 65% check train task log in https://console.bce.baidu.com/qianfan/train/sft/job-mt8qs05rypsr/task-tceyepxedsj7/detail/traininglog\n",
      "[INFO] [05-10 05:23:01] actions.py:652 [t:140466393056832]:  check vdl report in https://console.bce.baidu.com/qianfan/visualdl/index?displayToken=eyJydW5JZCI6InJ1bi1ocnJnN2hicTRpZDJ4Mjh4In0=\n",
      "[INFO] [05-10 05:23:32] actions.py:645 [t:140466393056832]: [train_action] training ... job_name:eb_sft_test_0510_1 current status: Running, 65% check train task log in https://console.bce.baidu.com/qianfan/train/sft/job-mt8qs05rypsr/task-tceyepxedsj7/detail/traininglog\n",
      "[INFO] [05-10 05:23:32] actions.py:652 [t:140466393056832]:  check vdl report in https://console.bce.baidu.com/qianfan/visualdl/index?displayToken=eyJydW5JZCI6InJ1bi1ocnJnN2hicTRpZDJ4Mjh4In0=\n",
      "[INFO] [05-10 05:24:02] actions.py:645 [t:140466393056832]: [train_action] training ... job_name:eb_sft_test_0510_1 current status: Running, 65% check train task log in https://console.bce.baidu.com/qianfan/train/sft/job-mt8qs05rypsr/task-tceyepxedsj7/detail/traininglog\n"
     ]
    },
    {
     "name": "stderr",
     "output_type": "stream",
     "text": [
      "[INFO] [05-10 05:24:02] actions.py:652 [t:140466393056832]:  check vdl report in https://console.bce.baidu.com/qianfan/visualdl/index?displayToken=eyJydW5JZCI6InJ1bi1ocnJnN2hicTRpZDJ4Mjh4In0=\n",
      "[INFO] [05-10 05:24:32] actions.py:645 [t:140466393056832]: [train_action] training ... job_name:eb_sft_test_0510_1 current status: Running, 65% check train task log in https://console.bce.baidu.com/qianfan/train/sft/job-mt8qs05rypsr/task-tceyepxedsj7/detail/traininglog\n",
      "[INFO] [05-10 05:24:32] actions.py:652 [t:140466393056832]:  check vdl report in https://console.bce.baidu.com/qianfan/visualdl/index?displayToken=eyJydW5JZCI6InJ1bi1ocnJnN2hicTRpZDJ4Mjh4In0=\n",
      "[INFO] [05-10 05:25:03] actions.py:645 [t:140466393056832]: [train_action] training ... job_name:eb_sft_test_0510_1 current status: Running, 65% check train task log in https://console.bce.baidu.com/qianfan/train/sft/job-mt8qs05rypsr/task-tceyepxedsj7/detail/traininglog\n",
      "[INFO] [05-10 05:25:03] actions.py:652 [t:140466393056832]:  check vdl report in https://console.bce.baidu.com/qianfan/visualdl/index?displayToken=eyJydW5JZCI6InJ1bi1ocnJnN2hicTRpZDJ4Mjh4In0=\n",
      "[INFO] [05-10 05:25:33] actions.py:645 [t:140466393056832]: [train_action] training ... job_name:eb_sft_test_0510_1 current status: Running, 65% check train task log in https://console.bce.baidu.com/qianfan/train/sft/job-mt8qs05rypsr/task-tceyepxedsj7/detail/traininglog\n",
      "[INFO] [05-10 05:25:33] actions.py:652 [t:140466393056832]:  check vdl report in https://console.bce.baidu.com/qianfan/visualdl/index?displayToken=eyJydW5JZCI6InJ1bi1ocnJnN2hicTRpZDJ4Mjh4In0=\n",
      "[INFO] [05-10 05:26:04] actions.py:645 [t:140466393056832]: [train_action] training ... job_name:eb_sft_test_0510_1 current status: Running, 65% check train task log in https://console.bce.baidu.com/qianfan/train/sft/job-mt8qs05rypsr/task-tceyepxedsj7/detail/traininglog\n",
      "[INFO] [05-10 05:26:04] actions.py:652 [t:140466393056832]:  check vdl report in https://console.bce.baidu.com/qianfan/visualdl/index?displayToken=eyJydW5JZCI6InJ1bi1ocnJnN2hicTRpZDJ4Mjh4In0=\n",
      "[INFO] [05-10 05:26:34] actions.py:645 [t:140466393056832]: [train_action] training ... job_name:eb_sft_test_0510_1 current status: Running, 65% check train task log in https://console.bce.baidu.com/qianfan/train/sft/job-mt8qs05rypsr/task-tceyepxedsj7/detail/traininglog\n",
      "[INFO] [05-10 05:26:34] actions.py:652 [t:140466393056832]:  check vdl report in https://console.bce.baidu.com/qianfan/visualdl/index?displayToken=eyJydW5JZCI6InJ1bi1ocnJnN2hicTRpZDJ4Mjh4In0=\n",
      "[INFO] [05-10 05:27:05] actions.py:645 [t:140466393056832]: [train_action] training ... job_name:eb_sft_test_0510_1 current status: Running, 65% check train task log in https://console.bce.baidu.com/qianfan/train/sft/job-mt8qs05rypsr/task-tceyepxedsj7/detail/traininglog\n",
      "[INFO] [05-10 05:27:05] actions.py:652 [t:140466393056832]:  check vdl report in https://console.bce.baidu.com/qianfan/visualdl/index?displayToken=eyJydW5JZCI6InJ1bi1ocnJnN2hicTRpZDJ4Mjh4In0=\n",
      "[INFO] [05-10 05:27:35] actions.py:645 [t:140466393056832]: [train_action] training ... job_name:eb_sft_test_0510_1 current status: Running, 65% check train task log in https://console.bce.baidu.com/qianfan/train/sft/job-mt8qs05rypsr/task-tceyepxedsj7/detail/traininglog\n",
      "[INFO] [05-10 05:27:35] actions.py:652 [t:140466393056832]:  check vdl report in https://console.bce.baidu.com/qianfan/visualdl/index?displayToken=eyJydW5JZCI6InJ1bi1ocnJnN2hicTRpZDJ4Mjh4In0=\n",
      "[INFO] [05-10 05:28:06] actions.py:645 [t:140466393056832]: [train_action] training ... job_name:eb_sft_test_0510_1 current status: Running, 65% check train task log in https://console.bce.baidu.com/qianfan/train/sft/job-mt8qs05rypsr/task-tceyepxedsj7/detail/traininglog\n",
      "[INFO] [05-10 05:28:06] actions.py:652 [t:140466393056832]:  check vdl report in https://console.bce.baidu.com/qianfan/visualdl/index?displayToken=eyJydW5JZCI6InJ1bi1ocnJnN2hicTRpZDJ4Mjh4In0=\n",
      "[INFO] [05-10 05:28:36] actions.py:645 [t:140466393056832]: [train_action] training ... job_name:eb_sft_test_0510_1 current status: Running, 65% check train task log in https://console.bce.baidu.com/qianfan/train/sft/job-mt8qs05rypsr/task-tceyepxedsj7/detail/traininglog\n",
      "[INFO] [05-10 05:28:36] actions.py:652 [t:140466393056832]:  check vdl report in https://console.bce.baidu.com/qianfan/visualdl/index?displayToken=eyJydW5JZCI6InJ1bi1ocnJnN2hicTRpZDJ4Mjh4In0=\n",
      "[INFO] [05-10 05:29:07] actions.py:645 [t:140466393056832]: [train_action] training ... job_name:eb_sft_test_0510_1 current status: Running, 65% check train task log in https://console.bce.baidu.com/qianfan/train/sft/job-mt8qs05rypsr/task-tceyepxedsj7/detail/traininglog\n",
      "[INFO] [05-10 05:29:07] actions.py:652 [t:140466393056832]:  check vdl report in https://console.bce.baidu.com/qianfan/visualdl/index?displayToken=eyJydW5JZCI6InJ1bi1ocnJnN2hicTRpZDJ4Mjh4In0=\n",
      "[INFO] [05-10 05:29:37] actions.py:645 [t:140466393056832]: [train_action] training ... job_name:eb_sft_test_0510_1 current status: Running, 65% check train task log in https://console.bce.baidu.com/qianfan/train/sft/job-mt8qs05rypsr/task-tceyepxedsj7/detail/traininglog\n",
      "[INFO] [05-10 05:29:37] actions.py:652 [t:140466393056832]:  check vdl report in https://console.bce.baidu.com/qianfan/visualdl/index?displayToken=eyJydW5JZCI6InJ1bi1ocnJnN2hicTRpZDJ4Mjh4In0=\n",
      "[INFO] [05-10 05:30:07] actions.py:645 [t:140466393056832]: [train_action] training ... job_name:eb_sft_test_0510_1 current status: Running, 65% check train task log in https://console.bce.baidu.com/qianfan/train/sft/job-mt8qs05rypsr/task-tceyepxedsj7/detail/traininglog\n",
      "[INFO] [05-10 05:30:07] actions.py:652 [t:140466393056832]:  check vdl report in https://console.bce.baidu.com/qianfan/visualdl/index?displayToken=eyJydW5JZCI6InJ1bi1ocnJnN2hicTRpZDJ4Mjh4In0=\n",
      "[INFO] [05-10 05:30:38] actions.py:645 [t:140466393056832]: [train_action] training ... job_name:eb_sft_test_0510_1 current status: Running, 65% check train task log in https://console.bce.baidu.com/qianfan/train/sft/job-mt8qs05rypsr/task-tceyepxedsj7/detail/traininglog\n",
      "[INFO] [05-10 05:30:38] actions.py:652 [t:140466393056832]:  check vdl report in https://console.bce.baidu.com/qianfan/visualdl/index?displayToken=eyJydW5JZCI6InJ1bi1ocnJnN2hicTRpZDJ4Mjh4In0=\n",
      "[INFO] [05-10 05:31:08] actions.py:645 [t:140466393056832]: [train_action] training ... job_name:eb_sft_test_0510_1 current status: Running, 65% check train task log in https://console.bce.baidu.com/qianfan/train/sft/job-mt8qs05rypsr/task-tceyepxedsj7/detail/traininglog\n",
      "[INFO] [05-10 05:31:08] actions.py:652 [t:140466393056832]:  check vdl report in https://console.bce.baidu.com/qianfan/visualdl/index?displayToken=eyJydW5JZCI6InJ1bi1ocnJnN2hicTRpZDJ4Mjh4In0=\n",
      "[INFO] [05-10 05:31:39] actions.py:645 [t:140466393056832]: [train_action] training ... job_name:eb_sft_test_0510_1 current status: Running, 65% check train task log in https://console.bce.baidu.com/qianfan/train/sft/job-mt8qs05rypsr/task-tceyepxedsj7/detail/traininglog\n",
      "[INFO] [05-10 05:31:39] actions.py:652 [t:140466393056832]:  check vdl report in https://console.bce.baidu.com/qianfan/visualdl/index?displayToken=eyJydW5JZCI6InJ1bi1ocnJnN2hicTRpZDJ4Mjh4In0=\n",
      "[INFO] [05-10 05:32:09] actions.py:645 [t:140466393056832]: [train_action] training ... job_name:eb_sft_test_0510_1 current status: Running, 65% check train task log in https://console.bce.baidu.com/qianfan/train/sft/job-mt8qs05rypsr/task-tceyepxedsj7/detail/traininglog\n",
      "[INFO] [05-10 05:32:09] actions.py:652 [t:140466393056832]:  check vdl report in https://console.bce.baidu.com/qianfan/visualdl/index?displayToken=eyJydW5JZCI6InJ1bi1ocnJnN2hicTRpZDJ4Mjh4In0=\n",
      "[INFO] [05-10 05:32:40] actions.py:645 [t:140466393056832]: [train_action] training ... job_name:eb_sft_test_0510_1 current status: Running, 65% check train task log in https://console.bce.baidu.com/qianfan/train/sft/job-mt8qs05rypsr/task-tceyepxedsj7/detail/traininglog\n",
      "[INFO] [05-10 05:32:40] actions.py:652 [t:140466393056832]:  check vdl report in https://console.bce.baidu.com/qianfan/visualdl/index?displayToken=eyJydW5JZCI6InJ1bi1ocnJnN2hicTRpZDJ4Mjh4In0=\n",
      "[INFO] [05-10 05:33:10] actions.py:645 [t:140466393056832]: [train_action] training ... job_name:eb_sft_test_0510_1 current status: Running, 65% check train task log in https://console.bce.baidu.com/qianfan/train/sft/job-mt8qs05rypsr/task-tceyepxedsj7/detail/traininglog\n"
     ]
    },
    {
     "name": "stderr",
     "output_type": "stream",
     "text": [
      "[INFO] [05-10 05:33:10] actions.py:652 [t:140466393056832]:  check vdl report in https://console.bce.baidu.com/qianfan/visualdl/index?displayToken=eyJydW5JZCI6InJ1bi1ocnJnN2hicTRpZDJ4Mjh4In0=\n",
      "[INFO] [05-10 05:33:41] actions.py:645 [t:140466393056832]: [train_action] training ... job_name:eb_sft_test_0510_1 current status: Running, 65% check train task log in https://console.bce.baidu.com/qianfan/train/sft/job-mt8qs05rypsr/task-tceyepxedsj7/detail/traininglog\n",
      "[INFO] [05-10 05:33:41] actions.py:652 [t:140466393056832]:  check vdl report in https://console.bce.baidu.com/qianfan/visualdl/index?displayToken=eyJydW5JZCI6InJ1bi1ocnJnN2hicTRpZDJ4Mjh4In0=\n",
      "[INFO] [05-10 05:34:11] actions.py:645 [t:140466393056832]: [train_action] training ... job_name:eb_sft_test_0510_1 current status: Running, 65% check train task log in https://console.bce.baidu.com/qianfan/train/sft/job-mt8qs05rypsr/task-tceyepxedsj7/detail/traininglog\n",
      "[INFO] [05-10 05:34:11] actions.py:652 [t:140466393056832]:  check vdl report in https://console.bce.baidu.com/qianfan/visualdl/index?displayToken=eyJydW5JZCI6InJ1bi1ocnJnN2hicTRpZDJ4Mjh4In0=\n",
      "[INFO] [05-10 05:34:41] actions.py:645 [t:140466393056832]: [train_action] training ... job_name:eb_sft_test_0510_1 current status: Running, 65% check train task log in https://console.bce.baidu.com/qianfan/train/sft/job-mt8qs05rypsr/task-tceyepxedsj7/detail/traininglog\n",
      "[INFO] [05-10 05:34:41] actions.py:652 [t:140466393056832]:  check vdl report in https://console.bce.baidu.com/qianfan/visualdl/index?displayToken=eyJydW5JZCI6InJ1bi1ocnJnN2hicTRpZDJ4Mjh4In0=\n",
      "[INFO] [05-10 05:35:12] actions.py:645 [t:140466393056832]: [train_action] training ... job_name:eb_sft_test_0510_1 current status: Running, 65% check train task log in https://console.bce.baidu.com/qianfan/train/sft/job-mt8qs05rypsr/task-tceyepxedsj7/detail/traininglog\n",
      "[INFO] [05-10 05:35:12] actions.py:652 [t:140466393056832]:  check vdl report in https://console.bce.baidu.com/qianfan/visualdl/index?displayToken=eyJydW5JZCI6InJ1bi1ocnJnN2hicTRpZDJ4Mjh4In0=\n",
      "[INFO] [05-10 05:35:42] actions.py:645 [t:140466393056832]: [train_action] training ... job_name:eb_sft_test_0510_1 current status: Running, 65% check train task log in https://console.bce.baidu.com/qianfan/train/sft/job-mt8qs05rypsr/task-tceyepxedsj7/detail/traininglog\n",
      "[INFO] [05-10 05:35:42] actions.py:652 [t:140466393056832]:  check vdl report in https://console.bce.baidu.com/qianfan/visualdl/index?displayToken=eyJydW5JZCI6InJ1bi1ocnJnN2hicTRpZDJ4Mjh4In0=\n",
      "[INFO] [05-10 05:36:13] actions.py:645 [t:140466393056832]: [train_action] training ... job_name:eb_sft_test_0510_1 current status: Running, 65% check train task log in https://console.bce.baidu.com/qianfan/train/sft/job-mt8qs05rypsr/task-tceyepxedsj7/detail/traininglog\n",
      "[INFO] [05-10 05:36:13] actions.py:652 [t:140466393056832]:  check vdl report in https://console.bce.baidu.com/qianfan/visualdl/index?displayToken=eyJydW5JZCI6InJ1bi1ocnJnN2hicTRpZDJ4Mjh4In0=\n",
      "[INFO] [05-10 05:36:43] actions.py:645 [t:140466393056832]: [train_action] training ... job_name:eb_sft_test_0510_1 current status: Running, 65% check train task log in https://console.bce.baidu.com/qianfan/train/sft/job-mt8qs05rypsr/task-tceyepxedsj7/detail/traininglog\n",
      "[INFO] [05-10 05:36:43] actions.py:652 [t:140466393056832]:  check vdl report in https://console.bce.baidu.com/qianfan/visualdl/index?displayToken=eyJydW5JZCI6InJ1bi1ocnJnN2hicTRpZDJ4Mjh4In0=\n",
      "[INFO] [05-10 05:37:14] actions.py:645 [t:140466393056832]: [train_action] training ... job_name:eb_sft_test_0510_1 current status: Running, 65% check train task log in https://console.bce.baidu.com/qianfan/train/sft/job-mt8qs05rypsr/task-tceyepxedsj7/detail/traininglog\n",
      "[INFO] [05-10 05:37:14] actions.py:652 [t:140466393056832]:  check vdl report in https://console.bce.baidu.com/qianfan/visualdl/index?displayToken=eyJydW5JZCI6InJ1bi1ocnJnN2hicTRpZDJ4Mjh4In0=\n",
      "[INFO] [05-10 05:37:44] actions.py:645 [t:140466393056832]: [train_action] training ... job_name:eb_sft_test_0510_1 current status: Running, 65% check train task log in https://console.bce.baidu.com/qianfan/train/sft/job-mt8qs05rypsr/task-tceyepxedsj7/detail/traininglog\n",
      "[INFO] [05-10 05:37:44] actions.py:652 [t:140466393056832]:  check vdl report in https://console.bce.baidu.com/qianfan/visualdl/index?displayToken=eyJydW5JZCI6InJ1bi1ocnJnN2hicTRpZDJ4Mjh4In0=\n",
      "[INFO] [05-10 05:38:14] actions.py:645 [t:140466393056832]: [train_action] training ... job_name:eb_sft_test_0510_1 current status: Running, 65% check train task log in https://console.bce.baidu.com/qianfan/train/sft/job-mt8qs05rypsr/task-tceyepxedsj7/detail/traininglog\n",
      "[INFO] [05-10 05:38:15] actions.py:652 [t:140466393056832]:  check vdl report in https://console.bce.baidu.com/qianfan/visualdl/index?displayToken=eyJydW5JZCI6InJ1bi1ocnJnN2hicTRpZDJ4Mjh4In0=\n",
      "[INFO] [05-10 05:38:45] actions.py:645 [t:140466393056832]: [train_action] training ... job_name:eb_sft_test_0510_1 current status: Running, 65% check train task log in https://console.bce.baidu.com/qianfan/train/sft/job-mt8qs05rypsr/task-tceyepxedsj7/detail/traininglog\n",
      "[INFO] [05-10 05:38:45] actions.py:652 [t:140466393056832]:  check vdl report in https://console.bce.baidu.com/qianfan/visualdl/index?displayToken=eyJydW5JZCI6InJ1bi1ocnJnN2hicTRpZDJ4Mjh4In0=\n",
      "[INFO] [05-10 05:39:15] actions.py:645 [t:140466393056832]: [train_action] training ... job_name:eb_sft_test_0510_1 current status: Running, 65% check train task log in https://console.bce.baidu.com/qianfan/train/sft/job-mt8qs05rypsr/task-tceyepxedsj7/detail/traininglog\n",
      "[INFO] [05-10 05:39:15] actions.py:652 [t:140466393056832]:  check vdl report in https://console.bce.baidu.com/qianfan/visualdl/index?displayToken=eyJydW5JZCI6InJ1bi1ocnJnN2hicTRpZDJ4Mjh4In0=\n",
      "[INFO] [05-10 05:39:46] actions.py:645 [t:140466393056832]: [train_action] training ... job_name:eb_sft_test_0510_1 current status: Running, 65% check train task log in https://console.bce.baidu.com/qianfan/train/sft/job-mt8qs05rypsr/task-tceyepxedsj7/detail/traininglog\n",
      "[INFO] [05-10 05:39:46] actions.py:652 [t:140466393056832]:  check vdl report in https://console.bce.baidu.com/qianfan/visualdl/index?displayToken=eyJydW5JZCI6InJ1bi1ocnJnN2hicTRpZDJ4Mjh4In0=\n",
      "[INFO] [05-10 05:40:16] actions.py:645 [t:140466393056832]: [train_action] training ... job_name:eb_sft_test_0510_1 current status: Running, 65% check train task log in https://console.bce.baidu.com/qianfan/train/sft/job-mt8qs05rypsr/task-tceyepxedsj7/detail/traininglog\n",
      "[INFO] [05-10 05:40:16] actions.py:652 [t:140466393056832]:  check vdl report in https://console.bce.baidu.com/qianfan/visualdl/index?displayToken=eyJydW5JZCI6InJ1bi1ocnJnN2hicTRpZDJ4Mjh4In0=\n",
      "[INFO] [05-10 05:40:47] actions.py:645 [t:140466393056832]: [train_action] training ... job_name:eb_sft_test_0510_1 current status: Running, 65% check train task log in https://console.bce.baidu.com/qianfan/train/sft/job-mt8qs05rypsr/task-tceyepxedsj7/detail/traininglog\n",
      "[INFO] [05-10 05:40:47] actions.py:652 [t:140466393056832]:  check vdl report in https://console.bce.baidu.com/qianfan/visualdl/index?displayToken=eyJydW5JZCI6InJ1bi1ocnJnN2hicTRpZDJ4Mjh4In0=\n",
      "[INFO] [05-10 05:41:17] actions.py:645 [t:140466393056832]: [train_action] training ... job_name:eb_sft_test_0510_1 current status: Running, 65% check train task log in https://console.bce.baidu.com/qianfan/train/sft/job-mt8qs05rypsr/task-tceyepxedsj7/detail/traininglog\n",
      "[INFO] [05-10 05:41:17] actions.py:652 [t:140466393056832]:  check vdl report in https://console.bce.baidu.com/qianfan/visualdl/index?displayToken=eyJydW5JZCI6InJ1bi1ocnJnN2hicTRpZDJ4Mjh4In0=\n",
      "[INFO] [05-10 05:41:48] actions.py:645 [t:140466393056832]: [train_action] training ... job_name:eb_sft_test_0510_1 current status: Running, 65% check train task log in https://console.bce.baidu.com/qianfan/train/sft/job-mt8qs05rypsr/task-tceyepxedsj7/detail/traininglog\n",
      "[INFO] [05-10 05:41:48] actions.py:652 [t:140466393056832]:  check vdl report in https://console.bce.baidu.com/qianfan/visualdl/index?displayToken=eyJydW5JZCI6InJ1bi1ocnJnN2hicTRpZDJ4Mjh4In0=\n",
      "[INFO] [05-10 05:42:18] actions.py:645 [t:140466393056832]: [train_action] training ... job_name:eb_sft_test_0510_1 current status: Running, 65% check train task log in https://console.bce.baidu.com/qianfan/train/sft/job-mt8qs05rypsr/task-tceyepxedsj7/detail/traininglog\n"
     ]
    },
    {
     "name": "stderr",
     "output_type": "stream",
     "text": [
      "[INFO] [05-10 05:42:18] actions.py:652 [t:140466393056832]:  check vdl report in https://console.bce.baidu.com/qianfan/visualdl/index?displayToken=eyJydW5JZCI6InJ1bi1ocnJnN2hicTRpZDJ4Mjh4In0=\n",
      "[INFO] [05-10 05:42:48] actions.py:645 [t:140466393056832]: [train_action] training ... job_name:eb_sft_test_0510_1 current status: Running, 65% check train task log in https://console.bce.baidu.com/qianfan/train/sft/job-mt8qs05rypsr/task-tceyepxedsj7/detail/traininglog\n",
      "[INFO] [05-10 05:42:48] actions.py:652 [t:140466393056832]:  check vdl report in https://console.bce.baidu.com/qianfan/visualdl/index?displayToken=eyJydW5JZCI6InJ1bi1ocnJnN2hicTRpZDJ4Mjh4In0=\n",
      "[INFO] [05-10 05:43:19] actions.py:645 [t:140466393056832]: [train_action] training ... job_name:eb_sft_test_0510_1 current status: Running, 65% check train task log in https://console.bce.baidu.com/qianfan/train/sft/job-mt8qs05rypsr/task-tceyepxedsj7/detail/traininglog\n",
      "[INFO] [05-10 05:43:19] actions.py:652 [t:140466393056832]:  check vdl report in https://console.bce.baidu.com/qianfan/visualdl/index?displayToken=eyJydW5JZCI6InJ1bi1ocnJnN2hicTRpZDJ4Mjh4In0=\n",
      "[INFO] [05-10 05:43:49] actions.py:645 [t:140466393056832]: [train_action] training ... job_name:eb_sft_test_0510_1 current status: Running, 99% check train task log in https://console.bce.baidu.com/qianfan/train/sft/job-mt8qs05rypsr/task-tceyepxedsj7/detail/traininglog\n",
      "[INFO] [05-10 05:43:49] actions.py:652 [t:140466393056832]:  check vdl report in https://console.bce.baidu.com/qianfan/visualdl/index?displayToken=eyJydW5JZCI6InJ1bi1ocnJnN2hicTRpZDJ4Mjh4In0=\n",
      "[INFO] [05-10 05:44:20] actions.py:616 [t:140466393056832]: [train_action] training task metrics: {'BLEU-4': '47.29%', 'ROUGE-1': '50.83%', 'ROUGE-2': '29.34%', 'ROUGE-L': '54.98%'}\n",
      "[INFO] [05-10 05:44:20] actions.py:617 [t:140466393056832]: [train_action] training task checkpoints: [{'perplexity': 1.8709874153137207, 'step': 64, 'trainingLoss': 0.6264663338661194}, {'perplexity': 1.1543426513671875, 'step': 128, 'trainingLoss': 0.14353108406066895}, {'perplexity': 1.0037485361099243, 'step': 192, 'trainingLoss': 0.0037415700498968363}, {'perplexity': 1.0092134475708008, 'step': 230, 'trainingLoss': 0.009171309880912304}]\n",
      "[INFO] [05-10 05:44:20] actions.py:659 [t:140466393056832]: [train_action] training job has ended: job-mt8qs05rypsr/task-tceyepxedsj7 with status: Done\n",
      "[INFO] [05-10 05:44:20] model.py:219 [t:140466393056832]: check train job: task-tceyepxedsj7/job-mt8qs05rypsr status before publishing model\n",
      "[INFO] [05-10 05:44:20] model.py:232 [t:140466393056832]: model publishing keep polling, current status Done\n",
      "[INFO] [05-10 05:44:21] model.py:270 [t:140466393056832]: publishing train task: job-mt8qs05rypsr/task-tceyepxedsj7 to model: am-0ubzpjpff6dh/amv-kwt6k6g1d8b6\n",
      "[INFO] [05-10 05:44:51] model.py:295 [t:140466393056832]: model am-0ubzpjpff6dh/amv-kwt6k6g1d8b6 published successfully\n",
      "[INFO] [05-10 05:44:51] model.py:275 [t:140466393056832]: publish successfully to model: am-0ubzpjpff6dh/amv-kwt6k6g1d8b6\n"
     ]
    },
    {
     "data": {
      "text/plain": [
       "<qianfan.trainer.finetune.Finetune at 0x7fc052bc2b90>"
      ]
     },
     "execution_count": 50,
     "metadata": {},
     "output_type": "execute_result"
    }
   ],
   "source": [
    "# 或者通过同步运行\n",
    "# trainer.run()"
   ]
  },
  {
   "cell_type": "code",
   "execution_count": 120,
   "metadata": {},
   "outputs": [
    {
     "name": "stderr",
     "output_type": "stream",
     "text": [
      "[INFO] [05-10 08:47:17] dataset.py:407 [t:140469570856768]: no data source was provided, construct\n",
      "[INFO] [05-10 08:47:17] dataset.py:281 [t:140469570856768]: construct a qianfan data source from existed id: ds-553hczysf3um4cc9, with args: {}\n"
     ]
    }
   ],
   "source": [
    "# trainer.output"
   ]
  },
  {
   "cell_type": "markdown",
   "metadata": {},
   "source": [
    "对于训练完成的任务也可以直接使用`trainer.output`来查看训练结果:"
   ]
  },
  {
   "cell_type": "code",
   "execution_count": 5,
   "metadata": {},
   "outputs": [
    {
     "name": "stderr",
     "output_type": "stream",
     "text": [
      "[INFO] [05-13 13:22:14] dataset.py:407 [t:140680392968000]: no data source was provided, construct\n",
      "[INFO] [05-13 13:22:14] dataset.py:281 [t:140680392968000]: construct a qianfan data source from existed id: ds-553hczysf3um4cc9, with args: {}\n"
     ]
    },
    {
     "ename": "InvalidArgumentError",
     "evalue": "access_key and secret_key must be provided! 未提供 access_key 或 secret_key ！",
     "output_type": "error",
     "traceback": [
      "\u001b[0;31m---------------------------------------------------------------------------\u001b[0m",
      "\u001b[0;31mInvalidArgumentError\u001b[0m                      Traceback (most recent call last)",
      "Cell \u001b[0;32mIn[5], line 5\u001b[0m\n\u001b[1;32m      1\u001b[0m \u001b[38;5;28;01mfrom\u001b[39;00m \u001b[38;5;21;01mqianfan\u001b[39;00m\u001b[38;5;21;01m.\u001b[39;00m\u001b[38;5;21;01mtrainer\u001b[39;00m \u001b[38;5;28;01mimport\u001b[39;00m Finetune\n\u001b[1;32m      4\u001b[0m \u001b[38;5;66;03m#对于训练完成的任务也可以直接使用trainer.output来查看训练结果，此处我们通过Finetune.load加载一个已经训练好的例子并可视化展示：\u001b[39;00m\n\u001b[0;32m----> 5\u001b[0m trainer\u001b[38;5;241m=\u001b[39m\u001b[43mFinetune\u001b[49m\u001b[38;5;241;43m.\u001b[39;49m\u001b[43mload\u001b[49m\u001b[43m(\u001b[49m\u001b[43mfile\u001b[49m\u001b[38;5;241;43m=\u001b[39;49m\u001b[38;5;124;43m\"\u001b[39;49m\u001b[38;5;124;43m./data/essay_sft_0510_train_meta\u001b[39;49m\u001b[38;5;124;43m\"\u001b[39;49m\u001b[43m)\u001b[49m\n\u001b[1;32m      6\u001b[0m trainer\u001b[38;5;241m.\u001b[39moutput\n",
      "File \u001b[0;32m/usr/local/lib/python3.10/dist-packages/qianfan/trainer/finetune.py:310\u001b[0m, in \u001b[0;36mFinetune.load\u001b[0;34m(id, file)\u001b[0m\n\u001b[1;32m    308\u001b[0m \u001b[38;5;28;01mif\u001b[39;00m file \u001b[38;5;129;01mis\u001b[39;00m \u001b[38;5;129;01mnot\u001b[39;00m \u001b[38;5;28;01mNone\u001b[39;00m:\n\u001b[1;32m    309\u001b[0m     \u001b[38;5;28;01mwith\u001b[39;00m \u001b[38;5;28mopen\u001b[39m(file\u001b[38;5;241m=\u001b[39mfile, mode\u001b[38;5;241m=\u001b[39m\u001b[38;5;124m\"\u001b[39m\u001b[38;5;124mrb\u001b[39m\u001b[38;5;124m\"\u001b[39m) \u001b[38;5;28;01mas\u001b[39;00m f:\n\u001b[0;32m--> 310\u001b[0m         task_ppl \u001b[38;5;241m=\u001b[39m \u001b[43mPipeline\u001b[49m\u001b[38;5;241;43m.\u001b[39;49m\u001b[43mload\u001b[49m\u001b[43m(\u001b[49m\u001b[43mf\u001b[49m\u001b[38;5;241;43m.\u001b[39;49m\u001b[43mread\u001b[49m\u001b[43m(\u001b[49m\u001b[43m)\u001b[49m\u001b[43m)\u001b[49m\n\u001b[1;32m    311\u001b[0m     \u001b[38;5;66;03m# load完save到本地\u001b[39;00m\n\u001b[1;32m    312\u001b[0m     g_persister\u001b[38;5;241m.\u001b[39msave(task_ppl)\n",
      "File \u001b[0;32m/usr/local/lib/python3.10/dist-packages/qianfan/trainer/pipeline.py:244\u001b[0m, in \u001b[0;36mPipeline.load\u001b[0;34m(cls, b)\u001b[0m\n\u001b[1;32m    242\u001b[0m meta \u001b[38;5;241m=\u001b[39m \u001b[38;5;28mcls\u001b[39m\u001b[38;5;241m.\u001b[39mserialize_helper\u001b[38;5;241m.\u001b[39mdeserialize(b)\n\u001b[1;32m    243\u001b[0m \u001b[38;5;28;01massert\u001b[39;00m \u001b[38;5;28misinstance\u001b[39m(meta, \u001b[38;5;28mdict\u001b[39m)\n\u001b[0;32m--> 244\u001b[0m \u001b[38;5;28;01mreturn\u001b[39;00m \u001b[38;5;28;43mcls\u001b[39;49m\u001b[38;5;241;43m.\u001b[39;49m\u001b[43m_load_from_dict\u001b[49m\u001b[43m(\u001b[49m\u001b[43mmeta\u001b[49m\u001b[43m)\u001b[49m\n",
      "File \u001b[0;32m/usr/local/lib/python3.10/dist-packages/qianfan/trainer/pipeline.py:253\u001b[0m, in \u001b[0;36mPipeline._load_from_dict\u001b[0;34m(cls, meta)\u001b[0m\n\u001b[1;32m    251\u001b[0m \u001b[38;5;28;01mif\u001b[39;00m action_type \u001b[38;5;129;01mis\u001b[39;00m \u001b[38;5;28;01mNone\u001b[39;00m:\n\u001b[1;32m    252\u001b[0m     \u001b[38;5;28;01mraise\u001b[39;00m \u001b[38;5;167;01mValueError\u001b[39;00m(\u001b[38;5;124m\"\u001b[39m\u001b[38;5;124mload pipeline error: action type is None\u001b[39m\u001b[38;5;124m\"\u001b[39m)\n\u001b[0;32m--> 253\u001b[0m action_obj \u001b[38;5;241m=\u001b[39m \u001b[43mPipeline\u001b[49m\u001b[38;5;241;43m.\u001b[39;49m\u001b[43mload_action\u001b[49m\u001b[43m(\u001b[49m\u001b[43maction_type\u001b[49m\u001b[43m,\u001b[49m\u001b[43m \u001b[49m\u001b[43maction_meta\u001b[49m\u001b[43m)\u001b[49m\n\u001b[1;32m    254\u001b[0m \u001b[38;5;28;01mif\u001b[39;00m action_obj \u001b[38;5;129;01mis\u001b[39;00m \u001b[38;5;28;01mNone\u001b[39;00m:\n\u001b[1;32m    255\u001b[0m     log_error(\u001b[38;5;124mf\u001b[39m\u001b[38;5;124m\"\u001b[39m\u001b[38;5;124maction \u001b[39m\u001b[38;5;132;01m{\u001b[39;00maction_type\u001b[38;5;132;01m}\u001b[39;00m\u001b[38;5;124m load error, raw: \u001b[39m\u001b[38;5;132;01m{\u001b[39;00maction_meta\u001b[38;5;132;01m}\u001b[39;00m\u001b[38;5;124m\"\u001b[39m)\n",
      "File \u001b[0;32m/usr/local/lib/python3.10/dist-packages/qianfan/trainer/pipeline.py:274\u001b[0m, in \u001b[0;36mPipeline.load_action\u001b[0;34m(action_type, meta)\u001b[0m\n\u001b[1;32m    272\u001b[0m     \u001b[38;5;28;01mreturn\u001b[39;00m TrainAction\u001b[38;5;241m.\u001b[39m_load_from_dict(meta)\n\u001b[1;32m    273\u001b[0m \u001b[38;5;28;01mif\u001b[39;00m action_type \u001b[38;5;241m==\u001b[39m LoadDataSetAction\u001b[38;5;241m.\u001b[39m\u001b[38;5;18m__name__\u001b[39m:\n\u001b[0;32m--> 274\u001b[0m     \u001b[38;5;28;01mreturn\u001b[39;00m \u001b[43mLoadDataSetAction\u001b[49m\u001b[38;5;241;43m.\u001b[39;49m\u001b[43m_load_from_dict\u001b[49m\u001b[43m(\u001b[49m\u001b[43mmeta\u001b[49m\u001b[43m)\u001b[49m\n\u001b[1;32m    275\u001b[0m \u001b[38;5;28;01mif\u001b[39;00m action_type \u001b[38;5;241m==\u001b[39m ModelPublishAction\u001b[38;5;241m.\u001b[39m\u001b[38;5;18m__name__\u001b[39m:\n\u001b[1;32m    276\u001b[0m     \u001b[38;5;28;01mreturn\u001b[39;00m ModelPublishAction\u001b[38;5;241m.\u001b[39m_load_from_dict(meta)\n",
      "File \u001b[0;32m/usr/local/lib/python3.10/dist-packages/qianfan/trainer/actions.py:247\u001b[0m, in \u001b[0;36mLoadDataSetAction._load_from_dict\u001b[0;34m(cls, meta)\u001b[0m\n\u001b[1;32m    245\u001b[0m \u001b[38;5;129m@classmethod\u001b[39m\n\u001b[1;32m    246\u001b[0m \u001b[38;5;28;01mdef\u001b[39;00m \u001b[38;5;21m_load_from_dict\u001b[39m(\u001b[38;5;28mcls\u001b[39m, meta: Dict[\u001b[38;5;28mstr\u001b[39m, Any]) \u001b[38;5;241m-\u001b[39m\u001b[38;5;241m>\u001b[39m \u001b[38;5;124m\"\u001b[39m\u001b[38;5;124mLoadDataSetAction\u001b[39m\u001b[38;5;124m\"\u001b[39m:\n\u001b[0;32m--> 247\u001b[0m     action \u001b[38;5;241m=\u001b[39m \u001b[38;5;28;43mcls\u001b[39;49m\u001b[43m(\u001b[49m\n\u001b[1;32m    248\u001b[0m \u001b[43m        \u001b[49m\u001b[38;5;28;43mid\u001b[39;49m\u001b[38;5;241;43m=\u001b[39;49m\u001b[43mmeta\u001b[49m\u001b[38;5;241;43m.\u001b[39;49m\u001b[43mget\u001b[49m\u001b[43m(\u001b[49m\u001b[38;5;124;43m\"\u001b[39;49m\u001b[38;5;124;43mid\u001b[39;49m\u001b[38;5;124;43m\"\u001b[39;49m\u001b[43m)\u001b[49m\u001b[43m,\u001b[49m\n\u001b[1;32m    249\u001b[0m \u001b[43m        \u001b[49m\u001b[43mdataset\u001b[49m\u001b[38;5;241;43m=\u001b[39;49m\u001b[43mmeta\u001b[49m\u001b[38;5;241;43m.\u001b[39;49m\u001b[43mget\u001b[49m\u001b[43m(\u001b[49m\u001b[38;5;124;43m\"\u001b[39;49m\u001b[38;5;124;43mds_id\u001b[39;49m\u001b[38;5;124;43m\"\u001b[39;49m\u001b[43m)\u001b[49m\u001b[43m \u001b[49m\u001b[38;5;129;43;01mor\u001b[39;49;00m\u001b[43m \u001b[49m\u001b[43mmeta\u001b[49m\u001b[38;5;241;43m.\u001b[39;49m\u001b[43mget\u001b[49m\u001b[43m(\u001b[49m\u001b[38;5;124;43m\"\u001b[39;49m\u001b[38;5;124;43mdataset_bos\u001b[39;49m\u001b[38;5;124;43m\"\u001b[39;49m\u001b[43m)\u001b[49m\u001b[43m,\u001b[49m\n\u001b[1;32m    250\u001b[0m \u001b[43m    \u001b[49m\u001b[43m)\u001b[49m\n\u001b[1;32m    251\u001b[0m     action\u001b[38;5;241m.\u001b[39mresult \u001b[38;5;241m=\u001b[39m meta\u001b[38;5;241m.\u001b[39mget(\u001b[38;5;124m\"\u001b[39m\u001b[38;5;124moutput\u001b[39m\u001b[38;5;124m\"\u001b[39m)\n\u001b[1;32m    252\u001b[0m     \u001b[38;5;28;01mreturn\u001b[39;00m action\n",
      "File \u001b[0;32m/usr/local/lib/python3.10/dist-packages/qianfan/trainer/actions.py:105\u001b[0m, in \u001b[0;36mLoadDataSetAction.__init__\u001b[0;34m(self, dataset, dataset_template, **kwargs)\u001b[0m\n\u001b[1;32m    103\u001b[0m     \u001b[38;5;28mself\u001b[39m\u001b[38;5;241m.\u001b[39m_dataset_str \u001b[38;5;241m=\u001b[39m dataset\n\u001b[1;32m    104\u001b[0m \u001b[38;5;28;01melif\u001b[39;00m dataset\u001b[38;5;241m.\u001b[39mstartswith(\u001b[38;5;124m\"\u001b[39m\u001b[38;5;124mds-\u001b[39m\u001b[38;5;124m\"\u001b[39m):\n\u001b[0;32m--> 105\u001b[0m     \u001b[38;5;28mself\u001b[39m\u001b[38;5;241m.\u001b[39mdataset \u001b[38;5;241m=\u001b[39m \u001b[43mDataset\u001b[49m\u001b[38;5;241;43m.\u001b[39;49m\u001b[43mload\u001b[49m\u001b[43m(\u001b[49m\u001b[43mqianfan_dataset_id\u001b[49m\u001b[38;5;241;43m=\u001b[39;49m\u001b[43mdataset\u001b[49m\u001b[43m)\u001b[49m\n\u001b[1;32m    106\u001b[0m     \u001b[38;5;28mself\u001b[39m\u001b[38;5;241m.\u001b[39m_dataset_str \u001b[38;5;241m=\u001b[39m dataset\n\u001b[1;32m    107\u001b[0m \u001b[38;5;28;01melse\u001b[39;00m:\n",
      "File \u001b[0;32m/usr/local/lib/python3.10/dist-packages/qianfan/dataset/dataset.py:408\u001b[0m, in \u001b[0;36mDataset.load\u001b[0;34m(cls, source, data_file, qianfan_dataset_id, bos_load_args, huggingface_dataset, bos_source_args, schema, organize_data_as_group, **kwargs)\u001b[0m\n\u001b[1;32m    405\u001b[0m         \u001b[38;5;28;01mraise\u001b[39;00m \u001b[38;5;167;01mTypeError\u001b[39;00m(err_msg)\n\u001b[1;32m    407\u001b[0m     log_info(\u001b[38;5;124m\"\u001b[39m\u001b[38;5;124mno data source was provided, construct\u001b[39m\u001b[38;5;124m\"\u001b[39m)\n\u001b[0;32m--> 408\u001b[0m     source \u001b[38;5;241m=\u001b[39m \u001b[38;5;28;43mcls\u001b[39;49m\u001b[38;5;241;43m.\u001b[39;49m\u001b[43m_from_args_to_source\u001b[49m\u001b[43m(\u001b[49m\n\u001b[1;32m    409\u001b[0m \u001b[43m        \u001b[49m\u001b[43mdata_file\u001b[49m\u001b[38;5;241;43m=\u001b[39;49m\u001b[43mdata_file\u001b[49m\u001b[43m,\u001b[49m\n\u001b[1;32m    410\u001b[0m \u001b[43m        \u001b[49m\u001b[43mqianfan_dataset_id\u001b[49m\u001b[38;5;241;43m=\u001b[39;49m\u001b[43mqianfan_dataset_id\u001b[49m\u001b[43m,\u001b[49m\n\u001b[1;32m    411\u001b[0m \u001b[43m        \u001b[49m\u001b[43mbos_load_args\u001b[49m\u001b[38;5;241;43m=\u001b[39;49m\u001b[43mbos_load_args\u001b[49m\u001b[43m,\u001b[49m\n\u001b[1;32m    412\u001b[0m \u001b[43m        \u001b[49m\u001b[43mbos_source_args\u001b[49m\u001b[38;5;241;43m=\u001b[39;49m\u001b[43mbos_source_args\u001b[49m\u001b[43m,\u001b[49m\n\u001b[1;32m    413\u001b[0m \u001b[43m        \u001b[49m\u001b[38;5;241;43m*\u001b[39;49m\u001b[38;5;241;43m*\u001b[39;49m\u001b[43mkwargs\u001b[49m\u001b[43m,\u001b[49m\n\u001b[1;32m    414\u001b[0m \u001b[43m    \u001b[49m\u001b[43m)\u001b[49m\n\u001b[1;32m    416\u001b[0m \u001b[38;5;66;03m# 从数据源开始构建对象\u001b[39;00m\n\u001b[1;32m    417\u001b[0m \u001b[38;5;28;01mif\u001b[39;00m \u001b[38;5;129;01mnot\u001b[39;00m source:\n",
      "File \u001b[0;32m/usr/local/lib/python3.10/dist-packages/qianfan/dataset/dataset.py:285\u001b[0m, in \u001b[0;36mDataset._from_args_to_source\u001b[0;34m(cls, data_file, qianfan_dataset_id, qianfan_dataset_create_args, bos_load_args, bos_source_args, **kwargs)\u001b[0m\n\u001b[1;32m    280\u001b[0m \u001b[38;5;28;01mif\u001b[39;00m qianfan_dataset_id:\n\u001b[1;32m    281\u001b[0m     log_info(\n\u001b[1;32m    282\u001b[0m         \u001b[38;5;124m\"\u001b[39m\u001b[38;5;124mconstruct a qianfan data source from existed id:\u001b[39m\u001b[38;5;124m\"\u001b[39m\n\u001b[1;32m    283\u001b[0m         \u001b[38;5;124mf\u001b[39m\u001b[38;5;124m\"\u001b[39m\u001b[38;5;124m \u001b[39m\u001b[38;5;132;01m{\u001b[39;00mqianfan_dataset_id\u001b[38;5;132;01m}\u001b[39;00m\u001b[38;5;124m, with args: \u001b[39m\u001b[38;5;132;01m{\u001b[39;00mkwargs\u001b[38;5;132;01m}\u001b[39;00m\u001b[38;5;124m\"\u001b[39m\n\u001b[1;32m    284\u001b[0m     )\n\u001b[0;32m--> 285\u001b[0m     \u001b[38;5;28;01mreturn\u001b[39;00m \u001b[43mQianfanDataSource\u001b[49m\u001b[38;5;241;43m.\u001b[39;49m\u001b[43mget_existed_dataset\u001b[49m\u001b[43m(\u001b[49m\n\u001b[1;32m    286\u001b[0m \u001b[43m        \u001b[49m\u001b[43mdataset_id\u001b[49m\u001b[38;5;241;43m=\u001b[39;49m\u001b[43mqianfan_dataset_id\u001b[49m\u001b[43m,\u001b[49m\u001b[43m \u001b[49m\u001b[38;5;241;43m*\u001b[39;49m\u001b[38;5;241;43m*\u001b[39;49m\u001b[43mkwargs\u001b[49m\n\u001b[1;32m    287\u001b[0m \u001b[43m    \u001b[49m\u001b[43m)\u001b[49m\n\u001b[1;32m    288\u001b[0m \u001b[38;5;28;01mif\u001b[39;00m qianfan_dataset_create_args:\n\u001b[1;32m    289\u001b[0m     log_info(\n\u001b[1;32m    290\u001b[0m         \u001b[38;5;124m\"\u001b[39m\u001b[38;5;124mconstruct a new qianfan data source from args:\u001b[39m\u001b[38;5;124m\"\u001b[39m\n\u001b[1;32m    291\u001b[0m         \u001b[38;5;124mf\u001b[39m\u001b[38;5;124m\"\u001b[39m\u001b[38;5;124m \u001b[39m\u001b[38;5;132;01m{\u001b[39;00mqianfan_dataset_create_args\u001b[38;5;132;01m}\u001b[39;00m\u001b[38;5;124m, with args: \u001b[39m\u001b[38;5;132;01m{\u001b[39;00mkwargs\u001b[38;5;132;01m}\u001b[39;00m\u001b[38;5;124m\"\u001b[39m\n\u001b[1;32m    292\u001b[0m     )\n",
      "File \u001b[0;32m/usr/local/lib/python3.10/dist-packages/qianfan/dataset/data_source/baidu_qianfan.py:684\u001b[0m, in \u001b[0;36mQianfanDataSource.get_existed_dataset\u001b[0;34m(cls, dataset_id, is_download_to_local, ak, sk, **kwargs)\u001b[0m\n\u001b[1;32m    664\u001b[0m \u001b[38;5;250m\u001b[39m\u001b[38;5;124;03m\"\"\"\u001b[39;00m\n\u001b[1;32m    665\u001b[0m \u001b[38;5;124;03mLoad a dataset from qianfan as data source\u001b[39;00m\n\u001b[1;32m    666\u001b[0m \n\u001b[0;32m   (...)\u001b[0m\n\u001b[1;32m    680\u001b[0m \u001b[38;5;124;03m    QianfanDataSource: A datasource represents your dataset on Qianfan\u001b[39;00m\n\u001b[1;32m    681\u001b[0m \u001b[38;5;124;03m\"\"\"\u001b[39;00m\n\u001b[1;32m    683\u001b[0m \u001b[38;5;66;03m# 获取数据集信息\u001b[39;00m\n\u001b[0;32m--> 684\u001b[0m qianfan_resp \u001b[38;5;241m=\u001b[39m \u001b[43mData\u001b[49m\u001b[38;5;241;43m.\u001b[39;49m\u001b[43mget_dataset_info\u001b[49m\u001b[43m(\u001b[49m\u001b[43mdataset_id\u001b[49m\u001b[43m,\u001b[49m\u001b[43m \u001b[49m\u001b[43mak\u001b[49m\u001b[38;5;241;43m=\u001b[39;49m\u001b[43mak\u001b[49m\u001b[43m,\u001b[49m\u001b[43m \u001b[49m\u001b[43msk\u001b[49m\u001b[38;5;241;43m=\u001b[39;49m\u001b[43msk\u001b[49m\u001b[43m,\u001b[49m\u001b[43m \u001b[49m\u001b[38;5;241;43m*\u001b[39;49m\u001b[38;5;241;43m*\u001b[39;49m\u001b[43mkwargs\u001b[49m\u001b[43m)\u001b[49m[\n\u001b[1;32m    685\u001b[0m     \u001b[38;5;124m\"\u001b[39m\u001b[38;5;124mresult\u001b[39m\u001b[38;5;124m\"\u001b[39m\n\u001b[1;32m    686\u001b[0m ]\n\u001b[1;32m    688\u001b[0m \u001b[38;5;66;03m# 校验和推断各类对象\u001b[39;00m\n\u001b[1;32m    690\u001b[0m set_type \u001b[38;5;241m=\u001b[39m DataSetType(qianfan_resp[\u001b[38;5;124m\"\u001b[39m\u001b[38;5;124mversionInfo\u001b[39m\u001b[38;5;124m\"\u001b[39m][\u001b[38;5;124m\"\u001b[39m\u001b[38;5;124mdataType\u001b[39m\u001b[38;5;124m\"\u001b[39m])\n",
      "File \u001b[0;32m/usr/local/lib/python3.10/dist-packages/qianfan/resources/console/data.py:44\u001b[0m, in \u001b[0;36m_data_api_exception_handler.<locals>.inner\u001b[0;34m(*args, **kwargs)\u001b[0m\n\u001b[1;32m     42\u001b[0m \u001b[38;5;129m@functools\u001b[39m\u001b[38;5;241m.\u001b[39mwraps(f)\n\u001b[1;32m     43\u001b[0m \u001b[38;5;28;01mdef\u001b[39;00m \u001b[38;5;21minner\u001b[39m(\u001b[38;5;241m*\u001b[39margs: Any, \u001b[38;5;241m*\u001b[39m\u001b[38;5;241m*\u001b[39mkwargs: Any) \u001b[38;5;241m-\u001b[39m\u001b[38;5;241m>\u001b[39m QfResponse:\n\u001b[0;32m---> 44\u001b[0m     resp \u001b[38;5;241m=\u001b[39m \u001b[43mf\u001b[49m\u001b[43m(\u001b[49m\u001b[38;5;241;43m*\u001b[39;49m\u001b[43margs\u001b[49m\u001b[43m,\u001b[49m\u001b[43m \u001b[49m\u001b[38;5;241;43m*\u001b[39;49m\u001b[38;5;241;43m*\u001b[39;49m\u001b[43mkwargs\u001b[49m\u001b[43m)\u001b[49m\n\u001b[1;32m     45\u001b[0m     \u001b[38;5;28;01mif\u001b[39;00m resp[\u001b[38;5;124m\"\u001b[39m\u001b[38;5;124mstatus\u001b[39m\u001b[38;5;124m\"\u001b[39m] \u001b[38;5;241m==\u001b[39m \u001b[38;5;241m400\u001b[39m \u001b[38;5;129;01mor\u001b[39;00m \u001b[38;5;129;01mnot\u001b[39;00m resp[\u001b[38;5;124m\"\u001b[39m\u001b[38;5;124msuccess\u001b[39m\u001b[38;5;124m\"\u001b[39m]:\n\u001b[1;32m     46\u001b[0m         code \u001b[38;5;241m=\u001b[39m resp\u001b[38;5;241m.\u001b[39mbody[\u001b[38;5;124m\"\u001b[39m\u001b[38;5;124mcode\u001b[39m\u001b[38;5;124m\"\u001b[39m]\n",
      "File \u001b[0;32m/usr/local/lib/python3.10/dist-packages/qianfan/resources/console/utils.py:48\u001b[0m, in \u001b[0;36mconsole_api_request.<locals>.inner\u001b[0;34m(*args, **kwargs)\u001b[0m\n\u001b[1;32m     43\u001b[0m \u001b[38;5;129m@functools\u001b[39m\u001b[38;5;241m.\u001b[39mwraps(func)\n\u001b[1;32m     44\u001b[0m \u001b[38;5;28;01mdef\u001b[39;00m \u001b[38;5;21minner\u001b[39m(\u001b[38;5;241m*\u001b[39margs: Any, \u001b[38;5;241m*\u001b[39m\u001b[38;5;241m*\u001b[39mkwargs: Any) \u001b[38;5;241m-\u001b[39m\u001b[38;5;241m>\u001b[39m QfResponse:\n\u001b[1;32m     45\u001b[0m \u001b[38;5;250m    \u001b[39m\u001b[38;5;124;03m\"\"\"\u001b[39;00m\n\u001b[1;32m     46\u001b[0m \u001b[38;5;124;03m    inner function of wrapper\u001b[39;00m\n\u001b[1;32m     47\u001b[0m \u001b[38;5;124;03m    \"\"\"\u001b[39;00m\n\u001b[0;32m---> 48\u001b[0m     ak, sk \u001b[38;5;241m=\u001b[39m \u001b[43m_get_console_ak_sk\u001b[49m\u001b[43m(\u001b[49m\u001b[38;5;241;43m*\u001b[39;49m\u001b[38;5;241;43m*\u001b[39;49m\u001b[43mkwargs\u001b[49m\u001b[43m)\u001b[49m\n\u001b[1;32m     49\u001b[0m     config \u001b[38;5;241m=\u001b[39m get_config()\n\u001b[1;32m     50\u001b[0m     retry_config \u001b[38;5;241m=\u001b[39m RetryConfig(\n\u001b[1;32m     51\u001b[0m         retry_count\u001b[38;5;241m=\u001b[39mkwargs\u001b[38;5;241m.\u001b[39mpop(\u001b[38;5;124m\"\u001b[39m\u001b[38;5;124mretry_count\u001b[39m\u001b[38;5;124m\"\u001b[39m, config\u001b[38;5;241m.\u001b[39mCONSOLE_API_RETRY_COUNT),\n\u001b[1;32m     52\u001b[0m         timeout\u001b[38;5;241m=\u001b[39mkwargs\u001b[38;5;241m.\u001b[39mpop(\u001b[38;5;124m\"\u001b[39m\u001b[38;5;124mrequest_timeout\u001b[39m\u001b[38;5;124m\"\u001b[39m, config\u001b[38;5;241m.\u001b[39mCONSOLE_API_RETRY_TIMEOUT),\n\u001b[0;32m   (...)\u001b[0m\n\u001b[1;32m     62\u001b[0m         ),\n\u001b[1;32m     63\u001b[0m     )\n",
      "File \u001b[0;32m/usr/local/lib/python3.10/dist-packages/qianfan/resources/console/utils.py:131\u001b[0m, in \u001b[0;36m_get_console_ak_sk\u001b[0;34m(pop, **kwargs)\u001b[0m\n\u001b[1;32m    129\u001b[0m sk \u001b[38;5;241m=\u001b[39m kwargs\u001b[38;5;241m.\u001b[39mget(\u001b[38;5;124m\"\u001b[39m\u001b[38;5;124msk\u001b[39m\u001b[38;5;124m\"\u001b[39m, \u001b[38;5;28;01mNone\u001b[39;00m) \u001b[38;5;129;01mor\u001b[39;00m get_config()\u001b[38;5;241m.\u001b[39mSECRET_KEY\n\u001b[1;32m    130\u001b[0m \u001b[38;5;28;01mif\u001b[39;00m ak \u001b[38;5;129;01mis\u001b[39;00m \u001b[38;5;28;01mNone\u001b[39;00m \u001b[38;5;129;01mor\u001b[39;00m sk \u001b[38;5;129;01mis\u001b[39;00m \u001b[38;5;28;01mNone\u001b[39;00m:\n\u001b[0;32m--> 131\u001b[0m     \u001b[38;5;28;01mraise\u001b[39;00m InvalidArgumentError(\n\u001b[1;32m    132\u001b[0m         \u001b[38;5;124m\"\u001b[39m\u001b[38;5;124maccess_key and secret_key must be provided! 未提供 access_key 或\u001b[39m\u001b[38;5;124m\"\u001b[39m\n\u001b[1;32m    133\u001b[0m         \u001b[38;5;124m\"\u001b[39m\u001b[38;5;124m secret_key ！\u001b[39m\u001b[38;5;124m\"\u001b[39m\n\u001b[1;32m    134\u001b[0m     )\n\u001b[1;32m    135\u001b[0m \u001b[38;5;28;01mif\u001b[39;00m pop:\n\u001b[1;32m    136\u001b[0m     \u001b[38;5;66;03m# remove ak and sk from kwargs\u001b[39;00m\n\u001b[1;32m    137\u001b[0m     \u001b[38;5;28;01mfor\u001b[39;00m key \u001b[38;5;129;01min\u001b[39;00m (\u001b[38;5;124m\"\u001b[39m\u001b[38;5;124mak\u001b[39m\u001b[38;5;124m\"\u001b[39m, \u001b[38;5;124m\"\u001b[39m\u001b[38;5;124msk\u001b[39m\u001b[38;5;124m\"\u001b[39m):\n",
      "\u001b[0;31mInvalidArgumentError\u001b[0m: access_key and secret_key must be provided! 未提供 access_key 或 secret_key ！"
     ]
    }
   ],
   "source": [
    "from qianfan.trainer import Finetune\n",
    "\n",
    "\n",
    "#对于训练完成的任务也可以直接使用trainer.output来查看训练结果，此处我们通过Finetune.load加载一个已经训练好的例子并可视化展示：\n",
    "trainer=Finetune.load(file=\"./data/essay_sft_0510_train_meta\")\n",
    "trainer.output"
   ]
  },
  {
   "cell_type": "markdown",
   "metadata": {},
   "source": [
    "### 2.5.1 微调选择 Checkpoint\n",
    "\n",
    "我们可以查看训练出来的模型，以默认（最后一个step）来发布的模型版本 ID"
   ]
  },
  {
   "cell_type": "code",
   "execution_count": 23,
   "metadata": {},
   "outputs": [
    {
     "name": "stdout",
     "output_type": "stream",
     "text": [
      "[{'perplexity': 1.536190390586853, 'step': 64, 'trainingLoss': 0.4293056130409241}, {'perplexity': 1.0718179941177368, 'step': 128, 'trainingLoss': 0.06935623288154602}, {'perplexity': 1.0075938701629639, 'step': 192, 'trainingLoss': 0.007565219886600971}, {'perplexity': 1.0052101612091064, 'step': 230, 'trainingLoss': 0.005196679849177599}]\n",
      "amv-bkfu3tqcejt2\n"
     ]
    }
   ],
   "source": [
    "from qianfan.model import Model\n",
    "\n",
    "trainer_output = trainer.output\n",
    "model_version_id=trainer_output[\"model_version_id\"]\n",
    "checkpoints=trainer_output[\"checkpoints\"]\n",
    "print(checkpoints)\n",
    "print(model_version_id)\n",
    "\n",
    "# 从`version_id`构造模型：\n",
    "m = Model(version_id=model_version_id)\n",
    "m.auto_complete_info()"
   ]
  },
  {
   "cell_type": "code",
   "execution_count": 24,
   "metadata": {},
   "outputs": [
    {
     "data": {
      "image/png": "[encoded data removed]",
      "text/plain": [
       "<Figure size 640x480 with 2 Axes>"
      ]
     },
     "metadata": {},
     "output_type": "display_data"
    }
   ],
   "source": [
    "# 图表显示\n",
    "trainer.show()"
   ]
  },
  {
   "cell_type": "markdown",
   "metadata": {},
   "source": [
    "从上图来看，发布loss 最低的 step 最为合适"
   ]
  },
  {
   "cell_type": "code",
   "execution_count": 37,
   "metadata": {},
   "outputs": [
    {
     "data": {
      "text/plain": [
       "<qianfan.model.model.Model at 0x7f0c50e7f760>"
      ]
     },
     "execution_count": 37,
     "metadata": {},
     "output_type": "execute_result"
    }
   ],
   "source": [
    "from qianfan.model import Model\n",
    "\n",
    "m = Model(job_id=trainer_output[\"job_id\"], task_id=trainer_output['task_id'], step=230)\n",
    "m.publish(name=\"essay_sft_0510\")"
   ]
  },
  {
   "cell_type": "markdown",
   "metadata": {},
   "source": [
    "### 2.5.2 微调实验\n",
    "\n",
    "至此我们完成了一轮针对ERNIE-Speed的训练，并把完成了模型的发布，以进行下一轮的评估操作\n",
    "\n",
    "我们基于以上的训练过程，我们在ERNIE Speed模型上共计做了5组SFT实验，参数和训练方法配置如下：\n",
    "\n",
    "\n",
    "\n",
    "| **训练方法**      |  全量更新 |   全量更新 | 全量更新 | LoRA | LoRA |\n",
    "| ----------------- | --------------- | ---------------- | -------------------- | -------------------- | -------------------- |\n",
    "| **Epoch**         | 3                    | 10                   | 20 | 3                | 10                |\n",
    "| **Learning Rate** | 3e-5             | 3e-5             | 3e-5                 | 3e-5                 | 3e-5 |  \n",
    "| **loss**         | ![all_e3](./img/all_epoch3.png)                    |  ![all_e10](./img/all_epoch10.png)                    |  ![all_e20](./img/all_epoch20.png)  |  ![lora_e3](./img/lora_epoch3.png) | ![lora_e10](./img/lora_epoch10.png)                |\n",
    "\n",
    "对于实验1和2两个使用LoRA训练方法的训练，Epoch等于3和10都发现Loss曲线收敛不够明显。\n",
    "\n",
    "对于实验3至5，我们使用全量更新训练方法，该训练方法下Loss曲线有明显收敛，Loss值不断降低。类似该种情况，我们建议增加Epoch数量进行训练，查看Loss指标的变化情况。\n",
    "\n",
    "但同时，我们可以很好的发现，对于实验5，我们使用全量更新训练方法，Epoch增加至20，我们发现Loss曲线已经接近0，可以判定为*曲线过拟合*。一般出现过拟合，应该在过拟合之前停止实验。\n",
    "\n",
    "因此，我们尝试将Epoch调整为10，Learning Rate保持在3e-5。发现Loss曲线不断降低，接近于0。初步判断该实验效果会更好。\n",
    "（当前也可以借由SDK的step发布能力选择在过拟合前的checkpoint进行发布）\n"
   ]
  },
  {
   "cell_type": "markdown",
   "metadata": {},
   "source": [
    "## 2.6 模型评估"
   ]
  },
  {
   "cell_type": "markdown",
   "metadata": {},
   "source": [
    "在训练完成之后，我们还需要对微调后的模型进行效果评估，以确定模型是否已经收敛且能实现我们所期望的效果。\n",
    "\n",
    "在第一章中我们已经使用过这个评估器了，简单来说我们选择实现一个基于规则的自定义评估器，来评估微调后的模型是否有遵循我们的输出格式，以及各项评估指标，大模型输出和预期输出之间的差距。"
   ]
  },
  {
   "cell_type": "code",
   "execution_count": 25,
   "metadata": {},
   "outputs": [],
   "source": [
    "from qianfan.evaluation import EvaluationManager\n",
    "from qianfan.model import Model\n",
    "from essay_local_eval import EssayEvaluator\n",
    "\n",
    "# 评估质量得分，按照客观得分模拟计算：\n",
    "# 作文批改质量分 = 总分分差平均值 / 遵守格式占比\n",
    "local_evaluator = EssayEvaluator()\n",
    "\n",
    "# 首先定义EvaluationManager，引入本地评估器\n",
    "em = EvaluationManager(local_evaluators=[local_evaluator])"
   ]
  },
  {
   "cell_type": "code",
   "execution_count": 35,
   "metadata": {
    "tags": []
   },
   "outputs": [
    {
     "name": "stdout",
     "output_type": "stream",
     "text": [
      "{\"遵守格式占比\": 1.0, \"总分之和计算正确占比\": 1.0, \"内容评分等级一致占比\": 0.8, \"内容点评相似度平均值\": 0.6609773973783086, \"内容评分分差平均值\": 1.6, \"表达评分等级一致占比\": 0.8, \"表达点评相似度平均值\": 0.7870529810295371, \"表达评分分差平均值\": 1.6, \"发展评分等级一致占比\": 0.8, \"发展点评相似度平均值\": 0.735487299058053, \"发展评分分差平均值\": 1.4, \"扣分解析相似度平均值\": 0.7651325031717958, \"扣分项扣分分差平均值\": 0.0, \"总分分差平均值\": 4.6, \"遵守格式方差\": 0.0, \"总分之和计算正确方差\": 0.0, \"内容评分等级一致方差\": 0.16, \"内容点评相似度方差\": 0.006903634592391135, \"内容评分分差方差\": 5.040000000000001, \"表达评分等级一致方差\": 0.16, \"表达点评相似度方差\": 0.0019658604832864875, \"表达评分分差方差\": 5.040000000000001, \"发展评分等级一致方差\": 0.16, \"发展点评相似度方差\": 0.012019283100039324, \"发展评分分差方差\": 2.2399999999999998, \"扣分解析相似度方差\": 0.010776959652086162, \"扣分项扣分分差方差\": 0.0, \"总分分差方差\": 25.040000000000003, \"质量得分（越小越好）\": 4.6}\n"
     ]
    }
   ],
   "source": [
    "# 为了展示，我们直接加载批量评估的结果集合进行评估：\n",
    "# 实际使用时需要对评估数据集进行批量预测\n",
    "# eval_infer_result = m.batch_inference(qf_eval_ds)\n",
    "eval_infer_result = Dataset.load(data_file=\"./data/eval_data_sample.json\")\n",
    "\n",
    "# 设置用于评估的column：\n",
    "eval_infer_result.eval_input_column = \"input_prompt\"\n",
    "eval_infer_result.eval_llm_output_column = \"llm_output\"\n",
    "eval_infer_result.reference_column = \"expected_output\"\n",
    "eval_result=em.eval_only(eval_infer_result)\n",
    "\n",
    "# 展示评估 metrics 信息\n",
    "import json\n",
    "print(json.dumps(eval_result.metrics, ensure_ascii=False))"
   ]
  },
  {
   "cell_type": "markdown",
   "metadata": {},
   "source": [
    "可以看到，评估得到的模型，在回答的稳定性上，较之前的基础模型有所提升，且打分结果更贴近人工打分的结果。\n",
    "\n",
    "我们还可以将评估的结果数据集保存到本地，方便我们进行进一步的分析"
   ]
  },
  {
   "cell_type": "markdown",
   "metadata": {},
   "source": [
    "# 3. 大模型服务部署\n"
   ]
  },
  {
   "cell_type": "code",
   "execution_count": 40,
   "metadata": {},
   "outputs": [
    {
     "ename": "KeyboardInterrupt",
     "evalue": "",
     "output_type": "error",
     "traceback": [
      "\u001b[0;31m---------------------------------------------------------------------------\u001b[0m",
      "\u001b[0;31mKeyboardInterrupt\u001b[0m                         Traceback (most recent call last)",
      "Cell \u001b[0;32mIn[40], line 5\u001b[0m\n\u001b[1;32m      2\u001b[0m \u001b[38;5;28;01mfrom\u001b[39;00m \u001b[38;5;21;01mqianfan\u001b[39;00m\u001b[38;5;21;01m.\u001b[39;00m\u001b[38;5;21;01mmodel\u001b[39;00m\u001b[38;5;21;01m.\u001b[39;00m\u001b[38;5;21;01mconsts\u001b[39;00m \u001b[38;5;28;01mimport\u001b[39;00m ServiceType\n\u001b[1;32m      3\u001b[0m \u001b[38;5;28;01mfrom\u001b[39;00m \u001b[38;5;21;01mqianfan\u001b[39;00m\u001b[38;5;21;01m.\u001b[39;00m\u001b[38;5;21;01mresources\u001b[39;00m\u001b[38;5;21;01m.\u001b[39;00m\u001b[38;5;21;01mconsole\u001b[39;00m\u001b[38;5;21;01m.\u001b[39;00m\u001b[38;5;21;01mconsts\u001b[39;00m \u001b[38;5;28;01mimport\u001b[39;00m DeployPoolType\n\u001b[0;32m----> 5\u001b[0m sft_svc: Service \u001b[38;5;241m=\u001b[39m \u001b[43mm\u001b[49m\u001b[38;5;241;43m.\u001b[39;49m\u001b[43mdeploy\u001b[49m\u001b[43m(\u001b[49m\u001b[43mDeployConfig\u001b[49m\u001b[43m(\u001b[49m\n\u001b[1;32m      6\u001b[0m \u001b[43m    \u001b[49m\u001b[43mname\u001b[49m\u001b[38;5;241;43m=\u001b[39;49m\u001b[38;5;124;43m\"\u001b[39;49m\u001b[38;5;124;43messay_0513\u001b[39;49m\u001b[38;5;124;43m\"\u001b[39;49m\u001b[43m,\u001b[49m\n\u001b[1;32m      7\u001b[0m \u001b[43m    \u001b[49m\u001b[43mendpoint_prefix\u001b[49m\u001b[38;5;241;43m=\u001b[39;49m\u001b[38;5;124;43m\"\u001b[39;49m\u001b[38;5;124;43messay0513\u001b[39;49m\u001b[38;5;124;43m\"\u001b[39;49m\u001b[43m,\u001b[49m\n\u001b[1;32m      8\u001b[0m \u001b[43m    \u001b[49m\u001b[43mreplicas\u001b[49m\u001b[38;5;241;43m=\u001b[39;49m\u001b[38;5;241;43m1\u001b[39;49m\u001b[43m,\u001b[49m\n\u001b[1;32m      9\u001b[0m \u001b[43m    \u001b[49m\u001b[43mpool_type\u001b[49m\u001b[38;5;241;43m=\u001b[39;49m\u001b[43mDeployPoolType\u001b[49m\u001b[38;5;241;43m.\u001b[39;49m\u001b[43mPrivateResource\u001b[49m\u001b[43m,\u001b[49m\n\u001b[1;32m     10\u001b[0m \u001b[43m    \u001b[49m\u001b[43mservice_type\u001b[49m\u001b[38;5;241;43m=\u001b[39;49m\u001b[43mServiceType\u001b[49m\u001b[38;5;241;43m.\u001b[39;49m\u001b[43mChat\u001b[49m\u001b[43m,\u001b[49m\n\u001b[1;32m     11\u001b[0m \u001b[43m)\u001b[49m\u001b[43m)\u001b[49m\n",
      "File \u001b[0;32m/usr/local/lib/python3.10/dist-packages/qianfan/model/model.py:136\u001b[0m, in \u001b[0;36mModel.deploy\u001b[0;34m(self, deploy_config, **kwargs)\u001b[0m\n\u001b[1;32m    125\u001b[0m \u001b[38;5;250m\u001b[39m\u001b[38;5;124;03m\"\"\"\u001b[39;00m\n\u001b[1;32m    126\u001b[0m \u001b[38;5;124;03mmodel deploy\u001b[39;00m\n\u001b[1;32m    127\u001b[0m \n\u001b[0;32m   (...)\u001b[0m\n\u001b[1;32m    133\u001b[0m \u001b[38;5;124;03m    Service: model service instance\u001b[39;00m\n\u001b[1;32m    134\u001b[0m \u001b[38;5;124;03m\"\"\"\u001b[39;00m\n\u001b[1;32m    135\u001b[0m \u001b[38;5;28;01mif\u001b[39;00m \u001b[38;5;28mself\u001b[39m\u001b[38;5;241m.\u001b[39mservice \u001b[38;5;129;01mis\u001b[39;00m \u001b[38;5;28;01mNone\u001b[39;00m:\n\u001b[0;32m--> 136\u001b[0m     \u001b[38;5;28mself\u001b[39m\u001b[38;5;241m.\u001b[39mservice \u001b[38;5;241m=\u001b[39m \u001b[43mmodel_deploy\u001b[49m\u001b[43m(\u001b[49m\u001b[38;5;28;43mself\u001b[39;49m\u001b[43m,\u001b[49m\u001b[43m \u001b[49m\u001b[43mdeploy_config\u001b[49m\u001b[43m,\u001b[49m\u001b[43m \u001b[49m\u001b[38;5;241;43m*\u001b[39;49m\u001b[38;5;241;43m*\u001b[39;49m\u001b[43mkwargs\u001b[49m\u001b[43m)\u001b[49m\n\u001b[1;32m    137\u001b[0m     \u001b[38;5;28;01mreturn\u001b[39;00m \u001b[38;5;28mself\u001b[39m\u001b[38;5;241m.\u001b[39mservice\n\u001b[1;32m    138\u001b[0m log_info(\u001b[38;5;124m\"\u001b[39m\u001b[38;5;124mmodel service already existed\u001b[39m\u001b[38;5;124m\"\u001b[39m)\n",
      "File \u001b[0;32m/usr/local/lib/python3.10/dist-packages/qianfan/model/model.py:626\u001b[0m, in \u001b[0;36mmodel_deploy\u001b[0;34m(model, deploy_config, **kwargs)\u001b[0m\n\u001b[1;32m    607\u001b[0m \u001b[38;5;250m\u001b[39m\u001b[38;5;124;03m\"\"\"\u001b[39;00m\n\u001b[1;32m    608\u001b[0m \u001b[38;5;124;03mmodel deployment implement, a polling loop will be called after\u001b[39;00m\n\u001b[1;32m    609\u001b[0m \u001b[38;5;124;03mdeploy task created.\u001b[39;00m\n\u001b[0;32m   (...)\u001b[0m\n\u001b[1;32m    619\u001b[0m \u001b[38;5;124;03m    Service: deployed service with endpoint to call\u001b[39;00m\n\u001b[1;32m    620\u001b[0m \u001b[38;5;124;03m\"\"\"\u001b[39;00m\n\u001b[1;32m    621\u001b[0m svc \u001b[38;5;241m=\u001b[39m Service(\n\u001b[1;32m    622\u001b[0m     model\u001b[38;5;241m=\u001b[39mmodel,\n\u001b[1;32m    623\u001b[0m     deploy_config\u001b[38;5;241m=\u001b[39mdeploy_config,\n\u001b[1;32m    624\u001b[0m     service_type\u001b[38;5;241m=\u001b[39mdeploy_config\u001b[38;5;241m.\u001b[39mservice_type,\n\u001b[1;32m    625\u001b[0m )\n\u001b[0;32m--> 626\u001b[0m \u001b[43msvc\u001b[49m\u001b[38;5;241;43m.\u001b[39;49m\u001b[43mdeploy\u001b[49m\u001b[43m(\u001b[49m\u001b[38;5;241;43m*\u001b[39;49m\u001b[38;5;241;43m*\u001b[39;49m\u001b[43mkwargs\u001b[49m\u001b[43m)\u001b[49m\n\u001b[1;32m    627\u001b[0m \u001b[38;5;28;01mreturn\u001b[39;00m svc\n",
      "File \u001b[0;32m/usr/local/lib/python3.10/dist-packages/qianfan/model/model.py:543\u001b[0m, in \u001b[0;36mService.deploy\u001b[0;34m(self, **kwargs)\u001b[0m\n\u001b[1;32m    541\u001b[0m         log_error(\u001b[38;5;124mf\u001b[39m\u001b[38;5;124m\"\u001b[39m\u001b[38;5;124mservice \u001b[39m\u001b[38;5;132;01m{\u001b[39;00m\u001b[38;5;28mself\u001b[39m\u001b[38;5;241m.\u001b[39mid\u001b[38;5;132;01m}\u001b[39;00m\u001b[38;5;124m has been ended in \u001b[39m\u001b[38;5;132;01m{\u001b[39;00msvc_status\u001b[38;5;132;01m}\u001b[39;00m\u001b[38;5;124m\"\u001b[39m)\n\u001b[1;32m    542\u001b[0m         \u001b[38;5;28;01mbreak\u001b[39;00m\n\u001b[0;32m--> 543\u001b[0m     \u001b[43mtime\u001b[49m\u001b[38;5;241;43m.\u001b[39;49m\u001b[43msleep\u001b[49m\u001b[43m(\u001b[49m\u001b[43mget_config\u001b[49m\u001b[43m(\u001b[49m\u001b[43m)\u001b[49m\u001b[38;5;241;43m.\u001b[39;49m\u001b[43mDEPLOY_STATUS_POLLING_INTERVAL\u001b[49m\u001b[43m)\u001b[49m\n\u001b[1;32m    545\u001b[0m \u001b[38;5;28mself\u001b[39m\u001b[38;5;241m.\u001b[39mendpoint \u001b[38;5;241m=\u001b[39m sft_model_endpoint\n\u001b[1;32m    546\u001b[0m \u001b[38;5;28;01mreturn\u001b[39;00m \u001b[38;5;28mself\u001b[39m\n",
      "\u001b[0;31mKeyboardInterrupt\u001b[0m: "
     ]
    }
   ],
   "source": [
    "from qianfan.model import Service, DeployConfig\n",
    "from qianfan.model.consts import ServiceType\n",
    "from qianfan.resources.console.consts import DeployPoolType\n",
    "import logging\n",
    "from qianfan.utils import enable_log\n",
    "\n",
    "enable_log(logging.INFO)\n",
    "\n",
    "\n",
    "sft_svc: Service = m.deploy(DeployConfig(\n",
    "    name=\"essay_0513\",\n",
    "    endpoint_prefix=\"essay0513\",\n",
    "    replicas=1,\n",
    "    pool_type=DeployPoolType.PrivateResource,\n",
    "    service_type=ServiceType.Chat,\n",
    "))"
   ]
  },
  {
   "cell_type": "code",
   "execution_count": 128,
   "metadata": {},
   "outputs": [
    {
     "name": "stdout",
     "output_type": "stream",
     "text": [
      "{\"详细解析\": {\n",
      "    \"内容项\": {\n",
      "        \"解析\": \"作文符合题意，通过多个方面列举网络带来的便利和潜在问题，但内容上未能深入探讨，中心不够突出，缺乏具体事例支撑，内容上显得相对单薄。\",\n",
      "        \"等级\": \"三等\",\n",
      "        \"得分\": \"9分\"\n",
      "    },\n",
      "    \"表达项\": {\n",
      "        \"解析\": \"文章结构基本完整，语言基本通顺，但缺乏精炼的语言表达和准确的条理性，句式较为单一，未能体现出较高的语言驾驭能力。\",\n",
      "        \"等级\": \"三等\",\n",
      "        \"得分\": \"8分\"\n",
      "    },\n",
      "    \"发展等级\": {\n",
      "        \"解析\": \"文章没有展现出较深刻的思考，内容和观点较为常见，缺乏新颖的见解和创意，没有体现出明显的个人特色。\",\n",
      "        \"等级\": \"三等\",\n",
      "        \"得分\": \"8分\"\n",
      "    },\n",
      "    \"扣分项和残篇评定\": {\n",
      "        \"解析\": \"文章未出现明显的错别字或标点符号错误，但字数不详，无法判断是否符合字数要求，没有提供具体的字数评估。\",\n",
      "        \"扣分\": \"0分\"\n",
      "    }\n",
      "},\n",
      "\"缺点和改进意见\": {\n",
      "    \"缺点\": \"文章虽然涉及到了题目要求的多个方面，但缺乏深入的个人思考和具体例证，表达上也不够精炼和有力，整体显得平淡。\",\n",
      "    \"改进意见\": \"应针对每一个方面提供具体的例子或个人经历，进行深入的分析和反思，使文章内容更加充实。在表达上，应尝试使用更加多样化的句式和修辞手法，提升文章的表现力。\"\n",
      "},\n",
      "\"最终得分\": \"25分\"\n",
      "}"
     ]
    }
   ],
   "source": [
    "from qianfan import ChatCompletion\n",
    "\n",
    "#endpoint = sft_svc.endpoint\n",
    "endpoint = 'ttab0t4d_essaysft0510'\n",
    "correction_prompt = Prompt(template=correction_prompt_template, identifier=\"{{}}\")\n",
    "bad_essay = {'title': bad_target['question'], 'essay': bad_target['article']}\n",
    "\n",
    "chat=ChatCompletion(endpoint=endpoint)\n",
    "result = chat.do([{\"content\": correction_prompt.render(**bad_essay)[0], \"role\": \"user\"}], stream=True)\n",
    "\n",
    "for s in result:\n",
    "    print(s['result'], end='')"
   ]
  },
  {
   "cell_type": "markdown",
   "metadata": {},
   "source": [
    "# 4. 总结\n",
    "\n",
    "针对与作文批改这样特定领域的任务，直接调用高性能大语言模型ERNIE-Speed效果不佳。基于具有通用能力的大语言模型，经过作文批改这样特定领域数据优化和微调，可以在特定领域的效果媲美甚至赶超超大规模参数模型，获得效果好、成本低、速度快的领域大模型。\n",
    "微调训练中需要关注：\n",
    "1. 微调数据集的构建，需要满足高质量、真实性、针对性、多样性，数量上最低需要准备100条数据，建议达到5000条的量级为优。\n",
    "2. 训练的超参数调整，合适的超参数才能获得模型的最佳效果。\n",
    "3. 模型的效果评估，准确的评估才能更好地指导模型的优化过程"
   ]
  }
 ],
 "metadata": {
  "kernelspec": {
   "display_name": "Python 3 (ipykernel)",
   "language": "python",
   "name": "python3"
  },
  "language_info": {
   "codemirror_mode": {
    "name": "ipython",
    "version": 3
   },
   "file_extension": ".py",
   "mimetype": "text/x-python",
   "name": "python",
   "nbconvert_exporter": "python",
   "pygments_lexer": "ipython3",
   "version": "3.10.12"
  }
 },
 "nbformat": 4,
 "nbformat_minor": 4
}
