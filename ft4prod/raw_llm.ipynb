{
 "cells": [
  {
   "cell_type": "code",
   "execution_count": 1,
   "id": "a0dd1eda-72ea-4b19-9f66-3fd2e0813858",
   "metadata": {},
   "outputs": [
    {
     "data": {
      "application/vnd.jupyter.widget-view+json": {
       "model_id": "3324c12d1a8c469a9f19f0a108b59162",
       "version_major": 2,
       "version_minor": 0
      },
      "text/plain": [
       "Loading checkpoint shards:   0%|          | 0/4 [00:00<?, ?it/s]"
      ]
     },
     "metadata": {},
     "output_type": "display_data"
    }
   ],
   "source": [
    "from transformers import AutoModelForCausalLM, AutoTokenizer\n",
    "model_path = \"./autodl-tmp/qwen/Qwen2___5-7B-Instruct\"  # 替换为你的路径\n",
    "tokenizer = AutoTokenizer.from_pretrained(model_path, trust_remote_code=True)\n",
    "model = AutoModelForCausalLM.from_pretrained(\n",
    "    model_path,\n",
    "    device_map=\"auto\",  # 自动分配 GPU/CPU\n",
    "    trust_remote_code=True\n",
    ").eval()"
   ]
  },
  {
   "cell_type": "code",
   "execution_count": 3,
   "id": "9bde08a9-47a9-433b-a94d-cd560e695694",
   "metadata": {},
   "outputs": [
    {
     "name": "stdout",
     "output_type": "stream",
     "text": [
      "电解液浸润不完全是电池制造过程中的一个重要问题，它可能会影响电池的性能、寿命以及安全性。针对这个问题，可以从以下几个方面来解决：\n",
      "\n",
      "1. **检查浸润工艺参数**：首先需要检查并优化电解液浸润的工艺参数，比如温度、压力、时间等。确保这些参数符合设计要求，以保证电解液能够充分浸润到电极材料中。\n",
      "\n",
      "2. **改进电解液配方**：有时候，电解液本身的性质也会影响到其浸润性。可以考虑调整电解液的成分或添加某些添加剂，以改善其与电极材料之间的相容性和浸润性。\n",
      "\n",
      "3. **优化电极结构**：电极材料的微观结构也会影响电解液的浸润效果。通过改变电极材料的形态、孔隙率等特性，可以提高电解液的浸润效率。\n",
      "\n",
      "4. **采用先进的浸润技术**：引入如超声波浸润、真空浸润等先进技术，可以更有效地促进电解液的均匀分布。\n",
      "\n",
      "5. **增加质量控制环节**：在生产过程中增加更多的质量控制点，对每一步骤进行严格监控，及时发现并纠正可能出现的问题。\n",
      "\n",
      "6. **定期维护设备**：确保生产设备处于良好状态，避免因设备老化或故障导致的浸润效果不佳。\n",
      "\n",
      "7. **培训操作人员**：提升操作人员的专业技能和责任心，严格按照操作规程执行，减少人为因素对生产过程的影响。\n",
      "\n",
      "8. **进行实验研究**：如果上述方法仍不能解决问题，建议开展更多实验研究，深入理解电解液与电极材料之间的相互作用机制，寻找根本解决方案。\n",
      "\n",
      "以上措施可以根据具体情况选择实施，必要时可以结合多种方法共同使用。\n"
     ]
    }
   ],
   "source": [
    "prompt = \"电解液浸润不完全，需要怎么做？\"\n",
    "messages = [\n",
    "    {\"role\": \"system\", \"content\": \"现在你要扮演一个工厂中的有几十年生产工艺和质量管理的老专家的角色.\"},\n",
    "    {\"role\": \"user\", \"content\": prompt}\n",
    "]\n",
    "text = tokenizer.apply_chat_template(\n",
    "    messages,\n",
    "    tokenize=False,\n",
    "    add_generation_prompt=True\n",
    ")\n",
    "model_inputs = tokenizer([text], return_tensors=\"pt\").to(model.device)\n",
    "\n",
    "generated_ids = model.generate(\n",
    "    **model_inputs,\n",
    "    max_new_tokens=512\n",
    ")\n",
    "generated_ids = [\n",
    "    output_ids[len(input_ids):] for input_ids, output_ids in zip(model_inputs.input_ids, generated_ids)\n",
    "]\n",
    "\n",
    "response = tokenizer.batch_decode(generated_ids, skip_special_tokens=True)[0]\n",
    "\n",
    "print(response)"
   ]
  },
  {
   "cell_type": "code",
   "execution_count": null,
   "id": "fa3bd42c-ed10-46ee-9fbf-8a27c512abc5",
   "metadata": {},
   "outputs": [],
   "source": []
  }
 ],
 "metadata": {
  "kernelspec": {
   "display_name": "jupyter_gpu",
   "language": "python",
   "name": "jupyter_gpu"
  },
  "language_info": {
   "codemirror_mode": {
    "name": "ipython",
    "version": 3
   },
   "file_extension": ".py",
   "mimetype": "text/x-python",
   "name": "python",
   "nbconvert_exporter": "python",
   "pygments_lexer": "ipython3",
   "version": "3.10.12"
  }
 },
 "nbformat": 4,
 "nbformat_minor": 5
}
